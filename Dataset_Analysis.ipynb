{
  "nbformat": 4,
  "nbformat_minor": 0,
  "metadata": {
    "colab": {
      "name": "Dataset Analysis",
      "provenance": [],
      "collapsed_sections": [],
      "mount_file_id": "1cqbUipO2O55O4R2AezMFcyqNfMswN6dz",
      "authorship_tag": "ABX9TyNukXoQRY5Mq6CCekL65pYy",
      "include_colab_link": true
    },
    "kernelspec": {
      "name": "python3",
      "display_name": "Python 3"
    },
    "accelerator": "GPU",
    "widgets": {
      "application/vnd.jupyter.widget-state+json": {
        "3415beff8ef741d1a786f519f35a9554": {
          "model_module": "@jupyter-widgets/controls",
          "model_name": "HBoxModel",
          "state": {
            "_view_name": "HBoxView",
            "_dom_classes": [],
            "_model_name": "HBoxModel",
            "_view_module": "@jupyter-widgets/controls",
            "_model_module_version": "1.5.0",
            "_view_count": null,
            "_view_module_version": "1.5.0",
            "box_style": "",
            "layout": "IPY_MODEL_c8fb6f187aef4138b81435dbe99b81e4",
            "_model_module": "@jupyter-widgets/controls",
            "children": [
              "IPY_MODEL_1f3a892d9d4f4b71b302107f44d8e8c9",
              "IPY_MODEL_181cb5d555004ed2991b2a4d98afb60b"
            ]
          }
        },
        "c8fb6f187aef4138b81435dbe99b81e4": {
          "model_module": "@jupyter-widgets/base",
          "model_name": "LayoutModel",
          "state": {
            "_view_name": "LayoutView",
            "grid_template_rows": null,
            "right": null,
            "justify_content": null,
            "_view_module": "@jupyter-widgets/base",
            "overflow": null,
            "_model_module_version": "1.2.0",
            "_view_count": null,
            "flex_flow": null,
            "width": null,
            "min_width": null,
            "border": null,
            "align_items": null,
            "bottom": null,
            "_model_module": "@jupyter-widgets/base",
            "top": null,
            "grid_column": null,
            "overflow_y": null,
            "overflow_x": null,
            "grid_auto_flow": null,
            "grid_area": null,
            "grid_template_columns": null,
            "flex": null,
            "_model_name": "LayoutModel",
            "justify_items": null,
            "grid_row": null,
            "max_height": null,
            "align_content": null,
            "visibility": null,
            "align_self": null,
            "height": null,
            "min_height": null,
            "padding": null,
            "grid_auto_rows": null,
            "grid_gap": null,
            "max_width": null,
            "order": null,
            "_view_module_version": "1.2.0",
            "grid_template_areas": null,
            "object_position": null,
            "object_fit": null,
            "grid_auto_columns": null,
            "margin": null,
            "display": null,
            "left": null
          }
        },
        "1f3a892d9d4f4b71b302107f44d8e8c9": {
          "model_module": "@jupyter-widgets/controls",
          "model_name": "FloatProgressModel",
          "state": {
            "_view_name": "ProgressView",
            "style": "IPY_MODEL_1011134d2ef746a3ad08b0c2553ba3b4",
            "_dom_classes": [],
            "description": "Downloading: 100%",
            "_model_name": "FloatProgressModel",
            "bar_style": "success",
            "max": 231508,
            "_view_module": "@jupyter-widgets/controls",
            "_model_module_version": "1.5.0",
            "value": 231508,
            "_view_count": null,
            "_view_module_version": "1.5.0",
            "orientation": "horizontal",
            "min": 0,
            "description_tooltip": null,
            "_model_module": "@jupyter-widgets/controls",
            "layout": "IPY_MODEL_b44271ea371742079440649bffc41fab"
          }
        },
        "181cb5d555004ed2991b2a4d98afb60b": {
          "model_module": "@jupyter-widgets/controls",
          "model_name": "HTMLModel",
          "state": {
            "_view_name": "HTMLView",
            "style": "IPY_MODEL_9f8bff026abf45b794c464e95964f398",
            "_dom_classes": [],
            "description": "",
            "_model_name": "HTMLModel",
            "placeholder": "​",
            "_view_module": "@jupyter-widgets/controls",
            "_model_module_version": "1.5.0",
            "value": " 232k/232k [00:00&lt;00:00, 628kB/s]",
            "_view_count": null,
            "_view_module_version": "1.5.0",
            "description_tooltip": null,
            "_model_module": "@jupyter-widgets/controls",
            "layout": "IPY_MODEL_e4fd1833a2c04edd984a59f4859c26a5"
          }
        },
        "1011134d2ef746a3ad08b0c2553ba3b4": {
          "model_module": "@jupyter-widgets/controls",
          "model_name": "ProgressStyleModel",
          "state": {
            "_view_name": "StyleView",
            "_model_name": "ProgressStyleModel",
            "description_width": "initial",
            "_view_module": "@jupyter-widgets/base",
            "_model_module_version": "1.5.0",
            "_view_count": null,
            "_view_module_version": "1.2.0",
            "bar_color": null,
            "_model_module": "@jupyter-widgets/controls"
          }
        },
        "b44271ea371742079440649bffc41fab": {
          "model_module": "@jupyter-widgets/base",
          "model_name": "LayoutModel",
          "state": {
            "_view_name": "LayoutView",
            "grid_template_rows": null,
            "right": null,
            "justify_content": null,
            "_view_module": "@jupyter-widgets/base",
            "overflow": null,
            "_model_module_version": "1.2.0",
            "_view_count": null,
            "flex_flow": null,
            "width": null,
            "min_width": null,
            "border": null,
            "align_items": null,
            "bottom": null,
            "_model_module": "@jupyter-widgets/base",
            "top": null,
            "grid_column": null,
            "overflow_y": null,
            "overflow_x": null,
            "grid_auto_flow": null,
            "grid_area": null,
            "grid_template_columns": null,
            "flex": null,
            "_model_name": "LayoutModel",
            "justify_items": null,
            "grid_row": null,
            "max_height": null,
            "align_content": null,
            "visibility": null,
            "align_self": null,
            "height": null,
            "min_height": null,
            "padding": null,
            "grid_auto_rows": null,
            "grid_gap": null,
            "max_width": null,
            "order": null,
            "_view_module_version": "1.2.0",
            "grid_template_areas": null,
            "object_position": null,
            "object_fit": null,
            "grid_auto_columns": null,
            "margin": null,
            "display": null,
            "left": null
          }
        },
        "9f8bff026abf45b794c464e95964f398": {
          "model_module": "@jupyter-widgets/controls",
          "model_name": "DescriptionStyleModel",
          "state": {
            "_view_name": "StyleView",
            "_model_name": "DescriptionStyleModel",
            "description_width": "",
            "_view_module": "@jupyter-widgets/base",
            "_model_module_version": "1.5.0",
            "_view_count": null,
            "_view_module_version": "1.2.0",
            "_model_module": "@jupyter-widgets/controls"
          }
        },
        "e4fd1833a2c04edd984a59f4859c26a5": {
          "model_module": "@jupyter-widgets/base",
          "model_name": "LayoutModel",
          "state": {
            "_view_name": "LayoutView",
            "grid_template_rows": null,
            "right": null,
            "justify_content": null,
            "_view_module": "@jupyter-widgets/base",
            "overflow": null,
            "_model_module_version": "1.2.0",
            "_view_count": null,
            "flex_flow": null,
            "width": null,
            "min_width": null,
            "border": null,
            "align_items": null,
            "bottom": null,
            "_model_module": "@jupyter-widgets/base",
            "top": null,
            "grid_column": null,
            "overflow_y": null,
            "overflow_x": null,
            "grid_auto_flow": null,
            "grid_area": null,
            "grid_template_columns": null,
            "flex": null,
            "_model_name": "LayoutModel",
            "justify_items": null,
            "grid_row": null,
            "max_height": null,
            "align_content": null,
            "visibility": null,
            "align_self": null,
            "height": null,
            "min_height": null,
            "padding": null,
            "grid_auto_rows": null,
            "grid_gap": null,
            "max_width": null,
            "order": null,
            "_view_module_version": "1.2.0",
            "grid_template_areas": null,
            "object_position": null,
            "object_fit": null,
            "grid_auto_columns": null,
            "margin": null,
            "display": null,
            "left": null
          }
        }
      }
    }
  },
  "cells": [
    {
      "cell_type": "markdown",
      "metadata": {
        "id": "view-in-github",
        "colab_type": "text"
      },
      "source": [
        "<a href=\"https://colab.research.google.com/github/oaarnikoivu/dissertation/blob/master/Dataset_Analysis.ipynb\" target=\"_parent\"><img src=\"https://colab.research.google.com/assets/colab-badge.svg\" alt=\"Open In Colab\"/></a>"
      ]
    },
    {
      "cell_type": "code",
      "metadata": {
        "id": "qQpMxbOZjSZ6",
        "colab_type": "code",
        "colab": {
          "base_uri": "https://localhost:8080/",
          "height": 593
        },
        "outputId": "fee45aca-88ce-4174-bcf8-53a5e21a6b4c"
      },
      "source": [
        "!pip install transformers"
      ],
      "execution_count": 1,
      "outputs": [
        {
          "output_type": "stream",
          "text": [
            "Collecting transformers\n",
            "\u001b[?25l  Downloading https://files.pythonhosted.org/packages/cd/38/c9527aa055241c66c4d785381eaf6f80a28c224cae97daa1f8b183b5fabb/transformers-2.9.0-py3-none-any.whl (635kB)\n",
            "\r\u001b[K     |▌                               | 10kB 27.4MB/s eta 0:00:01\r\u001b[K     |█                               | 20kB 5.9MB/s eta 0:00:01\r\u001b[K     |█▌                              | 30kB 8.5MB/s eta 0:00:01\r\u001b[K     |██                              | 40kB 10.8MB/s eta 0:00:01\r\u001b[K     |██▋                             | 51kB 7.1MB/s eta 0:00:01\r\u001b[K     |███                             | 61kB 8.3MB/s eta 0:00:01\r\u001b[K     |███▋                            | 71kB 9.4MB/s eta 0:00:01\r\u001b[K     |████▏                           | 81kB 9.4MB/s eta 0:00:01\r\u001b[K     |████▋                           | 92kB 8.2MB/s eta 0:00:01\r\u001b[K     |█████▏                          | 102kB 9.0MB/s eta 0:00:01\r\u001b[K     |█████▊                          | 112kB 9.0MB/s eta 0:00:01\r\u001b[K     |██████▏                         | 122kB 9.0MB/s eta 0:00:01\r\u001b[K     |██████▊                         | 133kB 9.0MB/s eta 0:00:01\r\u001b[K     |███████▏                        | 143kB 9.0MB/s eta 0:00:01\r\u001b[K     |███████▊                        | 153kB 9.0MB/s eta 0:00:01\r\u001b[K     |████████▎                       | 163kB 9.0MB/s eta 0:00:01\r\u001b[K     |████████▊                       | 174kB 9.0MB/s eta 0:00:01\r\u001b[K     |█████████▎                      | 184kB 9.0MB/s eta 0:00:01\r\u001b[K     |█████████▉                      | 194kB 9.0MB/s eta 0:00:01\r\u001b[K     |██████████▎                     | 204kB 9.0MB/s eta 0:00:01\r\u001b[K     |██████████▉                     | 215kB 9.0MB/s eta 0:00:01\r\u001b[K     |███████████▍                    | 225kB 9.0MB/s eta 0:00:01\r\u001b[K     |███████████▉                    | 235kB 9.0MB/s eta 0:00:01\r\u001b[K     |████████████▍                   | 245kB 9.0MB/s eta 0:00:01\r\u001b[K     |████████████▉                   | 256kB 9.0MB/s eta 0:00:01\r\u001b[K     |█████████████▍                  | 266kB 9.0MB/s eta 0:00:01\r\u001b[K     |██████████████                  | 276kB 9.0MB/s eta 0:00:01\r\u001b[K     |██████████████▍                 | 286kB 9.0MB/s eta 0:00:01\r\u001b[K     |███████████████                 | 296kB 9.0MB/s eta 0:00:01\r\u001b[K     |███████████████▌                | 307kB 9.0MB/s eta 0:00:01\r\u001b[K     |████████████████                | 317kB 9.0MB/s eta 0:00:01\r\u001b[K     |████████████████▌               | 327kB 9.0MB/s eta 0:00:01\r\u001b[K     |█████████████████               | 337kB 9.0MB/s eta 0:00:01\r\u001b[K     |█████████████████▌              | 348kB 9.0MB/s eta 0:00:01\r\u001b[K     |██████████████████              | 358kB 9.0MB/s eta 0:00:01\r\u001b[K     |██████████████████▋             | 368kB 9.0MB/s eta 0:00:01\r\u001b[K     |███████████████████             | 378kB 9.0MB/s eta 0:00:01\r\u001b[K     |███████████████████▋            | 389kB 9.0MB/s eta 0:00:01\r\u001b[K     |████████████████████            | 399kB 9.0MB/s eta 0:00:01\r\u001b[K     |████████████████████▋           | 409kB 9.0MB/s eta 0:00:01\r\u001b[K     |█████████████████████▏          | 419kB 9.0MB/s eta 0:00:01\r\u001b[K     |█████████████████████▋          | 430kB 9.0MB/s eta 0:00:01\r\u001b[K     |██████████████████████▏         | 440kB 9.0MB/s eta 0:00:01\r\u001b[K     |██████████████████████▊         | 450kB 9.0MB/s eta 0:00:01\r\u001b[K     |███████████████████████▏        | 460kB 9.0MB/s eta 0:00:01\r\u001b[K     |███████████████████████▊        | 471kB 9.0MB/s eta 0:00:01\r\u001b[K     |████████████████████████▎       | 481kB 9.0MB/s eta 0:00:01\r\u001b[K     |████████████████████████▊       | 491kB 9.0MB/s eta 0:00:01\r\u001b[K     |█████████████████████████▎      | 501kB 9.0MB/s eta 0:00:01\r\u001b[K     |█████████████████████████▊      | 512kB 9.0MB/s eta 0:00:01\r\u001b[K     |██████████████████████████▎     | 522kB 9.0MB/s eta 0:00:01\r\u001b[K     |██████████████████████████▉     | 532kB 9.0MB/s eta 0:00:01\r\u001b[K     |███████████████████████████▎    | 542kB 9.0MB/s eta 0:00:01\r\u001b[K     |███████████████████████████▉    | 552kB 9.0MB/s eta 0:00:01\r\u001b[K     |████████████████████████████▍   | 563kB 9.0MB/s eta 0:00:01\r\u001b[K     |████████████████████████████▉   | 573kB 9.0MB/s eta 0:00:01\r\u001b[K     |█████████████████████████████▍  | 583kB 9.0MB/s eta 0:00:01\r\u001b[K     |██████████████████████████████  | 593kB 9.0MB/s eta 0:00:01\r\u001b[K     |██████████████████████████████▍ | 604kB 9.0MB/s eta 0:00:01\r\u001b[K     |███████████████████████████████ | 614kB 9.0MB/s eta 0:00:01\r\u001b[K     |███████████████████████████████▍| 624kB 9.0MB/s eta 0:00:01\r\u001b[K     |████████████████████████████████| 634kB 9.0MB/s eta 0:00:01\r\u001b[K     |████████████████████████████████| 645kB 9.0MB/s \n",
            "\u001b[?25hRequirement already satisfied: numpy in /usr/local/lib/python3.6/dist-packages (from transformers) (1.18.4)\n",
            "Requirement already satisfied: dataclasses; python_version < \"3.7\" in /usr/local/lib/python3.6/dist-packages (from transformers) (0.7)\n",
            "Collecting sentencepiece\n",
            "\u001b[?25l  Downloading https://files.pythonhosted.org/packages/98/2c/8df20f3ac6c22ac224fff307ebc102818206c53fc454ecd37d8ac2060df5/sentencepiece-0.1.86-cp36-cp36m-manylinux1_x86_64.whl (1.0MB)\n",
            "\r\u001b[K     |▎                               | 10kB 29.4MB/s eta 0:00:01\r\u001b[K     |▋                               | 20kB 39.0MB/s eta 0:00:01\r\u001b[K     |█                               | 30kB 45.8MB/s eta 0:00:01\r\u001b[K     |█▎                              | 40kB 49.8MB/s eta 0:00:01\r\u001b[K     |█▋                              | 51kB 52.9MB/s eta 0:00:01\r\u001b[K     |██                              | 61kB 56.5MB/s eta 0:00:01\r\u001b[K     |██▏                             | 71kB 58.5MB/s eta 0:00:01\r\u001b[K     |██▌                             | 81kB 60.5MB/s eta 0:00:01\r\u001b[K     |██▉                             | 92kB 61.4MB/s eta 0:00:01\r\u001b[K     |███▏                            | 102kB 63.0MB/s eta 0:00:01\r\u001b[K     |███▌                            | 112kB 63.0MB/s eta 0:00:01\r\u001b[K     |███▉                            | 122kB 63.0MB/s eta 0:00:01\r\u001b[K     |████                            | 133kB 63.0MB/s eta 0:00:01\r\u001b[K     |████▍                           | 143kB 63.0MB/s eta 0:00:01\r\u001b[K     |████▊                           | 153kB 63.0MB/s eta 0:00:01\r\u001b[K     |█████                           | 163kB 63.0MB/s eta 0:00:01\r\u001b[K     |█████▍                          | 174kB 63.0MB/s eta 0:00:01\r\u001b[K     |█████▊                          | 184kB 63.0MB/s eta 0:00:01\r\u001b[K     |██████                          | 194kB 63.0MB/s eta 0:00:01\r\u001b[K     |██████▎                         | 204kB 63.0MB/s eta 0:00:01\r\u001b[K     |██████▋                         | 215kB 63.0MB/s eta 0:00:01\r\u001b[K     |███████                         | 225kB 63.0MB/s eta 0:00:01\r\u001b[K     |███████▎                        | 235kB 63.0MB/s eta 0:00:01\r\u001b[K     |███████▋                        | 245kB 63.0MB/s eta 0:00:01\r\u001b[K     |███████▉                        | 256kB 63.0MB/s eta 0:00:01\r\u001b[K     |████████▏                       | 266kB 63.0MB/s eta 0:00:01\r\u001b[K     |████████▌                       | 276kB 63.0MB/s eta 0:00:01\r\u001b[K     |████████▉                       | 286kB 63.0MB/s eta 0:00:01\r\u001b[K     |█████████▏                      | 296kB 63.0MB/s eta 0:00:01\r\u001b[K     |█████████▌                      | 307kB 63.0MB/s eta 0:00:01\r\u001b[K     |█████████▊                      | 317kB 63.0MB/s eta 0:00:01\r\u001b[K     |██████████                      | 327kB 63.0MB/s eta 0:00:01\r\u001b[K     |██████████▍                     | 337kB 63.0MB/s eta 0:00:01\r\u001b[K     |██████████▊                     | 348kB 63.0MB/s eta 0:00:01\r\u001b[K     |███████████                     | 358kB 63.0MB/s eta 0:00:01\r\u001b[K     |███████████▍                    | 368kB 63.0MB/s eta 0:00:01\r\u001b[K     |███████████▋                    | 378kB 63.0MB/s eta 0:00:01\r\u001b[K     |████████████                    | 389kB 63.0MB/s eta 0:00:01\r\u001b[K     |████████████▎                   | 399kB 63.0MB/s eta 0:00:01\r\u001b[K     |████████████▋                   | 409kB 63.0MB/s eta 0:00:01\r\u001b[K     |█████████████                   | 419kB 63.0MB/s eta 0:00:01\r\u001b[K     |█████████████▎                  | 430kB 63.0MB/s eta 0:00:01\r\u001b[K     |█████████████▌                  | 440kB 63.0MB/s eta 0:00:01\r\u001b[K     |█████████████▉                  | 450kB 63.0MB/s eta 0:00:01\r\u001b[K     |██████████████▏                 | 460kB 63.0MB/s eta 0:00:01\r\u001b[K     |██████████████▌                 | 471kB 63.0MB/s eta 0:00:01\r\u001b[K     |██████████████▉                 | 481kB 63.0MB/s eta 0:00:01\r\u001b[K     |███████████████▏                | 491kB 63.0MB/s eta 0:00:01\r\u001b[K     |███████████████▍                | 501kB 63.0MB/s eta 0:00:01\r\u001b[K     |███████████████▊                | 512kB 63.0MB/s eta 0:00:01\r\u001b[K     |████████████████                | 522kB 63.0MB/s eta 0:00:01\r\u001b[K     |████████████████▍               | 532kB 63.0MB/s eta 0:00:01\r\u001b[K     |████████████████▊               | 542kB 63.0MB/s eta 0:00:01\r\u001b[K     |█████████████████               | 552kB 63.0MB/s eta 0:00:01\r\u001b[K     |█████████████████▎              | 563kB 63.0MB/s eta 0:00:01\r\u001b[K     |█████████████████▋              | 573kB 63.0MB/s eta 0:00:01\r\u001b[K     |██████████████████              | 583kB 63.0MB/s eta 0:00:01\r\u001b[K     |██████████████████▎             | 593kB 63.0MB/s eta 0:00:01\r\u001b[K     |██████████████████▋             | 604kB 63.0MB/s eta 0:00:01\r\u001b[K     |███████████████████             | 614kB 63.0MB/s eta 0:00:01\r\u001b[K     |███████████████████▏            | 624kB 63.0MB/s eta 0:00:01\r\u001b[K     |███████████████████▌            | 634kB 63.0MB/s eta 0:00:01\r\u001b[K     |███████████████████▉            | 645kB 63.0MB/s eta 0:00:01\r\u001b[K     |████████████████████▏           | 655kB 63.0MB/s eta 0:00:01\r\u001b[K     |████████████████████▌           | 665kB 63.0MB/s eta 0:00:01\r\u001b[K     |████████████████████▉           | 675kB 63.0MB/s eta 0:00:01\r\u001b[K     |█████████████████████▏          | 686kB 63.0MB/s eta 0:00:01\r\u001b[K     |█████████████████████▍          | 696kB 63.0MB/s eta 0:00:01\r\u001b[K     |█████████████████████▊          | 706kB 63.0MB/s eta 0:00:01\r\u001b[K     |██████████████████████          | 716kB 63.0MB/s eta 0:00:01\r\u001b[K     |██████████████████████▍         | 727kB 63.0MB/s eta 0:00:01\r\u001b[K     |██████████████████████▊         | 737kB 63.0MB/s eta 0:00:01\r\u001b[K     |███████████████████████         | 747kB 63.0MB/s eta 0:00:01\r\u001b[K     |███████████████████████▎        | 757kB 63.0MB/s eta 0:00:01\r\u001b[K     |███████████████████████▋        | 768kB 63.0MB/s eta 0:00:01\r\u001b[K     |████████████████████████        | 778kB 63.0MB/s eta 0:00:01\r\u001b[K     |████████████████████████▎       | 788kB 63.0MB/s eta 0:00:01\r\u001b[K     |████████████████████████▋       | 798kB 63.0MB/s eta 0:00:01\r\u001b[K     |█████████████████████████       | 808kB 63.0MB/s eta 0:00:01\r\u001b[K     |█████████████████████████▏      | 819kB 63.0MB/s eta 0:00:01\r\u001b[K     |█████████████████████████▌      | 829kB 63.0MB/s eta 0:00:01\r\u001b[K     |█████████████████████████▉      | 839kB 63.0MB/s eta 0:00:01\r\u001b[K     |██████████████████████████▏     | 849kB 63.0MB/s eta 0:00:01\r\u001b[K     |██████████████████████████▌     | 860kB 63.0MB/s eta 0:00:01\r\u001b[K     |██████████████████████████▉     | 870kB 63.0MB/s eta 0:00:01\r\u001b[K     |███████████████████████████     | 880kB 63.0MB/s eta 0:00:01\r\u001b[K     |███████████████████████████▍    | 890kB 63.0MB/s eta 0:00:01\r\u001b[K     |███████████████████████████▊    | 901kB 63.0MB/s eta 0:00:01\r\u001b[K     |████████████████████████████    | 911kB 63.0MB/s eta 0:00:01\r\u001b[K     |████████████████████████████▍   | 921kB 63.0MB/s eta 0:00:01\r\u001b[K     |████████████████████████████▊   | 931kB 63.0MB/s eta 0:00:01\r\u001b[K     |█████████████████████████████   | 942kB 63.0MB/s eta 0:00:01\r\u001b[K     |█████████████████████████████▎  | 952kB 63.0MB/s eta 0:00:01\r\u001b[K     |█████████████████████████████▋  | 962kB 63.0MB/s eta 0:00:01\r\u001b[K     |██████████████████████████████  | 972kB 63.0MB/s eta 0:00:01\r\u001b[K     |██████████████████████████████▎ | 983kB 63.0MB/s eta 0:00:01\r\u001b[K     |██████████████████████████████▋ | 993kB 63.0MB/s eta 0:00:01\r\u001b[K     |██████████████████████████████▉ | 1.0MB 63.0MB/s eta 0:00:01\r\u001b[K     |███████████████████████████████▏| 1.0MB 63.0MB/s eta 0:00:01\r\u001b[K     |███████████████████████████████▌| 1.0MB 63.0MB/s eta 0:00:01\r\u001b[K     |███████████████████████████████▉| 1.0MB 63.0MB/s eta 0:00:01\r\u001b[K     |████████████████████████████████| 1.0MB 63.0MB/s \n",
            "\u001b[?25hRequirement already satisfied: regex!=2019.12.17 in /usr/local/lib/python3.6/dist-packages (from transformers) (2019.12.20)\n",
            "Collecting sacremoses\n",
            "\u001b[?25l  Downloading https://files.pythonhosted.org/packages/7d/34/09d19aff26edcc8eb2a01bed8e98f13a1537005d31e95233fd48216eed10/sacremoses-0.0.43.tar.gz (883kB)\n",
            "\u001b[K     |████████████████████████████████| 890kB 340kB/s \n",
            "\u001b[?25hCollecting tokenizers==0.7.0\n",
            "\u001b[?25l  Downloading https://files.pythonhosted.org/packages/14/e5/a26eb4716523808bb0a799fcfdceb6ebf77a18169d9591b2f46a9adb87d9/tokenizers-0.7.0-cp36-cp36m-manylinux1_x86_64.whl (3.8MB)\n",
            "\u001b[K     |████████████████████████████████| 3.8MB 54.6MB/s \n",
            "\u001b[?25hRequirement already satisfied: filelock in /usr/local/lib/python3.6/dist-packages (from transformers) (3.0.12)\n",
            "Requirement already satisfied: requests in /usr/local/lib/python3.6/dist-packages (from transformers) (2.23.0)\n",
            "Requirement already satisfied: tqdm>=4.27 in /usr/local/lib/python3.6/dist-packages (from transformers) (4.41.1)\n",
            "Requirement already satisfied: six in /usr/local/lib/python3.6/dist-packages (from sacremoses->transformers) (1.12.0)\n",
            "Requirement already satisfied: click in /usr/local/lib/python3.6/dist-packages (from sacremoses->transformers) (7.1.2)\n",
            "Requirement already satisfied: joblib in /usr/local/lib/python3.6/dist-packages (from sacremoses->transformers) (0.14.1)\n",
            "Requirement already satisfied: idna<3,>=2.5 in /usr/local/lib/python3.6/dist-packages (from requests->transformers) (2.9)\n",
            "Requirement already satisfied: certifi>=2017.4.17 in /usr/local/lib/python3.6/dist-packages (from requests->transformers) (2020.4.5.1)\n",
            "Requirement already satisfied: urllib3!=1.25.0,!=1.25.1,<1.26,>=1.21.1 in /usr/local/lib/python3.6/dist-packages (from requests->transformers) (1.24.3)\n",
            "Requirement already satisfied: chardet<4,>=3.0.2 in /usr/local/lib/python3.6/dist-packages (from requests->transformers) (3.0.4)\n",
            "Building wheels for collected packages: sacremoses\n",
            "  Building wheel for sacremoses (setup.py) ... \u001b[?25l\u001b[?25hdone\n",
            "  Created wheel for sacremoses: filename=sacremoses-0.0.43-cp36-none-any.whl size=893260 sha256=c950d1f99f4d6aa9e14ad29616ac34eb2dd8a39ab5384be9108e40145c2cd7d4\n",
            "  Stored in directory: /root/.cache/pip/wheels/29/3c/fd/7ce5c3f0666dab31a50123635e6fb5e19ceb42ce38d4e58f45\n",
            "Successfully built sacremoses\n",
            "Installing collected packages: sentencepiece, sacremoses, tokenizers, transformers\n",
            "Successfully installed sacremoses-0.0.43 sentencepiece-0.1.86 tokenizers-0.7.0 transformers-2.9.0\n"
          ],
          "name": "stdout"
        }
      ]
    },
    {
      "cell_type": "code",
      "metadata": {
        "id": "AaMQecDcAcex",
        "colab_type": "code",
        "outputId": "efe3a438-f490-471c-9b5f-7d96187d0869",
        "colab": {
          "base_uri": "https://localhost:8080/",
          "height": 72
        }
      },
      "source": [
        "from pathlib import Path\n",
        "import pandas as pd\n",
        "import seaborn as sns\n",
        "import matplotlib.pyplot as plt\n",
        "\n",
        "from transformers import BertTokenizer"
      ],
      "execution_count": 2,
      "outputs": [
        {
          "output_type": "stream",
          "text": [
            "/usr/local/lib/python3.6/dist-packages/statsmodels/tools/_testing.py:19: FutureWarning: pandas.util.testing is deprecated. Use the functions in the public API at pandas.testing instead.\n",
            "  import pandas.util.testing as tm\n"
          ],
          "name": "stderr"
        }
      ]
    },
    {
      "cell_type": "code",
      "metadata": {
        "id": "Sx_CBov8_p0c",
        "colab_type": "code",
        "colab": {}
      },
      "source": [
        "file_path = '/content/drive/My Drive'\n",
        "\n",
        "DATA_PATH = Path(file_path + '/datasets/SemEval')\n",
        "\n",
        "train_data = pd.read_csv(DATA_PATH/'train.csv')\n",
        "test_data = pd.read_csv(DATA_PATH/'test.csv')\n",
        "val_data = pd.read_csv(DATA_PATH/'val.csv')"
      ],
      "execution_count": 0,
      "outputs": []
    },
    {
      "cell_type": "code",
      "metadata": {
        "id": "KYHgMxvNBI2H",
        "colab_type": "code",
        "colab": {}
      },
      "source": [
        "all_data = pd.concat([train_data, test_data, val_data])\n",
        "all_data = all_data.drop('Unnamed: 0', axis=1)"
      ],
      "execution_count": 0,
      "outputs": []
    },
    {
      "cell_type": "code",
      "metadata": {
        "id": "XFyODUinBNPu",
        "colab_type": "code",
        "outputId": "89787d53-8cb6-4f6d-ab54-ab1f574164d7",
        "colab": {
          "base_uri": "https://localhost:8080/",
          "height": 293
        }
      },
      "source": [
        "all_data.head()"
      ],
      "execution_count": 5,
      "outputs": [
        {
          "output_type": "execute_result",
          "data": {
            "text/html": [
              "<div>\n",
              "<style scoped>\n",
              "    .dataframe tbody tr th:only-of-type {\n",
              "        vertical-align: middle;\n",
              "    }\n",
              "\n",
              "    .dataframe tbody tr th {\n",
              "        vertical-align: top;\n",
              "    }\n",
              "\n",
              "    .dataframe thead th {\n",
              "        text-align: right;\n",
              "    }\n",
              "</style>\n",
              "<table border=\"1\" class=\"dataframe\">\n",
              "  <thead>\n",
              "    <tr style=\"text-align: right;\">\n",
              "      <th></th>\n",
              "      <th>ID</th>\n",
              "      <th>Tweet</th>\n",
              "      <th>anger</th>\n",
              "      <th>anticipation</th>\n",
              "      <th>disgust</th>\n",
              "      <th>fear</th>\n",
              "      <th>joy</th>\n",
              "      <th>love</th>\n",
              "      <th>optimism</th>\n",
              "      <th>pessimism</th>\n",
              "      <th>sadness</th>\n",
              "      <th>surprise</th>\n",
              "      <th>trust</th>\n",
              "    </tr>\n",
              "  </thead>\n",
              "  <tbody>\n",
              "    <tr>\n",
              "      <th>0</th>\n",
              "      <td>2017-En-21441</td>\n",
              "      <td>“Worry is a down payment on a problem you may ...</td>\n",
              "      <td>0</td>\n",
              "      <td>1</td>\n",
              "      <td>0</td>\n",
              "      <td>0</td>\n",
              "      <td>0</td>\n",
              "      <td>0</td>\n",
              "      <td>1</td>\n",
              "      <td>0</td>\n",
              "      <td>0</td>\n",
              "      <td>0</td>\n",
              "      <td>1</td>\n",
              "    </tr>\n",
              "    <tr>\n",
              "      <th>1</th>\n",
              "      <td>2017-En-31535</td>\n",
              "      <td>Whatever you decide to do make sure it makes y...</td>\n",
              "      <td>0</td>\n",
              "      <td>0</td>\n",
              "      <td>0</td>\n",
              "      <td>0</td>\n",
              "      <td>1</td>\n",
              "      <td>1</td>\n",
              "      <td>1</td>\n",
              "      <td>0</td>\n",
              "      <td>0</td>\n",
              "      <td>0</td>\n",
              "      <td>0</td>\n",
              "    </tr>\n",
              "    <tr>\n",
              "      <th>2</th>\n",
              "      <td>2017-En-21068</td>\n",
              "      <td>@Max_Kellerman  it also helps that the majorit...</td>\n",
              "      <td>1</td>\n",
              "      <td>0</td>\n",
              "      <td>1</td>\n",
              "      <td>0</td>\n",
              "      <td>1</td>\n",
              "      <td>0</td>\n",
              "      <td>1</td>\n",
              "      <td>0</td>\n",
              "      <td>0</td>\n",
              "      <td>0</td>\n",
              "      <td>0</td>\n",
              "    </tr>\n",
              "    <tr>\n",
              "      <th>3</th>\n",
              "      <td>2017-En-31436</td>\n",
              "      <td>Accept the challenges so that you can literall...</td>\n",
              "      <td>0</td>\n",
              "      <td>0</td>\n",
              "      <td>0</td>\n",
              "      <td>0</td>\n",
              "      <td>1</td>\n",
              "      <td>0</td>\n",
              "      <td>1</td>\n",
              "      <td>0</td>\n",
              "      <td>0</td>\n",
              "      <td>0</td>\n",
              "      <td>0</td>\n",
              "    </tr>\n",
              "    <tr>\n",
              "      <th>4</th>\n",
              "      <td>2017-En-22195</td>\n",
              "      <td>My roommate: it's okay that we can't spell bec...</td>\n",
              "      <td>1</td>\n",
              "      <td>0</td>\n",
              "      <td>1</td>\n",
              "      <td>0</td>\n",
              "      <td>0</td>\n",
              "      <td>0</td>\n",
              "      <td>0</td>\n",
              "      <td>0</td>\n",
              "      <td>0</td>\n",
              "      <td>0</td>\n",
              "      <td>0</td>\n",
              "    </tr>\n",
              "  </tbody>\n",
              "</table>\n",
              "</div>"
            ],
            "text/plain": [
              "              ID  ... trust\n",
              "0  2017-En-21441  ...     1\n",
              "1  2017-En-31535  ...     0\n",
              "2  2017-En-21068  ...     0\n",
              "3  2017-En-31436  ...     0\n",
              "4  2017-En-22195  ...     0\n",
              "\n",
              "[5 rows x 13 columns]"
            ]
          },
          "metadata": {
            "tags": []
          },
          "execution_count": 5
        }
      ]
    },
    {
      "cell_type": "code",
      "metadata": {
        "id": "Q5b-Cw5_Bpex",
        "colab_type": "code",
        "outputId": "f5db9400-e333-4609-dfc0-b0d972739793",
        "colab": {
          "base_uri": "https://localhost:8080/",
          "height": 52
        }
      },
      "source": [
        "print(\"Number of rows in data=\",all_data.shape[0])\n",
        "print(\"Number of columns in data=\",all_data.shape[1])"
      ],
      "execution_count": 6,
      "outputs": [
        {
          "output_type": "stream",
          "text": [
            "Number of rows in data= 10983\n",
            "Number of columns in data= 13\n"
          ],
          "name": "stdout"
        }
      ]
    },
    {
      "cell_type": "code",
      "metadata": {
        "id": "Y8QRTjEXEf6i",
        "colab_type": "code",
        "outputId": "cce12714-35b4-4963-d962-84f455853055",
        "colab": {
          "base_uri": "https://localhost:8080/",
          "height": 34
        }
      },
      "source": [
        "all_data.iloc[:,2:].sum().values"
      ],
      "execution_count": 7,
      "outputs": [
        {
          "output_type": "execute_result",
          "data": {
            "text/plain": [
              "array([3960, 1527, 4020, 1848, 4319, 1348, 3434, 1270, 3233,  566,  553])"
            ]
          },
          "metadata": {
            "tags": []
          },
          "execution_count": 7
        }
      ]
    },
    {
      "cell_type": "code",
      "metadata": {
        "id": "hi-fjZigCMaD",
        "colab_type": "code",
        "outputId": "06ac23b4-619a-4a57-b8d0-88acc67059fb",
        "colab": {
          "base_uri": "https://localhost:8080/",
          "height": 554
        }
      },
      "source": [
        "categories = list(all_data.columns.values[2:])\n",
        "categories\n",
        "sns.set(font_scale=2)\n",
        "plt.figure(figsize=(24,12))\n",
        "\n",
        "ax = sns.barplot(categories, all_data.iloc[:,2:].sum().values)\n",
        "\n",
        "plt.title(\"Label class balance\", fontsize=24)\n",
        "plt.ylabel('Number of tweets', fontsize=18)\n",
        "plt.xlabel('Emotion category', fontsize=18)\n",
        "\n",
        "rects = ax.patches\n",
        "labels = all_data.iloc[:,2:].sum().values\n",
        "for rect, label in zip(rects, labels):\n",
        "  height = rect.get_height()\n",
        "  ax.text(rect.get_x() + rect.get_width()/2, height+5, label, ha='center', va='bottom', fontsize=18)\n",
        "\n",
        "plt.savefig('class_imbalance', dpi=300)\n",
        "plt.show()"
      ],
      "execution_count": 8,
      "outputs": [
        {
          "output_type": "display_data",
          "data": {
            "image/png": "[encoded data removed]",
            "text/plain": [
              "<Figure size 1728x864 with 1 Axes>"
            ]
          },
          "metadata": {
            "tags": []
          }
        }
      ]
    },
    {
      "cell_type": "code",
      "metadata": {
        "id": "-0YPDpR0CuZh",
        "colab_type": "code",
        "outputId": "5ec7ab31-56e1-4b3a-b9f5-ffbbb1b3d5f5",
        "colab": {
          "base_uri": "https://localhost:8080/",
          "height": 208
        }
      },
      "source": [
        "all_data['Tweet'][40:50]"
      ],
      "execution_count": 9,
      "outputs": [
        {
          "output_type": "execute_result",
          "data": {
            "text/plain": [
              "40    All the young people are so bitter about how t...\n",
              "41    Living with #depression doesn't mean you must ...\n",
              "42    In wake of fresh #terror threat and sounding o...\n",
              "43    @TamraBarney @ShannonBeador @RHOC_KellyDodd Ta...\n",
              "44    He accusd India of HR violations in Kashmir BU...\n",
              "45    About 7 weeks till I can pick up my camera aga...\n",
              "46    @morgannbroom yes ❤️❤️ &amp; cheering homecomi...\n",
              "47    I was so shy freshman year this guy introduced...\n",
              "48    Love is when all your happiness and all your s...\n",
              "49    @wabermes The @RavalliRepublic had a good one ...\n",
              "Name: Tweet, dtype: object"
            ]
          },
          "metadata": {
            "tags": []
          },
          "execution_count": 9
        }
      ]
    },
    {
      "cell_type": "code",
      "metadata": {
        "id": "zlPfELnEhnBS",
        "colab_type": "code",
        "outputId": "10127046-b8da-47e1-edb9-3c7881cbdcc2",
        "colab": {
          "base_uri": "https://localhost:8080/",
          "height": 66,
          "referenced_widgets": [
            "3415beff8ef741d1a786f519f35a9554",
            "c8fb6f187aef4138b81435dbe99b81e4",
            "1f3a892d9d4f4b71b302107f44d8e8c9",
            "181cb5d555004ed2991b2a4d98afb60b",
            "1011134d2ef746a3ad08b0c2553ba3b4",
            "b44271ea371742079440649bffc41fab",
            "9f8bff026abf45b794c464e95964f398",
            "e4fd1833a2c04edd984a59f4859c26a5"
          ]
        }
      },
      "source": [
        "tokenizer = BertTokenizer.from_pretrained('bert-base-uncased')"
      ],
      "execution_count": 10,
      "outputs": [
        {
          "output_type": "display_data",
          "data": {
            "application/vnd.jupyter.widget-view+json": {
              "model_id": "3415beff8ef741d1a786f519f35a9554",
              "version_minor": 0,
              "version_major": 2
            },
            "text/plain": [
              "HBox(children=(FloatProgress(value=0.0, description='Downloading', max=231508.0, style=ProgressStyle(descripti…"
            ]
          },
          "metadata": {
            "tags": []
          }
        },
        {
          "output_type": "stream",
          "text": [
            "\n"
          ],
          "name": "stdout"
        }
      ]
    },
    {
      "cell_type": "code",
      "metadata": {
        "id": "Vvhc5ga5Sju-",
        "colab_type": "code",
        "outputId": "c507f3f6-ffb8-4510-d657-be482b4efc3e",
        "colab": {
          "base_uri": "https://localhost:8080/",
          "height": 34
        }
      },
      "source": [
        "tokenizer.tokenize('Blueberries are amazing')"
      ],
      "execution_count": 11,
      "outputs": [
        {
          "output_type": "execute_result",
          "data": {
            "text/plain": [
              "['blue', '##berries', 'are', 'amazing']"
            ]
          },
          "metadata": {
            "tags": []
          },
          "execution_count": 11
        }
      ]
    },
    {
      "cell_type": "code",
      "metadata": {
        "id": "x4Cfah_tjb3V",
        "colab_type": "code",
        "outputId": "5bd88268-d2cf-4f9f-ff8b-305e2d9dc39d",
        "colab": {
          "base_uri": "https://localhost:8080/",
          "height": 34
        }
      },
      "source": [
        "tokenizer.encode('Blueberries are amazing', add_special_tokens=True)"
      ],
      "execution_count": 12,
      "outputs": [
        {
          "output_type": "execute_result",
          "data": {
            "text/plain": [
              "[101, 2630, 20968, 2024, 6429, 102]"
            ]
          },
          "metadata": {
            "tags": []
          },
          "execution_count": 12
        }
      ]
    },
    {
      "cell_type": "markdown",
      "metadata": {
        "id": "Xbieed--eY7c",
        "colab_type": "text"
      },
      "source": [
        "# Average length of tweets in dataset"
      ]
    },
    {
      "cell_type": "code",
      "metadata": {
        "id": "EPc3fuu9SjEI",
        "colab_type": "code",
        "colab": {
          "base_uri": "https://localhost:8080/",
          "height": 34
        },
        "outputId": "3835fc09-28e2-4c9a-efa6-0399db6100e8"
      },
      "source": [
        "total = 0\n",
        "\n",
        "for tweet in all_data['Tweet']:\n",
        "  total += len(tweet)\n",
        "avg_size = float(total) / float(len(all_data['Tweet']))\n",
        "avg_size"
      ],
      "execution_count": 15,
      "outputs": [
        {
          "output_type": "execute_result",
          "data": {
            "text/plain": [
              "94.7821178184467"
            ]
          },
          "metadata": {
            "tags": []
          },
          "execution_count": 15
        }
      ]
    },
    {
      "cell_type": "code",
      "metadata": {
        "id": "Xs5n8D4jeojR",
        "colab_type": "code",
        "colab": {}
      },
      "source": [
        ""
      ],
      "execution_count": 0,
      "outputs": []
    }
  ]
}