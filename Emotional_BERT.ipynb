{
  "nbformat": 4,
  "nbformat_minor": 0,
  "metadata": {
    "colab": {
      "name": "Emotional BERT.ipynb",
      "provenance": [],
      "collapsed_sections": [],
      "authorship_tag": "ABX9TyN+E7qfc9CEVTJ9ifSJTzBN",
      "include_colab_link": true
    },
    "kernelspec": {
      "name": "python3",
      "display_name": "Python 3"
    },
    "accelerator": "GPU"
  },
  "cells": [
    {
      "cell_type": "markdown",
      "metadata": {
        "id": "view-in-github",
        "colab_type": "text"
      },
      "source": [
        "<a href=\"https://colab.research.google.com/github/oaarnikoivu/dissertation/blob/master/Emotional_BERT.ipynb\" target=\"_parent\"><img src=\"https://colab.research.google.com/assets/colab-badge.svg\" alt=\"Open In Colab\"/></a>"
      ]
    },
    {
      "cell_type": "markdown",
      "metadata": {
        "id": "_svLHoq91gv6",
        "colab_type": "text"
      },
      "source": [
        "# Detecting Emotions from Tweets with BERT "
      ]
    },
    {
      "cell_type": "markdown",
      "metadata": {
        "id": "RjqbblbR2JTC",
        "colab_type": "text"
      },
      "source": [
        "First we need to install the transformers python package to get access to the pre-trained BERT models."
      ]
    },
    {
      "cell_type": "code",
      "metadata": {
        "id": "_BSjxdQA1su-",
        "colab_type": "code",
        "colab": {}
      },
      "source": [
        "!pip install transformers\n",
        "!pip install fast-bert"
      ],
      "execution_count": 0,
      "outputs": []
    },
    {
      "cell_type": "code",
      "metadata": {
        "id": "i_rH13oCtAfW",
        "colab_type": "code",
        "colab": {}
      },
      "source": [
        "from transformers import BertTokenizer, BertConfig, BertForSequenceClassification\n",
        "from box import Box\n",
        "from tqdm import tqdm, trange\n",
        "from pathlib import Path\n",
        "from sklearn.model_selection import train_test_split\n",
        "\n",
        "import torch\n",
        "import pandas as pd \n",
        "import collections \n",
        "import random\n",
        "import numpy as np\n",
        "\n",
        "import logging\n",
        "import datetime\n",
        "\n",
        "from fast_bert.modeling import BertForMultiLabelSequenceClassification\n",
        "from fast_bert.data_cls import BertDataBunch, InputExample, InputFeatures, MultiLabelTextProcessor, convert_examples_to_features\n",
        "from fast_bert.learner_cls import BertLearner\n",
        "from fast_bert.metrics import accuracy_multilabel, accuracy_thresh, fbeta, roc_auc"
      ],
      "execution_count": 0,
      "outputs": []
    },
    {
      "cell_type": "code",
      "metadata": {
        "id": "ZT1oNHtY1-LS",
        "colab_type": "code",
        "outputId": "a396d5ee-ad3a-44e6-fb66-e832e0fcab44",
        "colab": {
          "base_uri": "https://localhost:8080/",
          "height": 34
        }
      },
      "source": [
        "from google.colab import drive \n",
        "drive.mount('/content/drive')"
      ],
      "execution_count": 44,
      "outputs": [
        {
          "output_type": "stream",
          "text": [
            "Drive already mounted at /content/drive; to attempt to forcibly remount, call drive.mount(\"/content/drive\", force_remount=True).\n"
          ],
          "name": "stdout"
        }
      ]
    },
    {
      "cell_type": "code",
      "metadata": {
        "id": "4y7FYGtxvPia",
        "colab_type": "code",
        "colab": {}
      },
      "source": [
        "logging.basicConfig(format='%(asctime)s - %(levelname)s - %(name)s -   %(message)s',\n",
        "                    datefmt='%m/%d/%Y %H:%M:%S',\n",
        "                    level=logging.INFO)\n",
        "logger = logging.getLogger(__name__)"
      ],
      "execution_count": 0,
      "outputs": []
    },
    {
      "cell_type": "code",
      "metadata": {
        "id": "k-C-TV4ctZHj",
        "colab_type": "code",
        "colab": {}
      },
      "source": [
        "torch.cuda.empty_cache()"
      ],
      "execution_count": 0,
      "outputs": []
    },
    {
      "cell_type": "code",
      "metadata": {
        "id": "30AoP3XJtdPG",
        "colab_type": "code",
        "colab": {}
      },
      "source": [
        "run_start_time = datetime.datetime.today().strftime('%Y-%m-%d_%H-%M-%S')"
      ],
      "execution_count": 0,
      "outputs": []
    },
    {
      "cell_type": "code",
      "metadata": {
        "id": "uJl-eJCYufXV",
        "colab_type": "code",
        "colab": {}
      },
      "source": [
        "path = '/content/drive/My Drive/'\n",
        "\n",
        "DATA_PATH = Path(path + '/datasets/SemEval/')\n",
        "LABEL_PATH = Path(path + '/labels/')\n",
        "\n",
        "MODEL_PATH = Path(path + '/models/')\n",
        "LOG_PATH = Path(path + '/logs/')\n",
        "\n",
        "MODEL_PATH.mkdir(exist_ok=True)\n",
        "LOG_PATH.mkdir(exist_ok=True)\n",
        "\n",
        "BERT_PRETRAINED_PATH = Path(path + '/BERT/')\n",
        "\n",
        "OUTPUT_PATH = Path(MODEL_PATH/'output')\n",
        "OUTPUT_PATH.mkdir(exist_ok=True)"
      ],
      "execution_count": 0,
      "outputs": []
    },
    {
      "cell_type": "markdown",
      "metadata": {
        "id": "gH_Mjo8Tp0WM",
        "colab_type": "text"
      },
      "source": [
        "# BERT Arguments"
      ]
    },
    {
      "cell_type": "code",
      "metadata": {
        "id": "1I433gPypSJV",
        "colab_type": "code",
        "colab": {}
      },
      "source": [
        "args = Box({\n",
        "    \"multi_gpu\": False,\n",
        "    \"multi_label\": True,\n",
        "    \"batch_size_per_gpu\": 16,\n",
        "    \"warmup_steps\": 500,\n",
        "    \"max_seq_length\": 512,\n",
        "    \"num_epochs\": 6, \n",
        "    \"is_fp16\": False,\n",
        "    \"logging_steps\": 50,\n",
        "    \"schedule_type\": 'warmup_cosine',\n",
        "    \"optimizer_type\": 'lamb',\n",
        "    \"learning_rate\": 6e-5\n",
        "})"
      ],
      "execution_count": 0,
      "outputs": []
    },
    {
      "cell_type": "markdown",
      "metadata": {
        "id": "kAydZmDxvZEs",
        "colab_type": "text"
      },
      "source": [
        "# GPU"
      ]
    },
    {
      "cell_type": "code",
      "metadata": {
        "id": "5klrCsFrvaSl",
        "colab_type": "code",
        "colab": {}
      },
      "source": [
        "device = torch.device('cuda')\n",
        "\n",
        "# check if multiple GPUs are available\n",
        "\n",
        "if torch.cuda.device_count() > 1:\n",
        "    args.multi_gpu = True\n",
        "else:\n",
        "    args.multi_gpu = False"
      ],
      "execution_count": 0,
      "outputs": []
    },
    {
      "cell_type": "markdown",
      "metadata": {
        "id": "p1hvSEJbjDSa",
        "colab_type": "text"
      },
      "source": [
        "# Custom BERT Models"
      ]
    },
    {
      "cell_type": "code",
      "metadata": {
        "id": "-vWZvXm2jCck",
        "colab_type": "code",
        "colab": {}
      },
      "source": [
        "class MyMultiLabelBertClassifier(BertForSequenceClassification):\n",
        "  \"\"\"Bert model for classification.\"\"\"\n",
        "\n",
        "  def forward(\n",
        "      self,\n",
        "      input_ids,\n",
        "      token_type_ids=None,\n",
        "      attention_mask=None,\n",
        "      labels=None,\n",
        "      position_ids=None,\n",
        "      head_mask=None,\n",
        "  ):\n",
        "\n",
        "    outputs = self.bert(\n",
        "        input_ids, \n",
        "        position_ids=position_ids,\n",
        "        token_type_ids=token_type_ids,\n",
        "        attention_mask=attention_mask,\n",
        "        head_mask=head_mask\n",
        "    )\n",
        "    pooled_output = outputs[1]\n",
        "\n",
        "    pooled_output = self.dropout(pooled_output)\n",
        "    logits = self.classifier(pooled_output)\n",
        "\n",
        "    # add hidden states and attention if they are here\n",
        "    outputs = (logits,) + outputs[2:]\n",
        "\n",
        "    if labels is not None:\n",
        "      loss_fct = BCEWithLogitsLoss()\n",
        "\n",
        "      loss = loss_fct(\n",
        "          logits.view(-1, self.num_labels), labels_view(-1, self.num_labels)\n",
        "      )\n",
        "      outputs = (loss,) + outputs\n",
        "    \n",
        "    return outputs "
      ],
      "execution_count": 0,
      "outputs": []
    },
    {
      "cell_type": "code",
      "metadata": {
        "id": "b3cECmVCu0Sv",
        "colab_type": "code",
        "colab": {}
      },
      "source": [
        "label_cols = ['anger', 'anticipation', 'disgust', 'fear', 'joy', \n",
        "              'love', 'optimism', 'pessimism', 'sadness', 'surprise', 'trust']"
      ],
      "execution_count": 0,
      "outputs": []
    },
    {
      "cell_type": "markdown",
      "metadata": {
        "id": "mgbv9b8gqivJ",
        "colab_type": "text"
      },
      "source": [
        "# FastBert DataBunch Object"
      ]
    },
    {
      "cell_type": "code",
      "metadata": {
        "id": "xbAlkfx3vlVc",
        "colab_type": "code",
        "outputId": "03681f06-e137-4b67-fb42-f57231df63a2",
        "colab": {
          "base_uri": "https://localhost:8080/",
          "height": 1000
        }
      },
      "source": [
        "model = MultiLabelBertClassifier(config=BertConfig.from_pretrained('bert-base-uncased'))\n",
        "\n",
        "databunch = BertDataBunch(DATA_PATH, \n",
        "                          LABEL_PATH,\n",
        "                          tokenizer='bert-base-uncased',\n",
        "                          train_file='train.csv',\n",
        "                          val_file='val.csv',\n",
        "                          test_data='test.csv',\n",
        "                          label_file='labels.csv',\n",
        "                          text_col=\"Tweet\",\n",
        "                          label_col=label_cols,\n",
        "                          batch_size_per_gpu=args.batch_size_per_gpu,\n",
        "                          max_seq_length=args.max_seq_length,\n",
        "                          multi_gpu=args.multi_gpu,\n",
        "                          multi_label=True,\n",
        "                          model_type=model)"
      ],
      "execution_count": 118,
      "outputs": [
        {
          "output_type": "stream",
          "text": [
            "01/17/2020 13:34:42 - INFO - transformers.configuration_utils -   loading configuration file https://s3.amazonaws.com/models.huggingface.co/bert/bert-base-uncased-config.json from cache at /root/.cache/torch/transformers/4dad0251492946e18ac39290fcfe91b89d370fee250efe9521476438fe8ca185.bf3b9ea126d8c0001ee8a1e8b92229871d06d36d8808208cc2449280da87785c\n",
            "01/17/2020 13:34:42 - INFO - transformers.configuration_utils -   Model config {\n",
            "  \"attention_probs_dropout_prob\": 0.1,\n",
            "  \"finetuning_task\": null,\n",
            "  \"hidden_act\": \"gelu\",\n",
            "  \"hidden_dropout_prob\": 0.1,\n",
            "  \"hidden_size\": 768,\n",
            "  \"id2label\": {\n",
            "    \"0\": \"LABEL_0\",\n",
            "    \"1\": \"LABEL_1\"\n",
            "  },\n",
            "  \"initializer_range\": 0.02,\n",
            "  \"intermediate_size\": 3072,\n",
            "  \"is_decoder\": false,\n",
            "  \"label2id\": {\n",
            "    \"LABEL_0\": 0,\n",
            "    \"LABEL_1\": 1\n",
            "  },\n",
            "  \"layer_norm_eps\": 1e-12,\n",
            "  \"max_position_embeddings\": 512,\n",
            "  \"num_attention_heads\": 12,\n",
            "  \"num_hidden_layers\": 12,\n",
            "  \"num_labels\": 2,\n",
            "  \"output_attentions\": false,\n",
            "  \"output_hidden_states\": false,\n",
            "  \"output_past\": true,\n",
            "  \"pruned_heads\": {},\n",
            "  \"torchscript\": false,\n",
            "  \"type_vocab_size\": 2,\n",
            "  \"use_bfloat16\": false,\n",
            "  \"vocab_size\": 30522\n",
            "}\n",
            "\n"
          ],
          "name": "stderr"
        },
        {
          "output_type": "error",
          "ename": "KeyError",
          "evalue": "ignored",
          "traceback": [
            "\u001b[0;31m---------------------------------------------------------------------------\u001b[0m",
            "\u001b[0;31mKeyError\u001b[0m                                  Traceback (most recent call last)",
            "\u001b[0;32m<ipython-input-118-bbb88f30ce82>\u001b[0m in \u001b[0;36m<module>\u001b[0;34m()\u001b[0m\n\u001b[1;32m     14\u001b[0m                           \u001b[0mmulti_gpu\u001b[0m\u001b[0;34m=\u001b[0m\u001b[0margs\u001b[0m\u001b[0;34m.\u001b[0m\u001b[0mmulti_gpu\u001b[0m\u001b[0;34m,\u001b[0m\u001b[0;34m\u001b[0m\u001b[0;34m\u001b[0m\u001b[0m\n\u001b[1;32m     15\u001b[0m                           \u001b[0mmulti_label\u001b[0m\u001b[0;34m=\u001b[0m\u001b[0;32mTrue\u001b[0m\u001b[0;34m,\u001b[0m\u001b[0;34m\u001b[0m\u001b[0;34m\u001b[0m\u001b[0m\n\u001b[0;32m---> 16\u001b[0;31m                           model_type=model)\n\u001b[0m",
            "\u001b[0;32m/usr/local/lib/python3.6/dist-packages/fast_bert/data_cls.py\u001b[0m in \u001b[0;36m__init__\u001b[0;34m(self, data_dir, label_dir, tokenizer, train_file, val_file, test_data, label_file, text_col, label_col, batch_size_per_gpu, max_seq_length, multi_gpu, multi_label, backend, model_type, logger, clear_cache, no_cache)\u001b[0m\n\u001b[1;32m    403\u001b[0m \u001b[0;34m\u001b[0m\u001b[0m\n\u001b[1;32m    404\u001b[0m         \u001b[0;32mif\u001b[0m \u001b[0misinstance\u001b[0m\u001b[0;34m(\u001b[0m\u001b[0mtokenizer\u001b[0m\u001b[0;34m,\u001b[0m \u001b[0mstr\u001b[0m\u001b[0;34m)\u001b[0m\u001b[0;34m:\u001b[0m\u001b[0;34m\u001b[0m\u001b[0;34m\u001b[0m\u001b[0m\n\u001b[0;32m--> 405\u001b[0;31m             \u001b[0m_\u001b[0m\u001b[0;34m,\u001b[0m \u001b[0m_\u001b[0m\u001b[0;34m,\u001b[0m \u001b[0mtokenizer_class\u001b[0m \u001b[0;34m=\u001b[0m \u001b[0mMODEL_CLASSES\u001b[0m\u001b[0;34m[\u001b[0m\u001b[0mmodel_type\u001b[0m\u001b[0;34m]\u001b[0m\u001b[0;34m\u001b[0m\u001b[0;34m\u001b[0m\u001b[0m\n\u001b[0m\u001b[1;32m    406\u001b[0m             \u001b[0;31m# instantiate the new tokeniser object using the tokeniser name\u001b[0m\u001b[0;34m\u001b[0m\u001b[0;34m\u001b[0m\u001b[0;34m\u001b[0m\u001b[0m\n\u001b[1;32m    407\u001b[0m             tokenizer = tokenizer_class.from_pretrained(\n",
            "\u001b[0;31mKeyError\u001b[0m: MultiLabelBertClassifier(\n  (bert): BertModel(\n    (embeddings): BertEmbeddings(\n      (word_embeddings): Embedding(30522, 768, padding_idx=0)\n      (position_embeddings): Embedding(512, 768)\n      (token_type_embeddings): Embedding(2, 768)\n      (LayerNorm): LayerNorm((768,), eps=1e-12, elementwise_affine=True)\n      (dropout): Dropout(p=0.1, inplace=False)\n    )\n    (encoder): BertEncoder(\n      (layer): ModuleList(\n        (0): BertLayer(\n          (attention): BertAttention(\n            (self): BertSelfAttention(\n              (query): Linear(in_features=768, out_features=768, bias=True)\n              (key): Linear(in_features=768, out_features=768, bias=True)\n              (value): Linear(in_features=768, out_features=768, bias=True)\n              (dropout): Dropout(p=0.1, inplace=False)\n            )\n            (output): BertSelfOutput(\n              (dense): Linear(in_features=768, out_features=768, bias=True)\n              (LayerNorm): LayerNorm((768,), eps=1e-12, elementwise_affine=True)\n              (dropout): Dropout(p=0.1, inplace=False)\n            )\n          )\n          (intermediate): BertIntermediate(\n            (dense): Linear(in_features=768, out_features=3072, bias=True)\n          )\n          (output): BertOutput(\n            (dense): Linear(in_features=3072, out_features=768, bias=True)\n            (LayerNorm): LayerNorm((768,), eps=1e-12, elementwise_affine=True)\n            (dropout): Dropout(p=0.1, inplace=False)\n          )\n        )\n        (1): BertLayer(\n          (attention): BertAttention(\n            (self): BertSelfAttention(\n              (query): Linear(in_features=768, out_features=768, bias=True)\n              (key): Linear(in_features=768, out_features=768, bias=True)\n              (value): Linear(in_features=768, out_features=768, bias=True)\n              (dropout): Dropout(p=0.1, inplace=False)\n            )\n            (output): BertSelfOutput(\n              (dense): Linear(in_features=768, out_features=768, bias=True)\n              (LayerNorm): LayerNorm((768,), eps=1e-12, elementwise_affine=True)\n              (dropout): Dropout(p=0.1, inplace=False)\n            )\n          )\n          (intermediate): BertIntermediate(\n            (dense): Linear(in_features=768, out_features=3072, bias=True)\n          )\n          (output): BertOutput(\n            (dense): Linear(in_features=3072, out_features=768, bias=True)\n            (LayerNorm): LayerNorm((768,), eps=1e-12, elementwise_affine=True)\n            (dropout): Dropout(p=0.1, inplace=False)\n          )\n        )\n        (2): BertLayer(\n          (attention): BertAttention(\n            (self): BertSelfAttention(\n              (query): Linear(in_features=768, out_features=768, bias=True)\n              (key): Linear(in_features=768, out_features=768, bias=True)\n              (value): Linear(in_features=768, out_features=768, bias=True)\n              (dropout): Dropout(p=0.1, inplace=False)\n            )\n            (output): BertSelfOutput(\n              (dense): Linear(in_features=768, out_features=768, bias=True)\n              (LayerNorm): LayerNorm((768,), eps=1e-12, elementwise_affine=True)\n              (dropout): Dropout(p=0.1, inplace=False)\n            )\n          )\n          (intermediate): BertIntermediate(\n            (dense): Linear(in_features=768, out_features=3072, bias=True)\n          )\n          (output): BertOutput(\n            (dense): Linear(in_features=3072, out_features=768, bias=True)\n            (LayerNorm): LayerNorm((768,), eps=1e-12, elementwise_affine=True)\n            (dropout): Dropout(p=0.1, inplace=False)\n          )\n        )\n        (3): BertLayer(\n          (attention): BertAttention(\n            (self): BertSelfAttention(\n              (query): Linear(in_features=768, out_features=768, bias=True)\n              (key): Linear(in_features=768, out_features=768, bias=True)\n              (value): Linear(in_features=768, out_features=768, bias=True)\n              (dropout): Dropout(p=0.1, inplace=False)\n            )\n            (output): BertSelfOutput(\n              (dense): Linear(in_features=768, out_features=768, bias=True)\n              (LayerNorm): LayerNorm((768,), eps=1e-12, elementwise_affine=True)\n              (dropout): Dropout(p=0.1, inplace=False)\n            )\n          )\n          (intermediate): BertIntermediate(\n            (dense): Linear(in_features=768, out_features=3072, bias=True)\n          )\n          (output): BertOutput(\n            (dense): Linear(in_features=3072, out_features=768, bias=True)\n            (LayerNorm): LayerNorm((768,), eps=1e-12, elementwise_affine=True)\n            (dropout): Dropout(p=0.1, inplace=False)\n          )\n        )\n        (4): BertLayer(\n          (attention): BertAttention(\n            (self): BertSelfAttention(\n              (query): Linear(in_features=768, out_features=768, bias=True)\n              (key): Linear(in_features=768, out_features=768, bias=True)\n              (value): Linear(in_features=768, out_features=768, bias=True)\n              (dropout): Dropout(p=0.1, inplace=False)\n            )\n            (output): BertSelfOutput(\n              (dense): Linear(in_features=768, out_features=768, bias=True)\n              (LayerNorm): LayerNorm((768,), eps=1e-12, elementwise_affine=True)\n              (dropout): Dropout(p=0.1, inplace=False)\n            )\n          )\n          (intermediate): BertIntermediate(\n            (dense): Linear(in_features=768, out_features=3072, bias=True)\n          )\n          (output): BertOutput(\n            (dense): Linear(in_features=3072, out_features=768, bias=True)\n            (LayerNorm): LayerNorm((768,), eps=1e-12, elementwise_affine=True)\n            (dropout): Dropout(p=0.1, inplace=False)\n          )\n        )\n        (5): BertLayer(\n          (attention): BertAttention(\n            (self): BertSelfAttention(\n              (query): Linear(in_features=768, out_features=768, bias=True)\n              (key): Linear(in_features=768, out_features=768, bias=True)\n              (value): Linear(in_features=768, out_features=768, bias=True)\n              (dropout): Dropout(p=0.1, inplace=False)\n            )\n            (output): BertSelfOutput(\n              (dense): Linear(in_features=768, out_features=768, bias=True)\n              (LayerNorm): LayerNorm((768,), eps=1e-12, elementwise_affine=True)\n              (dropout): Dropout(p=0.1, inplace=False)\n            )\n          )\n          (intermediate): BertIntermediate(\n            (dense): Linear(in_features=768, out_features=3072, bias=True)\n          )\n          (output): BertOutput(\n            (dense): Linear(in_features=3072, out_features=768, bias=True)\n            (LayerNorm): LayerNorm((768,), eps=1e-12, elementwise_affine=True)\n            (dropout): Dropout(p=0.1, inplace=False)\n          )\n        )\n        (6): BertLayer(\n          (attention): BertAttention(\n            (self): BertSelfAttention(\n              (query): Linear(in_features=768, out_features=768, bias=True)\n              (key): Linear(in_features=768, out_features=768, bias=True)\n              (value): Linear(in_features=768, out_features=768, bias=True)\n              (dropout): Dropout(p=0.1, inplace=False)\n            )\n            (output): BertSelfOutput(\n              (dense): Linear(in_features=768, out_features=768, bias=True)\n              (LayerNorm): LayerNorm((768,), eps=1e-12, elementwise_affine=True)\n              (dropout): Dropout(p=0.1, inplace=False)\n            )\n          )\n          (intermediate): BertIntermediate(\n            (dense): Linear(in_features=768, out_features=3072, bias=True)\n          )\n          (output): BertOutput(\n            (dense): Linear(in_features=3072, out_features=768, bias=True)\n            (LayerNorm): LayerNorm((768,), eps=1e-12, elementwise_affine=True)\n            (dropout): Dropout(p=0.1, inplace=False)\n          )\n        )\n        (7): BertLayer(\n          (attention): BertAttention(\n            (self): BertSelfAttention(\n              (query): Linear(in_features=768, out_features=768, bias=True)\n              (key): Linear(in_features=768, out_features=768, bias=True)\n              (value): Linear(in_features=768, out_features=768, bias=True)\n              (dropout): Dropout(p=0.1, inplace=False)\n            )\n            (output): BertSelfOutput(\n              (dense): Linear(in_features=768, out_features=768, bias=True)\n              (LayerNorm): LayerNorm((768,), eps=1e-12, elementwise_affine=True)\n              (dropout): Dropout(p=0.1, inplace=False)\n            )\n          )\n          (intermediate): BertIntermediate(\n            (dense): Linear(in_features=768, out_features=3072, bias=True)\n          )\n          (output): BertOutput(\n            (dense): Linear(in_features=3072, out_features=768, bias=True)\n            (LayerNorm): LayerNorm((768,), eps=1e-12, elementwise_affine=True)\n            (dropout): Dropout(p=0.1, inplace=False)\n          )\n        )\n        (8): BertLayer(\n          (attention): BertAttention(\n            (self): BertSelfAttention(\n              (query): Linear(in_features=768, out_features=768, bias=True)\n              (key): Linear(in_features=768, out_features=768, bias=True)\n              (value): Linear(in_features=768, out_features=768, bias=True)\n              (dropout): Dropout(p=0.1, inplace=False)\n            )\n            (output): BertSelfOutput(\n              (dense): Linear(in_features=768, out_features=768, bias=True)\n              (LayerNorm): LayerNorm((768,), eps=1e-12, elementwise_affine=True)\n              (dropout): Dropout(p=0.1, inplace=False)\n            )\n          )\n          (intermediate): BertIntermediate(\n            (dense): Linear(in_features=768, out_features=3072, bias=True)\n          )\n          (output): BertOutput(\n            (dense): Linear(in_features=3072, out_features=768, bias=True)\n            (LayerNorm): LayerNorm((768,), eps=1e-12, elementwise_affine=True)\n            (dropout): Dropout(p=0.1, inplace=False)\n          )\n        )\n        (9): BertLayer(\n          (attention): BertAttention(\n            (self): BertSelfAttention(\n              (query): Linear(in_features=768, out_features=768, bias=True)\n              (key): Linear(in_features=768, out_features=768, bias=True)\n              (value): Linear(in_features=768, out_features=768, bias=True)\n              (dropout): Dropout(p=0.1, inplace=False)\n            )\n            (output): BertSelfOutput(\n              (dense): Linear(in_features=768, out_features=768, bias=True)\n              (LayerNorm): LayerNorm((768,), eps=1e-12, elementwise_affine=True)\n              (dropout): Dropout(p=0.1, inplace=False)\n            )\n          )\n          (intermediate): BertIntermediate(\n            (dense): Linear(in_features=768, out_features=3072, bias=True)\n          )\n          (output): BertOutput(\n            (dense): Linear(in_features=3072, out_features=768, bias=True)\n            (LayerNorm): LayerNorm((768,), eps=1e-12, elementwise_affine=True)\n            (dropout): Dropout(p=0.1, inplace=False)\n          )\n        )\n        (10): BertLayer(\n          (attention): BertAttention(\n            (self): BertSelfAttention(\n              (query): Linear(in_features=768, out_features=768, bias=True)\n              (key): Linear(in_features=768, out_features=768, bias=True)\n              (value): Linear(in_features=768, out_features=768, bias=True)\n              (dropout): Dropout(p=0.1, inplace=False)\n            )\n            (output): BertSelfOutput(\n              (dense): Linear(in_features=768, out_features=768, bias=True)\n              (LayerNorm): LayerNorm((768,), eps=1e-12, elementwise_affine=True)\n              (dropout): Dropout(p=0.1, inplace=False)\n            )\n          )\n          (intermediate): BertIntermediate(\n            (dense): Linear(in_features=768, out_features=3072, bias=True)\n          )\n          (output): BertOutput(\n            (dense): Linear(in_features=3072, out_features=768, bias=True)\n            (LayerNorm): LayerNorm((768,), eps=1e-12, elementwise_affine=True)\n            (dropout): Dropout(p=0.1, inplace=False)\n          )\n        )\n        (11): BertLayer(\n          (attention): BertAttention(\n            (self): BertSelfAttention(\n              (query): Linear(in_features=768, out_features=768, bias=True)\n              (key): Linear(in_features=768, out_features=768, bias=True)\n              (value): Linear(in_features=768, out_features=768, bias=True)\n              (dropout): Dropout(p=0.1, inplace=False)\n            )\n            (output): BertSelfOutput(\n              (dense): Linear(in_features=768, out_features=768, bias=True)\n              (LayerNorm): LayerNorm((768,), eps=1e-12, elementwise_affine=True)\n              (dropout): Dropout(p=0.1, inplace=False)\n            )\n          )\n          (intermediate): BertIntermediate(\n            (dense): Linear(in_features=768, out_features=3072, bias=True)\n          )\n          (output): BertOutput(\n            (dense): Linear(in_features=3072, out_features=768, bias=True)\n            (LayerNorm): LayerNorm((768,), eps=1e-12, elementwise_affine=True)\n            (dropout): Dropout(p=0.1, inplace=False)\n          )\n        )\n      )\n    )\n    (pooler): BertPooler(\n      (dense): Linear(in_features=768, out_features=768, bias=True)\n      (activation): Tanh()\n    )\n  )\n  (dropout): Dropout(p=0.1, inplace=False)\n  (classifier): Linear(in_features=768, out_features=2, bias=True)\n)"
          ]
        }
      ]
    },
    {
      "cell_type": "code",
      "metadata": {
        "id": "Nc7YDDBiPTLI",
        "colab_type": "code",
        "outputId": "a13d18b0-66d4-4b85-864c-5afaf390555d",
        "colab": {
          "base_uri": "https://localhost:8080/",
          "height": 34
        }
      },
      "source": [
        "databunch.train_dl.dataset[0][3]"
      ],
      "execution_count": 119,
      "outputs": [
        {
          "output_type": "execute_result",
          "data": {
            "text/plain": [
              "tensor([0., 1., 0., 0., 0., 0., 1., 0., 0., 0., 1.])"
            ]
          },
          "metadata": {
            "tags": []
          },
          "execution_count": 119
        }
      ]
    },
    {
      "cell_type": "code",
      "metadata": {
        "id": "4kJDhMBnPp1T",
        "colab_type": "code",
        "outputId": "9d7d53a6-1e99-48bd-d1f9-cfa2bc837450",
        "colab": {
          "base_uri": "https://localhost:8080/",
          "height": 34
        }
      },
      "source": [
        "num_labels = len(databunch.labels)\n",
        "num_labels"
      ],
      "execution_count": 120,
      "outputs": [
        {
          "output_type": "execute_result",
          "data": {
            "text/plain": [
              "11"
            ]
          },
          "metadata": {
            "tags": []
          },
          "execution_count": 120
        }
      ]
    },
    {
      "cell_type": "markdown",
      "metadata": {
        "id": "ELcXJYnxrxTw",
        "colab_type": "text"
      },
      "source": [
        "# Evaluation Metrics"
      ]
    },
    {
      "cell_type": "code",
      "metadata": {
        "id": "xj1upzMtPtPn",
        "colab_type": "code",
        "colab": {}
      },
      "source": [
        "metrics = []\n",
        "metrics.append({'name': 'accuracy_thresh', 'function': accuracy_thresh})\n",
        "metrics.append({'name': 'roc_auc', 'function': roc_auc})\n",
        "metrics.append({'name': 'fbeta', 'function': fbeta})"
      ],
      "execution_count": 0,
      "outputs": []
    },
    {
      "cell_type": "markdown",
      "metadata": {
        "id": "qSXuL6k8r2Vr",
        "colab_type": "text"
      },
      "source": [
        "# Define FastBert Learner"
      ]
    },
    {
      "cell_type": "code",
      "metadata": {
        "id": "nUyFd9rLP4ie",
        "colab_type": "code",
        "outputId": "983e8a7f-b8d9-43b4-f4d4-5a2bb27165f4",
        "colab": {
          "base_uri": "https://localhost:8080/",
          "height": 697
        }
      },
      "source": [
        "learner = BertLearner.from_pretrained_model(\n",
        "    databunch,\n",
        "    pretrained_path='bert-base-uncased',\n",
        "    metrics=metrics,\n",
        "    device=device,\n",
        "    logger=logger,\n",
        "    output_dir=OUTPUT_PATH,\n",
        "    finetuned_wgts_path=None,\n",
        "    warmup_steps=args.warmup_steps,\n",
        "    multi_gpu=args.multi_gpu,\n",
        "    is_fp16=args.is_fp16,\n",
        "    multi_label=args.multi_label,\n",
        "    logging_steps=args.logging_steps)"
      ],
      "execution_count": 122,
      "outputs": [
        {
          "output_type": "stream",
          "text": [
            "01/17/2020 13:34:56 - INFO - transformers.configuration_utils -   loading configuration file https://s3.amazonaws.com/models.huggingface.co/bert/bert-base-uncased-config.json from cache at /root/.cache/torch/transformers/4dad0251492946e18ac39290fcfe91b89d370fee250efe9521476438fe8ca185.bf3b9ea126d8c0001ee8a1e8b92229871d06d36d8808208cc2449280da87785c\n",
            "01/17/2020 13:34:56 - INFO - transformers.configuration_utils -   Model config {\n",
            "  \"attention_probs_dropout_prob\": 0.1,\n",
            "  \"finetuning_task\": null,\n",
            "  \"hidden_act\": \"gelu\",\n",
            "  \"hidden_dropout_prob\": 0.1,\n",
            "  \"hidden_size\": 768,\n",
            "  \"id2label\": {\n",
            "    \"0\": \"LABEL_0\",\n",
            "    \"1\": \"LABEL_1\"\n",
            "  },\n",
            "  \"initializer_range\": 0.02,\n",
            "  \"intermediate_size\": 3072,\n",
            "  \"is_decoder\": false,\n",
            "  \"label2id\": {\n",
            "    \"LABEL_0\": 0,\n",
            "    \"LABEL_1\": 1\n",
            "  },\n",
            "  \"layer_norm_eps\": 1e-12,\n",
            "  \"max_position_embeddings\": 512,\n",
            "  \"num_attention_heads\": 12,\n",
            "  \"num_hidden_layers\": 12,\n",
            "  \"num_labels\": 11,\n",
            "  \"output_attentions\": false,\n",
            "  \"output_hidden_states\": false,\n",
            "  \"output_past\": true,\n",
            "  \"pruned_heads\": {},\n",
            "  \"torchscript\": false,\n",
            "  \"type_vocab_size\": 2,\n",
            "  \"use_bfloat16\": false,\n",
            "  \"vocab_size\": 30522\n",
            "}\n",
            "\n"
          ],
          "name": "stderr"
        },
        {
          "output_type": "stream",
          "text": [
            "bert-base-uncased\n",
            "<class 'str'>\n"
          ],
          "name": "stdout"
        },
        {
          "output_type": "stream",
          "text": [
            "01/17/2020 13:34:56 - INFO - transformers.modeling_utils -   loading weights file https://s3.amazonaws.com/models.huggingface.co/bert/bert-base-uncased-pytorch_model.bin from cache at /root/.cache/torch/transformers/aa1ef1aede4482d0dbcd4d52baad8ae300e60902e88fcb0bebdec09afd232066.36ca03ab34a1a5d5fa7bc3d03d55c4fa650fed07220e2eeebc06ce58d0e9a157\n",
            "01/17/2020 13:34:59 - INFO - transformers.modeling_utils -   Weights of BertForMultiLabelSequenceClassification not initialized from pretrained model: ['classifier.weight', 'classifier.bias']\n",
            "01/17/2020 13:34:59 - INFO - transformers.modeling_utils -   Weights from pretrained model not used in BertForMultiLabelSequenceClassification: ['cls.predictions.bias', 'cls.predictions.transform.dense.weight', 'cls.predictions.transform.dense.bias', 'cls.predictions.decoder.weight', 'cls.seq_relationship.weight', 'cls.seq_relationship.bias', 'cls.predictions.transform.LayerNorm.weight', 'cls.predictions.transform.LayerNorm.bias']\n"
          ],
          "name": "stderr"
        }
      ]
    },
    {
      "cell_type": "markdown",
      "metadata": {
        "id": "L0CrXJJesFsF",
        "colab_type": "text"
      },
      "source": [
        "# Train the model"
      ]
    },
    {
      "cell_type": "code",
      "metadata": {
        "id": "h-F9yRXfQt2X",
        "colab_type": "code",
        "outputId": "7f0cb932-8f37-4bb0-d7f7-ec89c7100654",
        "colab": {
          "base_uri": "https://localhost:8080/",
          "height": 1000
        }
      },
      "source": [
        "learner.fit(args.num_epochs, \n",
        "            args.learning_rate, \n",
        "            schedule_type=args.schedule_type,\n",
        "            optimizer_type=args.optimizer_type,\n",
        "            validate=True)"
      ],
      "execution_count": 123,
      "outputs": [
        {
          "output_type": "stream",
          "text": [
            "01/17/2020 13:35:10 - INFO - __main__ -   ***** Running training *****\n",
            "01/17/2020 13:35:10 - INFO - __main__ -     Num examples = 6838\n",
            "01/17/2020 13:35:10 - INFO - __main__ -     Num Epochs = 6\n",
            "01/17/2020 13:35:10 - INFO - __main__ -     Total train batch size (w. parallel, distributed & accumulation) = 16\n",
            "01/17/2020 13:35:10 - INFO - __main__ -     Gradient Accumulation steps = 1\n",
            "01/17/2020 13:35:10 - INFO - __main__ -     Total optimization steps = 2568\n"
          ],
          "name": "stderr"
        },
        {
          "output_type": "display_data",
          "data": {
            "text/html": [
              ""
            ],
            "text/plain": [
              "<IPython.core.display.HTML object>"
            ]
          },
          "metadata": {
            "tags": []
          }
        },
        {
          "output_type": "stream",
          "text": [
            "01/17/2020 13:35:25 - INFO - __main__ -   Running evaluation\n",
            "01/17/2020 13:35:25 - INFO - __main__ -     Num examples = 886\n",
            "01/17/2020 13:35:25 - INFO - __main__ -     Batch size = 32\n"
          ],
          "name": "stderr"
        },
        {
          "output_type": "display_data",
          "data": {
            "text/html": [
              "\n",
              "    <div>\n",
              "        <style>\n",
              "            /* Turns off some styling */\n",
              "            progress {\n",
              "                /* gets rid of default border in Firefox and Opera. */\n",
              "                border: none;\n",
              "                /* Needs to be in here for Safari polyfill so background images work as expected. */\n",
              "                background-size: auto;\n",
              "            }\n",
              "            .progress-bar-interrupted, .progress-bar-interrupted::-webkit-progress-bar {\n",
              "                background: #F44336;\n",
              "            }\n",
              "        </style>\n",
              "      <progress value='28' class='' max='28', style='width:300px; height:20px; vertical-align: middle;'></progress>\n",
              "      100.00% [28/28 00:03<00:00]\n",
              "    </div>\n",
              "    "
            ],
            "text/plain": [
              "<IPython.core.display.HTML object>"
            ]
          },
          "metadata": {
            "tags": []
          }
        },
        {
          "output_type": "stream",
          "text": [
            "01/17/2020 13:35:28 - INFO - __main__ -   eval_loss after step 50: 0.67385775915214: \n",
            "01/17/2020 13:35:28 - INFO - __main__ -   eval_accuracy_thresh after step 50: 0.5244202613830566: \n",
            "01/17/2020 13:35:28 - INFO - __main__ -   eval_roc_auc after step 50: 0.5732082823786078: \n",
            "01/17/2020 13:35:28 - INFO - __main__ -   eval_fbeta after step 50: 0.5624696612358093: \n",
            "01/17/2020 13:35:28 - INFO - __main__ -   lr after step 50: 6e-06\n",
            "01/17/2020 13:35:28 - INFO - __main__ -   train_loss after step 50: 0.6821628642082215\n",
            "01/17/2020 13:35:43 - INFO - __main__ -   Running evaluation\n",
            "01/17/2020 13:35:43 - INFO - __main__ -     Num examples = 886\n",
            "01/17/2020 13:35:43 - INFO - __main__ -     Batch size = 32\n"
          ],
          "name": "stderr"
        },
        {
          "output_type": "display_data",
          "data": {
            "text/html": [
              "\n",
              "    <div>\n",
              "        <style>\n",
              "            /* Turns off some styling */\n",
              "            progress {\n",
              "                /* gets rid of default border in Firefox and Opera. */\n",
              "                border: none;\n",
              "                /* Needs to be in here for Safari polyfill so background images work as expected. */\n",
              "                background-size: auto;\n",
              "            }\n",
              "            .progress-bar-interrupted, .progress-bar-interrupted::-webkit-progress-bar {\n",
              "                background: #F44336;\n",
              "            }\n",
              "        </style>\n",
              "      <progress value='28' class='' max='28', style='width:300px; height:20px; vertical-align: middle;'></progress>\n",
              "      100.00% [28/28 00:03<00:00]\n",
              "    </div>\n",
              "    "
            ],
            "text/plain": [
              "<IPython.core.display.HTML object>"
            ]
          },
          "metadata": {
            "tags": []
          }
        },
        {
          "output_type": "stream",
          "text": [
            "01/17/2020 13:35:47 - INFO - __main__ -   eval_loss after step 100: 0.6644594669342041: \n",
            "01/17/2020 13:35:47 - INFO - __main__ -   eval_accuracy_thresh after step 100: 0.5532525777816772: \n",
            "01/17/2020 13:35:47 - INFO - __main__ -   eval_roc_auc after step 100: 0.6006698722514572: \n",
            "01/17/2020 13:35:47 - INFO - __main__ -   eval_fbeta after step 100: 0.5624696612358093: \n",
            "01/17/2020 13:35:47 - INFO - __main__ -   lr after step 100: 1.2e-05\n",
            "01/17/2020 13:35:47 - INFO - __main__ -   train_loss after step 100: 0.6790372478961945\n",
            "01/17/2020 13:36:01 - INFO - __main__ -   Running evaluation\n",
            "01/17/2020 13:36:01 - INFO - __main__ -     Num examples = 886\n",
            "01/17/2020 13:36:01 - INFO - __main__ -     Batch size = 32\n"
          ],
          "name": "stderr"
        },
        {
          "output_type": "display_data",
          "data": {
            "text/html": [
              "\n",
              "    <div>\n",
              "        <style>\n",
              "            /* Turns off some styling */\n",
              "            progress {\n",
              "                /* gets rid of default border in Firefox and Opera. */\n",
              "                border: none;\n",
              "                /* Needs to be in here for Safari polyfill so background images work as expected. */\n",
              "                background-size: auto;\n",
              "            }\n",
              "            .progress-bar-interrupted, .progress-bar-interrupted::-webkit-progress-bar {\n",
              "                background: #F44336;\n",
              "            }\n",
              "        </style>\n",
              "      <progress value='28' class='' max='28', style='width:300px; height:20px; vertical-align: middle;'></progress>\n",
              "      100.00% [28/28 00:03<00:00]\n",
              "    </div>\n",
              "    "
            ],
            "text/plain": [
              "<IPython.core.display.HTML object>"
            ]
          },
          "metadata": {
            "tags": []
          }
        },
        {
          "output_type": "stream",
          "text": [
            "01/17/2020 13:36:05 - INFO - __main__ -   eval_loss after step 150: 0.6521050057240895: \n",
            "01/17/2020 13:36:05 - INFO - __main__ -   eval_accuracy_thresh after step 150: 0.6243587136268616: \n",
            "01/17/2020 13:36:05 - INFO - __main__ -   eval_roc_auc after step 150: 0.60626730160144: \n",
            "01/17/2020 13:36:05 - INFO - __main__ -   eval_fbeta after step 150: 0.5624696612358093: \n",
            "01/17/2020 13:36:05 - INFO - __main__ -   lr after step 150: 1.8e-05\n",
            "01/17/2020 13:36:05 - INFO - __main__ -   train_loss after step 150: 0.6679023969173431\n",
            "01/17/2020 13:36:19 - INFO - __main__ -   Running evaluation\n",
            "01/17/2020 13:36:19 - INFO - __main__ -     Num examples = 886\n",
            "01/17/2020 13:36:19 - INFO - __main__ -     Batch size = 32\n"
          ],
          "name": "stderr"
        },
        {
          "output_type": "display_data",
          "data": {
            "text/html": [
              "\n",
              "    <div>\n",
              "        <style>\n",
              "            /* Turns off some styling */\n",
              "            progress {\n",
              "                /* gets rid of default border in Firefox and Opera. */\n",
              "                border: none;\n",
              "                /* Needs to be in here for Safari polyfill so background images work as expected. */\n",
              "                background-size: auto;\n",
              "            }\n",
              "            .progress-bar-interrupted, .progress-bar-interrupted::-webkit-progress-bar {\n",
              "                background: #F44336;\n",
              "            }\n",
              "        </style>\n",
              "      <progress value='28' class='' max='28', style='width:300px; height:20px; vertical-align: middle;'></progress>\n",
              "      100.00% [28/28 00:03<00:00]\n",
              "    </div>\n",
              "    "
            ],
            "text/plain": [
              "<IPython.core.display.HTML object>"
            ]
          },
          "metadata": {
            "tags": []
          }
        },
        {
          "output_type": "stream",
          "text": [
            "01/17/2020 13:36:23 - INFO - __main__ -   eval_loss after step 200: 0.6347269373280662: \n",
            "01/17/2020 13:36:23 - INFO - __main__ -   eval_accuracy_thresh after step 200: 0.6885901689529419: \n",
            "01/17/2020 13:36:23 - INFO - __main__ -   eval_roc_auc after step 200: 0.6163472622632226: \n",
            "01/17/2020 13:36:23 - INFO - __main__ -   eval_fbeta after step 200: 0.5624498128890991: \n",
            "01/17/2020 13:36:23 - INFO - __main__ -   lr after step 200: 2.4e-05\n",
            "01/17/2020 13:36:23 - INFO - __main__ -   train_loss after step 200: 0.6522902584075928\n",
            "01/17/2020 13:36:37 - INFO - __main__ -   Running evaluation\n",
            "01/17/2020 13:36:37 - INFO - __main__ -     Num examples = 886\n",
            "01/17/2020 13:36:37 - INFO - __main__ -     Batch size = 32\n"
          ],
          "name": "stderr"
        },
        {
          "output_type": "display_data",
          "data": {
            "text/html": [
              "\n",
              "    <div>\n",
              "        <style>\n",
              "            /* Turns off some styling */\n",
              "            progress {\n",
              "                /* gets rid of default border in Firefox and Opera. */\n",
              "                border: none;\n",
              "                /* Needs to be in here for Safari polyfill so background images work as expected. */\n",
              "                background-size: auto;\n",
              "            }\n",
              "            .progress-bar-interrupted, .progress-bar-interrupted::-webkit-progress-bar {\n",
              "                background: #F44336;\n",
              "            }\n",
              "        </style>\n",
              "      <progress value='28' class='' max='28', style='width:300px; height:20px; vertical-align: middle;'></progress>\n",
              "      100.00% [28/28 00:03<00:00]\n",
              "    </div>\n",
              "    "
            ],
            "text/plain": [
              "<IPython.core.display.HTML object>"
            ]
          },
          "metadata": {
            "tags": []
          }
        },
        {
          "output_type": "stream",
          "text": [
            "01/17/2020 13:36:41 - INFO - __main__ -   eval_loss after step 250: 0.6137806730610984: \n",
            "01/17/2020 13:36:41 - INFO - __main__ -   eval_accuracy_thresh after step 250: 0.731787383556366: \n",
            "01/17/2020 13:36:41 - INFO - __main__ -   eval_roc_auc after step 250: 0.6468831265097672: \n",
            "01/17/2020 13:36:41 - INFO - __main__ -   eval_fbeta after step 250: 0.5635292530059814: \n",
            "01/17/2020 13:36:41 - INFO - __main__ -   lr after step 250: 3e-05\n",
            "01/17/2020 13:36:41 - INFO - __main__ -   train_loss after step 250: 0.6339886498451233\n",
            "01/17/2020 13:36:55 - INFO - __main__ -   Running evaluation\n",
            "01/17/2020 13:36:55 - INFO - __main__ -     Num examples = 886\n",
            "01/17/2020 13:36:55 - INFO - __main__ -     Batch size = 32\n"
          ],
          "name": "stderr"
        },
        {
          "output_type": "display_data",
          "data": {
            "text/html": [
              "\n",
              "    <div>\n",
              "        <style>\n",
              "            /* Turns off some styling */\n",
              "            progress {\n",
              "                /* gets rid of default border in Firefox and Opera. */\n",
              "                border: none;\n",
              "                /* Needs to be in here for Safari polyfill so background images work as expected. */\n",
              "                background-size: auto;\n",
              "            }\n",
              "            .progress-bar-interrupted, .progress-bar-interrupted::-webkit-progress-bar {\n",
              "                background: #F44336;\n",
              "            }\n",
              "        </style>\n",
              "      <progress value='28' class='' max='28', style='width:300px; height:20px; vertical-align: middle;'></progress>\n",
              "      100.00% [28/28 00:03<00:00]\n",
              "    </div>\n",
              "    "
            ],
            "text/plain": [
              "<IPython.core.display.HTML object>"
            ]
          },
          "metadata": {
            "tags": []
          }
        },
        {
          "output_type": "stream",
          "text": [
            "01/17/2020 13:36:59 - INFO - __main__ -   eval_loss after step 300: 0.5934355727263859: \n",
            "01/17/2020 13:36:59 - INFO - __main__ -   eval_accuracy_thresh after step 300: 0.7419453859329224: \n",
            "01/17/2020 13:36:59 - INFO - __main__ -   eval_roc_auc after step 300: 0.6668398288470297: \n",
            "01/17/2020 13:36:59 - INFO - __main__ -   eval_fbeta after step 300: 0.5670610666275024: \n",
            "01/17/2020 13:36:59 - INFO - __main__ -   lr after step 300: 3.6e-05\n",
            "01/17/2020 13:36:59 - INFO - __main__ -   train_loss after step 300: 0.6128998029232026\n",
            "01/17/2020 13:37:13 - INFO - __main__ -   Running evaluation\n",
            "01/17/2020 13:37:13 - INFO - __main__ -     Num examples = 886\n",
            "01/17/2020 13:37:13 - INFO - __main__ -     Batch size = 32\n"
          ],
          "name": "stderr"
        },
        {
          "output_type": "display_data",
          "data": {
            "text/html": [
              "\n",
              "    <div>\n",
              "        <style>\n",
              "            /* Turns off some styling */\n",
              "            progress {\n",
              "                /* gets rid of default border in Firefox and Opera. */\n",
              "                border: none;\n",
              "                /* Needs to be in here for Safari polyfill so background images work as expected. */\n",
              "                background-size: auto;\n",
              "            }\n",
              "            .progress-bar-interrupted, .progress-bar-interrupted::-webkit-progress-bar {\n",
              "                background: #F44336;\n",
              "            }\n",
              "        </style>\n",
              "      <progress value='28' class='' max='28', style='width:300px; height:20px; vertical-align: middle;'></progress>\n",
              "      100.00% [28/28 00:03<00:00]\n",
              "    </div>\n",
              "    "
            ],
            "text/plain": [
              "<IPython.core.display.HTML object>"
            ]
          },
          "metadata": {
            "tags": []
          }
        },
        {
          "output_type": "stream",
          "text": [
            "01/17/2020 13:37:17 - INFO - __main__ -   eval_loss after step 350: 0.5718735733202526: \n",
            "01/17/2020 13:37:17 - INFO - __main__ -   eval_accuracy_thresh after step 350: 0.744202733039856: \n",
            "01/17/2020 13:37:17 - INFO - __main__ -   eval_roc_auc after step 350: 0.6862081051492007: \n",
            "01/17/2020 13:37:17 - INFO - __main__ -   eval_fbeta after step 350: 0.5767613053321838: \n",
            "01/17/2020 13:37:17 - INFO - __main__ -   lr after step 350: 4.2e-05\n",
            "01/17/2020 13:37:17 - INFO - __main__ -   train_loss after step 350: 0.5940491342544556\n",
            "01/17/2020 13:37:31 - INFO - __main__ -   Running evaluation\n",
            "01/17/2020 13:37:31 - INFO - __main__ -     Num examples = 886\n",
            "01/17/2020 13:37:31 - INFO - __main__ -     Batch size = 32\n"
          ],
          "name": "stderr"
        },
        {
          "output_type": "display_data",
          "data": {
            "text/html": [
              "\n",
              "    <div>\n",
              "        <style>\n",
              "            /* Turns off some styling */\n",
              "            progress {\n",
              "                /* gets rid of default border in Firefox and Opera. */\n",
              "                border: none;\n",
              "                /* Needs to be in here for Safari polyfill so background images work as expected. */\n",
              "                background-size: auto;\n",
              "            }\n",
              "            .progress-bar-interrupted, .progress-bar-interrupted::-webkit-progress-bar {\n",
              "                background: #F44336;\n",
              "            }\n",
              "        </style>\n",
              "      <progress value='28' class='' max='28', style='width:300px; height:20px; vertical-align: middle;'></progress>\n",
              "      100.00% [28/28 00:03<00:00]\n",
              "    </div>\n",
              "    "
            ],
            "text/plain": [
              "<IPython.core.display.HTML object>"
            ]
          },
          "metadata": {
            "tags": []
          }
        },
        {
          "output_type": "stream",
          "text": [
            "01/17/2020 13:37:35 - INFO - __main__ -   eval_loss after step 400: 0.550178342631885: \n",
            "01/17/2020 13:37:35 - INFO - __main__ -   eval_accuracy_thresh after step 400: 0.7508721351623535: \n",
            "01/17/2020 13:37:35 - INFO - __main__ -   eval_roc_auc after step 400: 0.7022886691840766: \n",
            "01/17/2020 13:37:35 - INFO - __main__ -   eval_fbeta after step 400: 0.5903981924057007: \n",
            "01/17/2020 13:37:35 - INFO - __main__ -   lr after step 400: 4.8e-05\n",
            "01/17/2020 13:37:35 - INFO - __main__ -   train_loss after step 400: 0.5706548309326172\n",
            "01/17/2020 13:37:43 - INFO - __main__ -   Running evaluation\n",
            "01/17/2020 13:37:43 - INFO - __main__ -     Num examples = 886\n",
            "01/17/2020 13:37:43 - INFO - __main__ -     Batch size = 32\n"
          ],
          "name": "stderr"
        },
        {
          "output_type": "display_data",
          "data": {
            "text/html": [
              "\n",
              "    <div>\n",
              "        <style>\n",
              "            /* Turns off some styling */\n",
              "            progress {\n",
              "                /* gets rid of default border in Firefox and Opera. */\n",
              "                border: none;\n",
              "                /* Needs to be in here for Safari polyfill so background images work as expected. */\n",
              "                background-size: auto;\n",
              "            }\n",
              "            .progress-bar-interrupted, .progress-bar-interrupted::-webkit-progress-bar {\n",
              "                background: #F44336;\n",
              "            }\n",
              "        </style>\n",
              "      <progress value='28' class='' max='28', style='width:300px; height:20px; vertical-align: middle;'></progress>\n",
              "      100.00% [28/28 00:03<00:00]\n",
              "    </div>\n",
              "    "
            ],
            "text/plain": [
              "<IPython.core.display.HTML object>"
            ]
          },
          "metadata": {
            "tags": []
          }
        },
        {
          "output_type": "stream",
          "text": [
            "01/17/2020 13:37:47 - INFO - __main__ -   eval_loss after epoch 1: 0.5382485176835742: \n",
            "01/17/2020 13:37:47 - INFO - __main__ -   eval_accuracy_thresh after epoch 1: 0.759593665599823: \n",
            "01/17/2020 13:37:47 - INFO - __main__ -   eval_roc_auc after epoch 1: 0.7117186158291788: \n",
            "01/17/2020 13:37:47 - INFO - __main__ -   eval_fbeta after epoch 1: 0.6001516580581665: \n",
            "01/17/2020 13:37:47 - INFO - __main__ -   lr after epoch 1: 5.136e-05\n",
            "01/17/2020 13:37:47 - INFO - __main__ -   train_loss after epoch 1: 0.6311800435324696\n",
            "01/17/2020 13:37:47 - INFO - __main__ -   \n",
            "\n",
            "01/17/2020 13:37:53 - INFO - __main__ -   Running evaluation\n",
            "01/17/2020 13:37:53 - INFO - __main__ -     Num examples = 886\n",
            "01/17/2020 13:37:53 - INFO - __main__ -     Batch size = 32\n"
          ],
          "name": "stderr"
        },
        {
          "output_type": "display_data",
          "data": {
            "text/html": [
              "\n",
              "    <div>\n",
              "        <style>\n",
              "            /* Turns off some styling */\n",
              "            progress {\n",
              "                /* gets rid of default border in Firefox and Opera. */\n",
              "                border: none;\n",
              "                /* Needs to be in here for Safari polyfill so background images work as expected. */\n",
              "                background-size: auto;\n",
              "            }\n",
              "            .progress-bar-interrupted, .progress-bar-interrupted::-webkit-progress-bar {\n",
              "                background: #F44336;\n",
              "            }\n",
              "        </style>\n",
              "      <progress value='28' class='' max='28', style='width:300px; height:20px; vertical-align: middle;'></progress>\n",
              "      100.00% [28/28 00:03<00:00]\n",
              "    </div>\n",
              "    "
            ],
            "text/plain": [
              "<IPython.core.display.HTML object>"
            ]
          },
          "metadata": {
            "tags": []
          }
        },
        {
          "output_type": "stream",
          "text": [
            "01/17/2020 13:37:57 - INFO - __main__ -   eval_loss after step 450: 0.530229987842696: \n",
            "01/17/2020 13:37:57 - INFO - __main__ -   eval_accuracy_thresh after step 450: 0.7697516679763794: \n",
            "01/17/2020 13:37:57 - INFO - __main__ -   eval_roc_auc after step 450: 0.7172646761048698: \n",
            "01/17/2020 13:37:57 - INFO - __main__ -   eval_fbeta after step 450: 0.6044908165931702: \n",
            "01/17/2020 13:37:57 - INFO - __main__ -   lr after step 450: 5.4000000000000005e-05\n",
            "01/17/2020 13:37:57 - INFO - __main__ -   train_loss after step 450: 0.546962879896164\n",
            "01/17/2020 13:38:11 - INFO - __main__ -   Running evaluation\n",
            "01/17/2020 13:38:11 - INFO - __main__ -     Num examples = 886\n",
            "01/17/2020 13:38:11 - INFO - __main__ -     Batch size = 32\n"
          ],
          "name": "stderr"
        },
        {
          "output_type": "display_data",
          "data": {
            "text/html": [
              "\n",
              "    <div>\n",
              "        <style>\n",
              "            /* Turns off some styling */\n",
              "            progress {\n",
              "                /* gets rid of default border in Firefox and Opera. */\n",
              "                border: none;\n",
              "                /* Needs to be in here for Safari polyfill so background images work as expected. */\n",
              "                background-size: auto;\n",
              "            }\n",
              "            .progress-bar-interrupted, .progress-bar-interrupted::-webkit-progress-bar {\n",
              "                background: #F44336;\n",
              "            }\n",
              "        </style>\n",
              "      <progress value='28' class='' max='28', style='width:300px; height:20px; vertical-align: middle;'></progress>\n",
              "      100.00% [28/28 00:03<00:00]\n",
              "    </div>\n",
              "    "
            ],
            "text/plain": [
              "<IPython.core.display.HTML object>"
            ]
          },
          "metadata": {
            "tags": []
          }
        },
        {
          "output_type": "stream",
          "text": [
            "01/17/2020 13:38:15 - INFO - __main__ -   eval_loss after step 500: 0.5128204418080193: \n",
            "01/17/2020 13:38:15 - INFO - __main__ -   eval_accuracy_thresh after step 500: 0.7761132717132568: \n",
            "01/17/2020 13:38:15 - INFO - __main__ -   eval_roc_auc after step 500: 0.7251790520331507: \n",
            "01/17/2020 13:38:15 - INFO - __main__ -   eval_fbeta after step 500: 0.6026505827903748: \n",
            "01/17/2020 13:38:15 - INFO - __main__ -   lr after step 500: 6e-05\n",
            "01/17/2020 13:38:15 - INFO - __main__ -   train_loss after step 500: 0.5248012399673462\n",
            "01/17/2020 13:38:29 - INFO - __main__ -   Running evaluation\n",
            "01/17/2020 13:38:29 - INFO - __main__ -     Num examples = 886\n",
            "01/17/2020 13:38:29 - INFO - __main__ -     Batch size = 32\n"
          ],
          "name": "stderr"
        },
        {
          "output_type": "display_data",
          "data": {
            "text/html": [
              "\n",
              "    <div>\n",
              "        <style>\n",
              "            /* Turns off some styling */\n",
              "            progress {\n",
              "                /* gets rid of default border in Firefox and Opera. */\n",
              "                border: none;\n",
              "                /* Needs to be in here for Safari polyfill so background images work as expected. */\n",
              "                background-size: auto;\n",
              "            }\n",
              "            .progress-bar-interrupted, .progress-bar-interrupted::-webkit-progress-bar {\n",
              "                background: #F44336;\n",
              "            }\n",
              "        </style>\n",
              "      <progress value='28' class='' max='28', style='width:300px; height:20px; vertical-align: middle;'></progress>\n",
              "      100.00% [28/28 00:03<00:00]\n",
              "    </div>\n",
              "    "
            ],
            "text/plain": [
              "<IPython.core.display.HTML object>"
            ]
          },
          "metadata": {
            "tags": []
          }
        },
        {
          "output_type": "stream",
          "text": [
            "01/17/2020 13:38:33 - INFO - __main__ -   eval_loss after step 550: 0.5000558591314724: \n",
            "01/17/2020 13:38:33 - INFO - __main__ -   eval_accuracy_thresh after step 550: 0.7781654000282288: \n",
            "01/17/2020 13:38:33 - INFO - __main__ -   eval_roc_auc after step 550: 0.7281821906103799: \n",
            "01/17/2020 13:38:33 - INFO - __main__ -   eval_fbeta after step 550: 0.59549880027771: \n",
            "01/17/2020 13:38:33 - INFO - __main__ -   lr after step 550: 5.991349899987273e-05\n",
            "01/17/2020 13:38:33 - INFO - __main__ -   train_loss after step 550: 0.5115368372201919\n",
            "01/17/2020 13:38:47 - INFO - __main__ -   Running evaluation\n",
            "01/17/2020 13:38:47 - INFO - __main__ -     Num examples = 886\n",
            "01/17/2020 13:38:47 - INFO - __main__ -     Batch size = 32\n"
          ],
          "name": "stderr"
        },
        {
          "output_type": "display_data",
          "data": {
            "text/html": [
              "\n",
              "    <div>\n",
              "        <style>\n",
              "            /* Turns off some styling */\n",
              "            progress {\n",
              "                /* gets rid of default border in Firefox and Opera. */\n",
              "                border: none;\n",
              "                /* Needs to be in here for Safari polyfill so background images work as expected. */\n",
              "                background-size: auto;\n",
              "            }\n",
              "            .progress-bar-interrupted, .progress-bar-interrupted::-webkit-progress-bar {\n",
              "                background: #F44336;\n",
              "            }\n",
              "        </style>\n",
              "      <progress value='28' class='' max='28', style='width:300px; height:20px; vertical-align: middle;'></progress>\n",
              "      100.00% [28/28 00:03<00:00]\n",
              "    </div>\n",
              "    "
            ],
            "text/plain": [
              "<IPython.core.display.HTML object>"
            ]
          },
          "metadata": {
            "tags": []
          }
        },
        {
          "output_type": "stream",
          "text": [
            "01/17/2020 13:38:51 - INFO - __main__ -   eval_loss after step 600: 0.4909513315984181: \n",
            "01/17/2020 13:38:51 - INFO - __main__ -   eval_accuracy_thresh after step 600: 0.7782679796218872: \n",
            "01/17/2020 13:38:51 - INFO - __main__ -   eval_roc_auc after step 600: 0.7337764475234707: \n",
            "01/17/2020 13:38:51 - INFO - __main__ -   eval_fbeta after step 600: 0.5960352420806885: \n",
            "01/17/2020 13:38:51 - INFO - __main__ -   lr after step 600: 5.9654494827692434e-05\n",
            "01/17/2020 13:38:51 - INFO - __main__ -   train_loss after step 600: 0.4987230098247528\n",
            "01/17/2020 13:39:05 - INFO - __main__ -   Running evaluation\n",
            "01/17/2020 13:39:05 - INFO - __main__ -     Num examples = 886\n",
            "01/17/2020 13:39:05 - INFO - __main__ -     Batch size = 32\n"
          ],
          "name": "stderr"
        },
        {
          "output_type": "display_data",
          "data": {
            "text/html": [
              "\n",
              "    <div>\n",
              "        <style>\n",
              "            /* Turns off some styling */\n",
              "            progress {\n",
              "                /* gets rid of default border in Firefox and Opera. */\n",
              "                border: none;\n",
              "                /* Needs to be in here for Safari polyfill so background images work as expected. */\n",
              "                background-size: auto;\n",
              "            }\n",
              "            .progress-bar-interrupted, .progress-bar-interrupted::-webkit-progress-bar {\n",
              "                background: #F44336;\n",
              "            }\n",
              "        </style>\n",
              "      <progress value='28' class='' max='28', style='width:300px; height:20px; vertical-align: middle;'></progress>\n",
              "      100.00% [28/28 00:03<00:00]\n",
              "    </div>\n",
              "    "
            ],
            "text/plain": [
              "<IPython.core.display.HTML object>"
            ]
          },
          "metadata": {
            "tags": []
          }
        },
        {
          "output_type": "stream",
          "text": [
            "01/17/2020 13:39:09 - INFO - __main__ -   eval_loss after step 650: 0.48416730761528015: \n",
            "01/17/2020 13:39:09 - INFO - __main__ -   eval_accuracy_thresh after step 650: 0.7782679796218872: \n",
            "01/17/2020 13:39:09 - INFO - __main__ -   eval_roc_auc after step 650: 0.7385450472311794: \n",
            "01/17/2020 13:39:09 - INFO - __main__ -   eval_fbeta after step 650: 0.5987246036529541: \n",
            "01/17/2020 13:39:09 - INFO - __main__ -   lr after step 650: 5.922448109145451e-05\n",
            "01/17/2020 13:39:09 - INFO - __main__ -   train_loss after step 650: 0.48830977380275725\n",
            "01/17/2020 13:39:23 - INFO - __main__ -   Running evaluation\n",
            "01/17/2020 13:39:23 - INFO - __main__ -     Num examples = 886\n",
            "01/17/2020 13:39:23 - INFO - __main__ -     Batch size = 32\n"
          ],
          "name": "stderr"
        },
        {
          "output_type": "display_data",
          "data": {
            "text/html": [
              "\n",
              "    <div>\n",
              "        <style>\n",
              "            /* Turns off some styling */\n",
              "            progress {\n",
              "                /* gets rid of default border in Firefox and Opera. */\n",
              "                border: none;\n",
              "                /* Needs to be in here for Safari polyfill so background images work as expected. */\n",
              "                background-size: auto;\n",
              "            }\n",
              "            .progress-bar-interrupted, .progress-bar-interrupted::-webkit-progress-bar {\n",
              "                background: #F44336;\n",
              "            }\n",
              "        </style>\n",
              "      <progress value='28' class='' max='28', style='width:300px; height:20px; vertical-align: middle;'></progress>\n",
              "      100.00% [28/28 00:03<00:00]\n",
              "    </div>\n",
              "    "
            ],
            "text/plain": [
              "<IPython.core.display.HTML object>"
            ]
          },
          "metadata": {
            "tags": []
          }
        },
        {
          "output_type": "stream",
          "text": [
            "01/17/2020 13:39:26 - INFO - __main__ -   eval_loss after step 700: 0.47798676575933186: \n",
            "01/17/2020 13:39:26 - INFO - __main__ -   eval_accuracy_thresh after step 700: 0.7782679796218872: \n",
            "01/17/2020 13:39:26 - INFO - __main__ -   eval_roc_auc after step 700: 0.7489817545223241: \n",
            "01/17/2020 13:39:26 - INFO - __main__ -   eval_fbeta after step 700: 0.6004208922386169: \n",
            "01/17/2020 13:39:26 - INFO - __main__ -   lr after step 700: 5.862593756570914e-05\n",
            "01/17/2020 13:39:26 - INFO - __main__ -   train_loss after step 700: 0.48319222331047057\n",
            "01/17/2020 13:39:41 - INFO - __main__ -   Running evaluation\n",
            "01/17/2020 13:39:41 - INFO - __main__ -     Num examples = 886\n",
            "01/17/2020 13:39:41 - INFO - __main__ -     Batch size = 32\n"
          ],
          "name": "stderr"
        },
        {
          "output_type": "display_data",
          "data": {
            "text/html": [
              "\n",
              "    <div>\n",
              "        <style>\n",
              "            /* Turns off some styling */\n",
              "            progress {\n",
              "                /* gets rid of default border in Firefox and Opera. */\n",
              "                border: none;\n",
              "                /* Needs to be in here for Safari polyfill so background images work as expected. */\n",
              "                background-size: auto;\n",
              "            }\n",
              "            .progress-bar-interrupted, .progress-bar-interrupted::-webkit-progress-bar {\n",
              "                background: #F44336;\n",
              "            }\n",
              "        </style>\n",
              "      <progress value='28' class='' max='28', style='width:300px; height:20px; vertical-align: middle;'></progress>\n",
              "      100.00% [28/28 00:03<00:00]\n",
              "    </div>\n",
              "    "
            ],
            "text/plain": [
              "<IPython.core.display.HTML object>"
            ]
          },
          "metadata": {
            "tags": []
          }
        },
        {
          "output_type": "stream",
          "text": [
            "01/17/2020 13:39:44 - INFO - __main__ -   eval_loss after step 750: 0.47120201161929537: \n",
            "01/17/2020 13:39:44 - INFO - __main__ -   eval_accuracy_thresh after step 750: 0.7782679796218872: \n",
            "01/17/2020 13:39:44 - INFO - __main__ -   eval_roc_auc after step 750: 0.7649360921739337: \n",
            "01/17/2020 13:39:44 - INFO - __main__ -   eval_fbeta after step 750: 0.6044541597366333: \n",
            "01/17/2020 13:39:44 - INFO - __main__ -   lr after step 750: 5.78623158913628e-05\n",
            "01/17/2020 13:39:44 - INFO - __main__ -   train_loss after step 750: 0.48055466771125793\n",
            "01/17/2020 13:39:59 - INFO - __main__ -   Running evaluation\n",
            "01/17/2020 13:39:59 - INFO - __main__ -     Num examples = 886\n",
            "01/17/2020 13:39:59 - INFO - __main__ -     Batch size = 32\n"
          ],
          "name": "stderr"
        },
        {
          "output_type": "display_data",
          "data": {
            "text/html": [
              "\n",
              "    <div>\n",
              "        <style>\n",
              "            /* Turns off some styling */\n",
              "            progress {\n",
              "                /* gets rid of default border in Firefox and Opera. */\n",
              "                border: none;\n",
              "                /* Needs to be in here for Safari polyfill so background images work as expected. */\n",
              "                background-size: auto;\n",
              "            }\n",
              "            .progress-bar-interrupted, .progress-bar-interrupted::-webkit-progress-bar {\n",
              "                background: #F44336;\n",
              "            }\n",
              "        </style>\n",
              "      <progress value='28' class='' max='28', style='width:300px; height:20px; vertical-align: middle;'></progress>\n",
              "      100.00% [28/28 00:03<00:00]\n",
              "    </div>\n",
              "    "
            ],
            "text/plain": [
              "<IPython.core.display.HTML object>"
            ]
          },
          "metadata": {
            "tags": []
          }
        },
        {
          "output_type": "stream",
          "text": [
            "01/17/2020 13:40:02 - INFO - __main__ -   eval_loss after step 800: 0.4612103636775698: \n",
            "01/17/2020 13:40:02 - INFO - __main__ -   eval_accuracy_thresh after step 800: 0.7810383439064026: \n",
            "01/17/2020 13:40:02 - INFO - __main__ -   eval_roc_auc after step 800: 0.7779425343561188: \n",
            "01/17/2020 13:40:02 - INFO - __main__ -   eval_fbeta after step 800: 0.6027471423149109: \n",
            "01/17/2020 13:40:02 - INFO - __main__ -   lr after step 800: 5.6938019670985445e-05\n",
            "01/17/2020 13:40:02 - INFO - __main__ -   train_loss after step 800: 0.4730887228250504\n",
            "01/17/2020 13:40:17 - INFO - __main__ -   Running evaluation\n",
            "01/17/2020 13:40:17 - INFO - __main__ -     Num examples = 886\n",
            "01/17/2020 13:40:17 - INFO - __main__ -     Batch size = 32\n"
          ],
          "name": "stderr"
        },
        {
          "output_type": "display_data",
          "data": {
            "text/html": [
              "\n",
              "    <div>\n",
              "        <style>\n",
              "            /* Turns off some styling */\n",
              "            progress {\n",
              "                /* gets rid of default border in Firefox and Opera. */\n",
              "                border: none;\n",
              "                /* Needs to be in here for Safari polyfill so background images work as expected. */\n",
              "                background-size: auto;\n",
              "            }\n",
              "            .progress-bar-interrupted, .progress-bar-interrupted::-webkit-progress-bar {\n",
              "                background: #F44336;\n",
              "            }\n",
              "        </style>\n",
              "      <progress value='28' class='' max='28', style='width:300px; height:20px; vertical-align: middle;'></progress>\n",
              "      100.00% [28/28 00:03<00:00]\n",
              "    </div>\n",
              "    "
            ],
            "text/plain": [
              "<IPython.core.display.HTML object>"
            ]
          },
          "metadata": {
            "tags": []
          }
        },
        {
          "output_type": "stream",
          "text": [
            "01/17/2020 13:40:20 - INFO - __main__ -   eval_loss after step 850: 0.4518300997359412: \n",
            "01/17/2020 13:40:20 - INFO - __main__ -   eval_accuracy_thresh after step 850: 0.7887338399887085: \n",
            "01/17/2020 13:40:20 - INFO - __main__ -   eval_roc_auc after step 850: 0.7901472346264165: \n",
            "01/17/2020 13:40:20 - INFO - __main__ -   eval_fbeta after step 850: 0.6006841063499451: \n",
            "01/17/2020 13:40:20 - INFO - __main__ -   lr after step 850: 5.585837907440887e-05\n",
            "01/17/2020 13:40:20 - INFO - __main__ -   train_loss after step 850: 0.4618621838092804\n",
            "01/17/2020 13:40:22 - INFO - __main__ -   Running evaluation\n",
            "01/17/2020 13:40:22 - INFO - __main__ -     Num examples = 886\n",
            "01/17/2020 13:40:22 - INFO - __main__ -     Batch size = 32\n"
          ],
          "name": "stderr"
        },
        {
          "output_type": "display_data",
          "data": {
            "text/html": [
              "\n",
              "    <div>\n",
              "        <style>\n",
              "            /* Turns off some styling */\n",
              "            progress {\n",
              "                /* gets rid of default border in Firefox and Opera. */\n",
              "                border: none;\n",
              "                /* Needs to be in here for Safari polyfill so background images work as expected. */\n",
              "                background-size: auto;\n",
              "            }\n",
              "            .progress-bar-interrupted, .progress-bar-interrupted::-webkit-progress-bar {\n",
              "                background: #F44336;\n",
              "            }\n",
              "        </style>\n",
              "      <progress value='28' class='' max='28', style='width:300px; height:20px; vertical-align: middle;'></progress>\n",
              "      100.00% [28/28 00:03<00:00]\n",
              "    </div>\n",
              "    "
            ],
            "text/plain": [
              "<IPython.core.display.HTML object>"
            ]
          },
          "metadata": {
            "tags": []
          }
        },
        {
          "output_type": "stream",
          "text": [
            "01/17/2020 13:40:26 - INFO - __main__ -   eval_loss after epoch 2: 0.4507832718747003: \n",
            "01/17/2020 13:40:26 - INFO - __main__ -   eval_accuracy_thresh after epoch 2: 0.7944797873497009: \n",
            "01/17/2020 13:40:26 - INFO - __main__ -   eval_roc_auc after epoch 2: 0.7902630895813818: \n",
            "01/17/2020 13:40:26 - INFO - __main__ -   eval_fbeta after epoch 2: 0.606974184513092: \n",
            "01/17/2020 13:40:26 - INFO - __main__ -   lr after epoch 2: 5.5718669585690975e-05\n",
            "01/17/2020 13:40:26 - INFO - __main__ -   train_loss after epoch 2: 0.49216221530582305\n",
            "01/17/2020 13:40:26 - INFO - __main__ -   \n",
            "\n",
            "01/17/2020 13:40:38 - INFO - __main__ -   Running evaluation\n",
            "01/17/2020 13:40:38 - INFO - __main__ -     Num examples = 886\n",
            "01/17/2020 13:40:38 - INFO - __main__ -     Batch size = 32\n"
          ],
          "name": "stderr"
        },
        {
          "output_type": "display_data",
          "data": {
            "text/html": [
              "\n",
              "    <div>\n",
              "        <style>\n",
              "            /* Turns off some styling */\n",
              "            progress {\n",
              "                /* gets rid of default border in Firefox and Opera. */\n",
              "                border: none;\n",
              "                /* Needs to be in here for Safari polyfill so background images work as expected. */\n",
              "                background-size: auto;\n",
              "            }\n",
              "            .progress-bar-interrupted, .progress-bar-interrupted::-webkit-progress-bar {\n",
              "                background: #F44336;\n",
              "            }\n",
              "        </style>\n",
              "      <progress value='28' class='' max='28', style='width:300px; height:20px; vertical-align: middle;'></progress>\n",
              "      100.00% [28/28 00:03<00:00]\n",
              "    </div>\n",
              "    "
            ],
            "text/plain": [
              "<IPython.core.display.HTML object>"
            ]
          },
          "metadata": {
            "tags": []
          }
        },
        {
          "output_type": "stream",
          "text": [
            "01/17/2020 13:40:42 - INFO - __main__ -   eval_loss after step 900: 0.4439784309693745: \n",
            "01/17/2020 13:40:42 - INFO - __main__ -   eval_accuracy_thresh after step 900: 0.8057664632797241: \n",
            "01/17/2020 13:40:42 - INFO - __main__ -   eval_roc_auc after step 900: 0.7960062069947963: \n",
            "01/17/2020 13:40:42 - INFO - __main__ -   eval_fbeta after step 900: 0.6035965085029602: \n",
            "01/17/2020 13:40:42 - INFO - __main__ -   lr after step 900: 5.462962010105853e-05\n",
            "01/17/2020 13:40:42 - INFO - __main__ -   train_loss after step 900: 0.45337244391441345\n",
            "01/17/2020 13:40:56 - INFO - __main__ -   Running evaluation\n",
            "01/17/2020 13:40:56 - INFO - __main__ -     Num examples = 886\n",
            "01/17/2020 13:40:56 - INFO - __main__ -     Batch size = 32\n"
          ],
          "name": "stderr"
        },
        {
          "output_type": "display_data",
          "data": {
            "text/html": [
              "\n",
              "    <div>\n",
              "        <style>\n",
              "            /* Turns off some styling */\n",
              "            progress {\n",
              "                /* gets rid of default border in Firefox and Opera. */\n",
              "                border: none;\n",
              "                /* Needs to be in here for Safari polyfill so background images work as expected. */\n",
              "                background-size: auto;\n",
              "            }\n",
              "            .progress-bar-interrupted, .progress-bar-interrupted::-webkit-progress-bar {\n",
              "                background: #F44336;\n",
              "            }\n",
              "        </style>\n",
              "      <progress value='28' class='' max='28', style='width:300px; height:20px; vertical-align: middle;'></progress>\n",
              "      100.00% [28/28 00:03<00:00]\n",
              "    </div>\n",
              "    "
            ],
            "text/plain": [
              "<IPython.core.display.HTML object>"
            ]
          },
          "metadata": {
            "tags": []
          }
        },
        {
          "output_type": "stream",
          "text": [
            "01/17/2020 13:41:00 - INFO - __main__ -   eval_loss after step 950: 0.43465774825641085: \n",
            "01/17/2020 13:41:00 - INFO - __main__ -   eval_accuracy_thresh after step 950: 0.8209521770477295: \n",
            "01/17/2020 13:41:00 - INFO - __main__ -   eval_roc_auc after step 950: 0.8084544528049681: \n",
            "01/17/2020 13:41:00 - INFO - __main__ -   eval_fbeta after step 950: 0.5983881950378418: \n",
            "01/17/2020 13:41:00 - INFO - __main__ -   lr after step 950: 5.325882867627508e-05\n",
            "01/17/2020 13:41:00 - INFO - __main__ -   train_loss after step 950: 0.4398703098297119\n",
            "01/17/2020 13:41:14 - INFO - __main__ -   Running evaluation\n",
            "01/17/2020 13:41:14 - INFO - __main__ -     Num examples = 886\n",
            "01/17/2020 13:41:14 - INFO - __main__ -     Batch size = 32\n"
          ],
          "name": "stderr"
        },
        {
          "output_type": "display_data",
          "data": {
            "text/html": [
              "\n",
              "    <div>\n",
              "        <style>\n",
              "            /* Turns off some styling */\n",
              "            progress {\n",
              "                /* gets rid of default border in Firefox and Opera. */\n",
              "                border: none;\n",
              "                /* Needs to be in here for Safari polyfill so background images work as expected. */\n",
              "                background-size: auto;\n",
              "            }\n",
              "            .progress-bar-interrupted, .progress-bar-interrupted::-webkit-progress-bar {\n",
              "                background: #F44336;\n",
              "            }\n",
              "        </style>\n",
              "      <progress value='28' class='' max='28', style='width:300px; height:20px; vertical-align: middle;'></progress>\n",
              "      100.00% [28/28 00:03<00:00]\n",
              "    </div>\n",
              "    "
            ],
            "text/plain": [
              "<IPython.core.display.HTML object>"
            ]
          },
          "metadata": {
            "tags": []
          }
        },
        {
          "output_type": "stream",
          "text": [
            "01/17/2020 13:41:18 - INFO - __main__ -   eval_loss after step 1000: 0.42936515488794874: \n",
            "01/17/2020 13:41:18 - INFO - __main__ -   eval_accuracy_thresh after step 1000: 0.8295710682868958: \n",
            "01/17/2020 13:41:18 - INFO - __main__ -   eval_roc_auc after step 1000: 0.8149324774261288: \n",
            "01/17/2020 13:41:18 - INFO - __main__ -   eval_fbeta after step 1000: 0.598251461982727: \n",
            "01/17/2020 13:41:18 - INFO - __main__ -   lr after step 1000: 5.175390978867252e-05\n",
            "01/17/2020 13:41:18 - INFO - __main__ -   train_loss after step 1000: 0.4374100887775421\n",
            "01/17/2020 13:41:32 - INFO - __main__ -   Running evaluation\n",
            "01/17/2020 13:41:32 - INFO - __main__ -     Num examples = 886\n",
            "01/17/2020 13:41:32 - INFO - __main__ -     Batch size = 32\n"
          ],
          "name": "stderr"
        },
        {
          "output_type": "display_data",
          "data": {
            "text/html": [
              "\n",
              "    <div>\n",
              "        <style>\n",
              "            /* Turns off some styling */\n",
              "            progress {\n",
              "                /* gets rid of default border in Firefox and Opera. */\n",
              "                border: none;\n",
              "                /* Needs to be in here for Safari polyfill so background images work as expected. */\n",
              "                background-size: auto;\n",
              "            }\n",
              "            .progress-bar-interrupted, .progress-bar-interrupted::-webkit-progress-bar {\n",
              "                background: #F44336;\n",
              "            }\n",
              "        </style>\n",
              "      <progress value='28' class='' max='28', style='width:300px; height:20px; vertical-align: middle;'></progress>\n",
              "      100.00% [28/28 00:03<00:00]\n",
              "    </div>\n",
              "    "
            ],
            "text/plain": [
              "<IPython.core.display.HTML object>"
            ]
          },
          "metadata": {
            "tags": []
          }
        },
        {
          "output_type": "stream",
          "text": [
            "01/17/2020 13:41:35 - INFO - __main__ -   eval_loss after step 1050: 0.4202303779976709: \n",
            "01/17/2020 13:41:35 - INFO - __main__ -   eval_accuracy_thresh after step 1050: 0.8367534875869751: \n",
            "01/17/2020 13:41:35 - INFO - __main__ -   eval_roc_auc after step 1050: 0.8244978627231649: \n",
            "01/17/2020 13:41:35 - INFO - __main__ -   eval_fbeta after step 1050: 0.6088802814483643: \n",
            "01/17/2020 13:41:35 - INFO - __main__ -   lr after step 1050: 5.012354190417671e-05\n",
            "01/17/2020 13:41:35 - INFO - __main__ -   train_loss after step 1050: 0.43724722921848297\n",
            "01/17/2020 13:41:50 - INFO - __main__ -   Running evaluation\n",
            "01/17/2020 13:41:50 - INFO - __main__ -     Num examples = 886\n",
            "01/17/2020 13:41:50 - INFO - __main__ -     Batch size = 32\n"
          ],
          "name": "stderr"
        },
        {
          "output_type": "display_data",
          "data": {
            "text/html": [
              "\n",
              "    <div>\n",
              "        <style>\n",
              "            /* Turns off some styling */\n",
              "            progress {\n",
              "                /* gets rid of default border in Firefox and Opera. */\n",
              "                border: none;\n",
              "                /* Needs to be in here for Safari polyfill so background images work as expected. */\n",
              "                background-size: auto;\n",
              "            }\n",
              "            .progress-bar-interrupted, .progress-bar-interrupted::-webkit-progress-bar {\n",
              "                background: #F44336;\n",
              "            }\n",
              "        </style>\n",
              "      <progress value='28' class='' max='28', style='width:300px; height:20px; vertical-align: middle;'></progress>\n",
              "      100.00% [28/28 00:03<00:00]\n",
              "    </div>\n",
              "    "
            ],
            "text/plain": [
              "<IPython.core.display.HTML object>"
            ]
          },
          "metadata": {
            "tags": []
          }
        },
        {
          "output_type": "stream",
          "text": [
            "01/17/2020 13:41:53 - INFO - __main__ -   eval_loss after step 1100: 0.4171124239053045: \n",
            "01/17/2020 13:41:53 - INFO - __main__ -   eval_accuracy_thresh after step 1100: 0.8329570889472961: \n",
            "01/17/2020 13:41:53 - INFO - __main__ -   eval_roc_auc after step 1100: 0.8260034280620955: \n",
            "01/17/2020 13:41:53 - INFO - __main__ -   eval_fbeta after step 1100: 0.6087355017662048: \n",
            "01/17/2020 13:41:53 - INFO - __main__ -   lr after step 1100: 4.8377126919626604e-05\n",
            "01/17/2020 13:41:53 - INFO - __main__ -   train_loss after step 1100: 0.42788615345954895\n",
            "01/17/2020 13:42:08 - INFO - __main__ -   Running evaluation\n",
            "01/17/2020 13:42:08 - INFO - __main__ -     Num examples = 886\n",
            "01/17/2020 13:42:08 - INFO - __main__ -     Batch size = 32\n"
          ],
          "name": "stderr"
        },
        {
          "output_type": "display_data",
          "data": {
            "text/html": [
              "\n",
              "    <div>\n",
              "        <style>\n",
              "            /* Turns off some styling */\n",
              "            progress {\n",
              "                /* gets rid of default border in Firefox and Opera. */\n",
              "                border: none;\n",
              "                /* Needs to be in here for Safari polyfill so background images work as expected. */\n",
              "                background-size: auto;\n",
              "            }\n",
              "            .progress-bar-interrupted, .progress-bar-interrupted::-webkit-progress-bar {\n",
              "                background: #F44336;\n",
              "            }\n",
              "        </style>\n",
              "      <progress value='28' class='' max='28', style='width:300px; height:20px; vertical-align: middle;'></progress>\n",
              "      100.00% [28/28 00:03<00:00]\n",
              "    </div>\n",
              "    "
            ],
            "text/plain": [
              "<IPython.core.display.HTML object>"
            ]
          },
          "metadata": {
            "tags": []
          }
        },
        {
          "output_type": "stream",
          "text": [
            "01/17/2020 13:42:11 - INFO - __main__ -   eval_loss after step 1150: 0.41058448595660074: \n",
            "01/17/2020 13:42:11 - INFO - __main__ -   eval_accuracy_thresh after step 1150: 0.840857744216919: \n",
            "01/17/2020 13:42:11 - INFO - __main__ -   eval_roc_auc after step 1150: 0.8354178480689468: \n",
            "01/17/2020 13:42:11 - INFO - __main__ -   eval_fbeta after step 1150: 0.6134847402572632: \n",
            "01/17/2020 13:42:11 - INFO - __main__ -   lr after step 1150: 4.6524735944542256e-05\n",
            "01/17/2020 13:42:11 - INFO - __main__ -   train_loss after step 1150: 0.42571657955646514\n",
            "01/17/2020 13:42:26 - INFO - __main__ -   Running evaluation\n",
            "01/17/2020 13:42:26 - INFO - __main__ -     Num examples = 886\n",
            "01/17/2020 13:42:26 - INFO - __main__ -     Batch size = 32\n"
          ],
          "name": "stderr"
        },
        {
          "output_type": "display_data",
          "data": {
            "text/html": [
              "\n",
              "    <div>\n",
              "        <style>\n",
              "            /* Turns off some styling */\n",
              "            progress {\n",
              "                /* gets rid of default border in Firefox and Opera. */\n",
              "                border: none;\n",
              "                /* Needs to be in here for Safari polyfill so background images work as expected. */\n",
              "                background-size: auto;\n",
              "            }\n",
              "            .progress-bar-interrupted, .progress-bar-interrupted::-webkit-progress-bar {\n",
              "                background: #F44336;\n",
              "            }\n",
              "        </style>\n",
              "      <progress value='28' class='' max='28', style='width:300px; height:20px; vertical-align: middle;'></progress>\n",
              "      100.00% [28/28 00:03<00:00]\n",
              "    </div>\n",
              "    "
            ],
            "text/plain": [
              "<IPython.core.display.HTML object>"
            ]
          },
          "metadata": {
            "tags": []
          }
        },
        {
          "output_type": "stream",
          "text": [
            "01/17/2020 13:42:29 - INFO - __main__ -   eval_loss after step 1200: 0.40446398726531435: \n",
            "01/17/2020 13:42:29 - INFO - __main__ -   eval_accuracy_thresh after step 1200: 0.842089056968689: \n",
            "01/17/2020 13:42:29 - INFO - __main__ -   eval_roc_auc after step 1200: 0.8396576269500954: \n",
            "01/17/2020 13:42:29 - INFO - __main__ -   eval_fbeta after step 1200: 0.6149853467941284: \n",
            "01/17/2020 13:42:29 - INFO - __main__ -   lr after step 1200: 4.4577051223721774e-05\n",
            "01/17/2020 13:42:29 - INFO - __main__ -   train_loss after step 1200: 0.4171274942159653\n",
            "01/17/2020 13:42:44 - INFO - __main__ -   Running evaluation\n",
            "01/17/2020 13:42:44 - INFO - __main__ -     Num examples = 886\n",
            "01/17/2020 13:42:44 - INFO - __main__ -     Batch size = 32\n"
          ],
          "name": "stderr"
        },
        {
          "output_type": "display_data",
          "data": {
            "text/html": [
              "\n",
              "    <div>\n",
              "        <style>\n",
              "            /* Turns off some styling */\n",
              "            progress {\n",
              "                /* gets rid of default border in Firefox and Opera. */\n",
              "                border: none;\n",
              "                /* Needs to be in here for Safari polyfill so background images work as expected. */\n",
              "                background-size: auto;\n",
              "            }\n",
              "            .progress-bar-interrupted, .progress-bar-interrupted::-webkit-progress-bar {\n",
              "                background: #F44336;\n",
              "            }\n",
              "        </style>\n",
              "      <progress value='28' class='' max='28', style='width:300px; height:20px; vertical-align: middle;'></progress>\n",
              "      100.00% [28/28 00:03<00:00]\n",
              "    </div>\n",
              "    "
            ],
            "text/plain": [
              "<IPython.core.display.HTML object>"
            ]
          },
          "metadata": {
            "tags": []
          }
        },
        {
          "output_type": "stream",
          "text": [
            "01/17/2020 13:42:47 - INFO - __main__ -   eval_loss after step 1250: 0.4010717613356454: \n",
            "01/17/2020 13:42:47 - INFO - __main__ -   eval_accuracy_thresh after step 1250: 0.844448983669281: \n",
            "01/17/2020 13:42:47 - INFO - __main__ -   eval_roc_auc after step 1250: 0.8434559185318207: \n",
            "01/17/2020 13:42:47 - INFO - __main__ -   eval_fbeta after step 1250: 0.6191295981407166: \n",
            "01/17/2020 13:42:47 - INFO - __main__ -   lr after step 1250: 4.254530453558407e-05\n",
            "01/17/2020 13:42:47 - INFO - __main__ -   train_loss after step 1250: 0.4121486043930054\n",
            "01/17/2020 13:42:57 - INFO - __main__ -   Running evaluation\n",
            "01/17/2020 13:42:57 - INFO - __main__ -     Num examples = 886\n",
            "01/17/2020 13:42:57 - INFO - __main__ -     Batch size = 32\n"
          ],
          "name": "stderr"
        },
        {
          "output_type": "display_data",
          "data": {
            "text/html": [
              "\n",
              "    <div>\n",
              "        <style>\n",
              "            /* Turns off some styling */\n",
              "            progress {\n",
              "                /* gets rid of default border in Firefox and Opera. */\n",
              "                border: none;\n",
              "                /* Needs to be in here for Safari polyfill so background images work as expected. */\n",
              "                background-size: auto;\n",
              "            }\n",
              "            .progress-bar-interrupted, .progress-bar-interrupted::-webkit-progress-bar {\n",
              "                background: #F44336;\n",
              "            }\n",
              "        </style>\n",
              "      <progress value='28' class='' max='28', style='width:300px; height:20px; vertical-align: middle;'></progress>\n",
              "      100.00% [28/28 00:03<00:00]\n",
              "    </div>\n",
              "    "
            ],
            "text/plain": [
              "<IPython.core.display.HTML object>"
            ]
          },
          "metadata": {
            "tags": []
          }
        },
        {
          "output_type": "stream",
          "text": [
            "01/17/2020 13:43:01 - INFO - __main__ -   eval_loss after epoch 3: 0.3979929121477263: \n",
            "01/17/2020 13:43:01 - INFO - __main__ -   eval_accuracy_thresh after epoch 3: 0.8439359664916992: \n",
            "01/17/2020 13:43:01 - INFO - __main__ -   eval_roc_auc after epoch 3: 0.8445252127896794: \n",
            "01/17/2020 13:43:01 - INFO - __main__ -   eval_fbeta after epoch 3: 0.6118662357330322: \n",
            "01/17/2020 13:43:01 - INFO - __main__ -   lr after epoch 3: 4.112166143927751e-05\n",
            "01/17/2020 13:43:01 - INFO - __main__ -   train_loss after epoch 3: 0.42988156130380717\n",
            "01/17/2020 13:43:01 - INFO - __main__ -   \n",
            "\n",
            "01/17/2020 13:43:05 - INFO - __main__ -   Running evaluation\n",
            "01/17/2020 13:43:05 - INFO - __main__ -     Num examples = 886\n",
            "01/17/2020 13:43:05 - INFO - __main__ -     Batch size = 32\n"
          ],
          "name": "stderr"
        },
        {
          "output_type": "display_data",
          "data": {
            "text/html": [
              "\n",
              "    <div>\n",
              "        <style>\n",
              "            /* Turns off some styling */\n",
              "            progress {\n",
              "                /* gets rid of default border in Firefox and Opera. */\n",
              "                border: none;\n",
              "                /* Needs to be in here for Safari polyfill so background images work as expected. */\n",
              "                background-size: auto;\n",
              "            }\n",
              "            .progress-bar-interrupted, .progress-bar-interrupted::-webkit-progress-bar {\n",
              "                background: #F44336;\n",
              "            }\n",
              "        </style>\n",
              "      <progress value='28' class='' max='28', style='width:300px; height:20px; vertical-align: middle;'></progress>\n",
              "      100.00% [28/28 00:03<00:00]\n",
              "    </div>\n",
              "    "
            ],
            "text/plain": [
              "<IPython.core.display.HTML object>"
            ]
          },
          "metadata": {
            "tags": []
          }
        },
        {
          "output_type": "stream",
          "text": [
            "01/17/2020 13:43:09 - INFO - __main__ -   eval_loss after step 1300: 0.3977947362831661: \n",
            "01/17/2020 13:43:09 - INFO - __main__ -   eval_accuracy_thresh after step 1300: 0.8436281085014343: \n",
            "01/17/2020 13:43:09 - INFO - __main__ -   eval_roc_auc after step 1300: 0.8468941080220862: \n",
            "01/17/2020 13:43:09 - INFO - __main__ -   eval_fbeta after step 1300: 0.6115134954452515: \n",
            "01/17/2020 13:43:09 - INFO - __main__ -   lr after step 1300: 4.044121242149774e-05\n",
            "01/17/2020 13:43:09 - INFO - __main__ -   train_loss after step 1300: 0.4102716434001923\n",
            "01/17/2020 13:43:23 - INFO - __main__ -   Running evaluation\n",
            "01/17/2020 13:43:23 - INFO - __main__ -     Num examples = 886\n",
            "01/17/2020 13:43:23 - INFO - __main__ -     Batch size = 32\n"
          ],
          "name": "stderr"
        },
        {
          "output_type": "display_data",
          "data": {
            "text/html": [
              "\n",
              "    <div>\n",
              "        <style>\n",
              "            /* Turns off some styling */\n",
              "            progress {\n",
              "                /* gets rid of default border in Firefox and Opera. */\n",
              "                border: none;\n",
              "                /* Needs to be in here for Safari polyfill so background images work as expected. */\n",
              "                background-size: auto;\n",
              "            }\n",
              "            .progress-bar-interrupted, .progress-bar-interrupted::-webkit-progress-bar {\n",
              "                background: #F44336;\n",
              "            }\n",
              "        </style>\n",
              "      <progress value='28' class='' max='28', style='width:300px; height:20px; vertical-align: middle;'></progress>\n",
              "      100.00% [28/28 00:03<00:00]\n",
              "    </div>\n",
              "    "
            ],
            "text/plain": [
              "<IPython.core.display.HTML object>"
            ]
          },
          "metadata": {
            "tags": []
          }
        },
        {
          "output_type": "stream",
          "text": [
            "01/17/2020 13:43:27 - INFO - __main__ -   eval_loss after step 1350: 0.3939937576651573: \n",
            "01/17/2020 13:43:27 - INFO - __main__ -   eval_accuracy_thresh after step 1350: 0.8442437648773193: \n",
            "01/17/2020 13:43:27 - INFO - __main__ -   eval_roc_auc after step 1350: 0.8483384209256378: \n",
            "01/17/2020 13:43:27 - INFO - __main__ -   eval_fbeta after step 1350: 0.6176727414131165: \n",
            "01/17/2020 13:43:27 - INFO - __main__ -   lr after step 1350: 3.827690861961134e-05\n",
            "01/17/2020 13:43:27 - INFO - __main__ -   train_loss after step 1350: 0.40609590530395506\n",
            "01/17/2020 13:43:41 - INFO - __main__ -   Running evaluation\n",
            "01/17/2020 13:43:41 - INFO - __main__ -     Num examples = 886\n",
            "01/17/2020 13:43:41 - INFO - __main__ -     Batch size = 32\n"
          ],
          "name": "stderr"
        },
        {
          "output_type": "display_data",
          "data": {
            "text/html": [
              "\n",
              "    <div>\n",
              "        <style>\n",
              "            /* Turns off some styling */\n",
              "            progress {\n",
              "                /* gets rid of default border in Firefox and Opera. */\n",
              "                border: none;\n",
              "                /* Needs to be in here for Safari polyfill so background images work as expected. */\n",
              "                background-size: auto;\n",
              "            }\n",
              "            .progress-bar-interrupted, .progress-bar-interrupted::-webkit-progress-bar {\n",
              "                background: #F44336;\n",
              "            }\n",
              "        </style>\n",
              "      <progress value='28' class='' max='28', style='width:300px; height:20px; vertical-align: middle;'></progress>\n",
              "      100.00% [28/28 00:03<00:00]\n",
              "    </div>\n",
              "    "
            ],
            "text/plain": [
              "<IPython.core.display.HTML object>"
            ]
          },
          "metadata": {
            "tags": []
          }
        },
        {
          "output_type": "stream",
          "text": [
            "01/17/2020 13:43:45 - INFO - __main__ -   eval_loss after step 1400: 0.39080250901835306: \n",
            "01/17/2020 13:43:45 - INFO - __main__ -   eval_accuracy_thresh after step 1400: 0.8449620008468628: \n",
            "01/17/2020 13:43:45 - INFO - __main__ -   eval_roc_auc after step 1400: 0.8484935652913442: \n",
            "01/17/2020 13:43:45 - INFO - __main__ -   eval_fbeta after step 1400: 0.6204977631568909: \n",
            "01/17/2020 13:43:45 - INFO - __main__ -   lr after step 1400: 3.606487409282106e-05\n",
            "01/17/2020 13:43:45 - INFO - __main__ -   train_loss after step 1400: 0.3966896748542786\n",
            "01/17/2020 13:43:59 - INFO - __main__ -   Running evaluation\n",
            "01/17/2020 13:43:59 - INFO - __main__ -     Num examples = 886\n",
            "01/17/2020 13:43:59 - INFO - __main__ -     Batch size = 32\n"
          ],
          "name": "stderr"
        },
        {
          "output_type": "display_data",
          "data": {
            "text/html": [
              "\n",
              "    <div>\n",
              "        <style>\n",
              "            /* Turns off some styling */\n",
              "            progress {\n",
              "                /* gets rid of default border in Firefox and Opera. */\n",
              "                border: none;\n",
              "                /* Needs to be in here for Safari polyfill so background images work as expected. */\n",
              "                background-size: auto;\n",
              "            }\n",
              "            .progress-bar-interrupted, .progress-bar-interrupted::-webkit-progress-bar {\n",
              "                background: #F44336;\n",
              "            }\n",
              "        </style>\n",
              "      <progress value='28' class='' max='28', style='width:300px; height:20px; vertical-align: middle;'></progress>\n",
              "      100.00% [28/28 00:03<00:00]\n",
              "    </div>\n",
              "    "
            ],
            "text/plain": [
              "<IPython.core.display.HTML object>"
            ]
          },
          "metadata": {
            "tags": []
          }
        },
        {
          "output_type": "stream",
          "text": [
            "01/17/2020 13:44:03 - INFO - __main__ -   eval_loss after step 1450: 0.3887687378696033: \n",
            "01/17/2020 13:44:03 - INFO - __main__ -   eval_accuracy_thresh after step 1450: 0.8445515632629395: \n",
            "01/17/2020 13:44:03 - INFO - __main__ -   eval_roc_auc after step 1450: 0.8479170663987992: \n",
            "01/17/2020 13:44:03 - INFO - __main__ -   eval_fbeta after step 1450: 0.6227849125862122: \n",
            "01/17/2020 13:44:03 - INFO - __main__ -   lr after step 1450: 3.381786505438577e-05\n",
            "01/17/2020 13:44:03 - INFO - __main__ -   train_loss after step 1450: 0.3866321486234665\n",
            "01/17/2020 13:44:17 - INFO - __main__ -   Running evaluation\n",
            "01/17/2020 13:44:17 - INFO - __main__ -     Num examples = 886\n",
            "01/17/2020 13:44:17 - INFO - __main__ -     Batch size = 32\n"
          ],
          "name": "stderr"
        },
        {
          "output_type": "display_data",
          "data": {
            "text/html": [
              "\n",
              "    <div>\n",
              "        <style>\n",
              "            /* Turns off some styling */\n",
              "            progress {\n",
              "                /* gets rid of default border in Firefox and Opera. */\n",
              "                border: none;\n",
              "                /* Needs to be in here for Safari polyfill so background images work as expected. */\n",
              "                background-size: auto;\n",
              "            }\n",
              "            .progress-bar-interrupted, .progress-bar-interrupted::-webkit-progress-bar {\n",
              "                background: #F44336;\n",
              "            }\n",
              "        </style>\n",
              "      <progress value='28' class='' max='28', style='width:300px; height:20px; vertical-align: middle;'></progress>\n",
              "      100.00% [28/28 00:03<00:00]\n",
              "    </div>\n",
              "    "
            ],
            "text/plain": [
              "<IPython.core.display.HTML object>"
            ]
          },
          "metadata": {
            "tags": []
          }
        },
        {
          "output_type": "stream",
          "text": [
            "01/17/2020 13:44:21 - INFO - __main__ -   eval_loss after step 1500: 0.386060930788517: \n",
            "01/17/2020 13:44:21 - INFO - __main__ -   eval_accuracy_thresh after step 1500: 0.8461933135986328: \n",
            "01/17/2020 13:44:21 - INFO - __main__ -   eval_roc_auc after step 1500: 0.8508749062377123: \n",
            "01/17/2020 13:44:21 - INFO - __main__ -   eval_fbeta after step 1500: 0.6259785890579224: \n",
            "01/17/2020 13:44:21 - INFO - __main__ -   lr after step 1500: 3.1548839406246785e-05\n",
            "01/17/2020 13:44:21 - INFO - __main__ -   train_loss after step 1500: 0.3997775113582611\n",
            "01/17/2020 13:44:35 - INFO - __main__ -   Running evaluation\n",
            "01/17/2020 13:44:35 - INFO - __main__ -     Num examples = 886\n",
            "01/17/2020 13:44:35 - INFO - __main__ -     Batch size = 32\n"
          ],
          "name": "stderr"
        },
        {
          "output_type": "display_data",
          "data": {
            "text/html": [
              "\n",
              "    <div>\n",
              "        <style>\n",
              "            /* Turns off some styling */\n",
              "            progress {\n",
              "                /* gets rid of default border in Firefox and Opera. */\n",
              "                border: none;\n",
              "                /* Needs to be in here for Safari polyfill so background images work as expected. */\n",
              "                background-size: auto;\n",
              "            }\n",
              "            .progress-bar-interrupted, .progress-bar-interrupted::-webkit-progress-bar {\n",
              "                background: #F44336;\n",
              "            }\n",
              "        </style>\n",
              "      <progress value='28' class='' max='28', style='width:300px; height:20px; vertical-align: middle;'></progress>\n",
              "      100.00% [28/28 00:03<00:00]\n",
              "    </div>\n",
              "    "
            ],
            "text/plain": [
              "<IPython.core.display.HTML object>"
            ]
          },
          "metadata": {
            "tags": []
          }
        },
        {
          "output_type": "stream",
          "text": [
            "01/17/2020 13:44:38 - INFO - __main__ -   eval_loss after step 1550: 0.384639142879418: \n",
            "01/17/2020 13:44:38 - INFO - __main__ -   eval_accuracy_thresh after step 1550: 0.8449620008468628: \n",
            "01/17/2020 13:44:38 - INFO - __main__ -   eval_roc_auc after step 1550: 0.8522281030932176: \n",
            "01/17/2020 13:44:38 - INFO - __main__ -   eval_fbeta after step 1550: 0.625559389591217: \n",
            "01/17/2020 13:44:38 - INFO - __main__ -   lr after step 1550: 2.927088201426269e-05\n",
            "01/17/2020 13:44:38 - INFO - __main__ -   train_loss after step 1550: 0.40232759892940523\n",
            "01/17/2020 13:44:53 - INFO - __main__ -   Running evaluation\n",
            "01/17/2020 13:44:53 - INFO - __main__ -     Num examples = 886\n",
            "01/17/2020 13:44:53 - INFO - __main__ -     Batch size = 32\n"
          ],
          "name": "stderr"
        },
        {
          "output_type": "display_data",
          "data": {
            "text/html": [
              "\n",
              "    <div>\n",
              "        <style>\n",
              "            /* Turns off some styling */\n",
              "            progress {\n",
              "                /* gets rid of default border in Firefox and Opera. */\n",
              "                border: none;\n",
              "                /* Needs to be in here for Safari polyfill so background images work as expected. */\n",
              "                background-size: auto;\n",
              "            }\n",
              "            .progress-bar-interrupted, .progress-bar-interrupted::-webkit-progress-bar {\n",
              "                background: #F44336;\n",
              "            }\n",
              "        </style>\n",
              "      <progress value='28' class='' max='28', style='width:300px; height:20px; vertical-align: middle;'></progress>\n",
              "      100.00% [28/28 00:03<00:00]\n",
              "    </div>\n",
              "    "
            ],
            "text/plain": [
              "<IPython.core.display.HTML object>"
            ]
          },
          "metadata": {
            "tags": []
          }
        },
        {
          "output_type": "stream",
          "text": [
            "01/17/2020 13:44:56 - INFO - __main__ -   eval_loss after step 1600: 0.3835633194872311: \n",
            "01/17/2020 13:44:56 - INFO - __main__ -   eval_accuracy_thresh after step 1600: 0.8451672196388245: \n",
            "01/17/2020 13:44:56 - INFO - __main__ -   eval_roc_auc after step 1600: 0.8529739003006799: \n",
            "01/17/2020 13:44:56 - INFO - __main__ -   eval_fbeta after step 1600: 0.6249070167541504: \n",
            "01/17/2020 13:44:56 - INFO - __main__ -   lr after step 1600: 2.699712925127705e-05\n",
            "01/17/2020 13:44:56 - INFO - __main__ -   train_loss after step 1600: 0.39756632208824155\n",
            "01/17/2020 13:45:11 - INFO - __main__ -   Running evaluation\n",
            "01/17/2020 13:45:11 - INFO - __main__ -     Num examples = 886\n",
            "01/17/2020 13:45:11 - INFO - __main__ -     Batch size = 32\n"
          ],
          "name": "stderr"
        },
        {
          "output_type": "display_data",
          "data": {
            "text/html": [
              "\n",
              "    <div>\n",
              "        <style>\n",
              "            /* Turns off some styling */\n",
              "            progress {\n",
              "                /* gets rid of default border in Firefox and Opera. */\n",
              "                border: none;\n",
              "                /* Needs to be in here for Safari polyfill so background images work as expected. */\n",
              "                background-size: auto;\n",
              "            }\n",
              "            .progress-bar-interrupted, .progress-bar-interrupted::-webkit-progress-bar {\n",
              "                background: #F44336;\n",
              "            }\n",
              "        </style>\n",
              "      <progress value='28' class='' max='28', style='width:300px; height:20px; vertical-align: middle;'></progress>\n",
              "      100.00% [28/28 00:03<00:00]\n",
              "    </div>\n",
              "    "
            ],
            "text/plain": [
              "<IPython.core.display.HTML object>"
            ]
          },
          "metadata": {
            "tags": []
          }
        },
        {
          "output_type": "stream",
          "text": [
            "01/17/2020 13:45:14 - INFO - __main__ -   eval_loss after step 1650: 0.38250102209193365: \n",
            "01/17/2020 13:45:14 - INFO - __main__ -   eval_accuracy_thresh after step 1650: 0.8458854556083679: \n",
            "01/17/2020 13:45:14 - INFO - __main__ -   eval_roc_auc after step 1650: 0.8535259043199135: \n",
            "01/17/2020 13:45:14 - INFO - __main__ -   eval_fbeta after step 1650: 0.6359543800354004: \n",
            "01/17/2020 13:45:14 - INFO - __main__ -   lr after step 1650: 2.4740693243159245e-05\n",
            "01/17/2020 13:45:14 - INFO - __main__ -   train_loss after step 1650: 0.3947592616081238\n",
            "01/17/2020 13:45:28 - INFO - __main__ -   Running evaluation\n",
            "01/17/2020 13:45:28 - INFO - __main__ -     Num examples = 886\n",
            "01/17/2020 13:45:28 - INFO - __main__ -     Batch size = 32\n"
          ],
          "name": "stderr"
        },
        {
          "output_type": "display_data",
          "data": {
            "text/html": [
              "\n",
              "    <div>\n",
              "        <style>\n",
              "            /* Turns off some styling */\n",
              "            progress {\n",
              "                /* gets rid of default border in Firefox and Opera. */\n",
              "                border: none;\n",
              "                /* Needs to be in here for Safari polyfill so background images work as expected. */\n",
              "                background-size: auto;\n",
              "            }\n",
              "            .progress-bar-interrupted, .progress-bar-interrupted::-webkit-progress-bar {\n",
              "                background: #F44336;\n",
              "            }\n",
              "        </style>\n",
              "      <progress value='28' class='' max='28', style='width:300px; height:20px; vertical-align: middle;'></progress>\n",
              "      100.00% [28/28 00:03<00:00]\n",
              "    </div>\n",
              "    "
            ],
            "text/plain": [
              "<IPython.core.display.HTML object>"
            ]
          },
          "metadata": {
            "tags": []
          }
        },
        {
          "output_type": "stream",
          "text": [
            "01/17/2020 13:45:32 - INFO - __main__ -   eval_loss after step 1700: 0.37979529585157124: \n",
            "01/17/2020 13:45:32 - INFO - __main__ -   eval_accuracy_thresh after step 1700: 0.8452698588371277: \n",
            "01/17/2020 13:45:32 - INFO - __main__ -   eval_roc_auc after step 1700: 0.8560619015647739: \n",
            "01/17/2020 13:45:32 - INFO - __main__ -   eval_fbeta after step 1700: 0.6344585418701172: \n",
            "01/17/2020 13:45:32 - INFO - __main__ -   lr after step 1700: 2.251458625467098e-05\n",
            "01/17/2020 13:45:32 - INFO - __main__ -   train_loss after step 1700: 0.38684197425842287\n",
            "01/17/2020 13:45:35 - INFO - __main__ -   Running evaluation\n",
            "01/17/2020 13:45:35 - INFO - __main__ -     Num examples = 886\n",
            "01/17/2020 13:45:35 - INFO - __main__ -     Batch size = 32\n"
          ],
          "name": "stderr"
        },
        {
          "output_type": "display_data",
          "data": {
            "text/html": [
              "\n",
              "    <div>\n",
              "        <style>\n",
              "            /* Turns off some styling */\n",
              "            progress {\n",
              "                /* gets rid of default border in Firefox and Opera. */\n",
              "                border: none;\n",
              "                /* Needs to be in here for Safari polyfill so background images work as expected. */\n",
              "                background-size: auto;\n",
              "            }\n",
              "            .progress-bar-interrupted, .progress-bar-interrupted::-webkit-progress-bar {\n",
              "                background: #F44336;\n",
              "            }\n",
              "        </style>\n",
              "      <progress value='28' class='' max='28', style='width:300px; height:20px; vertical-align: middle;'></progress>\n",
              "      100.00% [28/28 00:03<00:00]\n",
              "    </div>\n",
              "    "
            ],
            "text/plain": [
              "<IPython.core.display.HTML object>"
            ]
          },
          "metadata": {
            "tags": []
          }
        },
        {
          "output_type": "stream",
          "text": [
            "01/17/2020 13:45:39 - INFO - __main__ -   eval_loss after epoch 4: 0.3796138603772436: \n",
            "01/17/2020 13:45:39 - INFO - __main__ -   eval_accuracy_thresh after epoch 4: 0.8449620008468628: \n",
            "01/17/2020 13:45:39 - INFO - __main__ -   eval_roc_auc after epoch 4: 0.8569620805329207: \n",
            "01/17/2020 13:45:39 - INFO - __main__ -   eval_fbeta after epoch 4: 0.634917140007019: \n",
            "01/17/2020 13:45:39 - INFO - __main__ -   lr after epoch 4: 2.198626452803467e-05\n",
            "01/17/2020 13:45:39 - INFO - __main__ -   train_loss after epoch 4: 0.3961205376642887\n",
            "01/17/2020 13:45:39 - INFO - __main__ -   \n",
            "\n",
            "01/17/2020 13:45:50 - INFO - __main__ -   Running evaluation\n",
            "01/17/2020 13:45:50 - INFO - __main__ -     Num examples = 886\n",
            "01/17/2020 13:45:50 - INFO - __main__ -     Batch size = 32\n"
          ],
          "name": "stderr"
        },
        {
          "output_type": "display_data",
          "data": {
            "text/html": [
              "\n",
              "    <div>\n",
              "        <style>\n",
              "            /* Turns off some styling */\n",
              "            progress {\n",
              "                /* gets rid of default border in Firefox and Opera. */\n",
              "                border: none;\n",
              "                /* Needs to be in here for Safari polyfill so background images work as expected. */\n",
              "                background-size: auto;\n",
              "            }\n",
              "            .progress-bar-interrupted, .progress-bar-interrupted::-webkit-progress-bar {\n",
              "                background: #F44336;\n",
              "            }\n",
              "        </style>\n",
              "      <progress value='28' class='' max='28', style='width:300px; height:20px; vertical-align: middle;'></progress>\n",
              "      100.00% [28/28 00:03<00:00]\n",
              "    </div>\n",
              "    "
            ],
            "text/plain": [
              "<IPython.core.display.HTML object>"
            ]
          },
          "metadata": {
            "tags": []
          }
        },
        {
          "output_type": "stream",
          "text": [
            "01/17/2020 13:45:54 - INFO - __main__ -   eval_loss after step 1750: 0.3792232360158648: \n",
            "01/17/2020 13:45:54 - INFO - __main__ -   eval_accuracy_thresh after step 1750: 0.8473219275474548: \n",
            "01/17/2020 13:45:54 - INFO - __main__ -   eval_roc_auc after step 1750: 0.855962579886689: \n",
            "01/17/2020 13:45:54 - INFO - __main__ -   eval_fbeta after step 1750: 0.6397947669029236: \n",
            "01/17/2020 13:45:54 - INFO - __main__ -   lr after step 1750: 2.0331645651205195e-05\n",
            "01/17/2020 13:45:54 - INFO - __main__ -   train_loss after step 1750: 0.38304700076580045\n",
            "01/17/2020 13:46:08 - INFO - __main__ -   Running evaluation\n",
            "01/17/2020 13:46:08 - INFO - __main__ -     Num examples = 886\n",
            "01/17/2020 13:46:08 - INFO - __main__ -     Batch size = 32\n"
          ],
          "name": "stderr"
        },
        {
          "output_type": "display_data",
          "data": {
            "text/html": [
              "\n",
              "    <div>\n",
              "        <style>\n",
              "            /* Turns off some styling */\n",
              "            progress {\n",
              "                /* gets rid of default border in Firefox and Opera. */\n",
              "                border: none;\n",
              "                /* Needs to be in here for Safari polyfill so background images work as expected. */\n",
              "                background-size: auto;\n",
              "            }\n",
              "            .progress-bar-interrupted, .progress-bar-interrupted::-webkit-progress-bar {\n",
              "                background: #F44336;\n",
              "            }\n",
              "        </style>\n",
              "      <progress value='28' class='' max='28', style='width:300px; height:20px; vertical-align: middle;'></progress>\n",
              "      100.00% [28/28 00:03<00:00]\n",
              "    </div>\n",
              "    "
            ],
            "text/plain": [
              "<IPython.core.display.HTML object>"
            ]
          },
          "metadata": {
            "tags": []
          }
        },
        {
          "output_type": "stream",
          "text": [
            "01/17/2020 13:46:12 - INFO - __main__ -   eval_loss after step 1800: 0.3776923098734447: \n",
            "01/17/2020 13:46:12 - INFO - __main__ -   eval_accuracy_thresh after step 1800: 0.8459880948066711: \n",
            "01/17/2020 13:46:12 - INFO - __main__ -   eval_roc_auc after step 1800: 0.8568777059132697: \n",
            "01/17/2020 13:46:12 - INFO - __main__ -   eval_fbeta after step 1800: 0.6393728852272034: \n",
            "01/17/2020 13:46:12 - INFO - __main__ -   lr after step 1800: 1.820445986912312e-05\n",
            "01/17/2020 13:46:12 - INFO - __main__ -   train_loss after step 1800: 0.3916288655996323\n",
            "01/17/2020 13:46:26 - INFO - __main__ -   Running evaluation\n",
            "01/17/2020 13:46:26 - INFO - __main__ -     Num examples = 886\n",
            "01/17/2020 13:46:26 - INFO - __main__ -     Batch size = 32\n"
          ],
          "name": "stderr"
        },
        {
          "output_type": "display_data",
          "data": {
            "text/html": [
              "\n",
              "    <div>\n",
              "        <style>\n",
              "            /* Turns off some styling */\n",
              "            progress {\n",
              "                /* gets rid of default border in Firefox and Opera. */\n",
              "                border: none;\n",
              "                /* Needs to be in here for Safari polyfill so background images work as expected. */\n",
              "                background-size: auto;\n",
              "            }\n",
              "            .progress-bar-interrupted, .progress-bar-interrupted::-webkit-progress-bar {\n",
              "                background: #F44336;\n",
              "            }\n",
              "        </style>\n",
              "      <progress value='28' class='' max='28', style='width:300px; height:20px; vertical-align: middle;'></progress>\n",
              "      100.00% [28/28 00:03<00:00]\n",
              "    </div>\n",
              "    "
            ],
            "text/plain": [
              "<IPython.core.display.HTML object>"
            ]
          },
          "metadata": {
            "tags": []
          }
        },
        {
          "output_type": "stream",
          "text": [
            "01/17/2020 13:46:30 - INFO - __main__ -   eval_loss after step 1850: 0.3770577960780689: \n",
            "01/17/2020 13:46:30 - INFO - __main__ -   eval_accuracy_thresh after step 1850: 0.8459880948066711: \n",
            "01/17/2020 13:46:30 - INFO - __main__ -   eval_roc_auc after step 1850: 0.8571385168308453: \n",
            "01/17/2020 13:46:30 - INFO - __main__ -   eval_fbeta after step 1850: 0.6375333070755005: \n",
            "01/17/2020 13:46:30 - INFO - __main__ -   lr after step 1850: 1.614529582159854e-05\n",
            "01/17/2020 13:46:30 - INFO - __main__ -   train_loss after step 1850: 0.3868309783935547\n",
            "01/17/2020 13:46:44 - INFO - __main__ -   Running evaluation\n",
            "01/17/2020 13:46:44 - INFO - __main__ -     Num examples = 886\n",
            "01/17/2020 13:46:44 - INFO - __main__ -     Batch size = 32\n"
          ],
          "name": "stderr"
        },
        {
          "output_type": "display_data",
          "data": {
            "text/html": [
              "\n",
              "    <div>\n",
              "        <style>\n",
              "            /* Turns off some styling */\n",
              "            progress {\n",
              "                /* gets rid of default border in Firefox and Opera. */\n",
              "                border: none;\n",
              "                /* Needs to be in here for Safari polyfill so background images work as expected. */\n",
              "                background-size: auto;\n",
              "            }\n",
              "            .progress-bar-interrupted, .progress-bar-interrupted::-webkit-progress-bar {\n",
              "                background: #F44336;\n",
              "            }\n",
              "        </style>\n",
              "      <progress value='28' class='' max='28', style='width:300px; height:20px; vertical-align: middle;'></progress>\n",
              "      100.00% [28/28 00:03<00:00]\n",
              "    </div>\n",
              "    "
            ],
            "text/plain": [
              "<IPython.core.display.HTML object>"
            ]
          },
          "metadata": {
            "tags": []
          }
        },
        {
          "output_type": "stream",
          "text": [
            "01/17/2020 13:46:48 - INFO - __main__ -   eval_loss after step 1900: 0.376024529337883: \n",
            "01/17/2020 13:46:48 - INFO - __main__ -   eval_accuracy_thresh after step 1900: 0.8472193479537964: \n",
            "01/17/2020 13:46:48 - INFO - __main__ -   eval_roc_auc after step 1900: 0.8574144273278594: \n",
            "01/17/2020 13:46:48 - INFO - __main__ -   eval_fbeta after step 1900: 0.6378231644630432: \n",
            "01/17/2020 13:46:48 - INFO - __main__ -   lr after step 1900: 1.4166028158600563e-05\n",
            "01/17/2020 13:46:48 - INFO - __main__ -   train_loss after step 1900: 0.3800347501039505\n",
            "01/17/2020 13:47:02 - INFO - __main__ -   Running evaluation\n",
            "01/17/2020 13:47:02 - INFO - __main__ -     Num examples = 886\n",
            "01/17/2020 13:47:02 - INFO - __main__ -     Batch size = 32\n"
          ],
          "name": "stderr"
        },
        {
          "output_type": "display_data",
          "data": {
            "text/html": [
              "\n",
              "    <div>\n",
              "        <style>\n",
              "            /* Turns off some styling */\n",
              "            progress {\n",
              "                /* gets rid of default border in Firefox and Opera. */\n",
              "                border: none;\n",
              "                /* Needs to be in here for Safari polyfill so background images work as expected. */\n",
              "                background-size: auto;\n",
              "            }\n",
              "            .progress-bar-interrupted, .progress-bar-interrupted::-webkit-progress-bar {\n",
              "                background: #F44336;\n",
              "            }\n",
              "        </style>\n",
              "      <progress value='28' class='' max='28', style='width:300px; height:20px; vertical-align: middle;'></progress>\n",
              "      100.00% [28/28 00:03<00:00]\n",
              "    </div>\n",
              "    "
            ],
            "text/plain": [
              "<IPython.core.display.HTML object>"
            ]
          },
          "metadata": {
            "tags": []
          }
        },
        {
          "output_type": "stream",
          "text": [
            "01/17/2020 13:47:06 - INFO - __main__ -   eval_loss after step 1950: 0.37517296416418894: \n",
            "01/17/2020 13:47:06 - INFO - __main__ -   eval_accuracy_thresh after step 1950: 0.8478350043296814: \n",
            "01/17/2020 13:47:06 - INFO - __main__ -   eval_roc_auc after step 1950: 0.8574091501011062: \n",
            "01/17/2020 13:47:06 - INFO - __main__ -   eval_fbeta after step 1950: 0.6392670273780823: \n",
            "01/17/2020 13:47:06 - INFO - __main__ -   lr after step 1950: 1.2278070788953809e-05\n",
            "01/17/2020 13:47:06 - INFO - __main__ -   train_loss after step 1950: 0.3885004621744156\n",
            "01/17/2020 13:47:20 - INFO - __main__ -   Running evaluation\n",
            "01/17/2020 13:47:20 - INFO - __main__ -     Num examples = 886\n",
            "01/17/2020 13:47:20 - INFO - __main__ -     Batch size = 32\n"
          ],
          "name": "stderr"
        },
        {
          "output_type": "display_data",
          "data": {
            "text/html": [
              "\n",
              "    <div>\n",
              "        <style>\n",
              "            /* Turns off some styling */\n",
              "            progress {\n",
              "                /* gets rid of default border in Firefox and Opera. */\n",
              "                border: none;\n",
              "                /* Needs to be in here for Safari polyfill so background images work as expected. */\n",
              "                background-size: auto;\n",
              "            }\n",
              "            .progress-bar-interrupted, .progress-bar-interrupted::-webkit-progress-bar {\n",
              "                background: #F44336;\n",
              "            }\n",
              "        </style>\n",
              "      <progress value='28' class='' max='28', style='width:300px; height:20px; vertical-align: middle;'></progress>\n",
              "      100.00% [28/28 00:03<00:00]\n",
              "    </div>\n",
              "    "
            ],
            "text/plain": [
              "<IPython.core.display.HTML object>"
            ]
          },
          "metadata": {
            "tags": []
          }
        },
        {
          "output_type": "stream",
          "text": [
            "01/17/2020 13:47:24 - INFO - __main__ -   eval_loss after step 2000: 0.3753331495182855: \n",
            "01/17/2020 13:47:24 - INFO - __main__ -   eval_accuracy_thresh after step 2000: 0.8465011119842529: \n",
            "01/17/2020 13:47:24 - INFO - __main__ -   eval_roc_auc after step 2000: 0.8578035084101607: \n",
            "01/17/2020 13:47:24 - INFO - __main__ -   eval_fbeta after step 2000: 0.6388758420944214: \n",
            "01/17/2020 13:47:24 - INFO - __main__ -   lr after step 2000: 1.049231105936974e-05\n",
            "01/17/2020 13:47:24 - INFO - __main__ -   train_loss after step 2000: 0.37821317732334137\n",
            "01/17/2020 13:47:38 - INFO - __main__ -   Running evaluation\n",
            "01/17/2020 13:47:38 - INFO - __main__ -     Num examples = 886\n",
            "01/17/2020 13:47:38 - INFO - __main__ -     Batch size = 32\n"
          ],
          "name": "stderr"
        },
        {
          "output_type": "display_data",
          "data": {
            "text/html": [
              "\n",
              "    <div>\n",
              "        <style>\n",
              "            /* Turns off some styling */\n",
              "            progress {\n",
              "                /* gets rid of default border in Firefox and Opera. */\n",
              "                border: none;\n",
              "                /* Needs to be in here for Safari polyfill so background images work as expected. */\n",
              "                background-size: auto;\n",
              "            }\n",
              "            .progress-bar-interrupted, .progress-bar-interrupted::-webkit-progress-bar {\n",
              "                background: #F44336;\n",
              "            }\n",
              "        </style>\n",
              "      <progress value='28' class='' max='28', style='width:300px; height:20px; vertical-align: middle;'></progress>\n",
              "      100.00% [28/28 00:03<00:00]\n",
              "    </div>\n",
              "    "
            ],
            "text/plain": [
              "<IPython.core.display.HTML object>"
            ]
          },
          "metadata": {
            "tags": []
          }
        },
        {
          "output_type": "stream",
          "text": [
            "01/17/2020 13:47:41 - INFO - __main__ -   eval_loss after step 2050: 0.37434596781219753: \n",
            "01/17/2020 13:47:41 - INFO - __main__ -   eval_accuracy_thresh after step 2050: 0.8476297855377197: \n",
            "01/17/2020 13:47:41 - INFO - __main__ -   eval_roc_auc after step 2050: 0.8577589112684654: \n",
            "01/17/2020 13:47:41 - INFO - __main__ -   eval_fbeta after step 2050: 0.6407630443572998: \n",
            "01/17/2020 13:47:41 - INFO - __main__ -   lr after step 2050: 8.819046970021414e-06\n",
            "01/17/2020 13:47:41 - INFO - __main__ -   train_loss after step 2050: 0.3776822429895401\n",
            "01/17/2020 13:47:56 - INFO - __main__ -   Running evaluation\n",
            "01/17/2020 13:47:56 - INFO - __main__ -     Num examples = 886\n",
            "01/17/2020 13:47:56 - INFO - __main__ -     Batch size = 32\n"
          ],
          "name": "stderr"
        },
        {
          "output_type": "display_data",
          "data": {
            "text/html": [
              "\n",
              "    <div>\n",
              "        <style>\n",
              "            /* Turns off some styling */\n",
              "            progress {\n",
              "                /* gets rid of default border in Firefox and Opera. */\n",
              "                border: none;\n",
              "                /* Needs to be in here for Safari polyfill so background images work as expected. */\n",
              "                background-size: auto;\n",
              "            }\n",
              "            .progress-bar-interrupted, .progress-bar-interrupted::-webkit-progress-bar {\n",
              "                background: #F44336;\n",
              "            }\n",
              "        </style>\n",
              "      <progress value='28' class='' max='28', style='width:300px; height:20px; vertical-align: middle;'></progress>\n",
              "      100.00% [28/28 00:03<00:00]\n",
              "    </div>\n",
              "    "
            ],
            "text/plain": [
              "<IPython.core.display.HTML object>"
            ]
          },
          "metadata": {
            "tags": []
          }
        },
        {
          "output_type": "stream",
          "text": [
            "01/17/2020 13:47:59 - INFO - __main__ -   eval_loss after step 2100: 0.37411486357450485: \n",
            "01/17/2020 13:47:59 - INFO - __main__ -   eval_accuracy_thresh after step 2100: 0.8467063307762146: \n",
            "01/17/2020 13:47:59 - INFO - __main__ -   eval_roc_auc after step 2100: 0.8582093362987485: \n",
            "01/17/2020 13:47:59 - INFO - __main__ -   eval_fbeta after step 2100: 0.6409268975257874: \n",
            "01/17/2020 13:47:59 - INFO - __main__ -   lr after step 2100: 7.267927788722575e-06\n",
            "01/17/2020 13:47:59 - INFO - __main__ -   train_loss after step 2100: 0.3782883197069168\n",
            "01/17/2020 13:48:11 - INFO - __main__ -   Running evaluation\n",
            "01/17/2020 13:48:11 - INFO - __main__ -     Num examples = 886\n",
            "01/17/2020 13:48:11 - INFO - __main__ -     Batch size = 32\n"
          ],
          "name": "stderr"
        },
        {
          "output_type": "display_data",
          "data": {
            "text/html": [
              "\n",
              "    <div>\n",
              "        <style>\n",
              "            /* Turns off some styling */\n",
              "            progress {\n",
              "                /* gets rid of default border in Firefox and Opera. */\n",
              "                border: none;\n",
              "                /* Needs to be in here for Safari polyfill so background images work as expected. */\n",
              "                background-size: auto;\n",
              "            }\n",
              "            .progress-bar-interrupted, .progress-bar-interrupted::-webkit-progress-bar {\n",
              "                background: #F44336;\n",
              "            }\n",
              "        </style>\n",
              "      <progress value='28' class='' max='28', style='width:300px; height:20px; vertical-align: middle;'></progress>\n",
              "      100.00% [28/28 00:03<00:00]\n",
              "    </div>\n",
              "    "
            ],
            "text/plain": [
              "<IPython.core.display.HTML object>"
            ]
          },
          "metadata": {
            "tags": []
          }
        },
        {
          "output_type": "stream",
          "text": [
            "01/17/2020 13:48:14 - INFO - __main__ -   eval_loss after epoch 5: 0.3741784745029041: \n",
            "01/17/2020 13:48:14 - INFO - __main__ -   eval_accuracy_thresh after epoch 5: 0.8473219275474548: \n",
            "01/17/2020 13:48:14 - INFO - __main__ -   eval_roc_auc after epoch 5: 0.8579374218520504: \n",
            "01/17/2020 13:48:14 - INFO - __main__ -   eval_fbeta after epoch 5: 0.6482236981391907: \n",
            "01/17/2020 13:48:14 - INFO - __main__ -   lr after epoch 5: 6.121012750129451e-06\n",
            "01/17/2020 13:48:14 - INFO - __main__ -   train_loss after epoch 5: 0.381786102655335\n",
            "01/17/2020 13:48:14 - INFO - __main__ -   \n",
            "\n",
            "01/17/2020 13:48:17 - INFO - __main__ -   Running evaluation\n",
            "01/17/2020 13:48:17 - INFO - __main__ -     Num examples = 886\n",
            "01/17/2020 13:48:17 - INFO - __main__ -     Batch size = 32\n"
          ],
          "name": "stderr"
        },
        {
          "output_type": "display_data",
          "data": {
            "text/html": [
              "\n",
              "    <div>\n",
              "        <style>\n",
              "            /* Turns off some styling */\n",
              "            progress {\n",
              "                /* gets rid of default border in Firefox and Opera. */\n",
              "                border: none;\n",
              "                /* Needs to be in here for Safari polyfill so background images work as expected. */\n",
              "                background-size: auto;\n",
              "            }\n",
              "            .progress-bar-interrupted, .progress-bar-interrupted::-webkit-progress-bar {\n",
              "                background: #F44336;\n",
              "            }\n",
              "        </style>\n",
              "      <progress value='28' class='' max='28', style='width:300px; height:20px; vertical-align: middle;'></progress>\n",
              "      100.00% [28/28 00:03<00:00]\n",
              "    </div>\n",
              "    "
            ],
            "text/plain": [
              "<IPython.core.display.HTML object>"
            ]
          },
          "metadata": {
            "tags": []
          }
        },
        {
          "output_type": "stream",
          "text": [
            "01/17/2020 13:48:21 - INFO - __main__ -   eval_loss after step 2150: 0.3739335313439369: \n",
            "01/17/2020 13:48:21 - INFO - __main__ -   eval_accuracy_thresh after step 2150: 0.8472193479537964: \n",
            "01/17/2020 13:48:21 - INFO - __main__ -   eval_roc_auc after step 2150: 0.858108001343405: \n",
            "01/17/2020 13:48:21 - INFO - __main__ -   eval_fbeta after step 2150: 0.6452000141143799: \n",
            "01/17/2020 13:48:21 - INFO - __main__ -   lr after step 2150: 5.847898406173115e-06\n",
            "01/17/2020 13:48:21 - INFO - __main__ -   train_loss after step 2150: 0.37364636301994325\n",
            "01/17/2020 13:48:35 - INFO - __main__ -   Running evaluation\n",
            "01/17/2020 13:48:35 - INFO - __main__ -     Num examples = 886\n",
            "01/17/2020 13:48:35 - INFO - __main__ -     Batch size = 32\n"
          ],
          "name": "stderr"
        },
        {
          "output_type": "display_data",
          "data": {
            "text/html": [
              "\n",
              "    <div>\n",
              "        <style>\n",
              "            /* Turns off some styling */\n",
              "            progress {\n",
              "                /* gets rid of default border in Firefox and Opera. */\n",
              "                border: none;\n",
              "                /* Needs to be in here for Safari polyfill so background images work as expected. */\n",
              "                background-size: auto;\n",
              "            }\n",
              "            .progress-bar-interrupted, .progress-bar-interrupted::-webkit-progress-bar {\n",
              "                background: #F44336;\n",
              "            }\n",
              "        </style>\n",
              "      <progress value='28' class='' max='28', style='width:300px; height:20px; vertical-align: middle;'></progress>\n",
              "      100.00% [28/28 00:03<00:00]\n",
              "    </div>\n",
              "    "
            ],
            "text/plain": [
              "<IPython.core.display.HTML object>"
            ]
          },
          "metadata": {
            "tags": []
          }
        },
        {
          "output_type": "stream",
          "text": [
            "01/17/2020 13:48:39 - INFO - __main__ -   eval_loss after step 2200: 0.3737169695752008: \n",
            "01/17/2020 13:48:39 - INFO - __main__ -   eval_accuracy_thresh after step 2200: 0.8469115495681763: \n",
            "01/17/2020 13:48:39 - INFO - __main__ -   eval_roc_auc after step 2200: 0.8585690723397973: \n",
            "01/17/2020 13:48:39 - INFO - __main__ -   eval_fbeta after step 2200: 0.6438828706741333: \n",
            "01/17/2020 13:48:39 - INFO - __main__ -   lr after step 2200: 4.567147753159764e-06\n",
            "01/17/2020 13:48:39 - INFO - __main__ -   train_loss after step 2200: 0.373638858795166\n",
            "01/17/2020 13:48:53 - INFO - __main__ -   Running evaluation\n",
            "01/17/2020 13:48:53 - INFO - __main__ -     Num examples = 886\n",
            "01/17/2020 13:48:53 - INFO - __main__ -     Batch size = 32\n"
          ],
          "name": "stderr"
        },
        {
          "output_type": "display_data",
          "data": {
            "text/html": [
              "\n",
              "    <div>\n",
              "        <style>\n",
              "            /* Turns off some styling */\n",
              "            progress {\n",
              "                /* gets rid of default border in Firefox and Opera. */\n",
              "                border: none;\n",
              "                /* Needs to be in here for Safari polyfill so background images work as expected. */\n",
              "                background-size: auto;\n",
              "            }\n",
              "            .progress-bar-interrupted, .progress-bar-interrupted::-webkit-progress-bar {\n",
              "                background: #F44336;\n",
              "            }\n",
              "        </style>\n",
              "      <progress value='28' class='' max='28', style='width:300px; height:20px; vertical-align: middle;'></progress>\n",
              "      100.00% [28/28 00:03<00:00]\n",
              "    </div>\n",
              "    "
            ],
            "text/plain": [
              "<IPython.core.display.HTML object>"
            ]
          },
          "metadata": {
            "tags": []
          }
        },
        {
          "output_type": "stream",
          "text": [
            "01/17/2020 13:48:57 - INFO - __main__ -   eval_loss after step 2250: 0.37354387981551035: \n",
            "01/17/2020 13:48:57 - INFO - __main__ -   eval_accuracy_thresh after step 2250: 0.8474245667457581: \n",
            "01/17/2020 13:48:57 - INFO - __main__ -   eval_roc_auc after step 2250: 0.8585378665422909: \n",
            "01/17/2020 13:48:57 - INFO - __main__ -   eval_fbeta after step 2250: 0.6463163495063782: \n",
            "01/17/2020 13:48:57 - INFO - __main__ -   lr after step 2250: 3.43306157717582e-06\n",
            "01/17/2020 13:48:57 - INFO - __main__ -   train_loss after step 2250: 0.376230571269989\n",
            "01/17/2020 13:49:11 - INFO - __main__ -   Running evaluation\n",
            "01/17/2020 13:49:11 - INFO - __main__ -     Num examples = 886\n",
            "01/17/2020 13:49:11 - INFO - __main__ -     Batch size = 32\n"
          ],
          "name": "stderr"
        },
        {
          "output_type": "display_data",
          "data": {
            "text/html": [
              "\n",
              "    <div>\n",
              "        <style>\n",
              "            /* Turns off some styling */\n",
              "            progress {\n",
              "                /* gets rid of default border in Firefox and Opera. */\n",
              "                border: none;\n",
              "                /* Needs to be in here for Safari polyfill so background images work as expected. */\n",
              "                background-size: auto;\n",
              "            }\n",
              "            .progress-bar-interrupted, .progress-bar-interrupted::-webkit-progress-bar {\n",
              "                background: #F44336;\n",
              "            }\n",
              "        </style>\n",
              "      <progress value='28' class='' max='28', style='width:300px; height:20px; vertical-align: middle;'></progress>\n",
              "      100.00% [28/28 00:03<00:00]\n",
              "    </div>\n",
              "    "
            ],
            "text/plain": [
              "<IPython.core.display.HTML object>"
            ]
          },
          "metadata": {
            "tags": []
          }
        },
        {
          "output_type": "stream",
          "text": [
            "01/17/2020 13:49:15 - INFO - __main__ -   eval_loss after step 2300: 0.3731597065925598: \n",
            "01/17/2020 13:49:15 - INFO - __main__ -   eval_accuracy_thresh after step 2300: 0.8474245667457581: \n",
            "01/17/2020 13:49:15 - INFO - __main__ -   eval_roc_auc after step 2300: 0.8584275633518871: \n",
            "01/17/2020 13:49:15 - INFO - __main__ -   eval_fbeta after step 2300: 0.6476141810417175: \n",
            "01/17/2020 13:49:15 - INFO - __main__ -   lr after step 2300: 2.4521798507848014e-06\n",
            "01/17/2020 13:49:15 - INFO - __main__ -   train_loss after step 2300: 0.37751200318336486\n",
            "01/17/2020 13:49:29 - INFO - __main__ -   Running evaluation\n",
            "01/17/2020 13:49:29 - INFO - __main__ -     Num examples = 886\n",
            "01/17/2020 13:49:29 - INFO - __main__ -     Batch size = 32\n"
          ],
          "name": "stderr"
        },
        {
          "output_type": "display_data",
          "data": {
            "text/html": [
              "\n",
              "    <div>\n",
              "        <style>\n",
              "            /* Turns off some styling */\n",
              "            progress {\n",
              "                /* gets rid of default border in Firefox and Opera. */\n",
              "                border: none;\n",
              "                /* Needs to be in here for Safari polyfill so background images work as expected. */\n",
              "                background-size: auto;\n",
              "            }\n",
              "            .progress-bar-interrupted, .progress-bar-interrupted::-webkit-progress-bar {\n",
              "                background: #F44336;\n",
              "            }\n",
              "        </style>\n",
              "      <progress value='28' class='' max='28', style='width:300px; height:20px; vertical-align: middle;'></progress>\n",
              "      100.00% [28/28 00:03<00:00]\n",
              "    </div>\n",
              "    "
            ],
            "text/plain": [
              "<IPython.core.display.HTML object>"
            ]
          },
          "metadata": {
            "tags": []
          }
        },
        {
          "output_type": "stream",
          "text": [
            "01/17/2020 13:49:32 - INFO - __main__ -   eval_loss after step 2350: 0.37298537471464704: \n",
            "01/17/2020 13:49:32 - INFO - __main__ -   eval_accuracy_thresh after step 2350: 0.8477323651313782: \n",
            "01/17/2020 13:49:32 - INFO - __main__ -   eval_roc_auc after step 2350: 0.8585575112476614: \n",
            "01/17/2020 13:49:32 - INFO - __main__ -   eval_fbeta after step 2350: 0.6467306017875671: \n",
            "01/17/2020 13:49:32 - INFO - __main__ -   lr after step 2350: 1.6301590573426806e-06\n",
            "01/17/2020 13:49:32 - INFO - __main__ -   train_loss after step 2350: 0.3757512390613556\n",
            "01/17/2020 13:49:47 - INFO - __main__ -   Running evaluation\n",
            "01/17/2020 13:49:47 - INFO - __main__ -     Num examples = 886\n",
            "01/17/2020 13:49:47 - INFO - __main__ -     Batch size = 32\n"
          ],
          "name": "stderr"
        },
        {
          "output_type": "display_data",
          "data": {
            "text/html": [
              "\n",
              "    <div>\n",
              "        <style>\n",
              "            /* Turns off some styling */\n",
              "            progress {\n",
              "                /* gets rid of default border in Firefox and Opera. */\n",
              "                border: none;\n",
              "                /* Needs to be in here for Safari polyfill so background images work as expected. */\n",
              "                background-size: auto;\n",
              "            }\n",
              "            .progress-bar-interrupted, .progress-bar-interrupted::-webkit-progress-bar {\n",
              "                background: #F44336;\n",
              "            }\n",
              "        </style>\n",
              "      <progress value='28' class='' max='28', style='width:300px; height:20px; vertical-align: middle;'></progress>\n",
              "      100.00% [28/28 00:03<00:00]\n",
              "    </div>\n",
              "    "
            ],
            "text/plain": [
              "<IPython.core.display.HTML object>"
            ]
          },
          "metadata": {
            "tags": []
          }
        },
        {
          "output_type": "stream",
          "text": [
            "01/17/2020 13:49:50 - INFO - __main__ -   eval_loss after step 2400: 0.3729892830763544: \n",
            "01/17/2020 13:49:50 - INFO - __main__ -   eval_accuracy_thresh after step 2400: 0.8472193479537964: \n",
            "01/17/2020 13:49:50 - INFO - __main__ -   eval_roc_auc after step 2400: 0.8584026109155622: \n",
            "01/17/2020 13:49:50 - INFO - __main__ -   eval_fbeta after step 2400: 0.6449866890907288: \n",
            "01/17/2020 13:49:50 - INFO - __main__ -   lr after step 2400: 9.71739571566671e-07\n",
            "01/17/2020 13:49:50 - INFO - __main__ -   train_loss after step 2400: 0.3770078665018082\n",
            "01/17/2020 13:50:05 - INFO - __main__ -   Running evaluation\n",
            "01/17/2020 13:50:05 - INFO - __main__ -     Num examples = 886\n",
            "01/17/2020 13:50:05 - INFO - __main__ -     Batch size = 32\n"
          ],
          "name": "stderr"
        },
        {
          "output_type": "display_data",
          "data": {
            "text/html": [
              "\n",
              "    <div>\n",
              "        <style>\n",
              "            /* Turns off some styling */\n",
              "            progress {\n",
              "                /* gets rid of default border in Firefox and Opera. */\n",
              "                border: none;\n",
              "                /* Needs to be in here for Safari polyfill so background images work as expected. */\n",
              "                background-size: auto;\n",
              "            }\n",
              "            .progress-bar-interrupted, .progress-bar-interrupted::-webkit-progress-bar {\n",
              "                background: #F44336;\n",
              "            }\n",
              "        </style>\n",
              "      <progress value='28' class='' max='28', style='width:300px; height:20px; vertical-align: middle;'></progress>\n",
              "      100.00% [28/28 00:03<00:00]\n",
              "    </div>\n",
              "    "
            ],
            "text/plain": [
              "<IPython.core.display.HTML object>"
            ]
          },
          "metadata": {
            "tags": []
          }
        },
        {
          "output_type": "stream",
          "text": [
            "01/17/2020 13:50:08 - INFO - __main__ -   eval_loss after step 2450: 0.3729876471417291: \n",
            "01/17/2020 13:50:08 - INFO - __main__ -   eval_accuracy_thresh after step 2450: 0.8475271463394165: \n",
            "01/17/2020 13:50:08 - INFO - __main__ -   eval_roc_auc after step 2450: 0.8584200593184691: \n",
            "01/17/2020 13:50:08 - INFO - __main__ -   eval_fbeta after step 2450: 0.6467469334602356: \n",
            "01/17/2020 13:50:08 - INFO - __main__ -   lr after step 2450: 4.80718323058289e-07\n",
            "01/17/2020 13:50:08 - INFO - __main__ -   train_loss after step 2450: 0.3788866072893143\n",
            "01/17/2020 13:50:22 - INFO - __main__ -   Running evaluation\n",
            "01/17/2020 13:50:22 - INFO - __main__ -     Num examples = 886\n",
            "01/17/2020 13:50:22 - INFO - __main__ -     Batch size = 32\n"
          ],
          "name": "stderr"
        },
        {
          "output_type": "display_data",
          "data": {
            "text/html": [
              "\n",
              "    <div>\n",
              "        <style>\n",
              "            /* Turns off some styling */\n",
              "            progress {\n",
              "                /* gets rid of default border in Firefox and Opera. */\n",
              "                border: none;\n",
              "                /* Needs to be in here for Safari polyfill so background images work as expected. */\n",
              "                background-size: auto;\n",
              "            }\n",
              "            .progress-bar-interrupted, .progress-bar-interrupted::-webkit-progress-bar {\n",
              "                background: #F44336;\n",
              "            }\n",
              "        </style>\n",
              "      <progress value='28' class='' max='28', style='width:300px; height:20px; vertical-align: middle;'></progress>\n",
              "      100.00% [28/28 00:03<00:00]\n",
              "    </div>\n",
              "    "
            ],
            "text/plain": [
              "<IPython.core.display.HTML object>"
            ]
          },
          "metadata": {
            "tags": []
          }
        },
        {
          "output_type": "stream",
          "text": [
            "01/17/2020 13:50:26 - INFO - __main__ -   eval_loss after step 2500: 0.37297941957201275: \n",
            "01/17/2020 13:50:26 - INFO - __main__ -   eval_accuracy_thresh after step 2500: 0.8477323651313782: \n",
            "01/17/2020 13:50:26 - INFO - __main__ -   eval_roc_auc after step 2500: 0.8584259771334409: \n",
            "01/17/2020 13:50:26 - INFO - __main__ -   eval_fbeta after step 2500: 0.6476169228553772: \n",
            "01/17/2020 13:50:26 - INFO - __main__ -   lr after step 2500: 1.5992690042286096e-07\n",
            "01/17/2020 13:50:26 - INFO - __main__ -   train_loss after step 2500: 0.3844040960073471\n",
            "01/17/2020 13:50:40 - INFO - __main__ -   Running evaluation\n",
            "01/17/2020 13:50:40 - INFO - __main__ -     Num examples = 886\n",
            "01/17/2020 13:50:40 - INFO - __main__ -     Batch size = 32\n"
          ],
          "name": "stderr"
        },
        {
          "output_type": "display_data",
          "data": {
            "text/html": [
              "\n",
              "    <div>\n",
              "        <style>\n",
              "            /* Turns off some styling */\n",
              "            progress {\n",
              "                /* gets rid of default border in Firefox and Opera. */\n",
              "                border: none;\n",
              "                /* Needs to be in here for Safari polyfill so background images work as expected. */\n",
              "                background-size: auto;\n",
              "            }\n",
              "            .progress-bar-interrupted, .progress-bar-interrupted::-webkit-progress-bar {\n",
              "                background: #F44336;\n",
              "            }\n",
              "        </style>\n",
              "      <progress value='28' class='' max='28', style='width:300px; height:20px; vertical-align: middle;'></progress>\n",
              "      100.00% [28/28 00:03<00:00]\n",
              "    </div>\n",
              "    "
            ],
            "text/plain": [
              "<IPython.core.display.HTML object>"
            ]
          },
          "metadata": {
            "tags": []
          }
        },
        {
          "output_type": "stream",
          "text": [
            "01/17/2020 13:50:44 - INFO - __main__ -   eval_loss after step 2550: 0.3729843965598515: \n",
            "01/17/2020 13:50:44 - INFO - __main__ -   eval_accuracy_thresh after step 2550: 0.8477323651313782: \n",
            "01/17/2020 13:50:44 - INFO - __main__ -   eval_roc_auc after step 2550: 0.8584292410829357: \n",
            "01/17/2020 13:50:44 - INFO - __main__ -   eval_fbeta after step 2550: 0.647585928440094: \n",
            "01/17/2020 13:50:44 - INFO - __main__ -   lr after step 2550: 1.1215222253061485e-08\n",
            "01/17/2020 13:50:44 - INFO - __main__ -   train_loss after step 2550: 0.36757662773132327\n",
            "01/17/2020 13:50:49 - INFO - __main__ -   Running evaluation\n",
            "01/17/2020 13:50:49 - INFO - __main__ -     Num examples = 886\n",
            "01/17/2020 13:50:49 - INFO - __main__ -     Batch size = 32\n"
          ],
          "name": "stderr"
        },
        {
          "output_type": "display_data",
          "data": {
            "text/html": [
              "\n",
              "    <div>\n",
              "        <style>\n",
              "            /* Turns off some styling */\n",
              "            progress {\n",
              "                /* gets rid of default border in Firefox and Opera. */\n",
              "                border: none;\n",
              "                /* Needs to be in here for Safari polyfill so background images work as expected. */\n",
              "                background-size: auto;\n",
              "            }\n",
              "            .progress-bar-interrupted, .progress-bar-interrupted::-webkit-progress-bar {\n",
              "                background: #F44336;\n",
              "            }\n",
              "        </style>\n",
              "      <progress value='28' class='' max='28', style='width:300px; height:20px; vertical-align: middle;'></progress>\n",
              "      100.00% [28/28 00:03<00:00]\n",
              "    </div>\n",
              "    "
            ],
            "text/plain": [
              "<IPython.core.display.HTML object>"
            ]
          },
          "metadata": {
            "tags": []
          }
        },
        {
          "output_type": "stream",
          "text": [
            "01/17/2020 13:50:53 - INFO - __main__ -   eval_loss after epoch 6: 0.37298436037131716: \n",
            "01/17/2020 13:50:53 - INFO - __main__ -   eval_accuracy_thresh after epoch 6: 0.8477323651313782: \n",
            "01/17/2020 13:50:53 - INFO - __main__ -   eval_roc_auc after epoch 6: 0.8584293936039402: \n",
            "01/17/2020 13:50:53 - INFO - __main__ -   eval_fbeta after epoch 6: 0.647585928440094: \n",
            "01/17/2020 13:50:53 - INFO - __main__ -   lr after epoch 6: 0.0\n",
            "01/17/2020 13:50:53 - INFO - __main__ -   train_loss after epoch 6: 0.3764647203628148\n",
            "01/17/2020 13:50:53 - INFO - __main__ -   \n",
            "\n"
          ],
          "name": "stderr"
        },
        {
          "output_type": "execute_result",
          "data": {
            "text/plain": [
              "(2568, 0.45126586347075637)"
            ]
          },
          "metadata": {
            "tags": []
          },
          "execution_count": 123
        }
      ]
    },
    {
      "cell_type": "markdown",
      "metadata": {
        "id": "T-qa76Upsquy",
        "colab_type": "text"
      },
      "source": [
        "# Save Model "
      ]
    },
    {
      "cell_type": "code",
      "metadata": {
        "id": "t27zqW8UXC20",
        "colab_type": "code",
        "outputId": "50aab3bd-1788-4cfa-daa9-e081a40b4404",
        "colab": {
          "base_uri": "https://localhost:8080/",
          "height": 52
        }
      },
      "source": [
        "learner.save_model()"
      ],
      "execution_count": 124,
      "outputs": [
        {
          "output_type": "stream",
          "text": [
            "01/17/2020 13:51:35 - INFO - transformers.configuration_utils -   Configuration saved in /content/drive/My Drive/models/output/model_out/config.json\n",
            "01/17/2020 13:51:37 - INFO - transformers.modeling_utils -   Model weights saved in /content/drive/My Drive/models/output/model_out/pytorch_model.bin\n"
          ],
          "name": "stderr"
        }
      ]
    },
    {
      "cell_type": "markdown",
      "metadata": {
        "id": "-vHfVZbhssyB",
        "colab_type": "text"
      },
      "source": [
        "# Inference"
      ]
    },
    {
      "cell_type": "code",
      "metadata": {
        "id": "WsUMQphuWCxa",
        "colab_type": "code",
        "colab": {}
      },
      "source": [
        "from fast_bert.prediction import BertClassificationPredictor"
      ],
      "execution_count": 0,
      "outputs": []
    },
    {
      "cell_type": "code",
      "metadata": {
        "id": "weKo0o4lWGNQ",
        "colab_type": "code",
        "outputId": "5ea4b1cf-4471-4cd1-8ad5-bed102c105d0",
        "colab": {
          "base_uri": "https://localhost:8080/",
          "height": 749
        }
      },
      "source": [
        "MODEL_PATH = OUTPUT_PATH/'model_out'\n",
        "\n",
        "predictor = BertClassificationPredictor(model_path=MODEL_PATH, \n",
        "                                        label_path=LABEL_PATH,\n",
        "                                        multi_label=True,\n",
        "                                        model_type='bert',\n",
        "                                        do_lower_case=True)"
      ],
      "execution_count": 126,
      "outputs": [
        {
          "output_type": "stream",
          "text": [
            "01/17/2020 13:51:40 - INFO - transformers.tokenization_utils -   Model name '/content/drive/My Drive/models/output/model_out' not found in model shortcut name list (bert-base-uncased, bert-large-uncased, bert-base-cased, bert-large-cased, bert-base-multilingual-uncased, bert-base-multilingual-cased, bert-base-chinese, bert-base-german-cased, bert-large-uncased-whole-word-masking, bert-large-cased-whole-word-masking, bert-large-uncased-whole-word-masking-finetuned-squad, bert-large-cased-whole-word-masking-finetuned-squad, bert-base-cased-finetuned-mrpc, bert-base-german-dbmdz-cased, bert-base-german-dbmdz-uncased, bert-base-finnish-cased-v1, bert-base-finnish-uncased-v1). Assuming '/content/drive/My Drive/models/output/model_out' is a path or url to a directory containing tokenizer files.\n",
            "01/17/2020 13:51:40 - INFO - transformers.tokenization_utils -   loading file /content/drive/My Drive/models/output/model_out/vocab.txt\n",
            "01/17/2020 13:51:40 - INFO - transformers.tokenization_utils -   loading file /content/drive/My Drive/models/output/model_out/added_tokens.json\n",
            "01/17/2020 13:51:40 - INFO - transformers.tokenization_utils -   loading file /content/drive/My Drive/models/output/model_out/special_tokens_map.json\n",
            "01/17/2020 13:51:40 - INFO - transformers.tokenization_utils -   loading file /content/drive/My Drive/models/output/model_out/tokenizer_config.json\n",
            "01/17/2020 13:51:40 - INFO - transformers.configuration_utils -   loading configuration file /content/drive/My Drive/models/output/model_out/config.json\n",
            "01/17/2020 13:51:40 - INFO - transformers.configuration_utils -   Model config {\n",
            "  \"attention_probs_dropout_prob\": 0.1,\n",
            "  \"finetuning_task\": null,\n",
            "  \"hidden_act\": \"gelu\",\n",
            "  \"hidden_dropout_prob\": 0.1,\n",
            "  \"hidden_size\": 768,\n",
            "  \"id2label\": {\n",
            "    \"0\": \"LABEL_0\",\n",
            "    \"1\": \"LABEL_1\"\n",
            "  },\n",
            "  \"initializer_range\": 0.02,\n",
            "  \"intermediate_size\": 3072,\n",
            "  \"is_decoder\": false,\n",
            "  \"label2id\": {\n",
            "    \"LABEL_0\": 0,\n",
            "    \"LABEL_1\": 1\n",
            "  },\n",
            "  \"layer_norm_eps\": 1e-12,\n",
            "  \"max_position_embeddings\": 512,\n",
            "  \"num_attention_heads\": 12,\n",
            "  \"num_hidden_layers\": 12,\n",
            "  \"num_labels\": 11,\n",
            "  \"output_attentions\": false,\n",
            "  \"output_hidden_states\": false,\n",
            "  \"output_past\": true,\n",
            "  \"pruned_heads\": {},\n",
            "  \"torchscript\": false,\n",
            "  \"type_vocab_size\": 2,\n",
            "  \"use_bfloat16\": false,\n",
            "  \"vocab_size\": 30522\n",
            "}\n",
            "\n",
            "01/17/2020 13:51:40 - INFO - transformers.modeling_utils -   loading weights file /content/drive/My Drive/models/output/model_out/pytorch_model.bin\n"
          ],
          "name": "stderr"
        },
        {
          "output_type": "stream",
          "text": [
            "/content/drive/My Drive/models/output/model_out\n",
            "<class 'str'>\n"
          ],
          "name": "stdout"
        }
      ]
    },
    {
      "cell_type": "code",
      "metadata": {
        "id": "XlIb8nFTWg1A",
        "colab_type": "code",
        "outputId": "760e5869-0989-43b3-e550-700911522385",
        "colab": {
          "base_uri": "https://localhost:8080/",
          "height": 34
        }
      },
      "source": [
        "single_pred = predictor.predict(\"Such a gloomy day, I honestly don't what to do with mysel. #bored\")"
      ],
      "execution_count": 134,
      "outputs": [
        {
          "output_type": "stream",
          "text": [
            "01/17/2020 13:52:53 - INFO - root -   Writing example 0 of 1\n"
          ],
          "name": "stderr"
        }
      ]
    },
    {
      "cell_type": "code",
      "metadata": {
        "id": "SpMefoL5XTCE",
        "colab_type": "code",
        "outputId": "12280f53-15d4-4a9e-86bd-456a54e25630",
        "colab": {
          "base_uri": "https://localhost:8080/",
          "height": 208
        }
      },
      "source": [
        "single_pred"
      ],
      "execution_count": 135,
      "outputs": [
        {
          "output_type": "execute_result",
          "data": {
            "text/plain": [
              "[('sadness', 0.5184949040412903),\n",
              " ('anger', 0.45845359563827515),\n",
              " ('disgust', 0.4444648027420044),\n",
              " ('fear', 0.3596719205379486),\n",
              " ('pessimism', 0.2696155905723572),\n",
              " ('optimism', 0.1702408343553543),\n",
              " ('anticipation', 0.1692613959312439),\n",
              " ('joy', 0.13945797085762024),\n",
              " ('trust', 0.11005723476409912),\n",
              " ('surprise', 0.10396468639373779),\n",
              " ('love', 0.08772367238998413)]"
            ]
          },
          "metadata": {
            "tags": []
          },
          "execution_count": 135
        }
      ]
    },
    {
      "cell_type": "code",
      "metadata": {
        "id": "kki5oZmEtdmm",
        "colab_type": "code",
        "colab": {}
      },
      "source": [
        ""
      ],
      "execution_count": 0,
      "outputs": []
    }
  ]
}