{
  "nbformat": 4,
  "nbformat_minor": 0,
  "metadata": {
    "colab": {
      "name": "Emotional BERT.ipynb",
      "provenance": [],
      "collapsed_sections": [],
      "authorship_tag": "ABX9TyPGst3kJFWeZxjVf3N5F+Yk",
      "include_colab_link": true
    },
    "kernelspec": {
      "name": "python3",
      "display_name": "Python 3"
    },
    "accelerator": "GPU"
  },
  "cells": [
    {
      "cell_type": "markdown",
      "metadata": {
        "id": "view-in-github",
        "colab_type": "text"
      },
      "source": [
        "<a href=\"https://colab.research.google.com/github/oaarnikoivu/dissertation/blob/master/Emotional_BERT.ipynb\" target=\"_parent\"><img src=\"https://colab.research.google.com/assets/colab-badge.svg\" alt=\"Open In Colab\"/></a>"
      ]
    },
    {
      "cell_type": "markdown",
      "metadata": {
        "id": "_svLHoq91gv6",
        "colab_type": "text"
      },
      "source": [
        "# Detecting Emotions from Tweets with BERT "
      ]
    },
    {
      "cell_type": "markdown",
      "metadata": {
        "id": "RjqbblbR2JTC",
        "colab_type": "text"
      },
      "source": [
        "First we need to install the transformers python package to get access to the pre-trained BERT models."
      ]
    },
    {
      "cell_type": "code",
      "metadata": {
        "id": "_BSjxdQA1su-",
        "colab_type": "code",
        "colab": {
          "base_uri": "https://localhost:8080/",
          "height": 1000
        },
        "outputId": "24ce1258-d8b9-4261-b065-ca042d96f247"
      },
      "source": [
        "!pip install transformers\n",
        "!pip install fast-bert"
      ],
      "execution_count": 46,
      "outputs": [
        {
          "output_type": "stream",
          "text": [
            "Requirement already satisfied: transformers in /usr/local/lib/python3.6/dist-packages (2.3.0)\n",
            "Requirement already satisfied: boto3 in /usr/local/lib/python3.6/dist-packages (from transformers) (1.10.47)\n",
            "Requirement already satisfied: requests in /usr/local/lib/python3.6/dist-packages (from transformers) (2.21.0)\n",
            "Requirement already satisfied: sacremoses in /usr/local/lib/python3.6/dist-packages (from transformers) (0.0.38)\n",
            "Requirement already satisfied: numpy in /usr/local/lib/python3.6/dist-packages (from transformers) (1.17.5)\n",
            "Requirement already satisfied: tqdm in /usr/local/lib/python3.6/dist-packages (from transformers) (4.28.1)\n",
            "Requirement already satisfied: sentencepiece in /usr/local/lib/python3.6/dist-packages (from transformers) (0.1.85)\n",
            "Requirement already satisfied: regex!=2019.12.17 in /usr/local/lib/python3.6/dist-packages (from transformers) (2019.12.20)\n",
            "Requirement already satisfied: s3transfer<0.3.0,>=0.2.0 in /usr/local/lib/python3.6/dist-packages (from boto3->transformers) (0.2.1)\n",
            "Requirement already satisfied: botocore<1.14.0,>=1.13.47 in /usr/local/lib/python3.6/dist-packages (from boto3->transformers) (1.13.47)\n",
            "Requirement already satisfied: jmespath<1.0.0,>=0.7.1 in /usr/local/lib/python3.6/dist-packages (from boto3->transformers) (0.9.4)\n",
            "Requirement already satisfied: chardet<3.1.0,>=3.0.2 in /usr/local/lib/python3.6/dist-packages (from requests->transformers) (3.0.4)\n",
            "Requirement already satisfied: idna<2.9,>=2.5 in /usr/local/lib/python3.6/dist-packages (from requests->transformers) (2.8)\n",
            "Requirement already satisfied: urllib3<1.25,>=1.21.1 in /usr/local/lib/python3.6/dist-packages (from requests->transformers) (1.24.3)\n",
            "Requirement already satisfied: certifi>=2017.4.17 in /usr/local/lib/python3.6/dist-packages (from requests->transformers) (2019.11.28)\n",
            "Requirement already satisfied: click in /usr/local/lib/python3.6/dist-packages (from sacremoses->transformers) (7.0)\n",
            "Requirement already satisfied: six in /usr/local/lib/python3.6/dist-packages (from sacremoses->transformers) (1.12.0)\n",
            "Requirement already satisfied: joblib in /usr/local/lib/python3.6/dist-packages (from sacremoses->transformers) (0.14.1)\n",
            "Requirement already satisfied: python-dateutil<3.0.0,>=2.1; python_version >= \"2.7\" in /usr/local/lib/python3.6/dist-packages (from botocore<1.14.0,>=1.13.47->boto3->transformers) (2.6.1)\n",
            "Requirement already satisfied: docutils<0.16,>=0.10 in /usr/local/lib/python3.6/dist-packages (from botocore<1.14.0,>=1.13.47->boto3->transformers) (0.15.2)\n",
            "Requirement already satisfied: fast-bert in /usr/local/lib/python3.6/dist-packages (1.6.2)\n",
            "Requirement already satisfied: pytorch-lamb in /usr/local/lib/python3.6/dist-packages (from fast-bert) (1.0.0)\n",
            "Requirement already satisfied: fastprogress in /usr/local/lib/python3.6/dist-packages (from fast-bert) (0.2.2)\n",
            "Requirement already satisfied: python-box in /usr/local/lib/python3.6/dist-packages (from fast-bert) (4.0.4)\n",
            "Requirement already satisfied: tensorboardX in /usr/local/lib/python3.6/dist-packages (from fast-bert) (2.0)\n",
            "Requirement already satisfied: transformers>=2.3.0 in /usr/local/lib/python3.6/dist-packages (from fast-bert) (2.3.0)\n",
            "Requirement already satisfied: tokenizers in /usr/local/lib/python3.6/dist-packages (from fast-bert) (0.1.1)\n",
            "Requirement already satisfied: sklearn in /usr/local/lib/python3.6/dist-packages (from fast-bert) (0.0)\n",
            "Requirement already satisfied: spacy in /usr/local/lib/python3.6/dist-packages (from fast-bert) (2.1.9)\n",
            "Requirement already satisfied: pandas in /usr/local/lib/python3.6/dist-packages (from fast-bert) (0.25.3)\n",
            "Requirement already satisfied: torchvision in /usr/local/lib/python3.6/dist-packages (from pytorch-lamb->fast-bert) (0.4.2)\n",
            "Requirement already satisfied: torch>=0.4.1 in /usr/local/lib/python3.6/dist-packages (from pytorch-lamb->fast-bert) (1.3.1)\n",
            "Requirement already satisfied: tqdm in /usr/local/lib/python3.6/dist-packages (from pytorch-lamb->fast-bert) (4.28.1)\n",
            "Requirement already satisfied: toml in /usr/local/lib/python3.6/dist-packages (from python-box->fast-bert) (0.10.0)\n",
            "Requirement already satisfied: ruamel.yaml in /usr/local/lib/python3.6/dist-packages (from python-box->fast-bert) (0.16.5)\n",
            "Requirement already satisfied: six in /usr/local/lib/python3.6/dist-packages (from tensorboardX->fast-bert) (1.12.0)\n",
            "Requirement already satisfied: numpy in /usr/local/lib/python3.6/dist-packages (from tensorboardX->fast-bert) (1.17.5)\n",
            "Requirement already satisfied: protobuf>=3.8.0 in /usr/local/lib/python3.6/dist-packages (from tensorboardX->fast-bert) (3.10.0)\n",
            "Requirement already satisfied: sacremoses in /usr/local/lib/python3.6/dist-packages (from transformers>=2.3.0->fast-bert) (0.0.38)\n",
            "Requirement already satisfied: sentencepiece in /usr/local/lib/python3.6/dist-packages (from transformers>=2.3.0->fast-bert) (0.1.85)\n",
            "Requirement already satisfied: boto3 in /usr/local/lib/python3.6/dist-packages (from transformers>=2.3.0->fast-bert) (1.10.47)\n",
            "Requirement already satisfied: requests in /usr/local/lib/python3.6/dist-packages (from transformers>=2.3.0->fast-bert) (2.21.0)\n",
            "Requirement already satisfied: regex!=2019.12.17 in /usr/local/lib/python3.6/dist-packages (from transformers>=2.3.0->fast-bert) (2019.12.20)\n",
            "Requirement already satisfied: scikit-learn in /usr/local/lib/python3.6/dist-packages (from sklearn->fast-bert) (0.22.1)\n",
            "Requirement already satisfied: blis<0.3.0,>=0.2.2 in /usr/local/lib/python3.6/dist-packages (from spacy->fast-bert) (0.2.4)\n",
            "Requirement already satisfied: preshed<2.1.0,>=2.0.1 in /usr/local/lib/python3.6/dist-packages (from spacy->fast-bert) (2.0.1)\n",
            "Requirement already satisfied: srsly<1.1.0,>=0.0.6 in /usr/local/lib/python3.6/dist-packages (from spacy->fast-bert) (1.0.1)\n",
            "Requirement already satisfied: wasabi<1.1.0,>=0.2.0 in /usr/local/lib/python3.6/dist-packages (from spacy->fast-bert) (0.6.0)\n",
            "Requirement already satisfied: plac<1.0.0,>=0.9.6 in /usr/local/lib/python3.6/dist-packages (from spacy->fast-bert) (0.9.6)\n",
            "Requirement already satisfied: thinc<7.1.0,>=7.0.8 in /usr/local/lib/python3.6/dist-packages (from spacy->fast-bert) (7.0.8)\n",
            "Requirement already satisfied: cymem<2.1.0,>=2.0.2 in /usr/local/lib/python3.6/dist-packages (from spacy->fast-bert) (2.0.3)\n",
            "Requirement already satisfied: murmurhash<1.1.0,>=0.28.0 in /usr/local/lib/python3.6/dist-packages (from spacy->fast-bert) (1.0.2)\n",
            "Requirement already satisfied: pytz>=2017.2 in /usr/local/lib/python3.6/dist-packages (from pandas->fast-bert) (2018.9)\n",
            "Requirement already satisfied: python-dateutil>=2.6.1 in /usr/local/lib/python3.6/dist-packages (from pandas->fast-bert) (2.6.1)\n",
            "Requirement already satisfied: pillow>=4.1.1 in /usr/local/lib/python3.6/dist-packages (from torchvision->pytorch-lamb->fast-bert) (6.2.2)\n",
            "Requirement already satisfied: ruamel.yaml.clib>=0.1.2; platform_python_implementation == \"CPython\" and python_version < \"3.8\" in /usr/local/lib/python3.6/dist-packages (from ruamel.yaml->python-box->fast-bert) (0.2.0)\n",
            "Requirement already satisfied: setuptools in /usr/local/lib/python3.6/dist-packages (from protobuf>=3.8.0->tensorboardX->fast-bert) (42.0.2)\n",
            "Requirement already satisfied: click in /usr/local/lib/python3.6/dist-packages (from sacremoses->transformers>=2.3.0->fast-bert) (7.0)\n",
            "Requirement already satisfied: joblib in /usr/local/lib/python3.6/dist-packages (from sacremoses->transformers>=2.3.0->fast-bert) (0.14.1)\n",
            "Requirement already satisfied: jmespath<1.0.0,>=0.7.1 in /usr/local/lib/python3.6/dist-packages (from boto3->transformers>=2.3.0->fast-bert) (0.9.4)\n",
            "Requirement already satisfied: botocore<1.14.0,>=1.13.47 in /usr/local/lib/python3.6/dist-packages (from boto3->transformers>=2.3.0->fast-bert) (1.13.47)\n",
            "Requirement already satisfied: s3transfer<0.3.0,>=0.2.0 in /usr/local/lib/python3.6/dist-packages (from boto3->transformers>=2.3.0->fast-bert) (0.2.1)\n",
            "Requirement already satisfied: chardet<3.1.0,>=3.0.2 in /usr/local/lib/python3.6/dist-packages (from requests->transformers>=2.3.0->fast-bert) (3.0.4)\n",
            "Requirement already satisfied: urllib3<1.25,>=1.21.1 in /usr/local/lib/python3.6/dist-packages (from requests->transformers>=2.3.0->fast-bert) (1.24.3)\n",
            "Requirement already satisfied: idna<2.9,>=2.5 in /usr/local/lib/python3.6/dist-packages (from requests->transformers>=2.3.0->fast-bert) (2.8)\n",
            "Requirement already satisfied: certifi>=2017.4.17 in /usr/local/lib/python3.6/dist-packages (from requests->transformers>=2.3.0->fast-bert) (2019.11.28)\n",
            "Requirement already satisfied: scipy>=0.17.0 in /usr/local/lib/python3.6/dist-packages (from scikit-learn->sklearn->fast-bert) (1.4.1)\n",
            "Requirement already satisfied: docutils<0.16,>=0.10 in /usr/local/lib/python3.6/dist-packages (from botocore<1.14.0,>=1.13.47->boto3->transformers>=2.3.0->fast-bert) (0.15.2)\n"
          ],
          "name": "stdout"
        }
      ]
    },
    {
      "cell_type": "code",
      "metadata": {
        "id": "i_rH13oCtAfW",
        "colab_type": "code",
        "colab": {}
      },
      "source": [
        "from transformers import BertTokenizer, BertConfig, BertForSequenceClassification\n",
        "from box import Box\n",
        "from tqdm import tqdm, trange\n",
        "from pathlib import Path\n",
        "from sklearn.model_selection import train_test_split\n",
        "\n",
        "import torch\n",
        "import pandas as pd \n",
        "import collections \n",
        "import random\n",
        "import numpy as np\n",
        "\n",
        "import logging\n",
        "import datetime\n",
        "\n",
        "from torch.nn import BCEWithLogitsLoss\n",
        "from fast_bert.modeling import BertForMultiLabelSequenceClassification\n",
        "from fast_bert.data_cls import BertDataBunch, InputExample, InputFeatures, MultiLabelTextProcessor, convert_examples_to_features\n",
        "from fast_bert.learner_cls import BertLearner\n",
        "from fast_bert.metrics import accuracy_multilabel, accuracy_thresh, fbeta, roc_auc"
      ],
      "execution_count": 0,
      "outputs": []
    },
    {
      "cell_type": "code",
      "metadata": {
        "id": "ZT1oNHtY1-LS",
        "colab_type": "code",
        "outputId": "2af2aaa5-5f8d-4ddf-c7f2-974a16f4426d",
        "colab": {
          "base_uri": "https://localhost:8080/",
          "height": 34
        }
      },
      "source": [
        "from google.colab import drive \n",
        "drive.mount('/content/drive')"
      ],
      "execution_count": 48,
      "outputs": [
        {
          "output_type": "stream",
          "text": [
            "Drive already mounted at /content/drive; to attempt to forcibly remount, call drive.mount(\"/content/drive\", force_remount=True).\n"
          ],
          "name": "stdout"
        }
      ]
    },
    {
      "cell_type": "code",
      "metadata": {
        "id": "4y7FYGtxvPia",
        "colab_type": "code",
        "colab": {}
      },
      "source": [
        "logging.basicConfig(format='%(asctime)s - %(levelname)s - %(name)s -   %(message)s',\n",
        "                    datefmt='%m/%d/%Y %H:%M:%S',\n",
        "                    level=logging.INFO)\n",
        "logger = logging.getLogger(__name__)"
      ],
      "execution_count": 0,
      "outputs": []
    },
    {
      "cell_type": "code",
      "metadata": {
        "id": "k-C-TV4ctZHj",
        "colab_type": "code",
        "colab": {}
      },
      "source": [
        "torch.cuda.empty_cache()"
      ],
      "execution_count": 0,
      "outputs": []
    },
    {
      "cell_type": "code",
      "metadata": {
        "id": "30AoP3XJtdPG",
        "colab_type": "code",
        "colab": {}
      },
      "source": [
        "run_start_time = datetime.datetime.today().strftime('%Y-%m-%d_%H-%M-%S')"
      ],
      "execution_count": 0,
      "outputs": []
    },
    {
      "cell_type": "code",
      "metadata": {
        "id": "uJl-eJCYufXV",
        "colab_type": "code",
        "colab": {}
      },
      "source": [
        "path = '/content/drive/My Drive/'\n",
        "\n",
        "DATA_PATH = Path(path + '/datasets/SemEval/')\n",
        "LABEL_PATH = Path(path + '/labels/')\n",
        "\n",
        "MODEL_PATH = Path(path + '/models/')\n",
        "LOG_PATH = Path(path + '/logs/')\n",
        "\n",
        "MODEL_PATH.mkdir(exist_ok=True)\n",
        "LOG_PATH.mkdir(exist_ok=True)\n",
        "\n",
        "BERT_PRETRAINED_PATH = Path(path + '/BERT/')\n",
        "\n",
        "OUTPUT_PATH = Path(MODEL_PATH/'output')\n",
        "OUTPUT_PATH.mkdir(exist_ok=True)"
      ],
      "execution_count": 0,
      "outputs": []
    },
    {
      "cell_type": "markdown",
      "metadata": {
        "id": "gH_Mjo8Tp0WM",
        "colab_type": "text"
      },
      "source": [
        "# BERT Arguments"
      ]
    },
    {
      "cell_type": "code",
      "metadata": {
        "id": "1I433gPypSJV",
        "colab_type": "code",
        "colab": {}
      },
      "source": [
        "args = Box({\n",
        "    \"multi_gpu\": False,\n",
        "    \"multi_label\": True,\n",
        "    \"batch_size_per_gpu\": 16,\n",
        "    \"warmup_steps\": 500,\n",
        "    \"max_seq_length\": 128,\n",
        "    \"num_epochs\": 6, \n",
        "    \"is_fp16\": False,\n",
        "    \"logging_steps\": 50,\n",
        "    \"schedule_type\": 'warmup_cosine',\n",
        "    \"optimizer_type\": 'lamb',\n",
        "    \"learning_rate\": 6e-5\n",
        "})"
      ],
      "execution_count": 0,
      "outputs": []
    },
    {
      "cell_type": "markdown",
      "metadata": {
        "id": "kAydZmDxvZEs",
        "colab_type": "text"
      },
      "source": [
        "# GPU"
      ]
    },
    {
      "cell_type": "code",
      "metadata": {
        "id": "5klrCsFrvaSl",
        "colab_type": "code",
        "colab": {}
      },
      "source": [
        "device = torch.device('cuda')\n",
        "\n",
        "# check if multiple GPUs are available\n",
        "\n",
        "if torch.cuda.device_count() > 1:\n",
        "    args.multi_gpu = True\n",
        "else:\n",
        "    args.multi_gpu = False"
      ],
      "execution_count": 0,
      "outputs": []
    },
    {
      "cell_type": "markdown",
      "metadata": {
        "id": "p1hvSEJbjDSa",
        "colab_type": "text"
      },
      "source": [
        "# Custom BERT Models"
      ]
    },
    {
      "cell_type": "code",
      "metadata": {
        "id": "-vWZvXm2jCck",
        "colab_type": "code",
        "colab": {}
      },
      "source": [
        "class MyMultiLabelBertClassifier(BertForSequenceClassification):\n",
        "  \"\"\"Bert model for classification.\"\"\"\n",
        "\n",
        "  def forward(\n",
        "      self,\n",
        "      input_ids,\n",
        "      token_type_ids=None,\n",
        "      attention_mask=None,\n",
        "      labels=None,\n",
        "      position_ids=None,\n",
        "      head_mask=None,\n",
        "  ):\n",
        "\n",
        "    outputs = self.bert(\n",
        "        input_ids, \n",
        "        position_ids=position_ids,\n",
        "        token_type_ids=token_type_ids,\n",
        "        attention_mask=attention_mask,\n",
        "        head_mask=head_mask\n",
        "    )\n",
        "    pooled_output = outputs[1]\n",
        "\n",
        "    pooled_output = self.dropout(pooled_output)\n",
        "    logits = self.classifier(pooled_output)\n",
        "\n",
        "    # add hidden states and attention if they are here\n",
        "    outputs = (logits,) + outputs[2:]\n",
        "\n",
        "    if labels is not None:\n",
        "      loss_fct = BCEWithLogitsLoss()\n",
        "\n",
        "      loss = loss_fct(\n",
        "          logits.view(-1, self.num_labels), labels.view(-1, self.num_labels)\n",
        "      )\n",
        "      outputs = (loss,) + outputs\n",
        "    \n",
        "    return outputs "
      ],
      "execution_count": 0,
      "outputs": []
    },
    {
      "cell_type": "code",
      "metadata": {
        "id": "D14Fnc4q92sF",
        "colab_type": "code",
        "colab": {}
      },
      "source": [
        "from fast_bert.data_cls import MODEL_CLASSES as MCd "
      ],
      "execution_count": 0,
      "outputs": []
    },
    {
      "cell_type": "code",
      "metadata": {
        "id": "5cB1zgcY96N2",
        "colab_type": "code",
        "colab": {
          "base_uri": "https://localhost:8080/",
          "height": 69
        },
        "outputId": "735c742c-ce16-436c-9942-340d9290219f"
      },
      "source": [
        "MCd['bert']"
      ],
      "execution_count": 73,
      "outputs": [
        {
          "output_type": "execute_result",
          "data": {
            "text/plain": [
              "(transformers.configuration_bert.BertConfig,\n",
              " transformers.modeling_bert.BertForSequenceClassification,\n",
              " transformers.tokenization_bert.BertTokenizer)"
            ]
          },
          "metadata": {
            "tags": []
          },
          "execution_count": 73
        }
      ]
    },
    {
      "cell_type": "code",
      "metadata": {
        "id": "ugPglPiA98dq",
        "colab_type": "code",
        "colab": {}
      },
      "source": [
        "MCd['custom_bert'] = (BertConfig,\n",
        "                                BertForSequenceClassification,\n",
        "                                BertTokenizer)"
      ],
      "execution_count": 0,
      "outputs": []
    },
    {
      "cell_type": "code",
      "metadata": {
        "id": "6eqYpg2--EEL",
        "colab_type": "code",
        "colab": {
          "base_uri": "https://localhost:8080/",
          "height": 434
        },
        "outputId": "ebfdf5f8-c3b3-4395-8f86-4f9dfd671893"
      },
      "source": [
        "MCd"
      ],
      "execution_count": 75,
      "outputs": [
        {
          "output_type": "execute_result",
          "data": {
            "text/plain": [
              "{'albert': (transformers.configuration_albert.AlbertConfig,\n",
              "  transformers.modeling_albert.AlbertForSequenceClassification,\n",
              "  transformers.tokenization_albert.AlbertTokenizer),\n",
              " 'bert': (transformers.configuration_bert.BertConfig,\n",
              "  transformers.modeling_bert.BertForSequenceClassification,\n",
              "  transformers.tokenization_bert.BertTokenizer),\n",
              " 'camembert': (transformers.configuration_camembert.CamembertConfig,\n",
              "  transformers.modeling_camembert.CamembertForSequenceClassification,\n",
              "  transformers.tokenization_camembert.CamembertTokenizer),\n",
              " 'custom_bert': (transformers.configuration_bert.BertConfig,\n",
              "  transformers.modeling_bert.BertForSequenceClassification,\n",
              "  transformers.tokenization_bert.BertTokenizer),\n",
              " 'distilbert': (transformers.configuration_distilbert.DistilBertConfig,\n",
              "  transformers.modeling_distilbert.DistilBertForSequenceClassification,\n",
              "  transformers.tokenization_distilbert.DistilBertTokenizer),\n",
              " 'roberta': (transformers.configuration_roberta.RobertaConfig,\n",
              "  transformers.modeling_roberta.RobertaForSequenceClassification,\n",
              "  transformers.tokenization_roberta.RobertaTokenizer),\n",
              " 'xlm': (transformers.configuration_xlm.XLMConfig,\n",
              "  transformers.modeling_xlm.XLMForSequenceClassification,\n",
              "  transformers.tokenization_xlm.XLMTokenizer),\n",
              " 'xlnet': (transformers.configuration_xlnet.XLNetConfig,\n",
              "  transformers.modeling_xlnet.XLNetForSequenceClassification,\n",
              "  transformers.tokenization_xlnet.XLNetTokenizer)}"
            ]
          },
          "metadata": {
            "tags": []
          },
          "execution_count": 75
        }
      ]
    },
    {
      "cell_type": "code",
      "metadata": {
        "id": "QYrluRsY-Gag",
        "colab_type": "code",
        "colab": {}
      },
      "source": [
        "from fast_bert.learner_cls import MODEL_CLASSES as MCl"
      ],
      "execution_count": 0,
      "outputs": []
    },
    {
      "cell_type": "code",
      "metadata": {
        "id": "H1sX6rPr-KoG",
        "colab_type": "code",
        "colab": {
          "base_uri": "https://localhost:8080/",
          "height": 573
        },
        "outputId": "dbc5d67d-bc54-47a8-a9ca-e0a76559e707"
      },
      "source": [
        "MCl"
      ],
      "execution_count": 77,
      "outputs": [
        {
          "output_type": "execute_result",
          "data": {
            "text/plain": [
              "{'albert': (transformers.configuration_albert.AlbertConfig,\n",
              "  (transformers.modeling_albert.AlbertForSequenceClassification,\n",
              "   fast_bert.modeling.AlbertForMultiLabelSequenceClassification),\n",
              "  transformers.tokenization_albert.AlbertTokenizer),\n",
              " 'bert': (transformers.configuration_bert.BertConfig,\n",
              "  (transformers.modeling_bert.BertForSequenceClassification,\n",
              "   fast_bert.modeling.BertForMultiLabelSequenceClassification),\n",
              "  transformers.tokenization_bert.BertTokenizer),\n",
              " 'camembert': (transformers.configuration_camembert.CamembertConfig,\n",
              "  (transformers.modeling_camembert.CamembertForSequenceClassification,\n",
              "   fast_bert.modeling.CamembertForMultiLabelSequenceClassification),\n",
              "  transformers.tokenization_camembert.CamembertTokenizer),\n",
              " 'custom_bert': (transformers.configuration_bert.BertConfig,\n",
              "  (transformers.modeling_bert.BertForSequenceClassification,\n",
              "   __main__.MyMultiLabelBertClassifier),\n",
              "  transformers.tokenization_bert.BertTokenizer),\n",
              " 'distilbert': (transformers.configuration_distilbert.DistilBertConfig,\n",
              "  (transformers.modeling_distilbert.DistilBertForSequenceClassification,\n",
              "   fast_bert.modeling.DistilBertForMultiLabelSequenceClassification),\n",
              "  transformers.tokenization_distilbert.DistilBertTokenizer),\n",
              " 'roberta': (transformers.configuration_roberta.RobertaConfig,\n",
              "  (transformers.modeling_roberta.RobertaForSequenceClassification,\n",
              "   fast_bert.modeling.RobertaForMultiLabelSequenceClassification),\n",
              "  transformers.tokenization_roberta.RobertaTokenizer),\n",
              " 'xlm': (transformers.configuration_xlm.XLMConfig,\n",
              "  (transformers.modeling_xlm.XLMForSequenceClassification,\n",
              "   transformers.modeling_xlm.XLMForSequenceClassification),\n",
              "  transformers.tokenization_xlm.XLMTokenizer),\n",
              " 'xlnet': (transformers.configuration_xlnet.XLNetConfig,\n",
              "  (transformers.modeling_xlnet.XLNetForSequenceClassification,\n",
              "   fast_bert.modeling.XLNetForMultiLabelSequenceClassification),\n",
              "  transformers.tokenization_xlnet.XLNetTokenizer)}"
            ]
          },
          "metadata": {
            "tags": []
          },
          "execution_count": 77
        }
      ]
    },
    {
      "cell_type": "code",
      "metadata": {
        "id": "CdaXz0KX-aPj",
        "colab_type": "code",
        "colab": {}
      },
      "source": [
        "MCl['custom_bert'] = (BertConfig,\n",
        "                      (BertForSequenceClassification, MyMultiLabelBertClassifier),\n",
        "                      BertTokenizer)"
      ],
      "execution_count": 0,
      "outputs": []
    },
    {
      "cell_type": "code",
      "metadata": {
        "id": "ywlT5bNm-oMe",
        "colab_type": "code",
        "colab": {
          "base_uri": "https://localhost:8080/",
          "height": 86
        },
        "outputId": "7ba45f2a-2411-4b07-8f67-ccfb048e42f1"
      },
      "source": [
        "MCl['custom_bert']"
      ],
      "execution_count": 79,
      "outputs": [
        {
          "output_type": "execute_result",
          "data": {
            "text/plain": [
              "(transformers.configuration_bert.BertConfig,\n",
              " (transformers.modeling_bert.BertForSequenceClassification,\n",
              "  __main__.MyMultiLabelBertClassifier),\n",
              " transformers.tokenization_bert.BertTokenizer)"
            ]
          },
          "metadata": {
            "tags": []
          },
          "execution_count": 79
        }
      ]
    },
    {
      "cell_type": "code",
      "metadata": {
        "id": "b3cECmVCu0Sv",
        "colab_type": "code",
        "colab": {}
      },
      "source": [
        "label_cols = ['anger', 'anticipation', 'disgust', 'fear', 'joy', \n",
        "              'love', 'optimism', 'pessimism', 'sadness', 'surprise', 'trust']"
      ],
      "execution_count": 0,
      "outputs": []
    },
    {
      "cell_type": "markdown",
      "metadata": {
        "id": "mgbv9b8gqivJ",
        "colab_type": "text"
      },
      "source": [
        "# FastBert DataBunch Object"
      ]
    },
    {
      "cell_type": "code",
      "metadata": {
        "id": "xbAlkfx3vlVc",
        "colab_type": "code",
        "outputId": "9801e581-6ef1-4871-926c-f786f10ce9a6",
        "colab": {
          "base_uri": "https://localhost:8080/",
          "height": 106
        }
      },
      "source": [
        "databunch = BertDataBunch(DATA_PATH, \n",
        "                          LABEL_PATH,\n",
        "                          tokenizer='bert-base-uncased',\n",
        "                          train_file='train.csv',\n",
        "                          val_file='val.csv',\n",
        "                          test_data='test.csv',\n",
        "                          label_file='labels.csv',\n",
        "                          text_col=\"Tweet\",\n",
        "                          label_col=label_cols,\n",
        "                          batch_size_per_gpu=args.batch_size_per_gpu,\n",
        "                          max_seq_length=args.max_seq_length,\n",
        "                          multi_gpu=args.multi_gpu,\n",
        "                          multi_label=True,\n",
        "                          model_type='custom_bert')"
      ],
      "execution_count": 81,
      "outputs": [
        {
          "output_type": "stream",
          "text": [
            "01/17/2020 15:01:51 - INFO - transformers.tokenization_utils -   loading file https://s3.amazonaws.com/models.huggingface.co/bert/bert-base-uncased-vocab.txt from cache at /root/.cache/torch/transformers/26bc1ad6c0ac742e9b52263248f6d0f00068293b33709fae12320c0e35ccfbbb.542ce4285a40d23a559526243235df47c5f75c197f04f37d1a0c124c32c9a084\n",
            "01/17/2020 15:01:51 - INFO - root -   Loading features from cached file /content/drive/My Drive/datasets/SemEval/cache/cached_custom_bert_train_multi_label_128_train.csv\n",
            "01/17/2020 15:01:51 - INFO - root -   Loading features from cached file /content/drive/My Drive/datasets/SemEval/cache/cached_custom_bert_dev_multi_label_128_val.csv\n",
            "01/17/2020 15:01:51 - INFO - root -   Loading features from cached file /content/drive/My Drive/datasets/SemEval/cache/cached_custom_bert_test_multi_label_128_test\n"
          ],
          "name": "stderr"
        }
      ]
    },
    {
      "cell_type": "code",
      "metadata": {
        "id": "Nc7YDDBiPTLI",
        "colab_type": "code",
        "outputId": "45da85d7-978b-4b14-e2bb-b4793ab11d3b",
        "colab": {
          "base_uri": "https://localhost:8080/",
          "height": 34
        }
      },
      "source": [
        "databunch.train_dl.dataset[0][3]"
      ],
      "execution_count": 82,
      "outputs": [
        {
          "output_type": "execute_result",
          "data": {
            "text/plain": [
              "tensor([0., 1., 0., 0., 0., 0., 1., 0., 0., 0., 1.])"
            ]
          },
          "metadata": {
            "tags": []
          },
          "execution_count": 82
        }
      ]
    },
    {
      "cell_type": "code",
      "metadata": {
        "id": "4kJDhMBnPp1T",
        "colab_type": "code",
        "outputId": "040bf324-ad25-495e-cf67-5c7d1e84d390",
        "colab": {
          "base_uri": "https://localhost:8080/",
          "height": 34
        }
      },
      "source": [
        "num_labels = len(databunch.labels)\n",
        "num_labels"
      ],
      "execution_count": 83,
      "outputs": [
        {
          "output_type": "execute_result",
          "data": {
            "text/plain": [
              "11"
            ]
          },
          "metadata": {
            "tags": []
          },
          "execution_count": 83
        }
      ]
    },
    {
      "cell_type": "markdown",
      "metadata": {
        "id": "ELcXJYnxrxTw",
        "colab_type": "text"
      },
      "source": [
        "# Evaluation Metrics"
      ]
    },
    {
      "cell_type": "code",
      "metadata": {
        "id": "xj1upzMtPtPn",
        "colab_type": "code",
        "colab": {}
      },
      "source": [
        "metrics = []\n",
        "metrics.append({'name': 'accuracy_thresh', 'function': accuracy_thresh})\n",
        "metrics.append({'name': 'roc_auc', 'function': roc_auc})\n",
        "metrics.append({'name': 'fbeta', 'function': fbeta})"
      ],
      "execution_count": 0,
      "outputs": []
    },
    {
      "cell_type": "markdown",
      "metadata": {
        "id": "qSXuL6k8r2Vr",
        "colab_type": "text"
      },
      "source": [
        "# Define FastBert Learner"
      ]
    },
    {
      "cell_type": "code",
      "metadata": {
        "id": "nUyFd9rLP4ie",
        "colab_type": "code",
        "outputId": "4d60341c-4f7b-46df-e4f2-095450069270",
        "colab": {
          "base_uri": "https://localhost:8080/",
          "height": 697
        }
      },
      "source": [
        "learner = BertLearner.from_pretrained_model(\n",
        "    databunch,\n",
        "    pretrained_path='bert-base-uncased',\n",
        "    metrics=metrics,\n",
        "    device=device,\n",
        "    logger=logger,\n",
        "    output_dir=OUTPUT_PATH,\n",
        "    finetuned_wgts_path=None,\n",
        "    warmup_steps=args.warmup_steps,\n",
        "    multi_gpu=args.multi_gpu,\n",
        "    is_fp16=args.is_fp16,\n",
        "    multi_label=args.multi_label,\n",
        "    logging_steps=args.logging_steps)"
      ],
      "execution_count": 85,
      "outputs": [
        {
          "output_type": "stream",
          "text": [
            "01/17/2020 15:01:54 - INFO - transformers.configuration_utils -   loading configuration file https://s3.amazonaws.com/models.huggingface.co/bert/bert-base-uncased-config.json from cache at /root/.cache/torch/transformers/4dad0251492946e18ac39290fcfe91b89d370fee250efe9521476438fe8ca185.bf3b9ea126d8c0001ee8a1e8b92229871d06d36d8808208cc2449280da87785c\n",
            "01/17/2020 15:01:54 - INFO - transformers.configuration_utils -   Model config {\n",
            "  \"attention_probs_dropout_prob\": 0.1,\n",
            "  \"finetuning_task\": null,\n",
            "  \"hidden_act\": \"gelu\",\n",
            "  \"hidden_dropout_prob\": 0.1,\n",
            "  \"hidden_size\": 768,\n",
            "  \"id2label\": {\n",
            "    \"0\": \"LABEL_0\",\n",
            "    \"1\": \"LABEL_1\"\n",
            "  },\n",
            "  \"initializer_range\": 0.02,\n",
            "  \"intermediate_size\": 3072,\n",
            "  \"is_decoder\": false,\n",
            "  \"label2id\": {\n",
            "    \"LABEL_0\": 0,\n",
            "    \"LABEL_1\": 1\n",
            "  },\n",
            "  \"layer_norm_eps\": 1e-12,\n",
            "  \"max_position_embeddings\": 512,\n",
            "  \"num_attention_heads\": 12,\n",
            "  \"num_hidden_layers\": 12,\n",
            "  \"num_labels\": 11,\n",
            "  \"output_attentions\": false,\n",
            "  \"output_hidden_states\": false,\n",
            "  \"output_past\": true,\n",
            "  \"pruned_heads\": {},\n",
            "  \"torchscript\": false,\n",
            "  \"type_vocab_size\": 2,\n",
            "  \"use_bfloat16\": false,\n",
            "  \"vocab_size\": 30522\n",
            "}\n",
            "\n",
            "01/17/2020 15:01:55 - INFO - transformers.modeling_utils -   loading weights file https://s3.amazonaws.com/models.huggingface.co/bert/bert-base-uncased-pytorch_model.bin from cache at /root/.cache/torch/transformers/aa1ef1aede4482d0dbcd4d52baad8ae300e60902e88fcb0bebdec09afd232066.36ca03ab34a1a5d5fa7bc3d03d55c4fa650fed07220e2eeebc06ce58d0e9a157\n"
          ],
          "name": "stderr"
        },
        {
          "output_type": "stream",
          "text": [
            "bert-base-uncased\n",
            "<class 'str'>\n"
          ],
          "name": "stdout"
        },
        {
          "output_type": "stream",
          "text": [
            "01/17/2020 15:01:57 - INFO - transformers.modeling_utils -   Weights of MyMultiLabelBertClassifier not initialized from pretrained model: ['classifier.weight', 'classifier.bias']\n",
            "01/17/2020 15:01:57 - INFO - transformers.modeling_utils -   Weights from pretrained model not used in MyMultiLabelBertClassifier: ['cls.predictions.bias', 'cls.predictions.transform.dense.weight', 'cls.predictions.transform.dense.bias', 'cls.predictions.decoder.weight', 'cls.seq_relationship.weight', 'cls.seq_relationship.bias', 'cls.predictions.transform.LayerNorm.weight', 'cls.predictions.transform.LayerNorm.bias']\n"
          ],
          "name": "stderr"
        }
      ]
    },
    {
      "cell_type": "markdown",
      "metadata": {
        "id": "L0CrXJJesFsF",
        "colab_type": "text"
      },
      "source": [
        "# Train the model"
      ]
    },
    {
      "cell_type": "code",
      "metadata": {
        "id": "h-F9yRXfQt2X",
        "colab_type": "code",
        "outputId": "4c894cea-d6ea-4f02-fe8a-79b28649d03f",
        "colab": {
          "base_uri": "https://localhost:8080/",
          "height": 1000
        }
      },
      "source": [
        "learner.fit(args.num_epochs, \n",
        "            args.learning_rate, \n",
        "            schedule_type=args.schedule_type,\n",
        "            optimizer_type=args.optimizer_type,\n",
        "            validate=True)"
      ],
      "execution_count": 86,
      "outputs": [
        {
          "output_type": "stream",
          "text": [
            "01/17/2020 15:02:00 - INFO - __main__ -   ***** Running training *****\n",
            "01/17/2020 15:02:00 - INFO - __main__ -     Num examples = 6838\n",
            "01/17/2020 15:02:00 - INFO - __main__ -     Num Epochs = 6\n",
            "01/17/2020 15:02:00 - INFO - __main__ -     Total train batch size (w. parallel, distributed & accumulation) = 16\n",
            "01/17/2020 15:02:00 - INFO - __main__ -     Gradient Accumulation steps = 1\n",
            "01/17/2020 15:02:00 - INFO - __main__ -     Total optimization steps = 2568\n"
          ],
          "name": "stderr"
        },
        {
          "output_type": "display_data",
          "data": {
            "text/html": [
              ""
            ],
            "text/plain": [
              "<IPython.core.display.HTML object>"
            ]
          },
          "metadata": {
            "tags": []
          }
        },
        {
          "output_type": "stream",
          "text": [
            "01/17/2020 15:02:15 - INFO - __main__ -   Running evaluation\n",
            "01/17/2020 15:02:15 - INFO - __main__ -     Num examples = 886\n",
            "01/17/2020 15:02:15 - INFO - __main__ -     Batch size = 32\n"
          ],
          "name": "stderr"
        },
        {
          "output_type": "display_data",
          "data": {
            "text/html": [
              "\n",
              "    <div>\n",
              "        <style>\n",
              "            /* Turns off some styling */\n",
              "            progress {\n",
              "                /* gets rid of default border in Firefox and Opera. */\n",
              "                border: none;\n",
              "                /* Needs to be in here for Safari polyfill so background images work as expected. */\n",
              "                background-size: auto;\n",
              "            }\n",
              "            .progress-bar-interrupted, .progress-bar-interrupted::-webkit-progress-bar {\n",
              "                background: #F44336;\n",
              "            }\n",
              "        </style>\n",
              "      <progress value='28' class='' max='28', style='width:300px; height:20px; vertical-align: middle;'></progress>\n",
              "      100.00% [28/28 00:03<00:00]\n",
              "    </div>\n",
              "    "
            ],
            "text/plain": [
              "<IPython.core.display.HTML object>"
            ]
          },
          "metadata": {
            "tags": []
          }
        },
        {
          "output_type": "stream",
          "text": [
            "01/17/2020 15:02:19 - INFO - __main__ -   eval_loss after step 50: 0.7069349735975266: \n",
            "01/17/2020 15:02:19 - INFO - __main__ -   eval_accuracy_thresh after step 50: 0.4897393584251404: \n",
            "01/17/2020 15:02:19 - INFO - __main__ -   eval_roc_auc after step 50: 0.5051216858329646: \n",
            "01/17/2020 15:02:19 - INFO - __main__ -   eval_fbeta after step 50: 0.5426353216171265: \n",
            "01/17/2020 15:02:19 - INFO - __main__ -   lr after step 50: 6e-06\n",
            "01/17/2020 15:02:19 - INFO - __main__ -   train_loss after step 50: 0.7110221040248871\n",
            "01/17/2020 15:02:33 - INFO - __main__ -   Running evaluation\n",
            "01/17/2020 15:02:33 - INFO - __main__ -     Num examples = 886\n",
            "01/17/2020 15:02:33 - INFO - __main__ -     Batch size = 32\n"
          ],
          "name": "stderr"
        },
        {
          "output_type": "display_data",
          "data": {
            "text/html": [
              "\n",
              "    <div>\n",
              "        <style>\n",
              "            /* Turns off some styling */\n",
              "            progress {\n",
              "                /* gets rid of default border in Firefox and Opera. */\n",
              "                border: none;\n",
              "                /* Needs to be in here for Safari polyfill so background images work as expected. */\n",
              "                background-size: auto;\n",
              "            }\n",
              "            .progress-bar-interrupted, .progress-bar-interrupted::-webkit-progress-bar {\n",
              "                background: #F44336;\n",
              "            }\n",
              "        </style>\n",
              "      <progress value='28' class='' max='28', style='width:300px; height:20px; vertical-align: middle;'></progress>\n",
              "      100.00% [28/28 00:03<00:00]\n",
              "    </div>\n",
              "    "
            ],
            "text/plain": [
              "<IPython.core.display.HTML object>"
            ]
          },
          "metadata": {
            "tags": []
          }
        },
        {
          "output_type": "stream",
          "text": [
            "01/17/2020 15:02:37 - INFO - __main__ -   eval_loss after step 100: 0.6992753595113754: \n",
            "01/17/2020 15:02:37 - INFO - __main__ -   eval_accuracy_thresh after step 100: 0.507387638092041: \n",
            "01/17/2020 15:02:37 - INFO - __main__ -   eval_roc_auc after step 100: 0.504594573241654: \n",
            "01/17/2020 15:02:37 - INFO - __main__ -   eval_fbeta after step 100: 0.5335439443588257: \n",
            "01/17/2020 15:02:37 - INFO - __main__ -   lr after step 100: 1.2e-05\n",
            "01/17/2020 15:02:37 - INFO - __main__ -   train_loss after step 100: 0.7046544277667999\n",
            "01/17/2020 15:02:51 - INFO - __main__ -   Running evaluation\n",
            "01/17/2020 15:02:51 - INFO - __main__ -     Num examples = 886\n",
            "01/17/2020 15:02:51 - INFO - __main__ -     Batch size = 32\n"
          ],
          "name": "stderr"
        },
        {
          "output_type": "display_data",
          "data": {
            "text/html": [
              "\n",
              "    <div>\n",
              "        <style>\n",
              "            /* Turns off some styling */\n",
              "            progress {\n",
              "                /* gets rid of default border in Firefox and Opera. */\n",
              "                border: none;\n",
              "                /* Needs to be in here for Safari polyfill so background images work as expected. */\n",
              "                background-size: auto;\n",
              "            }\n",
              "            .progress-bar-interrupted, .progress-bar-interrupted::-webkit-progress-bar {\n",
              "                background: #F44336;\n",
              "            }\n",
              "        </style>\n",
              "      <progress value='28' class='' max='28', style='width:300px; height:20px; vertical-align: middle;'></progress>\n",
              "      100.00% [28/28 00:03<00:00]\n",
              "    </div>\n",
              "    "
            ],
            "text/plain": [
              "<IPython.core.display.HTML object>"
            ]
          },
          "metadata": {
            "tags": []
          }
        },
        {
          "output_type": "stream",
          "text": [
            "01/17/2020 15:02:55 - INFO - __main__ -   eval_loss after step 150: 0.6876016216618674: \n",
            "01/17/2020 15:02:55 - INFO - __main__ -   eval_accuracy_thresh after step 150: 0.5534577965736389: \n",
            "01/17/2020 15:02:55 - INFO - __main__ -   eval_roc_auc after step 150: 0.5029914249640889: \n",
            "01/17/2020 15:02:55 - INFO - __main__ -   eval_fbeta after step 150: 0.5220840573310852: \n",
            "01/17/2020 15:02:55 - INFO - __main__ -   lr after step 150: 1.8e-05\n",
            "01/17/2020 15:02:55 - INFO - __main__ -   train_loss after step 150: 0.693045687675476\n",
            "01/17/2020 15:03:10 - INFO - __main__ -   Running evaluation\n",
            "01/17/2020 15:03:10 - INFO - __main__ -     Num examples = 886\n",
            "01/17/2020 15:03:10 - INFO - __main__ -     Batch size = 32\n"
          ],
          "name": "stderr"
        },
        {
          "output_type": "display_data",
          "data": {
            "text/html": [
              "\n",
              "    <div>\n",
              "        <style>\n",
              "            /* Turns off some styling */\n",
              "            progress {\n",
              "                /* gets rid of default border in Firefox and Opera. */\n",
              "                border: none;\n",
              "                /* Needs to be in here for Safari polyfill so background images work as expected. */\n",
              "                background-size: auto;\n",
              "            }\n",
              "            .progress-bar-interrupted, .progress-bar-interrupted::-webkit-progress-bar {\n",
              "                background: #F44336;\n",
              "            }\n",
              "        </style>\n",
              "      <progress value='28' class='' max='28', style='width:300px; height:20px; vertical-align: middle;'></progress>\n",
              "      100.00% [28/28 00:03<00:00]\n",
              "    </div>\n",
              "    "
            ],
            "text/plain": [
              "<IPython.core.display.HTML object>"
            ]
          },
          "metadata": {
            "tags": []
          }
        },
        {
          "output_type": "stream",
          "text": [
            "01/17/2020 15:03:13 - INFO - __main__ -   eval_loss after step 200: 0.6734783777168819: \n",
            "01/17/2020 15:03:13 - INFO - __main__ -   eval_accuracy_thresh after step 200: 0.5890621542930603: \n",
            "01/17/2020 15:03:13 - INFO - __main__ -   eval_roc_auc after step 200: 0.5010194808978119: \n",
            "01/17/2020 15:03:13 - INFO - __main__ -   eval_fbeta after step 200: 0.5235660076141357: \n",
            "01/17/2020 15:03:13 - INFO - __main__ -   lr after step 200: 2.4e-05\n",
            "01/17/2020 15:03:13 - INFO - __main__ -   train_loss after step 200: 0.6833480286598206\n",
            "01/17/2020 15:03:28 - INFO - __main__ -   Running evaluation\n",
            "01/17/2020 15:03:28 - INFO - __main__ -     Num examples = 886\n",
            "01/17/2020 15:03:28 - INFO - __main__ -     Batch size = 32\n"
          ],
          "name": "stderr"
        },
        {
          "output_type": "display_data",
          "data": {
            "text/html": [
              "\n",
              "    <div>\n",
              "        <style>\n",
              "            /* Turns off some styling */\n",
              "            progress {\n",
              "                /* gets rid of default border in Firefox and Opera. */\n",
              "                border: none;\n",
              "                /* Needs to be in here for Safari polyfill so background images work as expected. */\n",
              "                background-size: auto;\n",
              "            }\n",
              "            .progress-bar-interrupted, .progress-bar-interrupted::-webkit-progress-bar {\n",
              "                background: #F44336;\n",
              "            }\n",
              "        </style>\n",
              "      <progress value='28' class='' max='28', style='width:300px; height:20px; vertical-align: middle;'></progress>\n",
              "      100.00% [28/28 00:03<00:00]\n",
              "    </div>\n",
              "    "
            ],
            "text/plain": [
              "<IPython.core.display.HTML object>"
            ]
          },
          "metadata": {
            "tags": []
          }
        },
        {
          "output_type": "stream",
          "text": [
            "01/17/2020 15:03:32 - INFO - __main__ -   eval_loss after step 250: 0.6540990280253547: \n",
            "01/17/2020 15:03:32 - INFO - __main__ -   eval_accuracy_thresh after step 250: 0.6320541501045227: \n",
            "01/17/2020 15:03:32 - INFO - __main__ -   eval_roc_auc after step 250: 0.5223913646267796: \n",
            "01/17/2020 15:03:32 - INFO - __main__ -   eval_fbeta after step 250: 0.531692385673523: \n",
            "01/17/2020 15:03:32 - INFO - __main__ -   lr after step 250: 3e-05\n",
            "01/17/2020 15:03:32 - INFO - __main__ -   train_loss after step 250: 0.6637010908126831\n",
            "01/17/2020 15:03:46 - INFO - __main__ -   Running evaluation\n",
            "01/17/2020 15:03:46 - INFO - __main__ -     Num examples = 886\n",
            "01/17/2020 15:03:46 - INFO - __main__ -     Batch size = 32\n"
          ],
          "name": "stderr"
        },
        {
          "output_type": "display_data",
          "data": {
            "text/html": [
              "\n",
              "    <div>\n",
              "        <style>\n",
              "            /* Turns off some styling */\n",
              "            progress {\n",
              "                /* gets rid of default border in Firefox and Opera. */\n",
              "                border: none;\n",
              "                /* Needs to be in here for Safari polyfill so background images work as expected. */\n",
              "                background-size: auto;\n",
              "            }\n",
              "            .progress-bar-interrupted, .progress-bar-interrupted::-webkit-progress-bar {\n",
              "                background: #F44336;\n",
              "            }\n",
              "        </style>\n",
              "      <progress value='28' class='' max='28', style='width:300px; height:20px; vertical-align: middle;'></progress>\n",
              "      100.00% [28/28 00:03<00:00]\n",
              "    </div>\n",
              "    "
            ],
            "text/plain": [
              "<IPython.core.display.HTML object>"
            ]
          },
          "metadata": {
            "tags": []
          }
        },
        {
          "output_type": "stream",
          "text": [
            "01/17/2020 15:03:50 - INFO - __main__ -   eval_loss after step 300: 0.6257662006786892: \n",
            "01/17/2020 15:03:50 - INFO - __main__ -   eval_accuracy_thresh after step 300: 0.6946439146995544: \n",
            "01/17/2020 15:03:50 - INFO - __main__ -   eval_roc_auc after step 300: 0.566195244578107: \n",
            "01/17/2020 15:03:50 - INFO - __main__ -   eval_fbeta after step 300: 0.5556043386459351: \n",
            "01/17/2020 15:03:50 - INFO - __main__ -   lr after step 300: 3.6e-05\n",
            "01/17/2020 15:03:50 - INFO - __main__ -   train_loss after step 300: 0.6400587141513825\n",
            "01/17/2020 15:04:04 - INFO - __main__ -   Running evaluation\n",
            "01/17/2020 15:04:04 - INFO - __main__ -     Num examples = 886\n",
            "01/17/2020 15:04:04 - INFO - __main__ -     Batch size = 32\n"
          ],
          "name": "stderr"
        },
        {
          "output_type": "display_data",
          "data": {
            "text/html": [
              "\n",
              "    <div>\n",
              "        <style>\n",
              "            /* Turns off some styling */\n",
              "            progress {\n",
              "                /* gets rid of default border in Firefox and Opera. */\n",
              "                border: none;\n",
              "                /* Needs to be in here for Safari polyfill so background images work as expected. */\n",
              "                background-size: auto;\n",
              "            }\n",
              "            .progress-bar-interrupted, .progress-bar-interrupted::-webkit-progress-bar {\n",
              "                background: #F44336;\n",
              "            }\n",
              "        </style>\n",
              "      <progress value='28' class='' max='28', style='width:300px; height:20px; vertical-align: middle;'></progress>\n",
              "      100.00% [28/28 00:03<00:00]\n",
              "    </div>\n",
              "    "
            ],
            "text/plain": [
              "<IPython.core.display.HTML object>"
            ]
          },
          "metadata": {
            "tags": []
          }
        },
        {
          "output_type": "stream",
          "text": [
            "01/17/2020 15:04:08 - INFO - __main__ -   eval_loss after step 350: 0.5950683781078884: \n",
            "01/17/2020 15:04:08 - INFO - __main__ -   eval_accuracy_thresh after step 350: 0.7603119015693665: \n",
            "01/17/2020 15:04:08 - INFO - __main__ -   eval_roc_auc after step 350: 0.6339167058391446: \n",
            "01/17/2020 15:04:08 - INFO - __main__ -   eval_fbeta after step 350: 0.569632887840271: \n",
            "01/17/2020 15:04:08 - INFO - __main__ -   lr after step 350: 4.2e-05\n",
            "01/17/2020 15:04:08 - INFO - __main__ -   train_loss after step 350: 0.6140892744064331\n",
            "01/17/2020 15:04:22 - INFO - __main__ -   Running evaluation\n",
            "01/17/2020 15:04:22 - INFO - __main__ -     Num examples = 886\n",
            "01/17/2020 15:04:22 - INFO - __main__ -     Batch size = 32\n"
          ],
          "name": "stderr"
        },
        {
          "output_type": "display_data",
          "data": {
            "text/html": [
              "\n",
              "    <div>\n",
              "        <style>\n",
              "            /* Turns off some styling */\n",
              "            progress {\n",
              "                /* gets rid of default border in Firefox and Opera. */\n",
              "                border: none;\n",
              "                /* Needs to be in here for Safari polyfill so background images work as expected. */\n",
              "                background-size: auto;\n",
              "            }\n",
              "            .progress-bar-interrupted, .progress-bar-interrupted::-webkit-progress-bar {\n",
              "                background: #F44336;\n",
              "            }\n",
              "        </style>\n",
              "      <progress value='28' class='' max='28', style='width:300px; height:20px; vertical-align: middle;'></progress>\n",
              "      100.00% [28/28 00:03<00:00]\n",
              "    </div>\n",
              "    "
            ],
            "text/plain": [
              "<IPython.core.display.HTML object>"
            ]
          },
          "metadata": {
            "tags": []
          }
        },
        {
          "output_type": "stream",
          "text": [
            "01/17/2020 15:04:26 - INFO - __main__ -   eval_loss after step 400: 0.5666537306138447: \n",
            "01/17/2020 15:04:26 - INFO - __main__ -   eval_accuracy_thresh after step 400: 0.7760106325149536: \n",
            "01/17/2020 15:04:26 - INFO - __main__ -   eval_roc_auc after step 400: 0.6798113742234013: \n",
            "01/17/2020 15:04:26 - INFO - __main__ -   eval_fbeta after step 400: 0.5797024369239807: \n",
            "01/17/2020 15:04:26 - INFO - __main__ -   lr after step 400: 4.8e-05\n",
            "01/17/2020 15:04:26 - INFO - __main__ -   train_loss after step 400: 0.5868622767925262\n",
            "01/17/2020 15:04:34 - INFO - __main__ -   Running evaluation\n",
            "01/17/2020 15:04:34 - INFO - __main__ -     Num examples = 886\n",
            "01/17/2020 15:04:34 - INFO - __main__ -     Batch size = 32\n"
          ],
          "name": "stderr"
        },
        {
          "output_type": "display_data",
          "data": {
            "text/html": [
              "\n",
              "    <div>\n",
              "        <style>\n",
              "            /* Turns off some styling */\n",
              "            progress {\n",
              "                /* gets rid of default border in Firefox and Opera. */\n",
              "                border: none;\n",
              "                /* Needs to be in here for Safari polyfill so background images work as expected. */\n",
              "                background-size: auto;\n",
              "            }\n",
              "            .progress-bar-interrupted, .progress-bar-interrupted::-webkit-progress-bar {\n",
              "                background: #F44336;\n",
              "            }\n",
              "        </style>\n",
              "      <progress value='28' class='' max='28', style='width:300px; height:20px; vertical-align: middle;'></progress>\n",
              "      100.00% [28/28 00:03<00:00]\n",
              "    </div>\n",
              "    "
            ],
            "text/plain": [
              "<IPython.core.display.HTML object>"
            ]
          },
          "metadata": {
            "tags": []
          }
        },
        {
          "output_type": "stream",
          "text": [
            "01/17/2020 15:04:38 - INFO - __main__ -   eval_loss after epoch 1: 0.5520424991846085: \n",
            "01/17/2020 15:04:38 - INFO - __main__ -   eval_accuracy_thresh after epoch 1: 0.7781654000282288: \n",
            "01/17/2020 15:04:38 - INFO - __main__ -   eval_roc_auc after epoch 1: 0.6975480113243795: \n",
            "01/17/2020 15:04:38 - INFO - __main__ -   eval_fbeta after epoch 1: 0.5836954116821289: \n",
            "01/17/2020 15:04:38 - INFO - __main__ -   lr after epoch 1: 5.136e-05\n",
            "01/17/2020 15:04:38 - INFO - __main__ -   train_loss after epoch 1: 0.6553810918442556\n",
            "01/17/2020 15:04:38 - INFO - __main__ -   \n",
            "\n",
            "01/17/2020 15:04:44 - INFO - __main__ -   Running evaluation\n",
            "01/17/2020 15:04:44 - INFO - __main__ -     Num examples = 886\n",
            "01/17/2020 15:04:44 - INFO - __main__ -     Batch size = 32\n"
          ],
          "name": "stderr"
        },
        {
          "output_type": "display_data",
          "data": {
            "text/html": [
              "\n",
              "    <div>\n",
              "        <style>\n",
              "            /* Turns off some styling */\n",
              "            progress {\n",
              "                /* gets rid of default border in Firefox and Opera. */\n",
              "                border: none;\n",
              "                /* Needs to be in here for Safari polyfill so background images work as expected. */\n",
              "                background-size: auto;\n",
              "            }\n",
              "            .progress-bar-interrupted, .progress-bar-interrupted::-webkit-progress-bar {\n",
              "                background: #F44336;\n",
              "            }\n",
              "        </style>\n",
              "      <progress value='28' class='' max='28', style='width:300px; height:20px; vertical-align: middle;'></progress>\n",
              "      100.00% [28/28 00:03<00:00]\n",
              "    </div>\n",
              "    "
            ],
            "text/plain": [
              "<IPython.core.display.HTML object>"
            ]
          },
          "metadata": {
            "tags": []
          }
        },
        {
          "output_type": "stream",
          "text": [
            "01/17/2020 15:04:48 - INFO - __main__ -   eval_loss after step 450: 0.5427240516458239: \n",
            "01/17/2020 15:04:48 - INFO - __main__ -   eval_accuracy_thresh after step 450: 0.7782679796218872: \n",
            "01/17/2020 15:04:48 - INFO - __main__ -   eval_roc_auc after step 450: 0.7005486180529351: \n",
            "01/17/2020 15:04:48 - INFO - __main__ -   eval_fbeta after step 450: 0.59224534034729: \n",
            "01/17/2020 15:04:48 - INFO - __main__ -   lr after step 450: 5.4000000000000005e-05\n",
            "01/17/2020 15:04:48 - INFO - __main__ -   train_loss after step 450: 0.5580622124671936\n",
            "01/17/2020 15:05:02 - INFO - __main__ -   Running evaluation\n",
            "01/17/2020 15:05:02 - INFO - __main__ -     Num examples = 886\n",
            "01/17/2020 15:05:02 - INFO - __main__ -     Batch size = 32\n"
          ],
          "name": "stderr"
        },
        {
          "output_type": "display_data",
          "data": {
            "text/html": [
              "\n",
              "    <div>\n",
              "        <style>\n",
              "            /* Turns off some styling */\n",
              "            progress {\n",
              "                /* gets rid of default border in Firefox and Opera. */\n",
              "                border: none;\n",
              "                /* Needs to be in here for Safari polyfill so background images work as expected. */\n",
              "                background-size: auto;\n",
              "            }\n",
              "            .progress-bar-interrupted, .progress-bar-interrupted::-webkit-progress-bar {\n",
              "                background: #F44336;\n",
              "            }\n",
              "        </style>\n",
              "      <progress value='28' class='' max='28', style='width:300px; height:20px; vertical-align: middle;'></progress>\n",
              "      100.00% [28/28 00:03<00:00]\n",
              "    </div>\n",
              "    "
            ],
            "text/plain": [
              "<IPython.core.display.HTML object>"
            ]
          },
          "metadata": {
            "tags": []
          }
        },
        {
          "output_type": "stream",
          "text": [
            "01/17/2020 15:05:06 - INFO - __main__ -   eval_loss after step 500: 0.5212893454091889: \n",
            "01/17/2020 15:05:06 - INFO - __main__ -   eval_accuracy_thresh after step 500: 0.7783706188201904: \n",
            "01/17/2020 15:05:06 - INFO - __main__ -   eval_roc_auc after step 500: 0.7161007273116617: \n",
            "01/17/2020 15:05:06 - INFO - __main__ -   eval_fbeta after step 500: 0.5998964905738831: \n",
            "01/17/2020 15:05:06 - INFO - __main__ -   lr after step 500: 6e-05\n",
            "01/17/2020 15:05:06 - INFO - __main__ -   train_loss after step 500: 0.5340253615379333\n",
            "01/17/2020 15:05:20 - INFO - __main__ -   Running evaluation\n",
            "01/17/2020 15:05:20 - INFO - __main__ -     Num examples = 886\n",
            "01/17/2020 15:05:20 - INFO - __main__ -     Batch size = 32\n"
          ],
          "name": "stderr"
        },
        {
          "output_type": "display_data",
          "data": {
            "text/html": [
              "\n",
              "    <div>\n",
              "        <style>\n",
              "            /* Turns off some styling */\n",
              "            progress {\n",
              "                /* gets rid of default border in Firefox and Opera. */\n",
              "                border: none;\n",
              "                /* Needs to be in here for Safari polyfill so background images work as expected. */\n",
              "                background-size: auto;\n",
              "            }\n",
              "            .progress-bar-interrupted, .progress-bar-interrupted::-webkit-progress-bar {\n",
              "                background: #F44336;\n",
              "            }\n",
              "        </style>\n",
              "      <progress value='28' class='' max='28', style='width:300px; height:20px; vertical-align: middle;'></progress>\n",
              "      100.00% [28/28 00:03<00:00]\n",
              "    </div>\n",
              "    "
            ],
            "text/plain": [
              "<IPython.core.display.HTML object>"
            ]
          },
          "metadata": {
            "tags": []
          }
        },
        {
          "output_type": "stream",
          "text": [
            "01/17/2020 15:05:24 - INFO - __main__ -   eval_loss after step 550: 0.5053884940487998: \n",
            "01/17/2020 15:05:24 - INFO - __main__ -   eval_accuracy_thresh after step 550: 0.7783706188201904: \n",
            "01/17/2020 15:05:24 - INFO - __main__ -   eval_roc_auc after step 550: 0.7294534226781041: \n",
            "01/17/2020 15:05:24 - INFO - __main__ -   eval_fbeta after step 550: 0.5986048579216003: \n",
            "01/17/2020 15:05:24 - INFO - __main__ -   lr after step 550: 5.991349899987273e-05\n",
            "01/17/2020 15:05:24 - INFO - __main__ -   train_loss after step 550: 0.5110020434856415\n",
            "01/17/2020 15:05:38 - INFO - __main__ -   Running evaluation\n",
            "01/17/2020 15:05:38 - INFO - __main__ -     Num examples = 886\n",
            "01/17/2020 15:05:38 - INFO - __main__ -     Batch size = 32\n"
          ],
          "name": "stderr"
        },
        {
          "output_type": "display_data",
          "data": {
            "text/html": [
              "\n",
              "    <div>\n",
              "        <style>\n",
              "            /* Turns off some styling */\n",
              "            progress {\n",
              "                /* gets rid of default border in Firefox and Opera. */\n",
              "                border: none;\n",
              "                /* Needs to be in here for Safari polyfill so background images work as expected. */\n",
              "                background-size: auto;\n",
              "            }\n",
              "            .progress-bar-interrupted, .progress-bar-interrupted::-webkit-progress-bar {\n",
              "                background: #F44336;\n",
              "            }\n",
              "        </style>\n",
              "      <progress value='28' class='' max='28', style='width:300px; height:20px; vertical-align: middle;'></progress>\n",
              "      100.00% [28/28 00:03<00:00]\n",
              "    </div>\n",
              "    "
            ],
            "text/plain": [
              "<IPython.core.display.HTML object>"
            ]
          },
          "metadata": {
            "tags": []
          }
        },
        {
          "output_type": "stream",
          "text": [
            "01/17/2020 15:05:42 - INFO - __main__ -   eval_loss after step 600: 0.49317103730780737: \n",
            "01/17/2020 15:05:42 - INFO - __main__ -   eval_accuracy_thresh after step 600: 0.7783706188201904: \n",
            "01/17/2020 15:05:42 - INFO - __main__ -   eval_roc_auc after step 600: 0.7351931236210196: \n",
            "01/17/2020 15:05:42 - INFO - __main__ -   eval_fbeta after step 600: 0.6002874374389648: \n",
            "01/17/2020 15:05:42 - INFO - __main__ -   lr after step 600: 5.9654494827692434e-05\n",
            "01/17/2020 15:05:42 - INFO - __main__ -   train_loss after step 600: 0.5038674837350845\n",
            "01/17/2020 15:05:56 - INFO - __main__ -   Running evaluation\n",
            "01/17/2020 15:05:56 - INFO - __main__ -     Num examples = 886\n",
            "01/17/2020 15:05:57 - INFO - __main__ -     Batch size = 32\n"
          ],
          "name": "stderr"
        },
        {
          "output_type": "display_data",
          "data": {
            "text/html": [
              "\n",
              "    <div>\n",
              "        <style>\n",
              "            /* Turns off some styling */\n",
              "            progress {\n",
              "                /* gets rid of default border in Firefox and Opera. */\n",
              "                border: none;\n",
              "                /* Needs to be in here for Safari polyfill so background images work as expected. */\n",
              "                background-size: auto;\n",
              "            }\n",
              "            .progress-bar-interrupted, .progress-bar-interrupted::-webkit-progress-bar {\n",
              "                background: #F44336;\n",
              "            }\n",
              "        </style>\n",
              "      <progress value='28' class='' max='28', style='width:300px; height:20px; vertical-align: middle;'></progress>\n",
              "      100.00% [28/28 00:03<00:00]\n",
              "    </div>\n",
              "    "
            ],
            "text/plain": [
              "<IPython.core.display.HTML object>"
            ]
          },
          "metadata": {
            "tags": []
          }
        },
        {
          "output_type": "stream",
          "text": [
            "01/17/2020 15:06:00 - INFO - __main__ -   eval_loss after step 650: 0.485703743994236: \n",
            "01/17/2020 15:06:00 - INFO - __main__ -   eval_accuracy_thresh after step 650: 0.7783706188201904: \n",
            "01/17/2020 15:06:00 - INFO - __main__ -   eval_roc_auc after step 650: 0.7435644219743722: \n",
            "01/17/2020 15:06:00 - INFO - __main__ -   eval_fbeta after step 650: 0.5982459783554077: \n",
            "01/17/2020 15:06:00 - INFO - __main__ -   lr after step 650: 5.922448109145451e-05\n",
            "01/17/2020 15:06:00 - INFO - __main__ -   train_loss after step 650: 0.488880866765976\n",
            "01/17/2020 15:06:15 - INFO - __main__ -   Running evaluation\n",
            "01/17/2020 15:06:15 - INFO - __main__ -     Num examples = 886\n",
            "01/17/2020 15:06:15 - INFO - __main__ -     Batch size = 32\n"
          ],
          "name": "stderr"
        },
        {
          "output_type": "display_data",
          "data": {
            "text/html": [
              "\n",
              "    <div>\n",
              "        <style>\n",
              "            /* Turns off some styling */\n",
              "            progress {\n",
              "                /* gets rid of default border in Firefox and Opera. */\n",
              "                border: none;\n",
              "                /* Needs to be in here for Safari polyfill so background images work as expected. */\n",
              "                background-size: auto;\n",
              "            }\n",
              "            .progress-bar-interrupted, .progress-bar-interrupted::-webkit-progress-bar {\n",
              "                background: #F44336;\n",
              "            }\n",
              "        </style>\n",
              "      <progress value='28' class='' max='28', style='width:300px; height:20px; vertical-align: middle;'></progress>\n",
              "      100.00% [28/28 00:03<00:00]\n",
              "    </div>\n",
              "    "
            ],
            "text/plain": [
              "<IPython.core.display.HTML object>"
            ]
          },
          "metadata": {
            "tags": []
          }
        },
        {
          "output_type": "stream",
          "text": [
            "01/17/2020 15:06:18 - INFO - __main__ -   eval_loss after step 700: 0.47667247163397924: \n",
            "01/17/2020 15:06:18 - INFO - __main__ -   eval_accuracy_thresh after step 700: 0.778780996799469: \n",
            "01/17/2020 15:06:18 - INFO - __main__ -   eval_roc_auc after step 700: 0.7559522999709904: \n",
            "01/17/2020 15:06:18 - INFO - __main__ -   eval_fbeta after step 700: 0.5958848595619202: \n",
            "01/17/2020 15:06:18 - INFO - __main__ -   lr after step 700: 5.862593756570914e-05\n",
            "01/17/2020 15:06:18 - INFO - __main__ -   train_loss after step 700: 0.48659064471721647\n",
            "01/17/2020 15:06:33 - INFO - __main__ -   Running evaluation\n",
            "01/17/2020 15:06:33 - INFO - __main__ -     Num examples = 886\n",
            "01/17/2020 15:06:33 - INFO - __main__ -     Batch size = 32\n"
          ],
          "name": "stderr"
        },
        {
          "output_type": "display_data",
          "data": {
            "text/html": [
              "\n",
              "    <div>\n",
              "        <style>\n",
              "            /* Turns off some styling */\n",
              "            progress {\n",
              "                /* gets rid of default border in Firefox and Opera. */\n",
              "                border: none;\n",
              "                /* Needs to be in here for Safari polyfill so background images work as expected. */\n",
              "                background-size: auto;\n",
              "            }\n",
              "            .progress-bar-interrupted, .progress-bar-interrupted::-webkit-progress-bar {\n",
              "                background: #F44336;\n",
              "            }\n",
              "        </style>\n",
              "      <progress value='28' class='' max='28', style='width:300px; height:20px; vertical-align: middle;'></progress>\n",
              "      100.00% [28/28 00:03<00:00]\n",
              "    </div>\n",
              "    "
            ],
            "text/plain": [
              "<IPython.core.display.HTML object>"
            ]
          },
          "metadata": {
            "tags": []
          }
        },
        {
          "output_type": "stream",
          "text": [
            "01/17/2020 15:06:36 - INFO - __main__ -   eval_loss after step 750: 0.46704922935792376: \n",
            "01/17/2020 15:06:36 - INFO - __main__ -   eval_accuracy_thresh after step 750: 0.7794992327690125: \n",
            "01/17/2020 15:06:36 - INFO - __main__ -   eval_roc_auc after step 750: 0.778863151138859: \n",
            "01/17/2020 15:06:36 - INFO - __main__ -   eval_fbeta after step 750: 0.5972360372543335: \n",
            "01/17/2020 15:06:36 - INFO - __main__ -   lr after step 750: 5.78623158913628e-05\n",
            "01/17/2020 15:06:36 - INFO - __main__ -   train_loss after step 750: 0.4758212798833847\n",
            "01/17/2020 15:06:51 - INFO - __main__ -   Running evaluation\n",
            "01/17/2020 15:06:51 - INFO - __main__ -     Num examples = 886\n",
            "01/17/2020 15:06:51 - INFO - __main__ -     Batch size = 32\n"
          ],
          "name": "stderr"
        },
        {
          "output_type": "display_data",
          "data": {
            "text/html": [
              "\n",
              "    <div>\n",
              "        <style>\n",
              "            /* Turns off some styling */\n",
              "            progress {\n",
              "                /* gets rid of default border in Firefox and Opera. */\n",
              "                border: none;\n",
              "                /* Needs to be in here for Safari polyfill so background images work as expected. */\n",
              "                background-size: auto;\n",
              "            }\n",
              "            .progress-bar-interrupted, .progress-bar-interrupted::-webkit-progress-bar {\n",
              "                background: #F44336;\n",
              "            }\n",
              "        </style>\n",
              "      <progress value='28' class='' max='28', style='width:300px; height:20px; vertical-align: middle;'></progress>\n",
              "      100.00% [28/28 00:03<00:00]\n",
              "    </div>\n",
              "    "
            ],
            "text/plain": [
              "<IPython.core.display.HTML object>"
            ]
          },
          "metadata": {
            "tags": []
          }
        },
        {
          "output_type": "stream",
          "text": [
            "01/17/2020 15:06:54 - INFO - __main__ -   eval_loss after step 800: 0.4578815358025687: \n",
            "01/17/2020 15:06:54 - INFO - __main__ -   eval_accuracy_thresh after step 800: 0.7829878926277161: \n",
            "01/17/2020 15:06:54 - INFO - __main__ -   eval_roc_auc after step 800: 0.7875225006611786: \n",
            "01/17/2020 15:06:54 - INFO - __main__ -   eval_fbeta after step 800: 0.6058861017227173: \n",
            "01/17/2020 15:06:54 - INFO - __main__ -   lr after step 800: 5.6938019670985445e-05\n",
            "01/17/2020 15:06:54 - INFO - __main__ -   train_loss after step 800: 0.46487266838550567\n",
            "01/17/2020 15:07:09 - INFO - __main__ -   Running evaluation\n",
            "01/17/2020 15:07:09 - INFO - __main__ -     Num examples = 886\n",
            "01/17/2020 15:07:09 - INFO - __main__ -     Batch size = 32\n"
          ],
          "name": "stderr"
        },
        {
          "output_type": "display_data",
          "data": {
            "text/html": [
              "\n",
              "    <div>\n",
              "        <style>\n",
              "            /* Turns off some styling */\n",
              "            progress {\n",
              "                /* gets rid of default border in Firefox and Opera. */\n",
              "                border: none;\n",
              "                /* Needs to be in here for Safari polyfill so background images work as expected. */\n",
              "                background-size: auto;\n",
              "            }\n",
              "            .progress-bar-interrupted, .progress-bar-interrupted::-webkit-progress-bar {\n",
              "                background: #F44336;\n",
              "            }\n",
              "        </style>\n",
              "      <progress value='28' class='' max='28', style='width:300px; height:20px; vertical-align: middle;'></progress>\n",
              "      100.00% [28/28 00:03<00:00]\n",
              "    </div>\n",
              "    "
            ],
            "text/plain": [
              "<IPython.core.display.HTML object>"
            ]
          },
          "metadata": {
            "tags": []
          }
        },
        {
          "output_type": "stream",
          "text": [
            "01/17/2020 15:07:13 - INFO - __main__ -   eval_loss after step 850: 0.45472900569438934: \n",
            "01/17/2020 15:07:13 - INFO - __main__ -   eval_accuracy_thresh after step 850: 0.7887338399887085: \n",
            "01/17/2020 15:07:13 - INFO - __main__ -   eval_roc_auc after step 850: 0.7940865166246369: \n",
            "01/17/2020 15:07:13 - INFO - __main__ -   eval_fbeta after step 850: 0.624150276184082: \n",
            "01/17/2020 15:07:13 - INFO - __main__ -   lr after step 850: 5.585837907440887e-05\n",
            "01/17/2020 15:07:13 - INFO - __main__ -   train_loss after step 850: 0.46628989815711974\n",
            "01/17/2020 15:07:14 - INFO - __main__ -   Running evaluation\n",
            "01/17/2020 15:07:14 - INFO - __main__ -     Num examples = 886\n",
            "01/17/2020 15:07:14 - INFO - __main__ -     Batch size = 32\n"
          ],
          "name": "stderr"
        },
        {
          "output_type": "display_data",
          "data": {
            "text/html": [
              "\n",
              "    <div>\n",
              "        <style>\n",
              "            /* Turns off some styling */\n",
              "            progress {\n",
              "                /* gets rid of default border in Firefox and Opera. */\n",
              "                border: none;\n",
              "                /* Needs to be in here for Safari polyfill so background images work as expected. */\n",
              "                background-size: auto;\n",
              "            }\n",
              "            .progress-bar-interrupted, .progress-bar-interrupted::-webkit-progress-bar {\n",
              "                background: #F44336;\n",
              "            }\n",
              "        </style>\n",
              "      <progress value='28' class='' max='28', style='width:300px; height:20px; vertical-align: middle;'></progress>\n",
              "      100.00% [28/28 00:03<00:00]\n",
              "    </div>\n",
              "    "
            ],
            "text/plain": [
              "<IPython.core.display.HTML object>"
            ]
          },
          "metadata": {
            "tags": []
          }
        },
        {
          "output_type": "stream",
          "text": [
            "01/17/2020 15:07:18 - INFO - __main__ -   eval_loss after epoch 2: 0.44912537932395935: \n",
            "01/17/2020 15:07:18 - INFO - __main__ -   eval_accuracy_thresh after epoch 2: 0.785040020942688: \n",
            "01/17/2020 15:07:18 - INFO - __main__ -   eval_roc_auc after epoch 2: 0.800396097048505: \n",
            "01/17/2020 15:07:18 - INFO - __main__ -   eval_fbeta after epoch 2: 0.6310573816299438: \n",
            "01/17/2020 15:07:18 - INFO - __main__ -   lr after epoch 2: 5.5718669585690975e-05\n",
            "01/17/2020 15:07:18 - INFO - __main__ -   train_loss after epoch 2: 0.4939805635503519\n",
            "01/17/2020 15:07:18 - INFO - __main__ -   \n",
            "\n",
            "01/17/2020 15:07:31 - INFO - __main__ -   Running evaluation\n",
            "01/17/2020 15:07:31 - INFO - __main__ -     Num examples = 886\n",
            "01/17/2020 15:07:31 - INFO - __main__ -     Batch size = 32\n"
          ],
          "name": "stderr"
        },
        {
          "output_type": "display_data",
          "data": {
            "text/html": [
              "\n",
              "    <div>\n",
              "        <style>\n",
              "            /* Turns off some styling */\n",
              "            progress {\n",
              "                /* gets rid of default border in Firefox and Opera. */\n",
              "                border: none;\n",
              "                /* Needs to be in here for Safari polyfill so background images work as expected. */\n",
              "                background-size: auto;\n",
              "            }\n",
              "            .progress-bar-interrupted, .progress-bar-interrupted::-webkit-progress-bar {\n",
              "                background: #F44336;\n",
              "            }\n",
              "        </style>\n",
              "      <progress value='28' class='' max='28', style='width:300px; height:20px; vertical-align: middle;'></progress>\n",
              "      100.00% [28/28 00:03<00:00]\n",
              "    </div>\n",
              "    "
            ],
            "text/plain": [
              "<IPython.core.display.HTML object>"
            ]
          },
          "metadata": {
            "tags": []
          }
        },
        {
          "output_type": "stream",
          "text": [
            "01/17/2020 15:07:34 - INFO - __main__ -   eval_loss after step 900: 0.44403693079948425: \n",
            "01/17/2020 15:07:34 - INFO - __main__ -   eval_accuracy_thresh after step 900: 0.8046377897262573: \n",
            "01/17/2020 15:07:34 - INFO - __main__ -   eval_roc_auc after step 900: 0.804006848803183: \n",
            "01/17/2020 15:07:34 - INFO - __main__ -   eval_fbeta after step 900: 0.6246485710144043: \n",
            "01/17/2020 15:07:34 - INFO - __main__ -   lr after step 900: 5.462962010105853e-05\n",
            "01/17/2020 15:07:34 - INFO - __main__ -   train_loss after step 900: 0.4533031290769577\n",
            "01/17/2020 15:07:49 - INFO - __main__ -   Running evaluation\n",
            "01/17/2020 15:07:49 - INFO - __main__ -     Num examples = 886\n",
            "01/17/2020 15:07:49 - INFO - __main__ -     Batch size = 32\n"
          ],
          "name": "stderr"
        },
        {
          "output_type": "display_data",
          "data": {
            "text/html": [
              "\n",
              "    <div>\n",
              "        <style>\n",
              "            /* Turns off some styling */\n",
              "            progress {\n",
              "                /* gets rid of default border in Firefox and Opera. */\n",
              "                border: none;\n",
              "                /* Needs to be in here for Safari polyfill so background images work as expected. */\n",
              "                background-size: auto;\n",
              "            }\n",
              "            .progress-bar-interrupted, .progress-bar-interrupted::-webkit-progress-bar {\n",
              "                background: #F44336;\n",
              "            }\n",
              "        </style>\n",
              "      <progress value='28' class='' max='28', style='width:300px; height:20px; vertical-align: middle;'></progress>\n",
              "      100.00% [28/28 00:03<00:00]\n",
              "    </div>\n",
              "    "
            ],
            "text/plain": [
              "<IPython.core.display.HTML object>"
            ]
          },
          "metadata": {
            "tags": []
          }
        },
        {
          "output_type": "stream",
          "text": [
            "01/17/2020 15:07:52 - INFO - __main__ -   eval_loss after step 950: 0.4336185029574803: \n",
            "01/17/2020 15:07:52 - INFO - __main__ -   eval_accuracy_thresh after step 950: 0.82464599609375: \n",
            "01/17/2020 15:07:52 - INFO - __main__ -   eval_roc_auc after step 950: 0.8101325499041101: \n",
            "01/17/2020 15:07:52 - INFO - __main__ -   eval_fbeta after step 950: 0.6253141164779663: \n",
            "01/17/2020 15:07:52 - INFO - __main__ -   lr after step 950: 5.325882867627508e-05\n",
            "01/17/2020 15:07:52 - INFO - __main__ -   train_loss after step 950: 0.44411526978015897\n",
            "01/17/2020 15:08:07 - INFO - __main__ -   Running evaluation\n",
            "01/17/2020 15:08:07 - INFO - __main__ -     Num examples = 886\n",
            "01/17/2020 15:08:07 - INFO - __main__ -     Batch size = 32\n"
          ],
          "name": "stderr"
        },
        {
          "output_type": "display_data",
          "data": {
            "text/html": [
              "\n",
              "    <div>\n",
              "        <style>\n",
              "            /* Turns off some styling */\n",
              "            progress {\n",
              "                /* gets rid of default border in Firefox and Opera. */\n",
              "                border: none;\n",
              "                /* Needs to be in here for Safari polyfill so background images work as expected. */\n",
              "                background-size: auto;\n",
              "            }\n",
              "            .progress-bar-interrupted, .progress-bar-interrupted::-webkit-progress-bar {\n",
              "                background: #F44336;\n",
              "            }\n",
              "        </style>\n",
              "      <progress value='28' class='' max='28', style='width:300px; height:20px; vertical-align: middle;'></progress>\n",
              "      100.00% [28/28 00:03<00:00]\n",
              "    </div>\n",
              "    "
            ],
            "text/plain": [
              "<IPython.core.display.HTML object>"
            ]
          },
          "metadata": {
            "tags": []
          }
        },
        {
          "output_type": "stream",
          "text": [
            "01/17/2020 15:08:11 - INFO - __main__ -   eval_loss after step 1000: 0.426098886345114: \n",
            "01/17/2020 15:08:11 - INFO - __main__ -   eval_accuracy_thresh after step 1000: 0.8336753249168396: \n",
            "01/17/2020 15:08:11 - INFO - __main__ -   eval_roc_auc after step 1000: 0.8184821292664319: \n",
            "01/17/2020 15:08:11 - INFO - __main__ -   eval_fbeta after step 1000: 0.6221902370452881: \n",
            "01/17/2020 15:08:11 - INFO - __main__ -   lr after step 1000: 5.175390978867252e-05\n",
            "01/17/2020 15:08:11 - INFO - __main__ -   train_loss after step 1000: 0.43463979244232176\n",
            "01/17/2020 15:08:25 - INFO - __main__ -   Running evaluation\n",
            "01/17/2020 15:08:25 - INFO - __main__ -     Num examples = 886\n",
            "01/17/2020 15:08:25 - INFO - __main__ -     Batch size = 32\n"
          ],
          "name": "stderr"
        },
        {
          "output_type": "display_data",
          "data": {
            "text/html": [
              "\n",
              "    <div>\n",
              "        <style>\n",
              "            /* Turns off some styling */\n",
              "            progress {\n",
              "                /* gets rid of default border in Firefox and Opera. */\n",
              "                border: none;\n",
              "                /* Needs to be in here for Safari polyfill so background images work as expected. */\n",
              "                background-size: auto;\n",
              "            }\n",
              "            .progress-bar-interrupted, .progress-bar-interrupted::-webkit-progress-bar {\n",
              "                background: #F44336;\n",
              "            }\n",
              "        </style>\n",
              "      <progress value='28' class='' max='28', style='width:300px; height:20px; vertical-align: middle;'></progress>\n",
              "      100.00% [28/28 00:03<00:00]\n",
              "    </div>\n",
              "    "
            ],
            "text/plain": [
              "<IPython.core.display.HTML object>"
            ]
          },
          "metadata": {
            "tags": []
          }
        },
        {
          "output_type": "stream",
          "text": [
            "01/17/2020 15:08:29 - INFO - __main__ -   eval_loss after step 1050: 0.41973634702818735: \n",
            "01/17/2020 15:08:29 - INFO - __main__ -   eval_accuracy_thresh after step 1050: 0.8382925987243652: \n",
            "01/17/2020 15:08:29 - INFO - __main__ -   eval_roc_auc after step 1050: 0.8279266569195577: \n",
            "01/17/2020 15:08:29 - INFO - __main__ -   eval_fbeta after step 1050: 0.6177098155021667: \n",
            "01/17/2020 15:08:29 - INFO - __main__ -   lr after step 1050: 5.012354190417671e-05\n",
            "01/17/2020 15:08:29 - INFO - __main__ -   train_loss after step 1050: 0.43320888161659243\n",
            "01/17/2020 15:08:43 - INFO - __main__ -   Running evaluation\n",
            "01/17/2020 15:08:43 - INFO - __main__ -     Num examples = 886\n",
            "01/17/2020 15:08:43 - INFO - __main__ -     Batch size = 32\n"
          ],
          "name": "stderr"
        },
        {
          "output_type": "display_data",
          "data": {
            "text/html": [
              "\n",
              "    <div>\n",
              "        <style>\n",
              "            /* Turns off some styling */\n",
              "            progress {\n",
              "                /* gets rid of default border in Firefox and Opera. */\n",
              "                border: none;\n",
              "                /* Needs to be in here for Safari polyfill so background images work as expected. */\n",
              "                background-size: auto;\n",
              "            }\n",
              "            .progress-bar-interrupted, .progress-bar-interrupted::-webkit-progress-bar {\n",
              "                background: #F44336;\n",
              "            }\n",
              "        </style>\n",
              "      <progress value='28' class='' max='28', style='width:300px; height:20px; vertical-align: middle;'></progress>\n",
              "      100.00% [28/28 00:03<00:00]\n",
              "    </div>\n",
              "    "
            ],
            "text/plain": [
              "<IPython.core.display.HTML object>"
            ]
          },
          "metadata": {
            "tags": []
          }
        },
        {
          "output_type": "stream",
          "text": [
            "01/17/2020 15:08:47 - INFO - __main__ -   eval_loss after step 1100: 0.41323774414403097: \n",
            "01/17/2020 15:08:47 - INFO - __main__ -   eval_accuracy_thresh after step 1100: 0.840857744216919: \n",
            "01/17/2020 15:08:47 - INFO - __main__ -   eval_roc_auc after step 1100: 0.8315573889258159: \n",
            "01/17/2020 15:08:47 - INFO - __main__ -   eval_fbeta after step 1100: 0.6200962066650391: \n",
            "01/17/2020 15:08:47 - INFO - __main__ -   lr after step 1100: 4.8377126919626604e-05\n",
            "01/17/2020 15:08:47 - INFO - __main__ -   train_loss after step 1100: 0.42129982471466065\n",
            "01/17/2020 15:09:01 - INFO - __main__ -   Running evaluation\n",
            "01/17/2020 15:09:01 - INFO - __main__ -     Num examples = 886\n",
            "01/17/2020 15:09:01 - INFO - __main__ -     Batch size = 32\n"
          ],
          "name": "stderr"
        },
        {
          "output_type": "display_data",
          "data": {
            "text/html": [
              "\n",
              "    <div>\n",
              "        <style>\n",
              "            /* Turns off some styling */\n",
              "            progress {\n",
              "                /* gets rid of default border in Firefox and Opera. */\n",
              "                border: none;\n",
              "                /* Needs to be in here for Safari polyfill so background images work as expected. */\n",
              "                background-size: auto;\n",
              "            }\n",
              "            .progress-bar-interrupted, .progress-bar-interrupted::-webkit-progress-bar {\n",
              "                background: #F44336;\n",
              "            }\n",
              "        </style>\n",
              "      <progress value='28' class='' max='28', style='width:300px; height:20px; vertical-align: middle;'></progress>\n",
              "      100.00% [28/28 00:03<00:00]\n",
              "    </div>\n",
              "    "
            ],
            "text/plain": [
              "<IPython.core.display.HTML object>"
            ]
          },
          "metadata": {
            "tags": []
          }
        },
        {
          "output_type": "stream",
          "text": [
            "01/17/2020 15:09:05 - INFO - __main__ -   eval_loss after step 1150: 0.4088956926550184: \n",
            "01/17/2020 15:09:05 - INFO - __main__ -   eval_accuracy_thresh after step 1150: 0.8410629630088806: \n",
            "01/17/2020 15:09:05 - INFO - __main__ -   eval_roc_auc after step 1150: 0.8366088540883407: \n",
            "01/17/2020 15:09:05 - INFO - __main__ -   eval_fbeta after step 1150: 0.6162112355232239: \n",
            "01/17/2020 15:09:05 - INFO - __main__ -   lr after step 1150: 4.6524735944542256e-05\n",
            "01/17/2020 15:09:05 - INFO - __main__ -   train_loss after step 1150: 0.42397644877433777\n",
            "01/17/2020 15:09:19 - INFO - __main__ -   Running evaluation\n",
            "01/17/2020 15:09:19 - INFO - __main__ -     Num examples = 886\n",
            "01/17/2020 15:09:19 - INFO - __main__ -     Batch size = 32\n"
          ],
          "name": "stderr"
        },
        {
          "output_type": "display_data",
          "data": {
            "text/html": [
              "\n",
              "    <div>\n",
              "        <style>\n",
              "            /* Turns off some styling */\n",
              "            progress {\n",
              "                /* gets rid of default border in Firefox and Opera. */\n",
              "                border: none;\n",
              "                /* Needs to be in here for Safari polyfill so background images work as expected. */\n",
              "                background-size: auto;\n",
              "            }\n",
              "            .progress-bar-interrupted, .progress-bar-interrupted::-webkit-progress-bar {\n",
              "                background: #F44336;\n",
              "            }\n",
              "        </style>\n",
              "      <progress value='28' class='' max='28', style='width:300px; height:20px; vertical-align: middle;'></progress>\n",
              "      100.00% [28/28 00:03<00:00]\n",
              "    </div>\n",
              "    "
            ],
            "text/plain": [
              "<IPython.core.display.HTML object>"
            ]
          },
          "metadata": {
            "tags": []
          }
        },
        {
          "output_type": "stream",
          "text": [
            "01/17/2020 15:09:23 - INFO - __main__ -   eval_loss after step 1200: 0.4032221181052072: \n",
            "01/17/2020 15:09:23 - INFO - __main__ -   eval_accuracy_thresh after step 1200: 0.8431150913238525: \n",
            "01/17/2020 15:09:23 - INFO - __main__ -   eval_roc_auc after step 1200: 0.8414979148853483: \n",
            "01/17/2020 15:09:23 - INFO - __main__ -   eval_fbeta after step 1200: 0.628847599029541: \n",
            "01/17/2020 15:09:23 - INFO - __main__ -   lr after step 1200: 4.4577051223721774e-05\n",
            "01/17/2020 15:09:23 - INFO - __main__ -   train_loss after step 1200: 0.42536219537258146\n",
            "01/17/2020 15:09:38 - INFO - __main__ -   Running evaluation\n",
            "01/17/2020 15:09:38 - INFO - __main__ -     Num examples = 886\n",
            "01/17/2020 15:09:38 - INFO - __main__ -     Batch size = 32\n"
          ],
          "name": "stderr"
        },
        {
          "output_type": "display_data",
          "data": {
            "text/html": [
              "\n",
              "    <div>\n",
              "        <style>\n",
              "            /* Turns off some styling */\n",
              "            progress {\n",
              "                /* gets rid of default border in Firefox and Opera. */\n",
              "                border: none;\n",
              "                /* Needs to be in here for Safari polyfill so background images work as expected. */\n",
              "                background-size: auto;\n",
              "            }\n",
              "            .progress-bar-interrupted, .progress-bar-interrupted::-webkit-progress-bar {\n",
              "                background: #F44336;\n",
              "            }\n",
              "        </style>\n",
              "      <progress value='28' class='' max='28', style='width:300px; height:20px; vertical-align: middle;'></progress>\n",
              "      100.00% [28/28 00:03<00:00]\n",
              "    </div>\n",
              "    "
            ],
            "text/plain": [
              "<IPython.core.display.HTML object>"
            ]
          },
          "metadata": {
            "tags": []
          }
        },
        {
          "output_type": "stream",
          "text": [
            "01/17/2020 15:09:41 - INFO - __main__ -   eval_loss after step 1250: 0.3995937460235187: \n",
            "01/17/2020 15:09:41 - INFO - __main__ -   eval_accuracy_thresh after step 1250: 0.843833327293396: \n",
            "01/17/2020 15:09:41 - INFO - __main__ -   eval_roc_auc after step 1250: 0.8456250417526249: \n",
            "01/17/2020 15:09:41 - INFO - __main__ -   eval_fbeta after step 1250: 0.6210196614265442: \n",
            "01/17/2020 15:09:41 - INFO - __main__ -   lr after step 1250: 4.254530453558407e-05\n",
            "01/17/2020 15:09:41 - INFO - __main__ -   train_loss after step 1250: 0.41270236790180204\n",
            "01/17/2020 15:09:51 - INFO - __main__ -   Running evaluation\n",
            "01/17/2020 15:09:51 - INFO - __main__ -     Num examples = 886\n",
            "01/17/2020 15:09:51 - INFO - __main__ -     Batch size = 32\n"
          ],
          "name": "stderr"
        },
        {
          "output_type": "display_data",
          "data": {
            "text/html": [
              "\n",
              "    <div>\n",
              "        <style>\n",
              "            /* Turns off some styling */\n",
              "            progress {\n",
              "                /* gets rid of default border in Firefox and Opera. */\n",
              "                border: none;\n",
              "                /* Needs to be in here for Safari polyfill so background images work as expected. */\n",
              "                background-size: auto;\n",
              "            }\n",
              "            .progress-bar-interrupted, .progress-bar-interrupted::-webkit-progress-bar {\n",
              "                background: #F44336;\n",
              "            }\n",
              "        </style>\n",
              "      <progress value='28' class='' max='28', style='width:300px; height:20px; vertical-align: middle;'></progress>\n",
              "      100.00% [28/28 00:03<00:00]\n",
              "    </div>\n",
              "    "
            ],
            "text/plain": [
              "<IPython.core.display.HTML object>"
            ]
          },
          "metadata": {
            "tags": []
          }
        },
        {
          "output_type": "stream",
          "text": [
            "01/17/2020 15:09:55 - INFO - __main__ -   eval_loss after epoch 3: 0.39714517444372177: \n",
            "01/17/2020 15:09:55 - INFO - __main__ -   eval_accuracy_thresh after epoch 3: 0.8430125117301941: \n",
            "01/17/2020 15:09:55 - INFO - __main__ -   eval_roc_auc after epoch 3: 0.8440186600297661: \n",
            "01/17/2020 15:09:55 - INFO - __main__ -   eval_fbeta after epoch 3: 0.6292692422866821: \n",
            "01/17/2020 15:09:55 - INFO - __main__ -   lr after epoch 3: 4.112166143927751e-05\n",
            "01/17/2020 15:09:55 - INFO - __main__ -   train_loss after epoch 3: 0.42820419085638545\n",
            "01/17/2020 15:09:55 - INFO - __main__ -   \n",
            "\n",
            "01/17/2020 15:09:59 - INFO - __main__ -   Running evaluation\n",
            "01/17/2020 15:09:59 - INFO - __main__ -     Num examples = 886\n",
            "01/17/2020 15:09:59 - INFO - __main__ -     Batch size = 32\n"
          ],
          "name": "stderr"
        },
        {
          "output_type": "display_data",
          "data": {
            "text/html": [
              "\n",
              "    <div>\n",
              "        <style>\n",
              "            /* Turns off some styling */\n",
              "            progress {\n",
              "                /* gets rid of default border in Firefox and Opera. */\n",
              "                border: none;\n",
              "                /* Needs to be in here for Safari polyfill so background images work as expected. */\n",
              "                background-size: auto;\n",
              "            }\n",
              "            .progress-bar-interrupted, .progress-bar-interrupted::-webkit-progress-bar {\n",
              "                background: #F44336;\n",
              "            }\n",
              "        </style>\n",
              "      <progress value='28' class='' max='28', style='width:300px; height:20px; vertical-align: middle;'></progress>\n",
              "      100.00% [28/28 00:03<00:00]\n",
              "    </div>\n",
              "    "
            ],
            "text/plain": [
              "<IPython.core.display.HTML object>"
            ]
          },
          "metadata": {
            "tags": []
          }
        },
        {
          "output_type": "stream",
          "text": [
            "01/17/2020 15:10:03 - INFO - __main__ -   eval_loss after step 1300: 0.39621023195130484: \n",
            "01/17/2020 15:10:03 - INFO - __main__ -   eval_accuracy_thresh after step 1300: 0.8442437648773193: \n",
            "01/17/2020 15:10:03 - INFO - __main__ -   eval_roc_auc after step 1300: 0.8443462141388801: \n",
            "01/17/2020 15:10:03 - INFO - __main__ -   eval_fbeta after step 1300: 0.6233105063438416: \n",
            "01/17/2020 15:10:03 - INFO - __main__ -   lr after step 1300: 4.044121242149774e-05\n",
            "01/17/2020 15:10:03 - INFO - __main__ -   train_loss after step 1300: 0.39449627935886383\n",
            "01/17/2020 15:10:18 - INFO - __main__ -   Running evaluation\n",
            "01/17/2020 15:10:18 - INFO - __main__ -     Num examples = 886\n",
            "01/17/2020 15:10:18 - INFO - __main__ -     Batch size = 32\n"
          ],
          "name": "stderr"
        },
        {
          "output_type": "display_data",
          "data": {
            "text/html": [
              "\n",
              "    <div>\n",
              "        <style>\n",
              "            /* Turns off some styling */\n",
              "            progress {\n",
              "                /* gets rid of default border in Firefox and Opera. */\n",
              "                border: none;\n",
              "                /* Needs to be in here for Safari polyfill so background images work as expected. */\n",
              "                background-size: auto;\n",
              "            }\n",
              "            .progress-bar-interrupted, .progress-bar-interrupted::-webkit-progress-bar {\n",
              "                background: #F44336;\n",
              "            }\n",
              "        </style>\n",
              "      <progress value='28' class='' max='28', style='width:300px; height:20px; vertical-align: middle;'></progress>\n",
              "      100.00% [28/28 00:03<00:00]\n",
              "    </div>\n",
              "    "
            ],
            "text/plain": [
              "<IPython.core.display.HTML object>"
            ]
          },
          "metadata": {
            "tags": []
          }
        },
        {
          "output_type": "stream",
          "text": [
            "01/17/2020 15:10:21 - INFO - __main__ -   eval_loss after step 1350: 0.39266033683504376: \n",
            "01/17/2020 15:10:21 - INFO - __main__ -   eval_accuracy_thresh after step 1350: 0.8453724384307861: \n",
            "01/17/2020 15:10:21 - INFO - __main__ -   eval_roc_auc after step 1350: 0.846584795425102: \n",
            "01/17/2020 15:10:21 - INFO - __main__ -   eval_fbeta after step 1350: 0.6397253274917603: \n",
            "01/17/2020 15:10:21 - INFO - __main__ -   lr after step 1350: 3.827690861961134e-05\n",
            "01/17/2020 15:10:21 - INFO - __main__ -   train_loss after step 1350: 0.4007994908094406\n",
            "01/17/2020 15:10:36 - INFO - __main__ -   Running evaluation\n",
            "01/17/2020 15:10:36 - INFO - __main__ -     Num examples = 886\n",
            "01/17/2020 15:10:36 - INFO - __main__ -     Batch size = 32\n"
          ],
          "name": "stderr"
        },
        {
          "output_type": "display_data",
          "data": {
            "text/html": [
              "\n",
              "    <div>\n",
              "        <style>\n",
              "            /* Turns off some styling */\n",
              "            progress {\n",
              "                /* gets rid of default border in Firefox and Opera. */\n",
              "                border: none;\n",
              "                /* Needs to be in here for Safari polyfill so background images work as expected. */\n",
              "                background-size: auto;\n",
              "            }\n",
              "            .progress-bar-interrupted, .progress-bar-interrupted::-webkit-progress-bar {\n",
              "                background: #F44336;\n",
              "            }\n",
              "        </style>\n",
              "      <progress value='28' class='' max='28', style='width:300px; height:20px; vertical-align: middle;'></progress>\n",
              "      100.00% [28/28 00:03<00:00]\n",
              "    </div>\n",
              "    "
            ],
            "text/plain": [
              "<IPython.core.display.HTML object>"
            ]
          },
          "metadata": {
            "tags": []
          }
        },
        {
          "output_type": "stream",
          "text": [
            "01/17/2020 15:10:39 - INFO - __main__ -   eval_loss after step 1400: 0.3917666812028204: \n",
            "01/17/2020 15:10:39 - INFO - __main__ -   eval_accuracy_thresh after step 1400: 0.8418838381767273: \n",
            "01/17/2020 15:10:39 - INFO - __main__ -   eval_roc_auc after step 1400: 0.8474782329648528: \n",
            "01/17/2020 15:10:39 - INFO - __main__ -   eval_fbeta after step 1400: 0.6319137215614319: \n",
            "01/17/2020 15:10:39 - INFO - __main__ -   lr after step 1400: 3.606487409282106e-05\n",
            "01/17/2020 15:10:39 - INFO - __main__ -   train_loss after step 1400: 0.4028455275297165\n",
            "01/17/2020 15:10:54 - INFO - __main__ -   Running evaluation\n",
            "01/17/2020 15:10:54 - INFO - __main__ -     Num examples = 886\n",
            "01/17/2020 15:10:54 - INFO - __main__ -     Batch size = 32\n"
          ],
          "name": "stderr"
        },
        {
          "output_type": "display_data",
          "data": {
            "text/html": [
              "\n",
              "    <div>\n",
              "        <style>\n",
              "            /* Turns off some styling */\n",
              "            progress {\n",
              "                /* gets rid of default border in Firefox and Opera. */\n",
              "                border: none;\n",
              "                /* Needs to be in here for Safari polyfill so background images work as expected. */\n",
              "                background-size: auto;\n",
              "            }\n",
              "            .progress-bar-interrupted, .progress-bar-interrupted::-webkit-progress-bar {\n",
              "                background: #F44336;\n",
              "            }\n",
              "        </style>\n",
              "      <progress value='28' class='' max='28', style='width:300px; height:20px; vertical-align: middle;'></progress>\n",
              "      100.00% [28/28 00:03<00:00]\n",
              "    </div>\n",
              "    "
            ],
            "text/plain": [
              "<IPython.core.display.HTML object>"
            ]
          },
          "metadata": {
            "tags": []
          }
        },
        {
          "output_type": "stream",
          "text": [
            "01/17/2020 15:10:58 - INFO - __main__ -   eval_loss after step 1450: 0.3890782541462353: \n",
            "01/17/2020 15:10:58 - INFO - __main__ -   eval_accuracy_thresh after step 1450: 0.8440385460853577: \n",
            "01/17/2020 15:10:58 - INFO - __main__ -   eval_roc_auc after step 1450: 0.8505097709531068: \n",
            "01/17/2020 15:10:58 - INFO - __main__ -   eval_fbeta after step 1450: 0.636359453201294: \n",
            "01/17/2020 15:10:58 - INFO - __main__ -   lr after step 1450: 3.381786505438577e-05\n",
            "01/17/2020 15:10:58 - INFO - __main__ -   train_loss after step 1450: 0.4002596801519394\n",
            "01/17/2020 15:11:12 - INFO - __main__ -   Running evaluation\n",
            "01/17/2020 15:11:12 - INFO - __main__ -     Num examples = 886\n",
            "01/17/2020 15:11:12 - INFO - __main__ -     Batch size = 32\n"
          ],
          "name": "stderr"
        },
        {
          "output_type": "display_data",
          "data": {
            "text/html": [
              "\n",
              "    <div>\n",
              "        <style>\n",
              "            /* Turns off some styling */\n",
              "            progress {\n",
              "                /* gets rid of default border in Firefox and Opera. */\n",
              "                border: none;\n",
              "                /* Needs to be in here for Safari polyfill so background images work as expected. */\n",
              "                background-size: auto;\n",
              "            }\n",
              "            .progress-bar-interrupted, .progress-bar-interrupted::-webkit-progress-bar {\n",
              "                background: #F44336;\n",
              "            }\n",
              "        </style>\n",
              "      <progress value='28' class='' max='28', style='width:300px; height:20px; vertical-align: middle;'></progress>\n",
              "      100.00% [28/28 00:03<00:00]\n",
              "    </div>\n",
              "    "
            ],
            "text/plain": [
              "<IPython.core.display.HTML object>"
            ]
          },
          "metadata": {
            "tags": []
          }
        },
        {
          "output_type": "stream",
          "text": [
            "01/17/2020 15:11:16 - INFO - __main__ -   eval_loss after step 1500: 0.3855674958654812: \n",
            "01/17/2020 15:11:16 - INFO - __main__ -   eval_accuracy_thresh after step 1500: 0.8460906744003296: \n",
            "01/17/2020 15:11:16 - INFO - __main__ -   eval_roc_auc after step 1500: 0.8533113377708811: \n",
            "01/17/2020 15:11:16 - INFO - __main__ -   eval_fbeta after step 1500: 0.6328291296958923: \n",
            "01/17/2020 15:11:16 - INFO - __main__ -   lr after step 1500: 3.1548839406246785e-05\n",
            "01/17/2020 15:11:16 - INFO - __main__ -   train_loss after step 1500: 0.40238588094711303\n",
            "01/17/2020 15:11:30 - INFO - __main__ -   Running evaluation\n",
            "01/17/2020 15:11:30 - INFO - __main__ -     Num examples = 886\n",
            "01/17/2020 15:11:30 - INFO - __main__ -     Batch size = 32\n"
          ],
          "name": "stderr"
        },
        {
          "output_type": "display_data",
          "data": {
            "text/html": [
              "\n",
              "    <div>\n",
              "        <style>\n",
              "            /* Turns off some styling */\n",
              "            progress {\n",
              "                /* gets rid of default border in Firefox and Opera. */\n",
              "                border: none;\n",
              "                /* Needs to be in here for Safari polyfill so background images work as expected. */\n",
              "                background-size: auto;\n",
              "            }\n",
              "            .progress-bar-interrupted, .progress-bar-interrupted::-webkit-progress-bar {\n",
              "                background: #F44336;\n",
              "            }\n",
              "        </style>\n",
              "      <progress value='28' class='' max='28', style='width:300px; height:20px; vertical-align: middle;'></progress>\n",
              "      100.00% [28/28 00:03<00:00]\n",
              "    </div>\n",
              "    "
            ],
            "text/plain": [
              "<IPython.core.display.HTML object>"
            ]
          },
          "metadata": {
            "tags": []
          }
        },
        {
          "output_type": "stream",
          "text": [
            "01/17/2020 15:11:34 - INFO - __main__ -   eval_loss after step 1550: 0.38357372475521906: \n",
            "01/17/2020 15:11:34 - INFO - __main__ -   eval_accuracy_thresh after step 1550: 0.8457828760147095: \n",
            "01/17/2020 15:11:34 - INFO - __main__ -   eval_roc_auc after step 1550: 0.8549068294940237: \n",
            "01/17/2020 15:11:34 - INFO - __main__ -   eval_fbeta after step 1550: 0.6346800923347473: \n",
            "01/17/2020 15:11:34 - INFO - __main__ -   lr after step 1550: 2.927088201426269e-05\n",
            "01/17/2020 15:11:34 - INFO - __main__ -   train_loss after step 1550: 0.3866459572315216\n",
            "01/17/2020 15:11:48 - INFO - __main__ -   Running evaluation\n",
            "01/17/2020 15:11:48 - INFO - __main__ -     Num examples = 886\n",
            "01/17/2020 15:11:48 - INFO - __main__ -     Batch size = 32\n"
          ],
          "name": "stderr"
        },
        {
          "output_type": "display_data",
          "data": {
            "text/html": [
              "\n",
              "    <div>\n",
              "        <style>\n",
              "            /* Turns off some styling */\n",
              "            progress {\n",
              "                /* gets rid of default border in Firefox and Opera. */\n",
              "                border: none;\n",
              "                /* Needs to be in here for Safari polyfill so background images work as expected. */\n",
              "                background-size: auto;\n",
              "            }\n",
              "            .progress-bar-interrupted, .progress-bar-interrupted::-webkit-progress-bar {\n",
              "                background: #F44336;\n",
              "            }\n",
              "        </style>\n",
              "      <progress value='28' class='' max='28', style='width:300px; height:20px; vertical-align: middle;'></progress>\n",
              "      100.00% [28/28 00:03<00:00]\n",
              "    </div>\n",
              "    "
            ],
            "text/plain": [
              "<IPython.core.display.HTML object>"
            ]
          },
          "metadata": {
            "tags": []
          }
        },
        {
          "output_type": "stream",
          "text": [
            "01/17/2020 15:11:52 - INFO - __main__ -   eval_loss after step 1600: 0.38268617008413586: \n",
            "01/17/2020 15:11:52 - INFO - __main__ -   eval_accuracy_thresh after step 1600: 0.846808910369873: \n",
            "01/17/2020 15:11:52 - INFO - __main__ -   eval_roc_auc after step 1600: 0.8561169311431724: \n",
            "01/17/2020 15:11:52 - INFO - __main__ -   eval_fbeta after step 1600: 0.6317079663276672: \n",
            "01/17/2020 15:11:52 - INFO - __main__ -   lr after step 1600: 2.699712925127705e-05\n",
            "01/17/2020 15:11:52 - INFO - __main__ -   train_loss after step 1600: 0.38444567918777467\n",
            "01/17/2020 15:12:06 - INFO - __main__ -   Running evaluation\n",
            "01/17/2020 15:12:06 - INFO - __main__ -     Num examples = 886\n",
            "01/17/2020 15:12:06 - INFO - __main__ -     Batch size = 32\n"
          ],
          "name": "stderr"
        },
        {
          "output_type": "display_data",
          "data": {
            "text/html": [
              "\n",
              "    <div>\n",
              "        <style>\n",
              "            /* Turns off some styling */\n",
              "            progress {\n",
              "                /* gets rid of default border in Firefox and Opera. */\n",
              "                border: none;\n",
              "                /* Needs to be in here for Safari polyfill so background images work as expected. */\n",
              "                background-size: auto;\n",
              "            }\n",
              "            .progress-bar-interrupted, .progress-bar-interrupted::-webkit-progress-bar {\n",
              "                background: #F44336;\n",
              "            }\n",
              "        </style>\n",
              "      <progress value='28' class='' max='28', style='width:300px; height:20px; vertical-align: middle;'></progress>\n",
              "      100.00% [28/28 00:03<00:00]\n",
              "    </div>\n",
              "    "
            ],
            "text/plain": [
              "<IPython.core.display.HTML object>"
            ]
          },
          "metadata": {
            "tags": []
          }
        },
        {
          "output_type": "stream",
          "text": [
            "01/17/2020 15:12:10 - INFO - __main__ -   eval_loss after step 1650: 0.3807270622679165: \n",
            "01/17/2020 15:12:10 - INFO - __main__ -   eval_accuracy_thresh after step 1650: 0.8449620008468628: \n",
            "01/17/2020 15:12:10 - INFO - __main__ -   eval_roc_auc after step 1650: 0.8560762385391903: \n",
            "01/17/2020 15:12:10 - INFO - __main__ -   eval_fbeta after step 1650: 0.6376336812973022: \n",
            "01/17/2020 15:12:10 - INFO - __main__ -   lr after step 1650: 2.4740693243159245e-05\n",
            "01/17/2020 15:12:10 - INFO - __main__ -   train_loss after step 1650: 0.3869131875038147\n",
            "01/17/2020 15:12:25 - INFO - __main__ -   Running evaluation\n",
            "01/17/2020 15:12:25 - INFO - __main__ -     Num examples = 886\n",
            "01/17/2020 15:12:25 - INFO - __main__ -     Batch size = 32\n"
          ],
          "name": "stderr"
        },
        {
          "output_type": "display_data",
          "data": {
            "text/html": [
              "\n",
              "    <div>\n",
              "        <style>\n",
              "            /* Turns off some styling */\n",
              "            progress {\n",
              "                /* gets rid of default border in Firefox and Opera. */\n",
              "                border: none;\n",
              "                /* Needs to be in here for Safari polyfill so background images work as expected. */\n",
              "                background-size: auto;\n",
              "            }\n",
              "            .progress-bar-interrupted, .progress-bar-interrupted::-webkit-progress-bar {\n",
              "                background: #F44336;\n",
              "            }\n",
              "        </style>\n",
              "      <progress value='28' class='' max='28', style='width:300px; height:20px; vertical-align: middle;'></progress>\n",
              "      100.00% [28/28 00:03<00:00]\n",
              "    </div>\n",
              "    "
            ],
            "text/plain": [
              "<IPython.core.display.HTML object>"
            ]
          },
          "metadata": {
            "tags": []
          }
        },
        {
          "output_type": "stream",
          "text": [
            "01/17/2020 15:12:28 - INFO - __main__ -   eval_loss after step 1700: 0.3789315362061773: \n",
            "01/17/2020 15:12:28 - INFO - __main__ -   eval_accuracy_thresh after step 1700: 0.8465011119842529: \n",
            "01/17/2020 15:12:28 - INFO - __main__ -   eval_roc_auc after step 1700: 0.8562856193740721: \n",
            "01/17/2020 15:12:28 - INFO - __main__ -   eval_fbeta after step 1700: 0.6404677033424377: \n",
            "01/17/2020 15:12:28 - INFO - __main__ -   lr after step 1700: 2.251458625467098e-05\n",
            "01/17/2020 15:12:28 - INFO - __main__ -   train_loss after step 1700: 0.38862231314182283\n",
            "01/17/2020 15:12:32 - INFO - __main__ -   Running evaluation\n",
            "01/17/2020 15:12:32 - INFO - __main__ -     Num examples = 886\n",
            "01/17/2020 15:12:32 - INFO - __main__ -     Batch size = 32\n"
          ],
          "name": "stderr"
        },
        {
          "output_type": "display_data",
          "data": {
            "text/html": [
              "\n",
              "    <div>\n",
              "        <style>\n",
              "            /* Turns off some styling */\n",
              "            progress {\n",
              "                /* gets rid of default border in Firefox and Opera. */\n",
              "                border: none;\n",
              "                /* Needs to be in here for Safari polyfill so background images work as expected. */\n",
              "                background-size: auto;\n",
              "            }\n",
              "            .progress-bar-interrupted, .progress-bar-interrupted::-webkit-progress-bar {\n",
              "                background: #F44336;\n",
              "            }\n",
              "        </style>\n",
              "      <progress value='28' class='' max='28', style='width:300px; height:20px; vertical-align: middle;'></progress>\n",
              "      100.00% [28/28 00:03<00:00]\n",
              "    </div>\n",
              "    "
            ],
            "text/plain": [
              "<IPython.core.display.HTML object>"
            ]
          },
          "metadata": {
            "tags": []
          }
        },
        {
          "output_type": "stream",
          "text": [
            "01/17/2020 15:12:35 - INFO - __main__ -   eval_loss after epoch 4: 0.37863030284643173: \n",
            "01/17/2020 15:12:35 - INFO - __main__ -   eval_accuracy_thresh after epoch 4: 0.8478350043296814: \n",
            "01/17/2020 15:12:35 - INFO - __main__ -   eval_roc_auc after epoch 4: 0.8570514578415166: \n",
            "01/17/2020 15:12:35 - INFO - __main__ -   eval_fbeta after epoch 4: 0.6413347125053406: \n",
            "01/17/2020 15:12:35 - INFO - __main__ -   lr after epoch 4: 2.198626452803467e-05\n",
            "01/17/2020 15:12:35 - INFO - __main__ -   train_loss after epoch 4: 0.39414248065413715\n",
            "01/17/2020 15:12:35 - INFO - __main__ -   \n",
            "\n",
            "01/17/2020 15:12:46 - INFO - __main__ -   Running evaluation\n",
            "01/17/2020 15:12:46 - INFO - __main__ -     Num examples = 886\n",
            "01/17/2020 15:12:46 - INFO - __main__ -     Batch size = 32\n"
          ],
          "name": "stderr"
        },
        {
          "output_type": "display_data",
          "data": {
            "text/html": [
              "\n",
              "    <div>\n",
              "        <style>\n",
              "            /* Turns off some styling */\n",
              "            progress {\n",
              "                /* gets rid of default border in Firefox and Opera. */\n",
              "                border: none;\n",
              "                /* Needs to be in here for Safari polyfill so background images work as expected. */\n",
              "                background-size: auto;\n",
              "            }\n",
              "            .progress-bar-interrupted, .progress-bar-interrupted::-webkit-progress-bar {\n",
              "                background: #F44336;\n",
              "            }\n",
              "        </style>\n",
              "      <progress value='28' class='' max='28', style='width:300px; height:20px; vertical-align: middle;'></progress>\n",
              "      100.00% [28/28 00:03<00:00]\n",
              "    </div>\n",
              "    "
            ],
            "text/plain": [
              "<IPython.core.display.HTML object>"
            ]
          },
          "metadata": {
            "tags": []
          }
        },
        {
          "output_type": "stream",
          "text": [
            "01/17/2020 15:12:50 - INFO - __main__ -   eval_loss after step 1750: 0.3783674878733499: \n",
            "01/17/2020 15:12:50 - INFO - __main__ -   eval_accuracy_thresh after step 1750: 0.8489636778831482: \n",
            "01/17/2020 15:12:50 - INFO - __main__ -   eval_roc_auc after step 1750: 0.8570876358237675: \n",
            "01/17/2020 15:12:50 - INFO - __main__ -   eval_fbeta after step 1750: 0.6431914567947388: \n",
            "01/17/2020 15:12:50 - INFO - __main__ -   lr after step 1750: 2.0331645651205195e-05\n",
            "01/17/2020 15:12:50 - INFO - __main__ -   train_loss after step 1750: 0.38645299851894377\n",
            "01/17/2020 15:13:04 - INFO - __main__ -   Running evaluation\n",
            "01/17/2020 15:13:04 - INFO - __main__ -     Num examples = 886\n",
            "01/17/2020 15:13:04 - INFO - __main__ -     Batch size = 32\n"
          ],
          "name": "stderr"
        },
        {
          "output_type": "display_data",
          "data": {
            "text/html": [
              "\n",
              "    <div>\n",
              "        <style>\n",
              "            /* Turns off some styling */\n",
              "            progress {\n",
              "                /* gets rid of default border in Firefox and Opera. */\n",
              "                border: none;\n",
              "                /* Needs to be in here for Safari polyfill so background images work as expected. */\n",
              "                background-size: auto;\n",
              "            }\n",
              "            .progress-bar-interrupted, .progress-bar-interrupted::-webkit-progress-bar {\n",
              "                background: #F44336;\n",
              "            }\n",
              "        </style>\n",
              "      <progress value='28' class='' max='28', style='width:300px; height:20px; vertical-align: middle;'></progress>\n",
              "      100.00% [28/28 00:03<00:00]\n",
              "    </div>\n",
              "    "
            ],
            "text/plain": [
              "<IPython.core.display.HTML object>"
            ]
          },
          "metadata": {
            "tags": []
          }
        },
        {
          "output_type": "stream",
          "text": [
            "01/17/2020 15:13:08 - INFO - __main__ -   eval_loss after step 1800: 0.3776038054909025: \n",
            "01/17/2020 15:13:08 - INFO - __main__ -   eval_accuracy_thresh after step 1800: 0.8466036915779114: \n",
            "01/17/2020 15:13:08 - INFO - __main__ -   eval_roc_auc after step 1800: 0.857026200363183: \n",
            "01/17/2020 15:13:08 - INFO - __main__ -   eval_fbeta after step 1800: 0.6372586488723755: \n",
            "01/17/2020 15:13:08 - INFO - __main__ -   lr after step 1800: 1.820445986912312e-05\n",
            "01/17/2020 15:13:08 - INFO - __main__ -   train_loss after step 1800: 0.37517088651657104\n",
            "01/17/2020 15:13:23 - INFO - __main__ -   Running evaluation\n",
            "01/17/2020 15:13:23 - INFO - __main__ -     Num examples = 886\n",
            "01/17/2020 15:13:23 - INFO - __main__ -     Batch size = 32\n"
          ],
          "name": "stderr"
        },
        {
          "output_type": "display_data",
          "data": {
            "text/html": [
              "\n",
              "    <div>\n",
              "        <style>\n",
              "            /* Turns off some styling */\n",
              "            progress {\n",
              "                /* gets rid of default border in Firefox and Opera. */\n",
              "                border: none;\n",
              "                /* Needs to be in here for Safari polyfill so background images work as expected. */\n",
              "                background-size: auto;\n",
              "            }\n",
              "            .progress-bar-interrupted, .progress-bar-interrupted::-webkit-progress-bar {\n",
              "                background: #F44336;\n",
              "            }\n",
              "        </style>\n",
              "      <progress value='28' class='' max='28', style='width:300px; height:20px; vertical-align: middle;'></progress>\n",
              "      100.00% [28/28 00:03<00:00]\n",
              "    </div>\n",
              "    "
            ],
            "text/plain": [
              "<IPython.core.display.HTML object>"
            ]
          },
          "metadata": {
            "tags": []
          }
        },
        {
          "output_type": "stream",
          "text": [
            "01/17/2020 15:13:26 - INFO - __main__ -   eval_loss after step 1850: 0.37639828877789633: \n",
            "01/17/2020 15:13:26 - INFO - __main__ -   eval_accuracy_thresh after step 1850: 0.8477323651313782: \n",
            "01/17/2020 15:13:26 - INFO - __main__ -   eval_roc_auc after step 1850: 0.8565550324762975: \n",
            "01/17/2020 15:13:26 - INFO - __main__ -   eval_fbeta after step 1850: 0.6433905363082886: \n",
            "01/17/2020 15:13:26 - INFO - __main__ -   lr after step 1850: 1.614529582159854e-05\n",
            "01/17/2020 15:13:26 - INFO - __main__ -   train_loss after step 1850: 0.3830303645133972\n",
            "01/17/2020 15:13:41 - INFO - __main__ -   Running evaluation\n",
            "01/17/2020 15:13:41 - INFO - __main__ -     Num examples = 886\n",
            "01/17/2020 15:13:41 - INFO - __main__ -     Batch size = 32\n"
          ],
          "name": "stderr"
        },
        {
          "output_type": "display_data",
          "data": {
            "text/html": [
              "\n",
              "    <div>\n",
              "        <style>\n",
              "            /* Turns off some styling */\n",
              "            progress {\n",
              "                /* gets rid of default border in Firefox and Opera. */\n",
              "                border: none;\n",
              "                /* Needs to be in here for Safari polyfill so background images work as expected. */\n",
              "                background-size: auto;\n",
              "            }\n",
              "            .progress-bar-interrupted, .progress-bar-interrupted::-webkit-progress-bar {\n",
              "                background: #F44336;\n",
              "            }\n",
              "        </style>\n",
              "      <progress value='28' class='' max='28', style='width:300px; height:20px; vertical-align: middle;'></progress>\n",
              "      100.00% [28/28 00:03<00:00]\n",
              "    </div>\n",
              "    "
            ],
            "text/plain": [
              "<IPython.core.display.HTML object>"
            ]
          },
          "metadata": {
            "tags": []
          }
        },
        {
          "output_type": "stream",
          "text": [
            "01/17/2020 15:13:45 - INFO - __main__ -   eval_loss after step 1900: 0.37490022288901464: \n",
            "01/17/2020 15:13:45 - INFO - __main__ -   eval_accuracy_thresh after step 1900: 0.84947669506073: \n",
            "01/17/2020 15:13:45 - INFO - __main__ -   eval_roc_auc after step 1900: 0.8586993557817815: \n",
            "01/17/2020 15:13:45 - INFO - __main__ -   eval_fbeta after step 1900: 0.6377938389778137: \n",
            "01/17/2020 15:13:45 - INFO - __main__ -   lr after step 1900: 1.4166028158600563e-05\n",
            "01/17/2020 15:13:45 - INFO - __main__ -   train_loss after step 1900: 0.3817633920907974\n",
            "01/17/2020 15:13:59 - INFO - __main__ -   Running evaluation\n",
            "01/17/2020 15:13:59 - INFO - __main__ -     Num examples = 886\n",
            "01/17/2020 15:13:59 - INFO - __main__ -     Batch size = 32\n"
          ],
          "name": "stderr"
        },
        {
          "output_type": "display_data",
          "data": {
            "text/html": [
              "\n",
              "    <div>\n",
              "        <style>\n",
              "            /* Turns off some styling */\n",
              "            progress {\n",
              "                /* gets rid of default border in Firefox and Opera. */\n",
              "                border: none;\n",
              "                /* Needs to be in here for Safari polyfill so background images work as expected. */\n",
              "                background-size: auto;\n",
              "            }\n",
              "            .progress-bar-interrupted, .progress-bar-interrupted::-webkit-progress-bar {\n",
              "                background: #F44336;\n",
              "            }\n",
              "        </style>\n",
              "      <progress value='28' class='' max='28', style='width:300px; height:20px; vertical-align: middle;'></progress>\n",
              "      100.00% [28/28 00:03<00:00]\n",
              "    </div>\n",
              "    "
            ],
            "text/plain": [
              "<IPython.core.display.HTML object>"
            ]
          },
          "metadata": {
            "tags": []
          }
        },
        {
          "output_type": "stream",
          "text": [
            "01/17/2020 15:14:03 - INFO - __main__ -   eval_loss after step 1950: 0.3745903713362558: \n",
            "01/17/2020 15:14:03 - INFO - __main__ -   eval_accuracy_thresh after step 1950: 0.8495792746543884: \n",
            "01/17/2020 15:14:03 - INFO - __main__ -   eval_roc_auc after step 1950: 0.8586280369601099: \n",
            "01/17/2020 15:14:03 - INFO - __main__ -   eval_fbeta after step 1950: 0.6419937014579773: \n",
            "01/17/2020 15:14:03 - INFO - __main__ -   lr after step 1950: 1.2278070788953809e-05\n",
            "01/17/2020 15:14:03 - INFO - __main__ -   train_loss after step 1950: 0.37946232795715334\n",
            "01/17/2020 15:14:17 - INFO - __main__ -   Running evaluation\n",
            "01/17/2020 15:14:17 - INFO - __main__ -     Num examples = 886\n",
            "01/17/2020 15:14:17 - INFO - __main__ -     Batch size = 32\n"
          ],
          "name": "stderr"
        },
        {
          "output_type": "display_data",
          "data": {
            "text/html": [
              "\n",
              "    <div>\n",
              "        <style>\n",
              "            /* Turns off some styling */\n",
              "            progress {\n",
              "                /* gets rid of default border in Firefox and Opera. */\n",
              "                border: none;\n",
              "                /* Needs to be in here for Safari polyfill so background images work as expected. */\n",
              "                background-size: auto;\n",
              "            }\n",
              "            .progress-bar-interrupted, .progress-bar-interrupted::-webkit-progress-bar {\n",
              "                background: #F44336;\n",
              "            }\n",
              "        </style>\n",
              "      <progress value='28' class='' max='28', style='width:300px; height:20px; vertical-align: middle;'></progress>\n",
              "      100.00% [28/28 00:03<00:00]\n",
              "    </div>\n",
              "    "
            ],
            "text/plain": [
              "<IPython.core.display.HTML object>"
            ]
          },
          "metadata": {
            "tags": []
          }
        },
        {
          "output_type": "stream",
          "text": [
            "01/17/2020 15:14:21 - INFO - __main__ -   eval_loss after step 2000: 0.3743164816073009: \n",
            "01/17/2020 15:14:21 - INFO - __main__ -   eval_accuracy_thresh after step 2000: 0.8485532402992249: \n",
            "01/17/2020 15:14:21 - INFO - __main__ -   eval_roc_auc after step 2000: 0.8571599307798673: \n",
            "01/17/2020 15:14:21 - INFO - __main__ -   eval_fbeta after step 2000: 0.6468287110328674: \n",
            "01/17/2020 15:14:21 - INFO - __main__ -   lr after step 2000: 1.049231105936974e-05\n",
            "01/17/2020 15:14:21 - INFO - __main__ -   train_loss after step 2000: 0.3816098231077194\n",
            "01/17/2020 15:14:35 - INFO - __main__ -   Running evaluation\n",
            "01/17/2020 15:14:35 - INFO - __main__ -     Num examples = 886\n",
            "01/17/2020 15:14:35 - INFO - __main__ -     Batch size = 32\n"
          ],
          "name": "stderr"
        },
        {
          "output_type": "display_data",
          "data": {
            "text/html": [
              "\n",
              "    <div>\n",
              "        <style>\n",
              "            /* Turns off some styling */\n",
              "            progress {\n",
              "                /* gets rid of default border in Firefox and Opera. */\n",
              "                border: none;\n",
              "                /* Needs to be in here for Safari polyfill so background images work as expected. */\n",
              "                background-size: auto;\n",
              "            }\n",
              "            .progress-bar-interrupted, .progress-bar-interrupted::-webkit-progress-bar {\n",
              "                background: #F44336;\n",
              "            }\n",
              "        </style>\n",
              "      <progress value='28' class='' max='28', style='width:300px; height:20px; vertical-align: middle;'></progress>\n",
              "      100.00% [28/28 00:03<00:00]\n",
              "    </div>\n",
              "    "
            ],
            "text/plain": [
              "<IPython.core.display.HTML object>"
            ]
          },
          "metadata": {
            "tags": []
          }
        },
        {
          "output_type": "stream",
          "text": [
            "01/17/2020 15:14:39 - INFO - __main__ -   eval_loss after step 2050: 0.3734184003302029: \n",
            "01/17/2020 15:14:39 - INFO - __main__ -   eval_accuracy_thresh after step 2050: 0.8501949310302734: \n",
            "01/17/2020 15:14:39 - INFO - __main__ -   eval_roc_auc after step 2050: 0.8585694688944088: \n",
            "01/17/2020 15:14:39 - INFO - __main__ -   eval_fbeta after step 2050: 0.64506995677948: \n",
            "01/17/2020 15:14:39 - INFO - __main__ -   lr after step 2050: 8.819046970021414e-06\n",
            "01/17/2020 15:14:39 - INFO - __main__ -   train_loss after step 2050: 0.38422168910503385\n",
            "01/17/2020 15:14:54 - INFO - __main__ -   Running evaluation\n",
            "01/17/2020 15:14:54 - INFO - __main__ -     Num examples = 886\n",
            "01/17/2020 15:14:54 - INFO - __main__ -     Batch size = 32\n"
          ],
          "name": "stderr"
        },
        {
          "output_type": "display_data",
          "data": {
            "text/html": [
              "\n",
              "    <div>\n",
              "        <style>\n",
              "            /* Turns off some styling */\n",
              "            progress {\n",
              "                /* gets rid of default border in Firefox and Opera. */\n",
              "                border: none;\n",
              "                /* Needs to be in here for Safari polyfill so background images work as expected. */\n",
              "                background-size: auto;\n",
              "            }\n",
              "            .progress-bar-interrupted, .progress-bar-interrupted::-webkit-progress-bar {\n",
              "                background: #F44336;\n",
              "            }\n",
              "        </style>\n",
              "      <progress value='28' class='' max='28', style='width:300px; height:20px; vertical-align: middle;'></progress>\n",
              "      100.00% [28/28 00:03<00:00]\n",
              "    </div>\n",
              "    "
            ],
            "text/plain": [
              "<IPython.core.display.HTML object>"
            ]
          },
          "metadata": {
            "tags": []
          }
        },
        {
          "output_type": "stream",
          "text": [
            "01/17/2020 15:14:57 - INFO - __main__ -   eval_loss after step 2100: 0.3727080939071519: \n",
            "01/17/2020 15:14:57 - INFO - __main__ -   eval_accuracy_thresh after step 2100: 0.8501949310302734: \n",
            "01/17/2020 15:14:57 - INFO - __main__ -   eval_roc_auc after step 2100: 0.8588227147701645: \n",
            "01/17/2020 15:14:57 - INFO - __main__ -   eval_fbeta after step 2100: 0.6466469764709473: \n",
            "01/17/2020 15:14:57 - INFO - __main__ -   lr after step 2100: 7.267927788722575e-06\n",
            "01/17/2020 15:14:57 - INFO - __main__ -   train_loss after step 2100: 0.3756028163433075\n",
            "01/17/2020 15:15:09 - INFO - __main__ -   Running evaluation\n",
            "01/17/2020 15:15:09 - INFO - __main__ -     Num examples = 886\n",
            "01/17/2020 15:15:09 - INFO - __main__ -     Batch size = 32\n"
          ],
          "name": "stderr"
        },
        {
          "output_type": "display_data",
          "data": {
            "text/html": [
              "\n",
              "    <div>\n",
              "        <style>\n",
              "            /* Turns off some styling */\n",
              "            progress {\n",
              "                /* gets rid of default border in Firefox and Opera. */\n",
              "                border: none;\n",
              "                /* Needs to be in here for Safari polyfill so background images work as expected. */\n",
              "                background-size: auto;\n",
              "            }\n",
              "            .progress-bar-interrupted, .progress-bar-interrupted::-webkit-progress-bar {\n",
              "                background: #F44336;\n",
              "            }\n",
              "        </style>\n",
              "      <progress value='28' class='' max='28', style='width:300px; height:20px; vertical-align: middle;'></progress>\n",
              "      100.00% [28/28 00:03<00:00]\n",
              "    </div>\n",
              "    "
            ],
            "text/plain": [
              "<IPython.core.display.HTML object>"
            ]
          },
          "metadata": {
            "tags": []
          }
        },
        {
          "output_type": "stream",
          "text": [
            "01/17/2020 15:15:12 - INFO - __main__ -   eval_loss after epoch 5: 0.37266735306807924: \n",
            "01/17/2020 15:15:12 - INFO - __main__ -   eval_accuracy_thresh after epoch 5: 0.8492714762687683: \n",
            "01/17/2020 15:15:12 - INFO - __main__ -   eval_roc_auc after epoch 5: 0.85845245477981: \n",
            "01/17/2020 15:15:12 - INFO - __main__ -   eval_fbeta after epoch 5: 0.6482724547386169: \n",
            "01/17/2020 15:15:12 - INFO - __main__ -   lr after epoch 5: 6.121012750129451e-06\n",
            "01/17/2020 15:15:12 - INFO - __main__ -   train_loss after epoch 5: 0.380016488588859\n",
            "01/17/2020 15:15:12 - INFO - __main__ -   \n",
            "\n",
            "01/17/2020 15:15:15 - INFO - __main__ -   Running evaluation\n",
            "01/17/2020 15:15:15 - INFO - __main__ -     Num examples = 886\n",
            "01/17/2020 15:15:15 - INFO - __main__ -     Batch size = 32\n"
          ],
          "name": "stderr"
        },
        {
          "output_type": "display_data",
          "data": {
            "text/html": [
              "\n",
              "    <div>\n",
              "        <style>\n",
              "            /* Turns off some styling */\n",
              "            progress {\n",
              "                /* gets rid of default border in Firefox and Opera. */\n",
              "                border: none;\n",
              "                /* Needs to be in here for Safari polyfill so background images work as expected. */\n",
              "                background-size: auto;\n",
              "            }\n",
              "            .progress-bar-interrupted, .progress-bar-interrupted::-webkit-progress-bar {\n",
              "                background: #F44336;\n",
              "            }\n",
              "        </style>\n",
              "      <progress value='28' class='' max='28', style='width:300px; height:20px; vertical-align: middle;'></progress>\n",
              "      100.00% [28/28 00:03<00:00]\n",
              "    </div>\n",
              "    "
            ],
            "text/plain": [
              "<IPython.core.display.HTML object>"
            ]
          },
          "metadata": {
            "tags": []
          }
        },
        {
          "output_type": "stream",
          "text": [
            "01/17/2020 15:15:19 - INFO - __main__ -   eval_loss after step 2150: 0.37244884776217596: \n",
            "01/17/2020 15:15:19 - INFO - __main__ -   eval_accuracy_thresh after step 2150: 0.8507079482078552: \n",
            "01/17/2020 15:15:19 - INFO - __main__ -   eval_roc_auc after step 2150: 0.8590411858569102: \n",
            "01/17/2020 15:15:19 - INFO - __main__ -   eval_fbeta after step 2150: 0.6486762762069702: \n",
            "01/17/2020 15:15:19 - INFO - __main__ -   lr after step 2150: 5.847898406173115e-06\n",
            "01/17/2020 15:15:19 - INFO - __main__ -   train_loss after step 2150: 0.375578441619873\n",
            "01/17/2020 15:15:34 - INFO - __main__ -   Running evaluation\n",
            "01/17/2020 15:15:34 - INFO - __main__ -     Num examples = 886\n",
            "01/17/2020 15:15:34 - INFO - __main__ -     Batch size = 32\n"
          ],
          "name": "stderr"
        },
        {
          "output_type": "display_data",
          "data": {
            "text/html": [
              "\n",
              "    <div>\n",
              "        <style>\n",
              "            /* Turns off some styling */\n",
              "            progress {\n",
              "                /* gets rid of default border in Firefox and Opera. */\n",
              "                border: none;\n",
              "                /* Needs to be in here for Safari polyfill so background images work as expected. */\n",
              "                background-size: auto;\n",
              "            }\n",
              "            .progress-bar-interrupted, .progress-bar-interrupted::-webkit-progress-bar {\n",
              "                background: #F44336;\n",
              "            }\n",
              "        </style>\n",
              "      <progress value='28' class='' max='28', style='width:300px; height:20px; vertical-align: middle;'></progress>\n",
              "      100.00% [28/28 00:03<00:00]\n",
              "    </div>\n",
              "    "
            ],
            "text/plain": [
              "<IPython.core.display.HTML object>"
            ]
          },
          "metadata": {
            "tags": []
          }
        },
        {
          "output_type": "stream",
          "text": [
            "01/17/2020 15:15:37 - INFO - __main__ -   eval_loss after step 2200: 0.37198053300380707: \n",
            "01/17/2020 15:15:37 - INFO - __main__ -   eval_accuracy_thresh after step 2200: 0.8506053686141968: \n",
            "01/17/2020 15:15:37 - INFO - __main__ -   eval_roc_auc after step 2200: 0.8600117685207018: \n",
            "01/17/2020 15:15:37 - INFO - __main__ -   eval_fbeta after step 2200: 0.6448161602020264: \n",
            "01/17/2020 15:15:37 - INFO - __main__ -   lr after step 2200: 4.567147753159764e-06\n",
            "01/17/2020 15:15:37 - INFO - __main__ -   train_loss after step 2200: 0.37826389670372007\n",
            "01/17/2020 15:15:52 - INFO - __main__ -   Running evaluation\n",
            "01/17/2020 15:15:52 - INFO - __main__ -     Num examples = 886\n",
            "01/17/2020 15:15:52 - INFO - __main__ -     Batch size = 32\n"
          ],
          "name": "stderr"
        },
        {
          "output_type": "display_data",
          "data": {
            "text/html": [
              "\n",
              "    <div>\n",
              "        <style>\n",
              "            /* Turns off some styling */\n",
              "            progress {\n",
              "                /* gets rid of default border in Firefox and Opera. */\n",
              "                border: none;\n",
              "                /* Needs to be in here for Safari polyfill so background images work as expected. */\n",
              "                background-size: auto;\n",
              "            }\n",
              "            .progress-bar-interrupted, .progress-bar-interrupted::-webkit-progress-bar {\n",
              "                background: #F44336;\n",
              "            }\n",
              "        </style>\n",
              "      <progress value='28' class='' max='28', style='width:300px; height:20px; vertical-align: middle;'></progress>\n",
              "      100.00% [28/28 00:03<00:00]\n",
              "    </div>\n",
              "    "
            ],
            "text/plain": [
              "<IPython.core.display.HTML object>"
            ]
          },
          "metadata": {
            "tags": []
          }
        },
        {
          "output_type": "stream",
          "text": [
            "01/17/2020 15:15:55 - INFO - __main__ -   eval_loss after step 2250: 0.3719879005636488: \n",
            "01/17/2020 15:15:55 - INFO - __main__ -   eval_accuracy_thresh after step 2250: 0.8492714762687683: \n",
            "01/17/2020 15:15:55 - INFO - __main__ -   eval_roc_auc after step 2250: 0.8588621872061111: \n",
            "01/17/2020 15:15:55 - INFO - __main__ -   eval_fbeta after step 2250: 0.6484507322311401: \n",
            "01/17/2020 15:15:55 - INFO - __main__ -   lr after step 2250: 3.43306157717582e-06\n",
            "01/17/2020 15:15:55 - INFO - __main__ -   train_loss after step 2250: 0.37420221745967863\n",
            "01/17/2020 15:16:10 - INFO - __main__ -   Running evaluation\n",
            "01/17/2020 15:16:10 - INFO - __main__ -     Num examples = 886\n",
            "01/17/2020 15:16:10 - INFO - __main__ -     Batch size = 32\n"
          ],
          "name": "stderr"
        },
        {
          "output_type": "display_data",
          "data": {
            "text/html": [
              "\n",
              "    <div>\n",
              "        <style>\n",
              "            /* Turns off some styling */\n",
              "            progress {\n",
              "                /* gets rid of default border in Firefox and Opera. */\n",
              "                border: none;\n",
              "                /* Needs to be in here for Safari polyfill so background images work as expected. */\n",
              "                background-size: auto;\n",
              "            }\n",
              "            .progress-bar-interrupted, .progress-bar-interrupted::-webkit-progress-bar {\n",
              "                background: #F44336;\n",
              "            }\n",
              "        </style>\n",
              "      <progress value='28' class='' max='28', style='width:300px; height:20px; vertical-align: middle;'></progress>\n",
              "      100.00% [28/28 00:03<00:00]\n",
              "    </div>\n",
              "    "
            ],
            "text/plain": [
              "<IPython.core.display.HTML object>"
            ]
          },
          "metadata": {
            "tags": []
          }
        },
        {
          "output_type": "stream",
          "text": [
            "01/17/2020 15:16:14 - INFO - __main__ -   eval_loss after step 2300: 0.37187288914408: \n",
            "01/17/2020 15:16:14 - INFO - __main__ -   eval_accuracy_thresh after step 2300: 0.8491688370704651: \n",
            "01/17/2020 15:16:14 - INFO - __main__ -   eval_roc_auc after step 2300: 0.858717139730898: \n",
            "01/17/2020 15:16:14 - INFO - __main__ -   eval_fbeta after step 2300: 0.6478967666625977: \n",
            "01/17/2020 15:16:14 - INFO - __main__ -   lr after step 2300: 2.4521798507848014e-06\n",
            "01/17/2020 15:16:14 - INFO - __main__ -   train_loss after step 2300: 0.36996370732784273\n",
            "01/17/2020 15:16:28 - INFO - __main__ -   Running evaluation\n",
            "01/17/2020 15:16:28 - INFO - __main__ -     Num examples = 886\n",
            "01/17/2020 15:16:28 - INFO - __main__ -     Batch size = 32\n"
          ],
          "name": "stderr"
        },
        {
          "output_type": "display_data",
          "data": {
            "text/html": [
              "\n",
              "    <div>\n",
              "        <style>\n",
              "            /* Turns off some styling */\n",
              "            progress {\n",
              "                /* gets rid of default border in Firefox and Opera. */\n",
              "                border: none;\n",
              "                /* Needs to be in here for Safari polyfill so background images work as expected. */\n",
              "                background-size: auto;\n",
              "            }\n",
              "            .progress-bar-interrupted, .progress-bar-interrupted::-webkit-progress-bar {\n",
              "                background: #F44336;\n",
              "            }\n",
              "        </style>\n",
              "      <progress value='28' class='' max='28', style='width:300px; height:20px; vertical-align: middle;'></progress>\n",
              "      100.00% [28/28 00:03<00:00]\n",
              "    </div>\n",
              "    "
            ],
            "text/plain": [
              "<IPython.core.display.HTML object>"
            ]
          },
          "metadata": {
            "tags": []
          }
        },
        {
          "output_type": "stream",
          "text": [
            "01/17/2020 15:16:32 - INFO - __main__ -   eval_loss after step 2350: 0.37185328773089815: \n",
            "01/17/2020 15:16:32 - INFO - __main__ -   eval_accuracy_thresh after step 2350: 0.8502975106239319: \n",
            "01/17/2020 15:16:32 - INFO - __main__ -   eval_roc_auc after step 2350: 0.8588809777938569: \n",
            "01/17/2020 15:16:32 - INFO - __main__ -   eval_fbeta after step 2350: 0.6491376161575317: \n",
            "01/17/2020 15:16:32 - INFO - __main__ -   lr after step 2350: 1.6301590573426806e-06\n",
            "01/17/2020 15:16:32 - INFO - __main__ -   train_loss after step 2350: 0.37365578174591063\n",
            "01/17/2020 15:16:46 - INFO - __main__ -   Running evaluation\n",
            "01/17/2020 15:16:46 - INFO - __main__ -     Num examples = 886\n",
            "01/17/2020 15:16:46 - INFO - __main__ -     Batch size = 32\n"
          ],
          "name": "stderr"
        },
        {
          "output_type": "display_data",
          "data": {
            "text/html": [
              "\n",
              "    <div>\n",
              "        <style>\n",
              "            /* Turns off some styling */\n",
              "            progress {\n",
              "                /* gets rid of default border in Firefox and Opera. */\n",
              "                border: none;\n",
              "                /* Needs to be in here for Safari polyfill so background images work as expected. */\n",
              "                background-size: auto;\n",
              "            }\n",
              "            .progress-bar-interrupted, .progress-bar-interrupted::-webkit-progress-bar {\n",
              "                background: #F44336;\n",
              "            }\n",
              "        </style>\n",
              "      <progress value='28' class='' max='28', style='width:300px; height:20px; vertical-align: middle;'></progress>\n",
              "      100.00% [28/28 00:03<00:00]\n",
              "    </div>\n",
              "    "
            ],
            "text/plain": [
              "<IPython.core.display.HTML object>"
            ]
          },
          "metadata": {
            "tags": []
          }
        },
        {
          "output_type": "stream",
          "text": [
            "01/17/2020 15:16:50 - INFO - __main__ -   eval_loss after step 2400: 0.3719034641981125: \n",
            "01/17/2020 15:16:50 - INFO - __main__ -   eval_accuracy_thresh after step 2400: 0.8501949310302734: \n",
            "01/17/2020 15:16:50 - INFO - __main__ -   eval_roc_auc after step 2400: 0.8586384083884111: \n",
            "01/17/2020 15:16:50 - INFO - __main__ -   eval_fbeta after step 2400: 0.6493012309074402: \n",
            "01/17/2020 15:16:50 - INFO - __main__ -   lr after step 2400: 9.71739571566671e-07\n",
            "01/17/2020 15:16:50 - INFO - __main__ -   train_loss after step 2400: 0.3726697367429733\n",
            "01/17/2020 15:17:04 - INFO - __main__ -   Running evaluation\n",
            "01/17/2020 15:17:04 - INFO - __main__ -     Num examples = 886\n",
            "01/17/2020 15:17:04 - INFO - __main__ -     Batch size = 32\n"
          ],
          "name": "stderr"
        },
        {
          "output_type": "display_data",
          "data": {
            "text/html": [
              "\n",
              "    <div>\n",
              "        <style>\n",
              "            /* Turns off some styling */\n",
              "            progress {\n",
              "                /* gets rid of default border in Firefox and Opera. */\n",
              "                border: none;\n",
              "                /* Needs to be in here for Safari polyfill so background images work as expected. */\n",
              "                background-size: auto;\n",
              "            }\n",
              "            .progress-bar-interrupted, .progress-bar-interrupted::-webkit-progress-bar {\n",
              "                background: #F44336;\n",
              "            }\n",
              "        </style>\n",
              "      <progress value='28' class='' max='28', style='width:300px; height:20px; vertical-align: middle;'></progress>\n",
              "      100.00% [28/28 00:03<00:00]\n",
              "    </div>\n",
              "    "
            ],
            "text/plain": [
              "<IPython.core.display.HTML object>"
            ]
          },
          "metadata": {
            "tags": []
          }
        },
        {
          "output_type": "stream",
          "text": [
            "01/17/2020 15:17:08 - INFO - __main__ -   eval_loss after step 2450: 0.37185040967805044: \n",
            "01/17/2020 15:17:08 - INFO - __main__ -   eval_accuracy_thresh after step 2450: 0.8496819138526917: \n",
            "01/17/2020 15:17:08 - INFO - __main__ -   eval_roc_auc after step 2450: 0.8586223631787452: \n",
            "01/17/2020 15:17:08 - INFO - __main__ -   eval_fbeta after step 2450: 0.6493012309074402: \n",
            "01/17/2020 15:17:08 - INFO - __main__ -   lr after step 2450: 4.80718323058289e-07\n",
            "01/17/2020 15:17:08 - INFO - __main__ -   train_loss after step 2450: 0.37581997334957123\n",
            "01/17/2020 15:17:22 - INFO - __main__ -   Running evaluation\n",
            "01/17/2020 15:17:22 - INFO - __main__ -     Num examples = 886\n",
            "01/17/2020 15:17:22 - INFO - __main__ -     Batch size = 32\n"
          ],
          "name": "stderr"
        },
        {
          "output_type": "display_data",
          "data": {
            "text/html": [
              "\n",
              "    <div>\n",
              "        <style>\n",
              "            /* Turns off some styling */\n",
              "            progress {\n",
              "                /* gets rid of default border in Firefox and Opera. */\n",
              "                border: none;\n",
              "                /* Needs to be in here for Safari polyfill so background images work as expected. */\n",
              "                background-size: auto;\n",
              "            }\n",
              "            .progress-bar-interrupted, .progress-bar-interrupted::-webkit-progress-bar {\n",
              "                background: #F44336;\n",
              "            }\n",
              "        </style>\n",
              "      <progress value='28' class='' max='28', style='width:300px; height:20px; vertical-align: middle;'></progress>\n",
              "      100.00% [28/28 00:03<00:00]\n",
              "    </div>\n",
              "    "
            ],
            "text/plain": [
              "<IPython.core.display.HTML object>"
            ]
          },
          "metadata": {
            "tags": []
          }
        },
        {
          "output_type": "stream",
          "text": [
            "01/17/2020 15:17:26 - INFO - __main__ -   eval_loss after step 2500: 0.371839131627764: \n",
            "01/17/2020 15:17:26 - INFO - __main__ -   eval_accuracy_thresh after step 2500: 0.8497844934463501: \n",
            "01/17/2020 15:17:26 - INFO - __main__ -   eval_roc_auc after step 2500: 0.8586181841032239: \n",
            "01/17/2020 15:17:26 - INFO - __main__ -   eval_fbeta after step 2500: 0.6495723724365234: \n",
            "01/17/2020 15:17:26 - INFO - __main__ -   lr after step 2500: 1.5992690042286096e-07\n",
            "01/17/2020 15:17:26 - INFO - __main__ -   train_loss after step 2500: 0.3710510492324829\n",
            "01/17/2020 15:17:41 - INFO - __main__ -   Running evaluation\n",
            "01/17/2020 15:17:41 - INFO - __main__ -     Num examples = 886\n",
            "01/17/2020 15:17:41 - INFO - __main__ -     Batch size = 32\n"
          ],
          "name": "stderr"
        },
        {
          "output_type": "display_data",
          "data": {
            "text/html": [
              "\n",
              "    <div>\n",
              "        <style>\n",
              "            /* Turns off some styling */\n",
              "            progress {\n",
              "                /* gets rid of default border in Firefox and Opera. */\n",
              "                border: none;\n",
              "                /* Needs to be in here for Safari polyfill so background images work as expected. */\n",
              "                background-size: auto;\n",
              "            }\n",
              "            .progress-bar-interrupted, .progress-bar-interrupted::-webkit-progress-bar {\n",
              "                background: #F44336;\n",
              "            }\n",
              "        </style>\n",
              "      <progress value='28' class='' max='28', style='width:300px; height:20px; vertical-align: middle;'></progress>\n",
              "      100.00% [28/28 00:03<00:00]\n",
              "    </div>\n",
              "    "
            ],
            "text/plain": [
              "<IPython.core.display.HTML object>"
            ]
          },
          "metadata": {
            "tags": []
          }
        },
        {
          "output_type": "stream",
          "text": [
            "01/17/2020 15:17:44 - INFO - __main__ -   eval_loss after step 2550: 0.3718365100877626: \n",
            "01/17/2020 15:17:44 - INFO - __main__ -   eval_accuracy_thresh after step 2550: 0.8497844934463501: \n",
            "01/17/2020 15:17:44 - INFO - __main__ -   eval_roc_auc after step 2550: 0.8586241324223965: \n",
            "01/17/2020 15:17:44 - INFO - __main__ -   eval_fbeta after step 2550: 0.6495575904846191: \n",
            "01/17/2020 15:17:44 - INFO - __main__ -   lr after step 2550: 1.1215222253061485e-08\n",
            "01/17/2020 15:17:44 - INFO - __main__ -   train_loss after step 2550: 0.37104988932609556\n",
            "01/17/2020 15:17:49 - INFO - __main__ -   Running evaluation\n",
            "01/17/2020 15:17:49 - INFO - __main__ -     Num examples = 886\n",
            "01/17/2020 15:17:49 - INFO - __main__ -     Batch size = 32\n"
          ],
          "name": "stderr"
        },
        {
          "output_type": "display_data",
          "data": {
            "text/html": [
              "\n",
              "    <div>\n",
              "        <style>\n",
              "            /* Turns off some styling */\n",
              "            progress {\n",
              "                /* gets rid of default border in Firefox and Opera. */\n",
              "                border: none;\n",
              "                /* Needs to be in here for Safari polyfill so background images work as expected. */\n",
              "                background-size: auto;\n",
              "            }\n",
              "            .progress-bar-interrupted, .progress-bar-interrupted::-webkit-progress-bar {\n",
              "                background: #F44336;\n",
              "            }\n",
              "        </style>\n",
              "      <progress value='28' class='' max='28', style='width:300px; height:20px; vertical-align: middle;'></progress>\n",
              "      100.00% [28/28 00:03<00:00]\n",
              "    </div>\n",
              "    "
            ],
            "text/plain": [
              "<IPython.core.display.HTML object>"
            ]
          },
          "metadata": {
            "tags": []
          }
        },
        {
          "output_type": "stream",
          "text": [
            "01/17/2020 15:17:53 - INFO - __main__ -   eval_loss after epoch 6: 0.3718364941222327: \n",
            "01/17/2020 15:17:53 - INFO - __main__ -   eval_accuracy_thresh after epoch 6: 0.8497844934463501: \n",
            "01/17/2020 15:17:53 - INFO - __main__ -   eval_roc_auc after epoch 6: 0.8586241934307983: \n",
            "01/17/2020 15:17:53 - INFO - __main__ -   eval_fbeta after epoch 6: 0.6495575904846191: \n",
            "01/17/2020 15:17:53 - INFO - __main__ -   lr after epoch 6: 0.0\n",
            "01/17/2020 15:17:53 - INFO - __main__ -   train_loss after epoch 6: 0.3744906851342905\n",
            "01/17/2020 15:17:53 - INFO - __main__ -   \n",
            "\n"
          ],
          "name": "stderr"
        },
        {
          "output_type": "execute_result",
          "data": {
            "text/plain": [
              "(2568, 0.4543692501047133)"
            ]
          },
          "metadata": {
            "tags": []
          },
          "execution_count": 86
        }
      ]
    },
    {
      "cell_type": "markdown",
      "metadata": {
        "id": "T-qa76Upsquy",
        "colab_type": "text"
      },
      "source": [
        "# Save Model "
      ]
    },
    {
      "cell_type": "code",
      "metadata": {
        "id": "t27zqW8UXC20",
        "colab_type": "code",
        "outputId": "1c817677-d410-4cd9-d2b0-b80458f1412f",
        "colab": {
          "base_uri": "https://localhost:8080/",
          "height": 165
        }
      },
      "source": [
        "learner.save_model()"
      ],
      "execution_count": 1,
      "outputs": [
        {
          "output_type": "error",
          "ename": "NameError",
          "evalue": "ignored",
          "traceback": [
            "\u001b[0;31m---------------------------------------------------------------------------\u001b[0m",
            "\u001b[0;31mNameError\u001b[0m                                 Traceback (most recent call last)",
            "\u001b[0;32m<ipython-input-1-3ed6ed15c468>\u001b[0m in \u001b[0;36m<module>\u001b[0;34m()\u001b[0m\n\u001b[0;32m----> 1\u001b[0;31m \u001b[0mlearner\u001b[0m\u001b[0;34m.\u001b[0m\u001b[0msave_model\u001b[0m\u001b[0;34m(\u001b[0m\u001b[0;34m)\u001b[0m\u001b[0;34m\u001b[0m\u001b[0;34m\u001b[0m\u001b[0m\n\u001b[0m",
            "\u001b[0;31mNameError\u001b[0m: name 'learner' is not defined"
          ]
        }
      ]
    },
    {
      "cell_type": "markdown",
      "metadata": {
        "id": "-vHfVZbhssyB",
        "colab_type": "text"
      },
      "source": [
        "# Inference"
      ]
    },
    {
      "cell_type": "code",
      "metadata": {
        "id": "WsUMQphuWCxa",
        "colab_type": "code",
        "colab": {}
      },
      "source": [
        "from fast_bert.prediction import BertClassificationPredictor"
      ],
      "execution_count": 0,
      "outputs": []
    },
    {
      "cell_type": "code",
      "metadata": {
        "id": "weKo0o4lWGNQ",
        "colab_type": "code",
        "outputId": "5ea4b1cf-4471-4cd1-8ad5-bed102c105d0",
        "colab": {
          "base_uri": "https://localhost:8080/",
          "height": 749
        }
      },
      "source": [
        "MODEL_PATH = OUTPUT_PATH/'model_out'\n",
        "\n",
        "predictor = BertClassificationPredictor(model_path=MODEL_PATH, \n",
        "                                        label_path=LABEL_PATH,\n",
        "                                        multi_label=True,\n",
        "                                        model_type='bert',\n",
        "                                        do_lower_case=True)"
      ],
      "execution_count": 126,
      "outputs": [
        {
          "output_type": "stream",
          "text": [
            "01/17/2020 13:51:40 - INFO - transformers.tokenization_utils -   Model name '/content/drive/My Drive/models/output/model_out' not found in model shortcut name list (bert-base-uncased, bert-large-uncased, bert-base-cased, bert-large-cased, bert-base-multilingual-uncased, bert-base-multilingual-cased, bert-base-chinese, bert-base-german-cased, bert-large-uncased-whole-word-masking, bert-large-cased-whole-word-masking, bert-large-uncased-whole-word-masking-finetuned-squad, bert-large-cased-whole-word-masking-finetuned-squad, bert-base-cased-finetuned-mrpc, bert-base-german-dbmdz-cased, bert-base-german-dbmdz-uncased, bert-base-finnish-cased-v1, bert-base-finnish-uncased-v1). Assuming '/content/drive/My Drive/models/output/model_out' is a path or url to a directory containing tokenizer files.\n",
            "01/17/2020 13:51:40 - INFO - transformers.tokenization_utils -   loading file /content/drive/My Drive/models/output/model_out/vocab.txt\n",
            "01/17/2020 13:51:40 - INFO - transformers.tokenization_utils -   loading file /content/drive/My Drive/models/output/model_out/added_tokens.json\n",
            "01/17/2020 13:51:40 - INFO - transformers.tokenization_utils -   loading file /content/drive/My Drive/models/output/model_out/special_tokens_map.json\n",
            "01/17/2020 13:51:40 - INFO - transformers.tokenization_utils -   loading file /content/drive/My Drive/models/output/model_out/tokenizer_config.json\n",
            "01/17/2020 13:51:40 - INFO - transformers.configuration_utils -   loading configuration file /content/drive/My Drive/models/output/model_out/config.json\n",
            "01/17/2020 13:51:40 - INFO - transformers.configuration_utils -   Model config {\n",
            "  \"attention_probs_dropout_prob\": 0.1,\n",
            "  \"finetuning_task\": null,\n",
            "  \"hidden_act\": \"gelu\",\n",
            "  \"hidden_dropout_prob\": 0.1,\n",
            "  \"hidden_size\": 768,\n",
            "  \"id2label\": {\n",
            "    \"0\": \"LABEL_0\",\n",
            "    \"1\": \"LABEL_1\"\n",
            "  },\n",
            "  \"initializer_range\": 0.02,\n",
            "  \"intermediate_size\": 3072,\n",
            "  \"is_decoder\": false,\n",
            "  \"label2id\": {\n",
            "    \"LABEL_0\": 0,\n",
            "    \"LABEL_1\": 1\n",
            "  },\n",
            "  \"layer_norm_eps\": 1e-12,\n",
            "  \"max_position_embeddings\": 512,\n",
            "  \"num_attention_heads\": 12,\n",
            "  \"num_hidden_layers\": 12,\n",
            "  \"num_labels\": 11,\n",
            "  \"output_attentions\": false,\n",
            "  \"output_hidden_states\": false,\n",
            "  \"output_past\": true,\n",
            "  \"pruned_heads\": {},\n",
            "  \"torchscript\": false,\n",
            "  \"type_vocab_size\": 2,\n",
            "  \"use_bfloat16\": false,\n",
            "  \"vocab_size\": 30522\n",
            "}\n",
            "\n",
            "01/17/2020 13:51:40 - INFO - transformers.modeling_utils -   loading weights file /content/drive/My Drive/models/output/model_out/pytorch_model.bin\n"
          ],
          "name": "stderr"
        },
        {
          "output_type": "stream",
          "text": [
            "/content/drive/My Drive/models/output/model_out\n",
            "<class 'str'>\n"
          ],
          "name": "stdout"
        }
      ]
    },
    {
      "cell_type": "code",
      "metadata": {
        "id": "XlIb8nFTWg1A",
        "colab_type": "code",
        "outputId": "9786d8df-99e5-4af8-a63f-79d2a56417a9",
        "colab": {
          "base_uri": "https://localhost:8080/",
          "height": 34
        }
      },
      "source": [
        "single_pred = predictor.predict(\"Passed my exams! whoop whoop\")"
      ],
      "execution_count": 142,
      "outputs": [
        {
          "output_type": "stream",
          "text": [
            "01/17/2020 13:58:50 - INFO - root -   Writing example 0 of 1\n"
          ],
          "name": "stderr"
        }
      ]
    },
    {
      "cell_type": "code",
      "metadata": {
        "id": "SpMefoL5XTCE",
        "colab_type": "code",
        "outputId": "a0011485-3a85-4b02-cc86-b21fea14e8db",
        "colab": {
          "base_uri": "https://localhost:8080/",
          "height": 208
        }
      },
      "source": [
        "single_pred"
      ],
      "execution_count": 143,
      "outputs": [
        {
          "output_type": "execute_result",
          "data": {
            "text/plain": [
              "[('joy', 0.7095755934715271),\n",
              " ('optimism', 0.5588766932487488),\n",
              " ('love', 0.24737906455993652),\n",
              " ('anticipation', 0.22631953656673431),\n",
              " ('sadness', 0.14842192828655243),\n",
              " ('disgust', 0.13481934368610382),\n",
              " ('anger', 0.1133059561252594),\n",
              " ('fear', 0.10953650623559952),\n",
              " ('trust', 0.10050033777952194),\n",
              " ('pessimism', 0.10005820542573929),\n",
              " ('surprise', 0.08825845271348953)]"
            ]
          },
          "metadata": {
            "tags": []
          },
          "execution_count": 143
        }
      ]
    }
  ]
}