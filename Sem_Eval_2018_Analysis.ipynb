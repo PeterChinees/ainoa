{
  "nbformat": 4,
  "nbformat_minor": 0,
  "metadata": {
    "colab": {
      "name": "Sem-Eval 2018 Analysis.ipynb",
      "provenance": [],
      "collapsed_sections": [],
      "toc_visible": true,
      "authorship_tag": "ABX9TyPaXyRrkqd4nDcOqj+aL1um",
      "include_colab_link": true
    },
    "kernelspec": {
      "name": "python3",
      "display_name": "Python 3"
    },
    "accelerator": "GPU"
  },
  "cells": [
    {
      "cell_type": "markdown",
      "metadata": {
        "id": "view-in-github",
        "colab_type": "text"
      },
      "source": [
        "<a href=\"https://colab.research.google.com/github/oaarnikoivu/dissertation/blob/master/Sem_Eval_2018_Analysis.ipynb\" target=\"_parent\"><img src=\"https://colab.research.google.com/assets/colab-badge.svg\" alt=\"Open In Colab\"/></a>"
      ]
    },
    {
      "cell_type": "markdown",
      "metadata": {
        "id": "8xwmqsjEUwr6",
        "colab_type": "text"
      },
      "source": [
        "## Imports"
      ]
    },
    {
      "cell_type": "code",
      "metadata": {
        "id": "zH_mZxBwUjpS",
        "colab_type": "code",
        "outputId": "541f94cd-8081-4367-a411-afa4af53e688",
        "colab": {
          "base_uri": "https://localhost:8080/",
          "height": 52
        }
      },
      "source": [
        "import pandas as pd\n",
        "import numpy as np\n",
        "import nltk\n",
        "import re\n",
        "import collections\n",
        "\n",
        "nltk.download('stopwords')\n",
        "from nltk.corpus import stopwords"
      ],
      "execution_count": 1,
      "outputs": [
        {
          "output_type": "stream",
          "text": [
            "[nltk_data] Downloading package stopwords to /root/nltk_data...\n",
            "[nltk_data]   Unzipping corpora/stopwords.zip.\n"
          ],
          "name": "stdout"
        }
      ]
    },
    {
      "cell_type": "code",
      "metadata": {
        "id": "8qRRCrEuU5yl",
        "colab_type": "code",
        "outputId": "762afb1d-a65f-421a-bb8f-eee9a366844e",
        "colab": {
          "base_uri": "https://localhost:8080/",
          "height": 124
        }
      },
      "source": [
        "from google.colab import drive\n",
        "drive.mount('/content/drive')"
      ],
      "execution_count": 2,
      "outputs": [
        {
          "output_type": "stream",
          "text": [
            "Go to this URL in a browser: https://accounts.google.com/o/oauth2/auth?client_id=947318989803-6bn6qk8qdgf4n4g3pfee6491hc0brc4i.apps.googleusercontent.com&redirect_uri=urn%3aietf%3awg%3aoauth%3a2.0%3aoob&response_type=code&scope=email%20https%3a%2f%2fwww.googleapis.com%2fauth%2fdocs.test%20https%3a%2f%2fwww.googleapis.com%2fauth%2fdrive%20https%3a%2f%2fwww.googleapis.com%2fauth%2fdrive.photos.readonly%20https%3a%2f%2fwww.googleapis.com%2fauth%2fpeopleapi.readonly\n",
            "\n",
            "Enter your authorization code:\n",
            "··········\n",
            "Mounted at /content/drive\n"
          ],
          "name": "stdout"
        }
      ]
    },
    {
      "cell_type": "markdown",
      "metadata": {
        "id": "BQOhU4RaVM1O",
        "colab_type": "text"
      },
      "source": [
        "## Load data"
      ]
    },
    {
      "cell_type": "code",
      "metadata": {
        "id": "YJO9yG8iVCyG",
        "colab_type": "code",
        "colab": {}
      },
      "source": [
        "def load_data(filename):\n",
        "  data = pd.read_csv(filename, sep='\\t')\n",
        "  return data"
      ],
      "execution_count": 0,
      "outputs": []
    },
    {
      "cell_type": "code",
      "metadata": {
        "id": "UOmjgI-mVUwJ",
        "colab_type": "code",
        "colab": {}
      },
      "source": [
        "file_path = '/content/drive/My Drive/datasets/'\n",
        "\n",
        "train = load_data(file_path + '2018-E-c-En-train.txt')\n",
        "val = load_data(file_path + '2018-E-c-En-dev.txt')\n",
        "test = load_data(file_path + '2018-E-c-En-test-gold.txt')"
      ],
      "execution_count": 0,
      "outputs": []
    },
    {
      "cell_type": "code",
      "metadata": {
        "id": "OmGiIK61Vchi",
        "colab_type": "code",
        "outputId": "29f8db29-73f1-4570-f72e-3812174d40b8",
        "colab": {
          "base_uri": "https://localhost:8080/",
          "height": 206
        }
      },
      "source": [
        "train.head()"
      ],
      "execution_count": 5,
      "outputs": [
        {
          "output_type": "execute_result",
          "data": {
            "text/html": [
              "<div>\n",
              "<style scoped>\n",
              "    .dataframe tbody tr th:only-of-type {\n",
              "        vertical-align: middle;\n",
              "    }\n",
              "\n",
              "    .dataframe tbody tr th {\n",
              "        vertical-align: top;\n",
              "    }\n",
              "\n",
              "    .dataframe thead th {\n",
              "        text-align: right;\n",
              "    }\n",
              "</style>\n",
              "<table border=\"1\" class=\"dataframe\">\n",
              "  <thead>\n",
              "    <tr style=\"text-align: right;\">\n",
              "      <th></th>\n",
              "      <th>ID</th>\n",
              "      <th>Tweet</th>\n",
              "      <th>anger</th>\n",
              "      <th>anticipation</th>\n",
              "      <th>disgust</th>\n",
              "      <th>fear</th>\n",
              "      <th>joy</th>\n",
              "      <th>love</th>\n",
              "      <th>optimism</th>\n",
              "      <th>pessimism</th>\n",
              "      <th>sadness</th>\n",
              "      <th>surprise</th>\n",
              "      <th>trust</th>\n",
              "    </tr>\n",
              "  </thead>\n",
              "  <tbody>\n",
              "    <tr>\n",
              "      <th>0</th>\n",
              "      <td>2017-En-21441</td>\n",
              "      <td>“Worry is a down payment on a problem you may ...</td>\n",
              "      <td>0</td>\n",
              "      <td>1</td>\n",
              "      <td>0</td>\n",
              "      <td>0</td>\n",
              "      <td>0</td>\n",
              "      <td>0</td>\n",
              "      <td>1</td>\n",
              "      <td>0</td>\n",
              "      <td>0</td>\n",
              "      <td>0</td>\n",
              "      <td>1</td>\n",
              "    </tr>\n",
              "    <tr>\n",
              "      <th>1</th>\n",
              "      <td>2017-En-31535</td>\n",
              "      <td>Whatever you decide to do make sure it makes y...</td>\n",
              "      <td>0</td>\n",
              "      <td>0</td>\n",
              "      <td>0</td>\n",
              "      <td>0</td>\n",
              "      <td>1</td>\n",
              "      <td>1</td>\n",
              "      <td>1</td>\n",
              "      <td>0</td>\n",
              "      <td>0</td>\n",
              "      <td>0</td>\n",
              "      <td>0</td>\n",
              "    </tr>\n",
              "    <tr>\n",
              "      <th>2</th>\n",
              "      <td>2017-En-21068</td>\n",
              "      <td>@Max_Kellerman  it also helps that the majorit...</td>\n",
              "      <td>1</td>\n",
              "      <td>0</td>\n",
              "      <td>1</td>\n",
              "      <td>0</td>\n",
              "      <td>1</td>\n",
              "      <td>0</td>\n",
              "      <td>1</td>\n",
              "      <td>0</td>\n",
              "      <td>0</td>\n",
              "      <td>0</td>\n",
              "      <td>0</td>\n",
              "    </tr>\n",
              "    <tr>\n",
              "      <th>3</th>\n",
              "      <td>2017-En-31436</td>\n",
              "      <td>Accept the challenges so that you can literall...</td>\n",
              "      <td>0</td>\n",
              "      <td>0</td>\n",
              "      <td>0</td>\n",
              "      <td>0</td>\n",
              "      <td>1</td>\n",
              "      <td>0</td>\n",
              "      <td>1</td>\n",
              "      <td>0</td>\n",
              "      <td>0</td>\n",
              "      <td>0</td>\n",
              "      <td>0</td>\n",
              "    </tr>\n",
              "    <tr>\n",
              "      <th>4</th>\n",
              "      <td>2017-En-22195</td>\n",
              "      <td>My roommate: it's okay that we can't spell bec...</td>\n",
              "      <td>1</td>\n",
              "      <td>0</td>\n",
              "      <td>1</td>\n",
              "      <td>0</td>\n",
              "      <td>0</td>\n",
              "      <td>0</td>\n",
              "      <td>0</td>\n",
              "      <td>0</td>\n",
              "      <td>0</td>\n",
              "      <td>0</td>\n",
              "      <td>0</td>\n",
              "    </tr>\n",
              "  </tbody>\n",
              "</table>\n",
              "</div>"
            ],
            "text/plain": [
              "              ID  ... trust\n",
              "0  2017-En-21441  ...     1\n",
              "1  2017-En-31535  ...     0\n",
              "2  2017-En-21068  ...     0\n",
              "3  2017-En-31436  ...     0\n",
              "4  2017-En-22195  ...     0\n",
              "\n",
              "[5 rows x 13 columns]"
            ]
          },
          "metadata": {
            "tags": []
          },
          "execution_count": 5
        }
      ]
    },
    {
      "cell_type": "markdown",
      "metadata": {
        "id": "B1bajijraPCm",
        "colab_type": "text"
      },
      "source": [
        "Lets create a list of all labels to predicts and also a 'none' label to see how many tweets have no labels."
      ]
    },
    {
      "cell_type": "code",
      "metadata": {
        "id": "XqnugydRZ6fK",
        "colab_type": "code",
        "outputId": "ecdd7fe7-a6ed-439a-f6c1-454dd62c9ddc",
        "colab": {
          "base_uri": "https://localhost:8080/",
          "height": 300
        }
      },
      "source": [
        "class_names = ['anger', 'anticipation', 'disgust', 'fear', 'joy', 'love', \n",
        "              'optimism', 'pessimism', 'sadness', 'surprise', 'trust']\n",
        "\n",
        "train['none'] = 1-train[class_names].max(axis=1)\n",
        "train.describe()"
      ],
      "execution_count": 6,
      "outputs": [
        {
          "output_type": "execute_result",
          "data": {
            "text/html": [
              "<div>\n",
              "<style scoped>\n",
              "    .dataframe tbody tr th:only-of-type {\n",
              "        vertical-align: middle;\n",
              "    }\n",
              "\n",
              "    .dataframe tbody tr th {\n",
              "        vertical-align: top;\n",
              "    }\n",
              "\n",
              "    .dataframe thead th {\n",
              "        text-align: right;\n",
              "    }\n",
              "</style>\n",
              "<table border=\"1\" class=\"dataframe\">\n",
              "  <thead>\n",
              "    <tr style=\"text-align: right;\">\n",
              "      <th></th>\n",
              "      <th>anger</th>\n",
              "      <th>anticipation</th>\n",
              "      <th>disgust</th>\n",
              "      <th>fear</th>\n",
              "      <th>joy</th>\n",
              "      <th>love</th>\n",
              "      <th>optimism</th>\n",
              "      <th>pessimism</th>\n",
              "      <th>sadness</th>\n",
              "      <th>surprise</th>\n",
              "      <th>trust</th>\n",
              "      <th>none</th>\n",
              "    </tr>\n",
              "  </thead>\n",
              "  <tbody>\n",
              "    <tr>\n",
              "      <th>count</th>\n",
              "      <td>6838.000000</td>\n",
              "      <td>6838.000000</td>\n",
              "      <td>6838.000000</td>\n",
              "      <td>6838.000000</td>\n",
              "      <td>6838.000000</td>\n",
              "      <td>6838.000000</td>\n",
              "      <td>6838.000000</td>\n",
              "      <td>6838.000000</td>\n",
              "      <td>6838.000000</td>\n",
              "      <td>6838.000000</td>\n",
              "      <td>6838.000000</td>\n",
              "      <td>6838.000000</td>\n",
              "    </tr>\n",
              "    <tr>\n",
              "      <th>mean</th>\n",
              "      <td>0.372039</td>\n",
              "      <td>0.143024</td>\n",
              "      <td>0.380521</td>\n",
              "      <td>0.181632</td>\n",
              "      <td>0.362240</td>\n",
              "      <td>0.102369</td>\n",
              "      <td>0.290143</td>\n",
              "      <td>0.116262</td>\n",
              "      <td>0.293653</td>\n",
              "      <td>0.052793</td>\n",
              "      <td>0.052208</td>\n",
              "      <td>0.029833</td>\n",
              "    </tr>\n",
              "    <tr>\n",
              "      <th>std</th>\n",
              "      <td>0.483384</td>\n",
              "      <td>0.350123</td>\n",
              "      <td>0.485550</td>\n",
              "      <td>0.385569</td>\n",
              "      <td>0.480683</td>\n",
              "      <td>0.303155</td>\n",
              "      <td>0.453862</td>\n",
              "      <td>0.320562</td>\n",
              "      <td>0.455468</td>\n",
              "      <td>0.223637</td>\n",
              "      <td>0.222463</td>\n",
              "      <td>0.170140</td>\n",
              "    </tr>\n",
              "    <tr>\n",
              "      <th>min</th>\n",
              "      <td>0.000000</td>\n",
              "      <td>0.000000</td>\n",
              "      <td>0.000000</td>\n",
              "      <td>0.000000</td>\n",
              "      <td>0.000000</td>\n",
              "      <td>0.000000</td>\n",
              "      <td>0.000000</td>\n",
              "      <td>0.000000</td>\n",
              "      <td>0.000000</td>\n",
              "      <td>0.000000</td>\n",
              "      <td>0.000000</td>\n",
              "      <td>0.000000</td>\n",
              "    </tr>\n",
              "    <tr>\n",
              "      <th>25%</th>\n",
              "      <td>0.000000</td>\n",
              "      <td>0.000000</td>\n",
              "      <td>0.000000</td>\n",
              "      <td>0.000000</td>\n",
              "      <td>0.000000</td>\n",
              "      <td>0.000000</td>\n",
              "      <td>0.000000</td>\n",
              "      <td>0.000000</td>\n",
              "      <td>0.000000</td>\n",
              "      <td>0.000000</td>\n",
              "      <td>0.000000</td>\n",
              "      <td>0.000000</td>\n",
              "    </tr>\n",
              "    <tr>\n",
              "      <th>50%</th>\n",
              "      <td>0.000000</td>\n",
              "      <td>0.000000</td>\n",
              "      <td>0.000000</td>\n",
              "      <td>0.000000</td>\n",
              "      <td>0.000000</td>\n",
              "      <td>0.000000</td>\n",
              "      <td>0.000000</td>\n",
              "      <td>0.000000</td>\n",
              "      <td>0.000000</td>\n",
              "      <td>0.000000</td>\n",
              "      <td>0.000000</td>\n",
              "      <td>0.000000</td>\n",
              "    </tr>\n",
              "    <tr>\n",
              "      <th>75%</th>\n",
              "      <td>1.000000</td>\n",
              "      <td>0.000000</td>\n",
              "      <td>1.000000</td>\n",
              "      <td>0.000000</td>\n",
              "      <td>1.000000</td>\n",
              "      <td>0.000000</td>\n",
              "      <td>1.000000</td>\n",
              "      <td>0.000000</td>\n",
              "      <td>1.000000</td>\n",
              "      <td>0.000000</td>\n",
              "      <td>0.000000</td>\n",
              "      <td>0.000000</td>\n",
              "    </tr>\n",
              "    <tr>\n",
              "      <th>max</th>\n",
              "      <td>1.000000</td>\n",
              "      <td>1.000000</td>\n",
              "      <td>1.000000</td>\n",
              "      <td>1.000000</td>\n",
              "      <td>1.000000</td>\n",
              "      <td>1.000000</td>\n",
              "      <td>1.000000</td>\n",
              "      <td>1.000000</td>\n",
              "      <td>1.000000</td>\n",
              "      <td>1.000000</td>\n",
              "      <td>1.000000</td>\n",
              "      <td>1.000000</td>\n",
              "    </tr>\n",
              "  </tbody>\n",
              "</table>\n",
              "</div>"
            ],
            "text/plain": [
              "             anger  anticipation  ...        trust         none\n",
              "count  6838.000000   6838.000000  ...  6838.000000  6838.000000\n",
              "mean      0.372039      0.143024  ...     0.052208     0.029833\n",
              "std       0.483384      0.350123  ...     0.222463     0.170140\n",
              "min       0.000000      0.000000  ...     0.000000     0.000000\n",
              "25%       0.000000      0.000000  ...     0.000000     0.000000\n",
              "50%       0.000000      0.000000  ...     0.000000     0.000000\n",
              "75%       1.000000      0.000000  ...     0.000000     0.000000\n",
              "max       1.000000      1.000000  ...     1.000000     1.000000\n",
              "\n",
              "[8 rows x 12 columns]"
            ]
          },
          "metadata": {
            "tags": []
          },
          "execution_count": 6
        }
      ]
    },
    {
      "cell_type": "code",
      "metadata": {
        "id": "vyeEDnTXaZRS",
        "colab_type": "code",
        "outputId": "43a8ffc3-b584-44a8-f729-a32a8efed451",
        "colab": {
          "base_uri": "https://localhost:8080/",
          "height": 34
        }
      },
      "source": [
        "len(train), len(test), len(val)"
      ],
      "execution_count": 7,
      "outputs": [
        {
          "output_type": "execute_result",
          "data": {
            "text/plain": [
              "(6838, 3259, 886)"
            ]
          },
          "metadata": {
            "tags": []
          },
          "execution_count": 7
        }
      ]
    },
    {
      "cell_type": "markdown",
      "metadata": {
        "id": "DJZyiv8oajAE",
        "colab_type": "text"
      },
      "source": [
        "Since there are a few empty tweets, we will replace these with: 'unknown'. "
      ]
    },
    {
      "cell_type": "code",
      "metadata": {
        "id": "YvSS2WpjaprC",
        "colab_type": "code",
        "colab": {}
      },
      "source": [
        "train['Tweet'].fillna(\"unknown\", inplace=True)\n",
        "test['Tweet'].fillna(\"unknown\", inplace=True)\n",
        "val['Tweet'].fillna(\"unknown\", inplace=True)"
      ],
      "execution_count": 0,
      "outputs": []
    },
    {
      "cell_type": "code",
      "metadata": {
        "id": "01ECGMWCcDA1",
        "colab_type": "code",
        "colab": {}
      },
      "source": [
        "train_text = train['Tweet']\n",
        "test_text = test['Tweet']\n",
        "val_text = val['Tweet']\n",
        "all_text = pd.concat([train_text, test_text, val_text])"
      ],
      "execution_count": 0,
      "outputs": []
    },
    {
      "cell_type": "markdown",
      "metadata": {
        "id": "vkt3Zn7aWufB",
        "colab_type": "text"
      },
      "source": [
        "## Text preprocessing"
      ]
    },
    {
      "cell_type": "code",
      "metadata": {
        "id": "n_2bkLGdV4kX",
        "colab_type": "code",
        "outputId": "8ef9e11b-c7a2-448c-ac80-f35b704c73dc",
        "colab": {
          "base_uri": "https://localhost:8080/",
          "height": 121
        }
      },
      "source": [
        "train_text.head()"
      ],
      "execution_count": 10,
      "outputs": [
        {
          "output_type": "execute_result",
          "data": {
            "text/plain": [
              "0    “Worry is a down payment on a problem you may ...\n",
              "1    Whatever you decide to do make sure it makes y...\n",
              "2    @Max_Kellerman  it also helps that the majorit...\n",
              "3    Accept the challenges so that you can literall...\n",
              "4    My roommate: it's okay that we can't spell bec...\n",
              "Name: Tweet, dtype: object"
            ]
          },
          "metadata": {
            "tags": []
          },
          "execution_count": 10
        }
      ]
    },
    {
      "cell_type": "code",
      "metadata": {
        "id": "cuka2cosW2u1",
        "colab_type": "code",
        "colab": {}
      },
      "source": [
        "REPLACE_BY_SPACE_RE = re.compile('[/(){}\\[\\]\\|@,;]')\n",
        "BAD_SYMBOLS_RE = re.compile('[^0-9a-z #+_]')\n",
        "STOPWORDS = set(stopwords.words('english'))\n",
        "\n",
        "def preprocessor(text):\n",
        "    text = text.lower()\n",
        "    text = re.sub(' +', ' ', text)\n",
        "    #text = re.sub('#', '', text) # remove hashtags\n",
        "    text = REPLACE_BY_SPACE_RE.sub('', text)\n",
        "    text = BAD_SYMBOLS_RE.sub('', text)\n",
        "    text = ' '.join([word for word in text.split() if word not in STOPWORDS])\n",
        "    text = text.strip()\n",
        "  \n",
        "    return text"
      ],
      "execution_count": 0,
      "outputs": []
    },
    {
      "cell_type": "code",
      "metadata": {
        "id": "31047SavW8d4",
        "colab_type": "code",
        "outputId": "4817e7f5-a76b-48a3-cb9f-14a8835a5c2a",
        "colab": {
          "base_uri": "https://localhost:8080/",
          "height": 34
        }
      },
      "source": [
        "preprocessor(train_text[250])"
      ],
      "execution_count": 12,
      "outputs": [
        {
          "output_type": "execute_result",
          "data": {
            "text/plain": [
              "'dont #afraid space #dreams #reality #dream #make'"
            ]
          },
          "metadata": {
            "tags": []
          },
          "execution_count": 12
        }
      ]
    },
    {
      "cell_type": "code",
      "metadata": {
        "id": "1X_hSl1zX90L",
        "colab_type": "code",
        "colab": {}
      },
      "source": [
        "train_text = train_text.apply(preprocessor)\n",
        "test_text = test_text.apply(preprocessor)\n",
        "val_text = val_text.apply(preprocessor)"
      ],
      "execution_count": 0,
      "outputs": []
    },
    {
      "cell_type": "code",
      "metadata": {
        "id": "qpuqwfXvc4_N",
        "colab_type": "code",
        "outputId": "66a84b89-6828-407b-ecec-78925ca417ed",
        "colab": {
          "base_uri": "https://localhost:8080/",
          "height": 121
        }
      },
      "source": [
        "train_text.head()"
      ],
      "execution_count": 14,
      "outputs": [
        {
          "output_type": "execute_result",
          "data": {
            "text/plain": [
              "0    worry payment problem may never joyce meyer #m...\n",
              "1               whatever decide make sure makes #happy\n",
              "2    max_kellerman also helps majority nfl coaching...\n",
              "3    accept challenges literally even feel exhilara...\n",
              "4    roommate okay cant spell autocorrect #terrible...\n",
              "Name: Tweet, dtype: object"
            ]
          },
          "metadata": {
            "tags": []
          },
          "execution_count": 14
        }
      ]
    },
    {
      "cell_type": "markdown",
      "metadata": {
        "id": "K_W8UD69eD6N",
        "colab_type": "text"
      },
      "source": [
        "## Transforming text to a vector"
      ]
    },
    {
      "cell_type": "markdown",
      "metadata": {
        "id": "FUYFy1IyekKI",
        "colab_type": "text"
      },
      "source": [
        "### TF-IDF"
      ]
    },
    {
      "cell_type": "code",
      "metadata": {
        "id": "inKaZBQieYwS",
        "colab_type": "code",
        "colab": {}
      },
      "source": [
        "from sklearn.feature_extraction.text import TfidfVectorizer"
      ],
      "execution_count": 0,
      "outputs": []
    },
    {
      "cell_type": "code",
      "metadata": {
        "id": "DYRQVv-Qf6YH",
        "colab_type": "code",
        "colab": {}
      },
      "source": [
        "def tfidf_features(train, val, test):\n",
        "  vectorizer = TfidfVectorizer(ngram_range=(1,2), max_df=0.9, min_df=2,\n",
        "                               token_pattern='(\\S+)')\n",
        "  \n",
        "  vectorizer.fit(all_text)\n",
        "\n",
        "  train_features = vectorizer.transform(train)\n",
        "  test_features = vectorizer.transform(test)\n",
        "  val_features = vectorizer.transform(val)\n",
        "\n",
        "  return vectorizer, train_features, val_features, test_features, vectorizer.vocabulary_"
      ],
      "execution_count": 0,
      "outputs": []
    },
    {
      "cell_type": "code",
      "metadata": {
        "id": "4reWcNvly7MM",
        "colab_type": "code",
        "colab": {}
      },
      "source": [
        "vect, train_features, val_features, test_features, vocab = tfidf_features(train_text, val_text, test_text)"
      ],
      "execution_count": 0,
      "outputs": []
    },
    {
      "cell_type": "code",
      "metadata": {
        "id": "lV0GctD3zMNO",
        "colab_type": "code",
        "colab": {
          "base_uri": "https://localhost:8080/",
          "height": 34
        },
        "outputId": "528d8493-1946-4456-a0c8-9306e1207fd1"
      },
      "source": [
        "vocab['alcohol']"
      ],
      "execution_count": 161,
      "outputs": [
        {
          "output_type": "execute_result",
          "data": {
            "text/plain": [
              "6265"
            ]
          },
          "metadata": {
            "tags": []
          },
          "execution_count": 161
        }
      ]
    },
    {
      "cell_type": "markdown",
      "metadata": {
        "id": "uGQBpBDqnfdF",
        "colab_type": "text"
      },
      "source": [
        "## Train classifier"
      ]
    },
    {
      "cell_type": "code",
      "metadata": {
        "id": "TCcnK49InfJY",
        "colab_type": "code",
        "colab": {}
      },
      "source": [
        "from sklearn.linear_model import LogisticRegression\n",
        "from sklearn.neighbors import KNeighborsClassifier\n",
        "from sklearn.neural_network import MLPClassifier\n",
        "from sklearn.metrics import accuracy_score"
      ],
      "execution_count": 0,
      "outputs": []
    },
    {
      "cell_type": "code",
      "metadata": {
        "id": "VR2xeCE-nY6o",
        "colab_type": "code",
        "colab": {}
      },
      "source": [
        "def train_classifier(X_train, X_val, X_test, pred_text):\n",
        "\n",
        "  #clf = LogisticRegression()\n",
        "  #clf = KNeighborsClassifier(n_neighbors=5, metric='manhattan')\n",
        "  clf = MLPClassifier(solver='lbfgs', alpha=1e-5, \n",
        "                      hidden_layer_sizes=(5, 2), random_state=1, max_iter=800)\n",
        "  predictions = []\n",
        "\n",
        "  for class_name in class_names:\n",
        "    print('\\n... Processing {}'.format(class_name))\n",
        "\n",
        "    train_target = train[class_name]\n",
        "    test_target = test[class_name]\n",
        "    val_target = val[class_name]\n",
        "\n",
        "    clf.fit(X_train, train_target)\n",
        "\n",
        "    # compute training accuracy\n",
        "    y_pred_X_train = clf.predict(X_train)\n",
        "    print('Training accuracy is {}'.format(accuracy_score(train_target, y_pred_X_train)))\n",
        "    \n",
        "    # compute validation accuracy\n",
        "    y_pred_X_val = clf.predict(X_val)\n",
        "    print('Validation accuracy is {}'.format(accuracy_score(val_target, y_pred_X_val)))\n",
        "\n",
        "    # compute testing accuracy\n",
        "    y_pred_X_test = clf.predict(X_test)\n",
        "    print('Testing accuracy is {}'.format(accuracy_score(test_target, y_pred_X_test)))\n",
        "\n",
        "    for t in pred_text:\n",
        "      pred = clf.predict(vect.transform([t]))\n",
        "      if pred:\n",
        "        predictions.append(t + \" - \" + class_name)\n",
        "\n",
        "  return (clf, predictions)"
      ],
      "execution_count": 0,
      "outputs": []
    },
    {
      "cell_type": "code",
      "metadata": {
        "id": "sf0hvJ4SoU4z",
        "colab_type": "code",
        "colab": {
          "base_uri": "https://localhost:8080/",
          "height": 1000
        },
        "outputId": "2f6f58f9-51fe-41f3-e8e4-872e9e5ffeac"
      },
      "source": [
        "pred_text = [\"depression sucks!\", \n",
        "             \"so happy to be home from ibiza\", \n",
        "             \"apologies for retweeting a tweet\",\n",
        "             \"I think Robert can now rejoice in peace\",\n",
        "             \"too much fun being interviewed by the talented and funny #datphan\",\n",
        "             \"#selfish #horrible person\",\n",
        "             \"trumps only concern is personal profit\",\n",
        "             \"He is crazy, mentally sick and spews hatred!\",\n",
        "             \"brighten up a gloomy day with spray tan\",\n",
        "             \"I feel exhausted, I tried to do a good job but apparently God does not see me right.\",\n",
        "             \"Will I ever NOT be tired again?\",\n",
        "             \"She was obviously moved by the music.\",\n",
        "             \"fuck small talk tell me about what age did you start disappointing your parents\"]\n",
        "\n",
        "(clf, preds) = train_classifier(train_features, val_features, test_features, pred_text)"
      ],
      "execution_count": 276,
      "outputs": [
        {
          "output_type": "stream",
          "text": [
            "\n",
            "... Processing anger\n",
            "Training accuracy is 0.9780637613337233\n",
            "Validation accuracy is 0.7528216704288939\n",
            "Testing accuracy is 0.7606627799938631\n",
            "\n",
            "... Processing anticipation\n",
            "Training accuracy is 0.9900555718046212\n",
            "Validation accuracy is 0.8160270880361173\n",
            "Testing accuracy is 0.8266339367904265\n",
            "\n",
            "... Processing disgust\n",
            "Training accuracy is 0.9785024861070488\n",
            "Validation accuracy is 0.6873589164785553\n",
            "Testing accuracy is 0.7038969008898435\n",
            "\n",
            "... Processing fear\n",
            "Training accuracy is 0.993711611582334\n",
            "Validation accuracy is 0.8589164785553047\n",
            "Testing accuracy is 0.8570113531758208\n",
            "\n",
            "... Processing joy\n",
            "Training accuracy is 0.9972214097689382\n",
            "Validation accuracy is 0.7381489841986456\n",
            "Testing accuracy is 0.7453206505062903\n",
            "\n",
            "... Processing love\n",
            "Training accuracy is 0.9722140976893828\n",
            "Validation accuracy is 0.8837471783295711\n",
            "Testing accuracy is 0.8579318809450752\n",
            "\n",
            "... Processing optimism\n",
            "Training accuracy is 0.9850833577069319\n",
            "Validation accuracy is 0.6941309255079007\n",
            "Testing accuracy is 0.6759742252224609\n",
            "\n",
            "... Processing pessimism\n"
          ],
          "name": "stdout"
        },
        {
          "output_type": "stream",
          "text": [
            "/usr/local/lib/python3.6/dist-packages/sklearn/neural_network/_multilayer_perceptron.py:470: ConvergenceWarning: lbfgs failed to converge (status=1):\n",
            "STOP: TOTAL NO. of ITERATIONS REACHED LIMIT.\n",
            "\n",
            "Increase the number of iterations (max_iter) or scale the data as shown in:\n",
            "    https://scikit-learn.org/stable/modules/preprocessing.html\n",
            "  self.n_iter_ = _check_optimize_result(\"lbfgs\", opt_res, self.max_iter)\n"
          ],
          "name": "stderr"
        },
        {
          "output_type": "stream",
          "text": [
            "Training accuracy is 0.9913717461245979\n",
            "Validation accuracy is 0.845372460496614\n",
            "Testing accuracy is 0.8505676587910402\n",
            "\n",
            "... Processing sadness\n",
            "Training accuracy is 0.9704591985960808\n",
            "Validation accuracy is 0.7178329571106095\n",
            "Testing accuracy is 0.6989874194538201\n",
            "\n",
            "... Processing surprise\n",
            "Training accuracy is 0.9472067856098274\n",
            "Validation accuracy is 0.9604966139954854\n",
            "Testing accuracy is 0.9478367597422522\n",
            "\n",
            "... Processing trust\n",
            "Training accuracy is 0.9688505410938871\n",
            "Validation accuracy is 0.9334085778781038\n",
            "Testing accuracy is 0.9340288432034366\n"
          ],
          "name": "stdout"
        }
      ]
    },
    {
      "cell_type": "code",
      "metadata": {
        "id": "1fUTwioP9RZI",
        "colab_type": "code",
        "colab": {
          "base_uri": "https://localhost:8080/",
          "height": 486
        },
        "outputId": "ce09afa6-1829-43ca-c9e0-21dc726d035b"
      },
      "source": [
        "for p in preds:\n",
        "  print(p)"
      ],
      "execution_count": 277,
      "outputs": [
        {
          "output_type": "stream",
          "text": [
            "apologies for retweeting a tweet - anger\n",
            "#selfish #horrible person - anger\n",
            "She was obviously moved by the music. - anger\n",
            "fuck small talk tell me about what age did you start disappointing your parents - anger\n",
            "#selfish #horrible person - disgust\n",
            "He is crazy, mentally sick and spews hatred! - disgust\n",
            "I feel exhausted, I tried to do a good job but apparently God does not see me right. - disgust\n",
            "She was obviously moved by the music. - disgust\n",
            "fuck small talk tell me about what age did you start disappointing your parents - disgust\n",
            "#selfish #horrible person - fear\n",
            "He is crazy, mentally sick and spews hatred! - fear\n",
            "She was obviously moved by the music. - fear\n",
            "so happy to be home from ibiza - joy\n",
            "I think Robert can now rejoice in peace - joy\n",
            "too much fun being interviewed by the talented and funny #datphan - joy\n",
            "brighten up a gloomy day with spray tan - joy\n",
            "I feel exhausted, I tried to do a good job but apparently God does not see me right. - joy\n",
            "Will I ever NOT be tired again? - joy\n",
            "so happy to be home from ibiza - optimism\n",
            "apologies for retweeting a tweet - optimism\n",
            "trumps only concern is personal profit - optimism\n",
            "depression sucks! - sadness\n",
            "apologies for retweeting a tweet - sadness\n",
            "He is crazy, mentally sick and spews hatred! - sadness\n",
            "brighten up a gloomy day with spray tan - sadness\n",
            "Will I ever NOT be tired again? - sadness\n",
            "fuck small talk tell me about what age did you start disappointing your parents - sadness\n"
          ],
          "name": "stdout"
        }
      ]
    },
    {
      "cell_type": "code",
      "metadata": {
        "id": "bp2t369j_XnN",
        "colab_type": "code",
        "colab": {}
      },
      "source": [
        ""
      ],
      "execution_count": 0,
      "outputs": []
    }
  ]
}