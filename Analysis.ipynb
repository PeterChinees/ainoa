{
  "nbformat": 4,
  "nbformat_minor": 0,
  "metadata": {
    "colab": {
      "name": "Analysis.ipynb",
      "provenance": [],
      "collapsed_sections": [],
      "toc_visible": true,
      "include_colab_link": true
    },
    "kernelspec": {
      "name": "python3",
      "display_name": "Python 3"
    }
  },
  "cells": [
    {
      "cell_type": "markdown",
      "metadata": {
        "id": "view-in-github",
        "colab_type": "text"
      },
      "source": [
        "<a href=\"https://colab.research.google.com/github/oaarnikoivu/dissertation/blob/master/Analysis.ipynb\" target=\"_parent\"><img src=\"https://colab.research.google.com/assets/colab-badge.svg\" alt=\"Open In Colab\"/></a>"
      ]
    },
    {
      "cell_type": "markdown",
      "metadata": {
        "id": "ppKzmhlsPe25",
        "colab_type": "text"
      },
      "source": [
        "# Dataset Analysis"
      ]
    },
    {
      "cell_type": "markdown",
      "metadata": {
        "id": "l2xpWG1RzMhN",
        "colab_type": "text"
      },
      "source": [
        "### Imports"
      ]
    },
    {
      "cell_type": "code",
      "metadata": {
        "id": "Z_4vqMAk0QoZ",
        "colab_type": "code",
        "colab": {}
      },
      "source": [
        "import pandas as pd \n",
        "import numpy as np\n",
        "import nltk\n",
        "import re"
      ],
      "execution_count": 0,
      "outputs": []
    },
    {
      "cell_type": "code",
      "metadata": {
        "id": "8Orkkav5zR3x",
        "colab_type": "code",
        "outputId": "432f953f-f66d-4dba-96ba-17b009a546c4",
        "colab": {
          "base_uri": "https://localhost:8080/",
          "height": 34
        }
      },
      "source": [
        "from google.colab import drive\n",
        "drive.mount('/content/drive')"
      ],
      "execution_count": 2,
      "outputs": [
        {
          "output_type": "stream",
          "text": [
            "Drive already mounted at /content/drive; to attempt to forcibly remount, call drive.mount(\"/content/drive\", force_remount=True).\n"
          ],
          "name": "stdout"
        }
      ]
    },
    {
      "cell_type": "markdown",
      "metadata": {
        "id": "3vkG5vxX0VI3",
        "colab_type": "text"
      },
      "source": [
        "### Load Data"
      ]
    },
    {
      "cell_type": "code",
      "metadata": {
        "id": "Y4UkbiL0PZd7",
        "colab_type": "code",
        "colab": {}
      },
      "source": [
        "isear_data = open('/content/drive/My Drive/datasets/isear.csv')\n",
        "\n",
        "text = []\n",
        "labels = []\n",
        "data = []\n",
        "\n",
        "for line in isear_data:\n",
        "  fields = line.split('|')\n",
        "  text.append(fields[40])\n",
        "  labels.append(fields[36])\n",
        "\n",
        "text.pop(0)\n",
        "labels.pop(0)\n",
        "\n",
        "isear_data.close() \n",
        "\n",
        "data = {'Text': text, 'Emotion': labels}\n",
        "df = pd.DataFrame(data)"
      ],
      "execution_count": 0,
      "outputs": []
    },
    {
      "cell_type": "code",
      "metadata": {
        "id": "u00aULj1BM7L",
        "colab_type": "code",
        "colab": {
          "base_uri": "https://localhost:8080/",
          "height": 206
        },
        "outputId": "c674e7b5-9e9a-4825-a146-1e35d7809f01"
      },
      "source": [
        "df.head()"
      ],
      "execution_count": 4,
      "outputs": [
        {
          "output_type": "execute_result",
          "data": {
            "text/html": [
              "<div>\n",
              "<style scoped>\n",
              "    .dataframe tbody tr th:only-of-type {\n",
              "        vertical-align: middle;\n",
              "    }\n",
              "\n",
              "    .dataframe tbody tr th {\n",
              "        vertical-align: top;\n",
              "    }\n",
              "\n",
              "    .dataframe thead th {\n",
              "        text-align: right;\n",
              "    }\n",
              "</style>\n",
              "<table border=\"1\" class=\"dataframe\">\n",
              "  <thead>\n",
              "    <tr style=\"text-align: right;\">\n",
              "      <th></th>\n",
              "      <th>Text</th>\n",
              "      <th>Emotion</th>\n",
              "    </tr>\n",
              "  </thead>\n",
              "  <tbody>\n",
              "    <tr>\n",
              "      <th>0</th>\n",
              "      <td>During the period of falling in love, each tim...</td>\n",
              "      <td>joy</td>\n",
              "    </tr>\n",
              "    <tr>\n",
              "      <th>1</th>\n",
              "      <td>When I was involved in a traffic accident.</td>\n",
              "      <td>fear</td>\n",
              "    </tr>\n",
              "    <tr>\n",
              "      <th>2</th>\n",
              "      <td>When I was driving home after  several days of...</td>\n",
              "      <td>anger</td>\n",
              "    </tr>\n",
              "    <tr>\n",
              "      <th>3</th>\n",
              "      <td>When I lost the person who meant the most to me.</td>\n",
              "      <td>sadness</td>\n",
              "    </tr>\n",
              "    <tr>\n",
              "      <th>4</th>\n",
              "      <td>The time I knocked a deer down - the sight of ...</td>\n",
              "      <td>disgust</td>\n",
              "    </tr>\n",
              "  </tbody>\n",
              "</table>\n",
              "</div>"
            ],
            "text/plain": [
              "                                                Text  Emotion\n",
              "0  During the period of falling in love, each tim...      joy\n",
              "1         When I was involved in a traffic accident.     fear\n",
              "2  When I was driving home after  several days of...    anger\n",
              "3  When I lost the person who meant the most to me.   sadness\n",
              "4  The time I knocked a deer down - the sight of ...  disgust"
            ]
          },
          "metadata": {
            "tags": []
          },
          "execution_count": 4
        }
      ]
    },
    {
      "cell_type": "code",
      "metadata": {
        "id": "Jsjx4tci26dw",
        "colab_type": "code",
        "colab": {
          "base_uri": "https://localhost:8080/",
          "height": 139
        },
        "outputId": "4cc310c7-fe29-49c5-aebd-04338fe3308c"
      },
      "source": [
        "df.info()"
      ],
      "execution_count": 5,
      "outputs": [
        {
          "output_type": "stream",
          "text": [
            "<class 'pandas.core.frame.DataFrame'>\n",
            "RangeIndex: 7666 entries, 0 to 7665\n",
            "Data columns (total 2 columns):\n",
            "Text       7666 non-null object\n",
            "Emotion    7666 non-null object\n",
            "dtypes: object(2)\n",
            "memory usage: 119.9+ KB\n"
          ],
          "name": "stdout"
        }
      ]
    },
    {
      "cell_type": "markdown",
      "metadata": {
        "id": "Yo7s71XX314R",
        "colab_type": "text"
      },
      "source": [
        "### Data & Text Preprocessing"
      ]
    },
    {
      "cell_type": "markdown",
      "metadata": {
        "id": "dnX9_j1-BaUb",
        "colab_type": "text"
      },
      "source": [
        "Since the emotion column happens to be categorical we can map the label classes to integers."
      ]
    },
    {
      "cell_type": "code",
      "metadata": {
        "id": "0lCZbEb9BUb8",
        "colab_type": "code",
        "colab": {
          "base_uri": "https://localhost:8080/",
          "height": 224
        },
        "outputId": "1d2ea74a-74ed-4acc-9745-2a583e359b37"
      },
      "source": [
        "class_mapping = {label: idx for idx, label in enumerate(np.unique(df['Emotion']))}\n",
        "print(class_mapping)\n",
        "\n",
        "# Use the mapping dictionary to transform the class labels into integers\n",
        "df['Emotion'] = df['Emotion'].map(class_mapping)\n",
        "df.head()"
      ],
      "execution_count": 6,
      "outputs": [
        {
          "output_type": "stream",
          "text": [
            "{'anger': 0, 'disgust': 1, 'fear': 2, 'guilt': 3, 'joy': 4, 'sadness': 5, 'shame': 6}\n"
          ],
          "name": "stdout"
        },
        {
          "output_type": "execute_result",
          "data": {
            "text/html": [
              "<div>\n",
              "<style scoped>\n",
              "    .dataframe tbody tr th:only-of-type {\n",
              "        vertical-align: middle;\n",
              "    }\n",
              "\n",
              "    .dataframe tbody tr th {\n",
              "        vertical-align: top;\n",
              "    }\n",
              "\n",
              "    .dataframe thead th {\n",
              "        text-align: right;\n",
              "    }\n",
              "</style>\n",
              "<table border=\"1\" class=\"dataframe\">\n",
              "  <thead>\n",
              "    <tr style=\"text-align: right;\">\n",
              "      <th></th>\n",
              "      <th>Text</th>\n",
              "      <th>Emotion</th>\n",
              "    </tr>\n",
              "  </thead>\n",
              "  <tbody>\n",
              "    <tr>\n",
              "      <th>0</th>\n",
              "      <td>During the period of falling in love, each tim...</td>\n",
              "      <td>4</td>\n",
              "    </tr>\n",
              "    <tr>\n",
              "      <th>1</th>\n",
              "      <td>When I was involved in a traffic accident.</td>\n",
              "      <td>2</td>\n",
              "    </tr>\n",
              "    <tr>\n",
              "      <th>2</th>\n",
              "      <td>When I was driving home after  several days of...</td>\n",
              "      <td>0</td>\n",
              "    </tr>\n",
              "    <tr>\n",
              "      <th>3</th>\n",
              "      <td>When I lost the person who meant the most to me.</td>\n",
              "      <td>5</td>\n",
              "    </tr>\n",
              "    <tr>\n",
              "      <th>4</th>\n",
              "      <td>The time I knocked a deer down - the sight of ...</td>\n",
              "      <td>1</td>\n",
              "    </tr>\n",
              "  </tbody>\n",
              "</table>\n",
              "</div>"
            ],
            "text/plain": [
              "                                                Text  Emotion\n",
              "0  During the period of falling in love, each tim...        4\n",
              "1         When I was involved in a traffic accident.        2\n",
              "2  When I was driving home after  several days of...        0\n",
              "3  When I lost the person who meant the most to me.         5\n",
              "4  The time I knocked a deer down - the sight of ...        1"
            ]
          },
          "metadata": {
            "tags": []
          },
          "execution_count": 6
        }
      ]
    },
    {
      "cell_type": "markdown",
      "metadata": {
        "id": "A1wKkeAaBwX5",
        "colab_type": "text"
      },
      "source": [
        "Let's have a look at the text in order to determine the necessary preprocessing steps. "
      ]
    },
    {
      "cell_type": "code",
      "metadata": {
        "id": "pY51yEboBk2Q",
        "colab_type": "code",
        "colab": {
          "base_uri": "https://localhost:8080/",
          "height": 34
        },
        "outputId": "0eb034b0-584d-4dc7-b2c7-4ddd1739cfd6"
      },
      "source": [
        "df.loc[3552, 'Text']"
      ],
      "execution_count": 7,
      "outputs": [
        {
          "output_type": "execute_result",
          "data": {
            "text/plain": [
              "'It was a complex situation concerning a relationship with a á boyfriend, I had broken the relationship for some reasons. á Meanwhile, as I felt it, I had most sorrow.'"
            ]
          },
          "metadata": {
            "tags": []
          },
          "execution_count": 7
        }
      ]
    },
    {
      "cell_type": "markdown",
      "metadata": {
        "id": "qh_iXkRqCWu7",
        "colab_type": "text"
      },
      "source": [
        "### Cleaning text data with Regular Expressions"
      ]
    },
    {
      "cell_type": "code",
      "metadata": {
        "id": "2LPdfF78B5k0",
        "colab_type": "code",
        "colab": {}
      },
      "source": [
        "def preprocessor(text):\n",
        "    text = re.sub('á', '', text)\n",
        "    text = re.sub('  ', ' ', text)\n",
        "    text = re.sub('<[^>]*>', '', text) # remove all html markup\n",
        "\n",
        "    # remove the non-word chars '[\\W]+'\n",
        "    # convert all to lowercase\n",
        "    # remove nose char for consistency\n",
        "    text = (re.sub('[\\W]+', ' ', text.lower()))\n",
        "\n",
        "    return text"
      ],
      "execution_count": 0,
      "outputs": []
    },
    {
      "cell_type": "code",
      "metadata": {
        "id": "o0FAfbq9CgzC",
        "colab_type": "code",
        "colab": {
          "base_uri": "https://localhost:8080/",
          "height": 34
        },
        "outputId": "70d80468-1b65-4e6d-aa2c-3c01d4394850"
      },
      "source": [
        "preprocessor(\"HELLO!!! [] this is a (:test!)\")"
      ],
      "execution_count": 9,
      "outputs": [
        {
          "output_type": "execute_result",
          "data": {
            "text/plain": [
              "'hello this is a test '"
            ]
          },
          "metadata": {
            "tags": []
          },
          "execution_count": 9
        }
      ]
    },
    {
      "cell_type": "markdown",
      "metadata": {
        "id": "bs4fwwOBFah7",
        "colab_type": "text"
      },
      "source": [
        "### Apply the clean data preprocessor to the text"
      ]
    },
    {
      "cell_type": "code",
      "metadata": {
        "id": "nv8DOhaNClNW",
        "colab_type": "code",
        "colab": {}
      },
      "source": [
        "df['Text'] = df['Text'].apply(preprocessor)"
      ],
      "execution_count": 0,
      "outputs": []
    },
    {
      "cell_type": "markdown",
      "metadata": {
        "id": "lqaS69WvGQwC",
        "colab_type": "text"
      },
      "source": [
        "Some text contains 'no response'. We can remove these rows as they add nothing to our data."
      ]
    },
    {
      "cell_type": "code",
      "metadata": {
        "id": "5N5sbzztFgX9",
        "colab_type": "code",
        "colab": {
          "base_uri": "https://localhost:8080/",
          "height": 34
        },
        "outputId": "f0f206b9-5efb-4f45-9f45-0d51de9be2d4"
      },
      "source": [
        "df.loc[250, 'Text']"
      ],
      "execution_count": 11,
      "outputs": [
        {
          "output_type": "execute_result",
          "data": {
            "text/plain": [
              "' no response '"
            ]
          },
          "metadata": {
            "tags": []
          },
          "execution_count": 11
        }
      ]
    },
    {
      "cell_type": "code",
      "metadata": {
        "id": "ZuBtNTH6Llxw",
        "colab_type": "code",
        "colab": {}
      },
      "source": [
        "df = df[~df['Text'].str.contains('no response')].reset_index(drop=True)"
      ],
      "execution_count": 0,
      "outputs": []
    },
    {
      "cell_type": "code",
      "metadata": {
        "id": "hgpKv3caSjw5",
        "colab_type": "code",
        "colab": {
          "base_uri": "https://localhost:8080/",
          "height": 34
        },
        "outputId": "ca98b4cb-1c9f-48ed-f20a-f0d0ed94a95b"
      },
      "source": [
        "df.loc[249, 'Text']"
      ],
      "execution_count": 16,
      "outputs": [
        {
          "output_type": "execute_result",
          "data": {
            "text/plain": [
              "'when i was travelling by tram i tripped and fell against the door i thought that i was going to fall out '"
            ]
          },
          "metadata": {
            "tags": []
          },
          "execution_count": 16
        }
      ]
    },
    {
      "cell_type": "code",
      "metadata": {
        "id": "WWgAMbYRTVvI",
        "colab_type": "code",
        "colab": {}
      },
      "source": [
        ""
      ],
      "execution_count": 0,
      "outputs": []
    }
  ]
}