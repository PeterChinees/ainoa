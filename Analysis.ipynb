{
  "nbformat": 4,
  "nbformat_minor": 0,
  "metadata": {
    "colab": {
      "name": "Analysis.ipynb",
      "provenance": [],
      "collapsed_sections": [],
      "toc_visible": true,
      "include_colab_link": true
    },
    "kernelspec": {
      "name": "python3",
      "display_name": "Python 3"
    },
    "accelerator": "GPU"
  },
  "cells": [
    {
      "cell_type": "markdown",
      "metadata": {
        "id": "view-in-github",
        "colab_type": "text"
      },
      "source": [
        "<a href=\"https://colab.research.google.com/github/oaarnikoivu/dissertation/blob/master/Analysis.ipynb\" target=\"_parent\"><img src=\"https://colab.research.google.com/assets/colab-badge.svg\" alt=\"Open In Colab\"/></a>"
      ]
    },
    {
      "cell_type": "markdown",
      "metadata": {
        "id": "ppKzmhlsPe25",
        "colab_type": "text"
      },
      "source": [
        "# Dataset Analysis"
      ]
    },
    {
      "cell_type": "markdown",
      "metadata": {
        "id": "l2xpWG1RzMhN",
        "colab_type": "text"
      },
      "source": [
        "### Imports"
      ]
    },
    {
      "cell_type": "code",
      "metadata": {
        "id": "Z_4vqMAk0QoZ",
        "colab_type": "code",
        "outputId": "0a8f51eb-7779-4091-b839-ab864f4390ff",
        "colab": {
          "base_uri": "https://localhost:8080/",
          "height": 52
        }
      },
      "source": [
        "import pandas as pd \n",
        "import numpy as np\n",
        "import nltk\n",
        "import re\n",
        "import collections\n",
        "\n",
        "nltk.download('stopwords')\n",
        "from nltk.corpus import stopwords\n",
        "from ast import literal_eval\n",
        "from sklearn.model_selection import train_test_split"
      ],
      "execution_count": 103,
      "outputs": [
        {
          "output_type": "stream",
          "text": [
            "[nltk_data] Downloading package stopwords to /root/nltk_data...\n",
            "[nltk_data]   Package stopwords is already up-to-date!\n"
          ],
          "name": "stdout"
        }
      ]
    },
    {
      "cell_type": "code",
      "metadata": {
        "id": "8Orkkav5zR3x",
        "colab_type": "code",
        "outputId": "ab446d43-7cca-481a-ea15-3f170d4b7c25",
        "colab": {
          "base_uri": "https://localhost:8080/",
          "height": 34
        }
      },
      "source": [
        "from google.colab import drive\n",
        "drive.mount('/content/drive')"
      ],
      "execution_count": 104,
      "outputs": [
        {
          "output_type": "stream",
          "text": [
            "Drive already mounted at /content/drive; to attempt to forcibly remount, call drive.mount(\"/content/drive\", force_remount=True).\n"
          ],
          "name": "stdout"
        }
      ]
    },
    {
      "cell_type": "markdown",
      "metadata": {
        "id": "3vkG5vxX0VI3",
        "colab_type": "text"
      },
      "source": [
        "### Load Data"
      ]
    },
    {
      "cell_type": "code",
      "metadata": {
        "id": "Y4UkbiL0PZd7",
        "colab_type": "code",
        "colab": {}
      },
      "source": [
        "isear_data = open('/content/drive/My Drive/datasets/isear.csv')\n",
        "\n",
        "text = []\n",
        "labels = []\n",
        "data = []\n",
        "\n",
        "for line in isear_data:\n",
        "  fields = line.split('|')\n",
        "  text.append(fields[40])\n",
        "  labels.append(fields[36])\n",
        "\n",
        "text.pop(0)\n",
        "labels.pop(0)\n",
        "\n",
        "isear_data.close() \n",
        "\n",
        "data = {'Text': text, 'Emotion': labels}\n",
        "df = pd.DataFrame(data)"
      ],
      "execution_count": 0,
      "outputs": []
    },
    {
      "cell_type": "code",
      "metadata": {
        "id": "u00aULj1BM7L",
        "colab_type": "code",
        "outputId": "d331d3e5-bc32-4238-c440-81578b361bf8",
        "colab": {
          "base_uri": "https://localhost:8080/",
          "height": 206
        }
      },
      "source": [
        "df.head()"
      ],
      "execution_count": 106,
      "outputs": [
        {
          "output_type": "execute_result",
          "data": {
            "text/html": [
              "<div>\n",
              "<style scoped>\n",
              "    .dataframe tbody tr th:only-of-type {\n",
              "        vertical-align: middle;\n",
              "    }\n",
              "\n",
              "    .dataframe tbody tr th {\n",
              "        vertical-align: top;\n",
              "    }\n",
              "\n",
              "    .dataframe thead th {\n",
              "        text-align: right;\n",
              "    }\n",
              "</style>\n",
              "<table border=\"1\" class=\"dataframe\">\n",
              "  <thead>\n",
              "    <tr style=\"text-align: right;\">\n",
              "      <th></th>\n",
              "      <th>Text</th>\n",
              "      <th>Emotion</th>\n",
              "    </tr>\n",
              "  </thead>\n",
              "  <tbody>\n",
              "    <tr>\n",
              "      <th>0</th>\n",
              "      <td>During the period of falling in love, each tim...</td>\n",
              "      <td>joy</td>\n",
              "    </tr>\n",
              "    <tr>\n",
              "      <th>1</th>\n",
              "      <td>When I was involved in a traffic accident.</td>\n",
              "      <td>fear</td>\n",
              "    </tr>\n",
              "    <tr>\n",
              "      <th>2</th>\n",
              "      <td>When I was driving home after  several days of...</td>\n",
              "      <td>anger</td>\n",
              "    </tr>\n",
              "    <tr>\n",
              "      <th>3</th>\n",
              "      <td>When I lost the person who meant the most to me.</td>\n",
              "      <td>sadness</td>\n",
              "    </tr>\n",
              "    <tr>\n",
              "      <th>4</th>\n",
              "      <td>The time I knocked a deer down - the sight of ...</td>\n",
              "      <td>disgust</td>\n",
              "    </tr>\n",
              "  </tbody>\n",
              "</table>\n",
              "</div>"
            ],
            "text/plain": [
              "                                                Text  Emotion\n",
              "0  During the period of falling in love, each tim...      joy\n",
              "1         When I was involved in a traffic accident.     fear\n",
              "2  When I was driving home after  several days of...    anger\n",
              "3  When I lost the person who meant the most to me.   sadness\n",
              "4  The time I knocked a deer down - the sight of ...  disgust"
            ]
          },
          "metadata": {
            "tags": []
          },
          "execution_count": 106
        }
      ]
    },
    {
      "cell_type": "code",
      "metadata": {
        "id": "Jsjx4tci26dw",
        "colab_type": "code",
        "outputId": "aa11d836-0c95-4c6e-a3d6-70bfbd07d8ac",
        "colab": {
          "base_uri": "https://localhost:8080/",
          "height": 139
        }
      },
      "source": [
        "df.info()"
      ],
      "execution_count": 107,
      "outputs": [
        {
          "output_type": "stream",
          "text": [
            "<class 'pandas.core.frame.DataFrame'>\n",
            "RangeIndex: 7666 entries, 0 to 7665\n",
            "Data columns (total 2 columns):\n",
            "Text       7666 non-null object\n",
            "Emotion    7666 non-null object\n",
            "dtypes: object(2)\n",
            "memory usage: 119.9+ KB\n"
          ],
          "name": "stdout"
        }
      ]
    },
    {
      "cell_type": "code",
      "metadata": {
        "id": "3y7FP_GO9kml",
        "colab_type": "code",
        "colab": {
          "base_uri": "https://localhost:8080/",
          "height": 104
        },
        "outputId": "6409779e-61bc-4fbc-c443-dedc59c45a6c"
      },
      "source": [
        "df = df[~df['Text'].str.contains('response')].reset_index(drop=True)\n",
        "\n",
        "class_mapping = {label:idx for idx, label in enumerate(np.unique(df['Emotion']))}\n",
        "print(class_mapping)\n",
        "\n",
        "df['Emotion'] = df['Emotion'].map(class_mapping)\n",
        "\n",
        "X_train, X_test, y_train, y_test = train_test_split(df['Text'], df['Emotion'], \n",
        "                                                    test_size=0.3, random_state=42, shuffle=True)\n",
        "\n",
        "X_train[:3]"
      ],
      "execution_count": 110,
      "outputs": [
        {
          "output_type": "stream",
          "text": [
            "{0: 0, 1: 1, 2: 2, 3: 3, 4: 4, 5: 5, 6: 6}\n"
          ],
          "name": "stdout"
        },
        {
          "output_type": "execute_result",
          "data": {
            "text/plain": [
              "6314    A certain Area Party Secretary came home in th...\n",
              "7418    I was appreciated by others, especially my fam...\n",
              "151                                    Grovelling people.\n",
              "Name: Text, dtype: object"
            ]
          },
          "metadata": {
            "tags": []
          },
          "execution_count": 110
        }
      ]
    },
    {
      "cell_type": "markdown",
      "metadata": {
        "id": "Yo7s71XX314R",
        "colab_type": "text"
      },
      "source": [
        "### Data & Text Preprocessing"
      ]
    },
    {
      "cell_type": "markdown",
      "metadata": {
        "id": "A1wKkeAaBwX5",
        "colab_type": "text"
      },
      "source": [
        "Let's have a look at the text in order to determine the necessary preprocessing steps. "
      ]
    },
    {
      "cell_type": "code",
      "metadata": {
        "id": "pY51yEboBk2Q",
        "colab_type": "code",
        "outputId": "f0017ab0-1940-49ca-c94b-9051364a7a90",
        "colab": {
          "base_uri": "https://localhost:8080/",
          "height": 34
        }
      },
      "source": [
        "X_train.loc[2777]"
      ],
      "execution_count": 111,
      "outputs": [
        {
          "output_type": "execute_result",
          "data": {
            "text/plain": [
              "'When you betray the trust you have been given. This is connected á with copying at a class-work at school.'"
            ]
          },
          "metadata": {
            "tags": []
          },
          "execution_count": 111
        }
      ]
    },
    {
      "cell_type": "markdown",
      "metadata": {
        "id": "qh_iXkRqCWu7",
        "colab_type": "text"
      },
      "source": [
        "### Cleaning text data with Regular Expressions"
      ]
    },
    {
      "cell_type": "code",
      "metadata": {
        "id": "2LPdfF78B5k0",
        "colab_type": "code",
        "colab": {}
      },
      "source": [
        "REPLACE_BY_SPACE_RE = re.compile('[/(){}\\[\\]\\|@,;]')\n",
        "BAD_SYMBOLS_RE = re.compile('[^0-9a-z #+_]')\n",
        "STOPWORDS = set(stopwords.words('english'))\n",
        "\n",
        "def preprocessor(text):\n",
        "    text = text.lower()\n",
        "    text = re.sub(' +', ' ', text)\n",
        "    text = re.sub('á', '', text)\n",
        "    text = REPLACE_BY_SPACE_RE.sub('', text)\n",
        "    text = BAD_SYMBOLS_RE.sub('', text)\n",
        "    text = ' '.join([word for word in text.split() if word not in STOPWORDS])\n",
        "    text = text.strip()\n",
        "  \n",
        "    return text"
      ],
      "execution_count": 0,
      "outputs": []
    },
    {
      "cell_type": "code",
      "metadata": {
        "id": "o0FAfbq9CgzC",
        "colab_type": "code",
        "outputId": "19758a2d-f1ec-468e-90ae-dd30282dd462",
        "colab": {
          "base_uri": "https://localhost:8080/",
          "height": 34
        }
      },
      "source": [
        "preprocessor(\"HELLO!!! [] this is a (:test!)\")"
      ],
      "execution_count": 113,
      "outputs": [
        {
          "output_type": "execute_result",
          "data": {
            "text/plain": [
              "'hello test'"
            ]
          },
          "metadata": {
            "tags": []
          },
          "execution_count": 113
        }
      ]
    },
    {
      "cell_type": "markdown",
      "metadata": {
        "id": "bs4fwwOBFah7",
        "colab_type": "text"
      },
      "source": [
        "### Apply the clean data preprocessor to the text"
      ]
    },
    {
      "cell_type": "code",
      "metadata": {
        "id": "cb4T0UlL6aui",
        "colab_type": "code",
        "colab": {
          "base_uri": "https://localhost:8080/",
          "height": 69
        },
        "outputId": "ed9ebb77-b104-4902-e325-d292b1fef2e5"
      },
      "source": [
        "X_train = [preprocessor(x) for x in X_train]\n",
        "X_test = [preprocessor(x) for x in X_test]\n",
        "\n",
        "X_train[:3]"
      ],
      "execution_count": 114,
      "outputs": [
        {
          "output_type": "execute_result",
          "data": {
            "text/plain": [
              "['certain area party secretary came home morning said leave home build somewhere reason wanted establish market chairman knew nothing angry',\n",
              " 'appreciated others especially family members friends',\n",
              " 'grovelling people']"
            ]
          },
          "metadata": {
            "tags": []
          },
          "execution_count": 114
        }
      ]
    },
    {
      "cell_type": "markdown",
      "metadata": {
        "id": "BPXvdV9oz-4_",
        "colab_type": "text"
      },
      "source": [
        "### Finding the most popular emotions & words in the training data"
      ]
    },
    {
      "cell_type": "code",
      "metadata": {
        "id": "4TYGT8Cl0FBb",
        "colab_type": "code",
        "outputId": "1be3cd6e-3123-40c6-9e22-dfac3dd7383d",
        "colab": {
          "base_uri": "https://localhost:8080/",
          "height": 34
        }
      },
      "source": [
        "# Dictionary of all emotions from train corpus with their counts.\n",
        "emotions_counts = {}\n",
        "words_count = {}\n",
        "\n",
        "emotions_counts = collections.Counter(y_train)\n",
        "words_count = collections.Counter([word for line in X_train for word in line.split(' ')])\n",
        "\n",
        "#words_count.most_common()\n",
        "emotions_counts"
      ],
      "execution_count": 115,
      "outputs": [
        {
          "output_type": "execute_result",
          "data": {
            "text/plain": [
              "Counter({0: 779, 1: 778, 2: 755, 3: 752, 4: 739, 5: 750, 6: 755})"
            ]
          },
          "metadata": {
            "tags": []
          },
          "execution_count": 115
        }
      ]
    },
    {
      "cell_type": "markdown",
      "metadata": {
        "id": "hGPgK-3r23KP",
        "colab_type": "text"
      },
      "source": [
        "We see that the dataset is quite balanced."
      ]
    },
    {
      "cell_type": "markdown",
      "metadata": {
        "id": "7phwWl1l3CUm",
        "colab_type": "text"
      },
      "source": [
        "## Transforming text to a vector\n",
        "\n",
        "### Bag of words"
      ]
    },
    {
      "cell_type": "code",
      "metadata": {
        "id": "r_1n4_U83JE1",
        "colab_type": "code",
        "colab": {}
      },
      "source": [
        "DICT_SIZE = 2070\n",
        "\n",
        "VOCAB = words_count.most_common(DICT_SIZE)\n",
        "WORDS_TO_INDEX = {item[0]:ii for ii, item in enumerate(sorted(VOCAB, key=lambda x: x[1], reverse=True))}\n",
        "INDEX_TO_WORDS = {ii:word for word, ii in WORDS_TO_INDEX.items()}\n",
        "ALL_WORDS = WORDS_TO_INDEX.keys()\n",
        "\n",
        "def bag_of_words(text, words_to_index, dict_size):\n",
        "    \"\"\"\n",
        "        text: a string\n",
        "        dict_size: size of the dictionary\n",
        "        \n",
        "        return a vector which is a bag-of-words representation of 'text'\n",
        "    \"\"\"\n",
        "    result_vector = np.zeros(dict_size)\n",
        "\n",
        "    for word in text.split(' '):\n",
        "      if word in words_to_index:\n",
        "        result_vector[words_to_index[word]] += 1\n",
        "    return result_vector "
      ],
      "execution_count": 0,
      "outputs": []
    },
    {
      "cell_type": "code",
      "metadata": {
        "id": "Ue0W64Kw7RE6",
        "colab_type": "code",
        "colab": {}
      },
      "source": [
        "from scipy import sparse as sp_sparse"
      ],
      "execution_count": 0,
      "outputs": []
    },
    {
      "cell_type": "code",
      "metadata": {
        "id": "UGOlN8OI7uIw",
        "colab_type": "code",
        "colab": {
          "base_uri": "https://localhost:8080/",
          "height": 52
        },
        "outputId": "7f52b99a-3fd2-479b-c108-6efd69599863"
      },
      "source": [
        "X_train_mybag = sp_sparse.vstack([sp_sparse.csr_matrix(bag_of_words(text, WORDS_TO_INDEX, DICT_SIZE)) for text in X_train])\n",
        "X_test_mybag = sp_sparse.vstack([sp_sparse.csr_matrix(bag_of_words(text, WORDS_TO_INDEX, DICT_SIZE)) for text in X_test])\n",
        "\n",
        "print('X_train shape', X_train_mybag.shape)\n",
        "print('X_test shape', X_test_mybag.shape)"
      ],
      "execution_count": 118,
      "outputs": [
        {
          "output_type": "stream",
          "text": [
            "X_train shape (5308, 2070)\n",
            "X_test shape (2276, 2070)\n"
          ],
          "name": "stdout"
        }
      ]
    },
    {
      "cell_type": "markdown",
      "metadata": {
        "id": "XkX1f2KS8MXZ",
        "colab_type": "text"
      },
      "source": [
        "## TF-IDF"
      ]
    },
    {
      "cell_type": "code",
      "metadata": {
        "id": "q-NP7dCB7_P6",
        "colab_type": "code",
        "colab": {}
      },
      "source": [
        "from sklearn.feature_extraction.text import TfidfVectorizer"
      ],
      "execution_count": 0,
      "outputs": []
    },
    {
      "cell_type": "code",
      "metadata": {
        "id": "h-FOmNQc8Stj",
        "colab_type": "code",
        "colab": {}
      },
      "source": [
        "def tfidf_features(X_train, X_test):\n",
        "  tfidf_vectorizer = TfidfVectorizer(ngram_range=(1,2), max_df=0.9, min_df=5, \n",
        "                                     token_pattern='(\\S+)')\n",
        "  \n",
        "  X_train_tfidf = tfidf_vectorizer.fit_transform(X_train)\n",
        "  X_test_tfidf = tfidf_vectorizer.transform(X_test)\n",
        "\n",
        "  return X_train_tfidf, X_test_tfidf, tfidf_vectorizer.vocabulary_"
      ],
      "execution_count": 0,
      "outputs": []
    },
    {
      "cell_type": "code",
      "metadata": {
        "id": "XLx711vx8mXf",
        "colab_type": "code",
        "colab": {}
      },
      "source": [
        "X_train_tfidf, X_test_tfidf, tfidf_vocab = tfidf_features(X_train, X_test)\n",
        "tfidf_reversed_vocab = {i:word for word, i in tfidf_vocab.items()}"
      ],
      "execution_count": 0,
      "outputs": []
    },
    {
      "cell_type": "code",
      "metadata": {
        "id": "d1M8m_Nm86Bx",
        "colab_type": "code",
        "colab": {
          "base_uri": "https://localhost:8080/",
          "height": 34
        },
        "outputId": "44a3659c-6a79-48e5-872c-a85e25864805"
      },
      "source": [
        "tfidf_vocab['alcohol']"
      ],
      "execution_count": 122,
      "outputs": [
        {
          "output_type": "execute_result",
          "data": {
            "text/plain": [
              "67"
            ]
          },
          "metadata": {
            "tags": []
          },
          "execution_count": 122
        }
      ]
    },
    {
      "cell_type": "markdown",
      "metadata": {
        "id": "ZV7omYbrDey3",
        "colab_type": "text"
      },
      "source": [
        "## Train classifier"
      ]
    },
    {
      "cell_type": "code",
      "metadata": {
        "id": "SY8PLpipDdA1",
        "colab_type": "code",
        "colab": {}
      },
      "source": [
        "from sklearn.linear_model import LogisticRegression, RidgeClassifier\n",
        "from sklearn.naive_bayes import MultinomialNB"
      ],
      "execution_count": 0,
      "outputs": []
    },
    {
      "cell_type": "code",
      "metadata": {
        "id": "Bq18e8T5DlrS",
        "colab_type": "code",
        "colab": {}
      },
      "source": [
        "def train_classifier(X_train, y_train):\n",
        "    clf = MultinomialNB()\n",
        "    clf.fit(X_train, y_train)\n",
        "    return clf"
      ],
      "execution_count": 0,
      "outputs": []
    },
    {
      "cell_type": "code",
      "metadata": {
        "id": "HGptWTYqM17D",
        "colab_type": "code",
        "colab": {}
      },
      "source": [
        "clf_mybag = train_classifier(X_train_mybag, y_train)"
      ],
      "execution_count": 0,
      "outputs": []
    },
    {
      "cell_type": "code",
      "metadata": {
        "id": "mahJkKpXOU-Z",
        "colab_type": "code",
        "colab": {
          "base_uri": "https://localhost:8080/",
          "height": 34
        },
        "outputId": "b038455b-3552-4847-eefb-e6a9b83e9029"
      },
      "source": [
        "clf_mybag.score(X_test_mybag, y_test)"
      ],
      "execution_count": 126,
      "outputs": [
        {
          "output_type": "execute_result",
          "data": {
            "text/plain": [
              "0.5505272407732865"
            ]
          },
          "metadata": {
            "tags": []
          },
          "execution_count": 126
        }
      ]
    },
    {
      "cell_type": "code",
      "metadata": {
        "id": "ToMdC-UQOYNd",
        "colab_type": "code",
        "colab": {}
      },
      "source": [
        ""
      ],
      "execution_count": 0,
      "outputs": []
    }
  ]
}