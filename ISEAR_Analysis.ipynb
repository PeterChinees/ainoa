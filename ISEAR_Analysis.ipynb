{
  "nbformat": 4,
  "nbformat_minor": 0,
  "metadata": {
    "colab": {
      "name": "ISEAR Analysis.ipynb",
      "provenance": [],
      "collapsed_sections": [],
      "toc_visible": true,
      "include_colab_link": true
    },
    "kernelspec": {
      "name": "python3",
      "display_name": "Python 3"
    },
    "accelerator": "GPU"
  },
  "cells": [
    {
      "cell_type": "markdown",
      "metadata": {
        "id": "view-in-github",
        "colab_type": "text"
      },
      "source": [
        "<a href=\"https://colab.research.google.com/github/oaarnikoivu/dissertation/blob/master/ISEAR_Analysis.ipynb\" target=\"_parent\"><img src=\"https://colab.research.google.com/assets/colab-badge.svg\" alt=\"Open In Colab\"/></a>"
      ]
    },
    {
      "cell_type": "markdown",
      "metadata": {
        "id": "ppKzmhlsPe25",
        "colab_type": "text"
      },
      "source": [
        "# Dataset Analysis"
      ]
    },
    {
      "cell_type": "markdown",
      "metadata": {
        "id": "l2xpWG1RzMhN",
        "colab_type": "text"
      },
      "source": [
        "### Imports"
      ]
    },
    {
      "cell_type": "code",
      "metadata": {
        "id": "Z_4vqMAk0QoZ",
        "colab_type": "code",
        "outputId": "b1103e4d-3fc1-46bf-e733-d529ee38aba6",
        "colab": {
          "base_uri": "https://localhost:8080/",
          "height": 52
        }
      },
      "source": [
        "import pandas as pd \n",
        "import numpy as np\n",
        "import nltk\n",
        "import re\n",
        "import collections\n",
        "\n",
        "nltk.download('stopwords')\n",
        "from nltk.corpus import stopwords\n",
        "from ast import literal_eval\n",
        "from sklearn.model_selection import train_test_split"
      ],
      "execution_count": 0,
      "outputs": [
        {
          "output_type": "stream",
          "text": [
            "[nltk_data] Downloading package stopwords to /root/nltk_data...\n",
            "[nltk_data]   Unzipping corpora/stopwords.zip.\n"
          ],
          "name": "stdout"
        }
      ]
    },
    {
      "cell_type": "code",
      "metadata": {
        "id": "8Orkkav5zR3x",
        "colab_type": "code",
        "outputId": "a4d98072-a964-44d2-c353-8375c3f0ba29",
        "colab": {
          "base_uri": "https://localhost:8080/",
          "height": 124
        }
      },
      "source": [
        "from google.colab import drive\n",
        "drive.mount('/content/drive')"
      ],
      "execution_count": 0,
      "outputs": [
        {
          "output_type": "stream",
          "text": [
            "Go to this URL in a browser: https://accounts.google.com/o/oauth2/auth?client_id=947318989803-6bn6qk8qdgf4n4g3pfee6491hc0brc4i.apps.googleusercontent.com&redirect_uri=urn%3aietf%3awg%3aoauth%3a2.0%3aoob&response_type=code&scope=email%20https%3a%2f%2fwww.googleapis.com%2fauth%2fdocs.test%20https%3a%2f%2fwww.googleapis.com%2fauth%2fdrive%20https%3a%2f%2fwww.googleapis.com%2fauth%2fdrive.photos.readonly%20https%3a%2f%2fwww.googleapis.com%2fauth%2fpeopleapi.readonly\n",
            "\n",
            "Enter your authorization code:\n",
            "··········\n",
            "Mounted at /content/drive\n"
          ],
          "name": "stdout"
        }
      ]
    },
    {
      "cell_type": "markdown",
      "metadata": {
        "id": "3vkG5vxX0VI3",
        "colab_type": "text"
      },
      "source": [
        "### Load Data"
      ]
    },
    {
      "cell_type": "code",
      "metadata": {
        "id": "Y4UkbiL0PZd7",
        "colab_type": "code",
        "colab": {}
      },
      "source": [
        "isear_data = open('/content/drive/My Drive/datasets/isear.csv')\n",
        "\n",
        "text = []\n",
        "labels = []\n",
        "data = []\n",
        "\n",
        "for line in isear_data:\n",
        "  fields = line.split('|')\n",
        "  text.append(fields[40])\n",
        "  labels.append(fields[36])\n",
        "\n",
        "text.pop(0)\n",
        "labels.pop(0)\n",
        "\n",
        "isear_data.close() \n",
        "\n",
        "data = {'Text': text, 'Emotion': labels}\n",
        "df = pd.DataFrame(data)"
      ],
      "execution_count": 0,
      "outputs": []
    },
    {
      "cell_type": "code",
      "metadata": {
        "id": "u00aULj1BM7L",
        "colab_type": "code",
        "outputId": "4d4e0b8c-c2e7-490f-ed13-2fba05f0ef73",
        "colab": {
          "base_uri": "https://localhost:8080/",
          "height": 206
        }
      },
      "source": [
        "df.head()"
      ],
      "execution_count": 0,
      "outputs": [
        {
          "output_type": "execute_result",
          "data": {
            "text/html": [
              "<div>\n",
              "<style scoped>\n",
              "    .dataframe tbody tr th:only-of-type {\n",
              "        vertical-align: middle;\n",
              "    }\n",
              "\n",
              "    .dataframe tbody tr th {\n",
              "        vertical-align: top;\n",
              "    }\n",
              "\n",
              "    .dataframe thead th {\n",
              "        text-align: right;\n",
              "    }\n",
              "</style>\n",
              "<table border=\"1\" class=\"dataframe\">\n",
              "  <thead>\n",
              "    <tr style=\"text-align: right;\">\n",
              "      <th></th>\n",
              "      <th>Text</th>\n",
              "      <th>Emotion</th>\n",
              "    </tr>\n",
              "  </thead>\n",
              "  <tbody>\n",
              "    <tr>\n",
              "      <th>0</th>\n",
              "      <td>During the period of falling in love, each tim...</td>\n",
              "      <td>joy</td>\n",
              "    </tr>\n",
              "    <tr>\n",
              "      <th>1</th>\n",
              "      <td>When I was involved in a traffic accident.</td>\n",
              "      <td>fear</td>\n",
              "    </tr>\n",
              "    <tr>\n",
              "      <th>2</th>\n",
              "      <td>When I was driving home after  several days of...</td>\n",
              "      <td>anger</td>\n",
              "    </tr>\n",
              "    <tr>\n",
              "      <th>3</th>\n",
              "      <td>When I lost the person who meant the most to me.</td>\n",
              "      <td>sadness</td>\n",
              "    </tr>\n",
              "    <tr>\n",
              "      <th>4</th>\n",
              "      <td>The time I knocked a deer down - the sight of ...</td>\n",
              "      <td>disgust</td>\n",
              "    </tr>\n",
              "  </tbody>\n",
              "</table>\n",
              "</div>"
            ],
            "text/plain": [
              "                                                Text  Emotion\n",
              "0  During the period of falling in love, each tim...      joy\n",
              "1         When I was involved in a traffic accident.     fear\n",
              "2  When I was driving home after  several days of...    anger\n",
              "3  When I lost the person who meant the most to me.   sadness\n",
              "4  The time I knocked a deer down - the sight of ...  disgust"
            ]
          },
          "metadata": {
            "tags": []
          },
          "execution_count": 4
        }
      ]
    },
    {
      "cell_type": "code",
      "metadata": {
        "id": "Jsjx4tci26dw",
        "colab_type": "code",
        "outputId": "3eef2820-1ed2-4aa0-ba96-a8aebeecf047",
        "colab": {
          "base_uri": "https://localhost:8080/",
          "height": 139
        }
      },
      "source": [
        "df.info()"
      ],
      "execution_count": 0,
      "outputs": [
        {
          "output_type": "stream",
          "text": [
            "<class 'pandas.core.frame.DataFrame'>\n",
            "RangeIndex: 7666 entries, 0 to 7665\n",
            "Data columns (total 2 columns):\n",
            "Text       7666 non-null object\n",
            "Emotion    7666 non-null object\n",
            "dtypes: object(2)\n",
            "memory usage: 119.9+ KB\n"
          ],
          "name": "stdout"
        }
      ]
    },
    {
      "cell_type": "code",
      "metadata": {
        "id": "3y7FP_GO9kml",
        "colab_type": "code",
        "outputId": "e3ce110c-57ed-49dc-a745-92f96d846c60",
        "colab": {
          "base_uri": "https://localhost:8080/",
          "height": 104
        }
      },
      "source": [
        "df = df[~df['Text'].str.contains('response')].reset_index(drop=True)\n",
        "\n",
        "class_mapping = {label:idx for idx, label in enumerate(np.unique(df['Emotion']))}\n",
        "print(class_mapping)\n",
        "\n",
        "df['Emotion'] = df['Emotion'].map(class_mapping)\n",
        "\n",
        "X_train, X_test, y_train, y_test = train_test_split(df['Text'], df['Emotion'], \n",
        "                                                    test_size=0.3, random_state=42, shuffle=True)\n",
        "\n",
        "X_train[:3]"
      ],
      "execution_count": 0,
      "outputs": [
        {
          "output_type": "stream",
          "text": [
            "{'anger': 0, 'disgust': 1, 'fear': 2, 'guilt': 3, 'joy': 4, 'sadness': 5, 'shame': 6}\n"
          ],
          "name": "stdout"
        },
        {
          "output_type": "execute_result",
          "data": {
            "text/plain": [
              "6314    A certain Area Party Secretary came home in th...\n",
              "7418    I was appreciated by others, especially my fam...\n",
              "151                                    Grovelling people.\n",
              "Name: Text, dtype: object"
            ]
          },
          "metadata": {
            "tags": []
          },
          "execution_count": 6
        }
      ]
    },
    {
      "cell_type": "markdown",
      "metadata": {
        "id": "Yo7s71XX314R",
        "colab_type": "text"
      },
      "source": [
        "### Data & Text Preprocessing"
      ]
    },
    {
      "cell_type": "markdown",
      "metadata": {
        "id": "A1wKkeAaBwX5",
        "colab_type": "text"
      },
      "source": [
        "Let's have a look at the text in order to determine the necessary preprocessing steps. "
      ]
    },
    {
      "cell_type": "code",
      "metadata": {
        "id": "pY51yEboBk2Q",
        "colab_type": "code",
        "outputId": "29d0c72a-24ab-4eba-a79a-fd54913ee786",
        "colab": {
          "base_uri": "https://localhost:8080/",
          "height": 34
        }
      },
      "source": [
        "X_train.loc[2777]"
      ],
      "execution_count": 0,
      "outputs": [
        {
          "output_type": "execute_result",
          "data": {
            "text/plain": [
              "'When you betray the trust you have been given. This is connected á with copying at a class-work at school.'"
            ]
          },
          "metadata": {
            "tags": []
          },
          "execution_count": 7
        }
      ]
    },
    {
      "cell_type": "markdown",
      "metadata": {
        "id": "qh_iXkRqCWu7",
        "colab_type": "text"
      },
      "source": [
        "### Cleaning text data with Regular Expressions"
      ]
    },
    {
      "cell_type": "code",
      "metadata": {
        "id": "2LPdfF78B5k0",
        "colab_type": "code",
        "colab": {}
      },
      "source": [
        "REPLACE_BY_SPACE_RE = re.compile('[/(){}\\[\\]\\|@,;]')\n",
        "BAD_SYMBOLS_RE = re.compile('[^0-9a-z #+_]')\n",
        "STOPWORDS = set(stopwords.words('english'))\n",
        "\n",
        "def preprocessor(text):\n",
        "    text = text.lower()\n",
        "    text = re.sub(' +', ' ', text)\n",
        "    text = re.sub('á', '', text)\n",
        "    text = REPLACE_BY_SPACE_RE.sub('', text)\n",
        "    text = BAD_SYMBOLS_RE.sub('', text)\n",
        "    text = ' '.join([word for word in text.split() if word not in STOPWORDS])\n",
        "    text = text.strip()\n",
        "  \n",
        "    return text"
      ],
      "execution_count": 0,
      "outputs": []
    },
    {
      "cell_type": "code",
      "metadata": {
        "id": "o0FAfbq9CgzC",
        "colab_type": "code",
        "outputId": "17149d4d-fee8-4519-f433-4a4927d99c7c",
        "colab": {
          "base_uri": "https://localhost:8080/",
          "height": 34
        }
      },
      "source": [
        "preprocessor(\"HELLO!!! [] this is a (:test!)\")"
      ],
      "execution_count": 0,
      "outputs": [
        {
          "output_type": "execute_result",
          "data": {
            "text/plain": [
              "'hello test'"
            ]
          },
          "metadata": {
            "tags": []
          },
          "execution_count": 9
        }
      ]
    },
    {
      "cell_type": "markdown",
      "metadata": {
        "id": "bs4fwwOBFah7",
        "colab_type": "text"
      },
      "source": [
        "### Apply the clean data preprocessor to the text"
      ]
    },
    {
      "cell_type": "code",
      "metadata": {
        "id": "cb4T0UlL6aui",
        "colab_type": "code",
        "outputId": "e6d23dee-bee8-4881-f805-3526f1a759be",
        "colab": {
          "base_uri": "https://localhost:8080/",
          "height": 89
        }
      },
      "source": [
        "X_train = [preprocessor(x) for x in X_train]\n",
        "X_test = [preprocessor(x) for x in X_test]\n",
        "\n",
        "X_train[:3]"
      ],
      "execution_count": 0,
      "outputs": [
        {
          "output_type": "execute_result",
          "data": {
            "text/plain": [
              "['certain area party secretary came home morning said leave home build somewhere reason wanted establish market chairman knew nothing angry',\n",
              " 'appreciated others especially family members friends',\n",
              " 'grovelling people']"
            ]
          },
          "metadata": {
            "tags": []
          },
          "execution_count": 10
        }
      ]
    },
    {
      "cell_type": "markdown",
      "metadata": {
        "id": "BPXvdV9oz-4_",
        "colab_type": "text"
      },
      "source": [
        "### Finding the most popular emotions & words in the training data"
      ]
    },
    {
      "cell_type": "code",
      "metadata": {
        "id": "4TYGT8Cl0FBb",
        "colab_type": "code",
        "outputId": "0bc02a78-4dc6-43d3-cf68-b880fd5dc4b0",
        "colab": {
          "base_uri": "https://localhost:8080/",
          "height": 34
        }
      },
      "source": [
        "# Dictionary of all emotions from train corpus with their counts.\n",
        "emotions_counts = {}\n",
        "words_count = {}\n",
        "\n",
        "emotions_counts = collections.Counter(y_train)\n",
        "words_count = collections.Counter([word for line in X_train for word in line.split(' ')])\n",
        "\n",
        "#words_count.most_common()\n",
        "emotions_counts"
      ],
      "execution_count": 0,
      "outputs": [
        {
          "output_type": "execute_result",
          "data": {
            "text/plain": [
              "Counter({0: 779, 1: 778, 2: 755, 3: 752, 4: 739, 5: 750, 6: 755})"
            ]
          },
          "metadata": {
            "tags": []
          },
          "execution_count": 11
        }
      ]
    },
    {
      "cell_type": "markdown",
      "metadata": {
        "id": "hGPgK-3r23KP",
        "colab_type": "text"
      },
      "source": [
        "We see that the dataset is quite balanced."
      ]
    },
    {
      "cell_type": "markdown",
      "metadata": {
        "id": "7phwWl1l3CUm",
        "colab_type": "text"
      },
      "source": [
        "## Transforming text to a vector\n",
        "\n",
        "### Bag of words"
      ]
    },
    {
      "cell_type": "code",
      "metadata": {
        "id": "r_1n4_U83JE1",
        "colab_type": "code",
        "colab": {}
      },
      "source": [
        "DICT_SIZE = 2070\n",
        "\n",
        "VOCAB = words_count.most_common(DICT_SIZE)\n",
        "WORDS_TO_INDEX = {item[0]:ii for ii, item in enumerate(sorted(VOCAB, key=lambda x: x[1], reverse=True))}\n",
        "INDEX_TO_WORDS = {ii:word for word, ii in WORDS_TO_INDEX.items()}\n",
        "ALL_WORDS = WORDS_TO_INDEX.keys()\n",
        "\n",
        "def bag_of_words(text, words_to_index, dict_size):\n",
        "    \"\"\"\n",
        "        text: a string\n",
        "        dict_size: size of the dictionary\n",
        "        \n",
        "        return a vector which is a bag-of-words representation of 'text'\n",
        "    \"\"\"\n",
        "    result_vector = np.zeros(dict_size)\n",
        "\n",
        "    for word in text.split(' '):\n",
        "      if word in words_to_index:\n",
        "        result_vector[words_to_index[word]] += 1\n",
        "    return result_vector "
      ],
      "execution_count": 0,
      "outputs": []
    },
    {
      "cell_type": "code",
      "metadata": {
        "id": "Ue0W64Kw7RE6",
        "colab_type": "code",
        "colab": {}
      },
      "source": [
        "from scipy import sparse as sp_sparse"
      ],
      "execution_count": 0,
      "outputs": []
    },
    {
      "cell_type": "code",
      "metadata": {
        "id": "UGOlN8OI7uIw",
        "colab_type": "code",
        "outputId": "b6b01214-8977-4b14-db98-e547a3c74fd0",
        "colab": {
          "base_uri": "https://localhost:8080/",
          "height": 52
        }
      },
      "source": [
        "X_train_mybag = sp_sparse.vstack([sp_sparse.csr_matrix(bag_of_words(text, WORDS_TO_INDEX, DICT_SIZE)) for text in X_train])\n",
        "X_test_mybag = sp_sparse.vstack([sp_sparse.csr_matrix(bag_of_words(text, WORDS_TO_INDEX, DICT_SIZE)) for text in X_test])\n",
        "\n",
        "print('X_train shape', X_train_mybag.shape)\n",
        "print('X_test shape', X_test_mybag.shape)"
      ],
      "execution_count": 0,
      "outputs": [
        {
          "output_type": "stream",
          "text": [
            "X_train shape (5308, 2070)\n",
            "X_test shape (2276, 2070)\n"
          ],
          "name": "stdout"
        }
      ]
    },
    {
      "cell_type": "markdown",
      "metadata": {
        "id": "XkX1f2KS8MXZ",
        "colab_type": "text"
      },
      "source": [
        "## TF-IDF"
      ]
    },
    {
      "cell_type": "code",
      "metadata": {
        "id": "q-NP7dCB7_P6",
        "colab_type": "code",
        "colab": {}
      },
      "source": [
        "from sklearn.feature_extraction.text import TfidfVectorizer"
      ],
      "execution_count": 0,
      "outputs": []
    },
    {
      "cell_type": "code",
      "metadata": {
        "id": "h-FOmNQc8Stj",
        "colab_type": "code",
        "colab": {}
      },
      "source": [
        "def tfidf_features(X_train, X_test):\n",
        "  tfidf_vectorizer = TfidfVectorizer(ngram_range=(1,2), max_df=0.9, min_df=2, \n",
        "                                     token_pattern='(\\S+)')\n",
        "  \n",
        "  X_train_tfidf = tfidf_vectorizer.fit_transform(X_train)\n",
        "  X_test_tfidf = tfidf_vectorizer.transform(X_test)\n",
        "\n",
        "  return tfidf_vectorizer, X_train_tfidf, X_test_tfidf, tfidf_vectorizer.vocabulary_"
      ],
      "execution_count": 0,
      "outputs": []
    },
    {
      "cell_type": "code",
      "metadata": {
        "id": "XLx711vx8mXf",
        "colab_type": "code",
        "colab": {}
      },
      "source": [
        "tfidf_vect, X_train_tfidf, X_test_tfidf, tfidf_vocab = tfidf_features(X_train, X_test)\n",
        "tfidf_reversed_vocab = {i:word for word, i in tfidf_vocab.items()}"
      ],
      "execution_count": 0,
      "outputs": []
    },
    {
      "cell_type": "code",
      "metadata": {
        "id": "d1M8m_Nm86Bx",
        "colab_type": "code",
        "outputId": "85e4d633-3a2e-4c7a-910f-6b112edfd8da",
        "colab": {
          "base_uri": "https://localhost:8080/",
          "height": 34
        }
      },
      "source": [
        "tfidf_vocab['alcohol']"
      ],
      "execution_count": 0,
      "outputs": [
        {
          "output_type": "execute_result",
          "data": {
            "text/plain": [
              "239"
            ]
          },
          "metadata": {
            "tags": []
          },
          "execution_count": 132
        }
      ]
    },
    {
      "cell_type": "markdown",
      "metadata": {
        "id": "ZV7omYbrDey3",
        "colab_type": "text"
      },
      "source": [
        "## Train classifier"
      ]
    },
    {
      "cell_type": "code",
      "metadata": {
        "id": "SY8PLpipDdA1",
        "colab_type": "code",
        "colab": {}
      },
      "source": [
        "from sklearn.linear_model import LogisticRegression"
      ],
      "execution_count": 0,
      "outputs": []
    },
    {
      "cell_type": "code",
      "metadata": {
        "id": "Bq18e8T5DlrS",
        "colab_type": "code",
        "colab": {}
      },
      "source": [
        "def train_classifier(X_train, y_train):\n",
        "    clf = LogisticRegression(multi_class='multinomial', solver='lbfgs', max_iter=500)\n",
        "    clf.fit(X_train, y_train)\n",
        "    return clf"
      ],
      "execution_count": 0,
      "outputs": []
    },
    {
      "cell_type": "code",
      "metadata": {
        "id": "HGptWTYqM17D",
        "colab_type": "code",
        "colab": {}
      },
      "source": [
        "clf = train_classifier(X_train_tfidf, y_train)"
      ],
      "execution_count": 0,
      "outputs": []
    },
    {
      "cell_type": "code",
      "metadata": {
        "id": "mahJkKpXOU-Z",
        "colab_type": "code",
        "outputId": "c64006a9-fd6d-43a6-9758-80b674a0a655",
        "colab": {
          "base_uri": "https://localhost:8080/",
          "height": 34
        }
      },
      "source": [
        "clf.score(X_test_tfidf, y_test)"
      ],
      "execution_count": 0,
      "outputs": [
        {
          "output_type": "execute_result",
          "data": {
            "text/plain": [
              "0.5738137082601055"
            ]
          },
          "metadata": {
            "tags": []
          },
          "execution_count": 136
        }
      ]
    },
    {
      "cell_type": "markdown",
      "metadata": {
        "id": "rKVfp4xuR52j",
        "colab_type": "text"
      },
      "source": [
        "Recall the class mapping is:\n",
        "\n",
        "{'anger': 0, 'disgust': 1, 'fear': 2, 'guilt': 3, 'joy': 4, 'sadness': 5, 'shame': 6}"
      ]
    },
    {
      "cell_type": "code",
      "metadata": {
        "id": "ToMdC-UQOYNd",
        "colab_type": "code",
        "outputId": "e551b38b-cdf2-407e-e365-439bc0b4444f",
        "colab": {
          "base_uri": "https://localhost:8080/",
          "height": 52
        }
      },
      "source": [
        "print(clf.predict(tfidf_vect.transform([\"Thank you each and every one. Who made yesterday so special for me\"])))\n",
        "print(clf.predict(tfidf_vect.transform(['I was scared for my life.'])))"
      ],
      "execution_count": 0,
      "outputs": [
        {
          "output_type": "stream",
          "text": [
            "[4]\n",
            "[2]\n"
          ],
          "name": "stdout"
        }
      ]
    },
    {
      "cell_type": "markdown",
      "metadata": {
        "id": "-x9OwDiWj0z1",
        "colab_type": "text"
      },
      "source": [
        "## Evaluation"
      ]
    },
    {
      "cell_type": "code",
      "metadata": {
        "id": "fcpsY5uVQ5sE",
        "colab_type": "code",
        "colab": {}
      },
      "source": [
        "from sklearn.metrics import accuracy_score, f1_score"
      ],
      "execution_count": 0,
      "outputs": []
    },
    {
      "cell_type": "code",
      "metadata": {
        "id": "Q2Ld2Fptj4Y6",
        "colab_type": "code",
        "colab": {}
      },
      "source": [
        "def evaluate(y, pred):\n",
        "  print(\"Accuracy={}\".format(accuracy_score(y, pred)),\n",
        "        \"F1_macro={}\".format(f1_score(y, pred, average='macro')),\n",
        "        \"F1_micro={}\".format(f1_score(y, pred, average='micro')),\n",
        "        \"F1_weighted={}\".format(f1_score(y, pred, average='weighted')))"
      ],
      "execution_count": 0,
      "outputs": []
    },
    {
      "cell_type": "code",
      "metadata": {
        "id": "y0PCXlS_j9pZ",
        "colab_type": "code",
        "outputId": "aef4931c-4b48-4833-d2c6-b29982382383",
        "colab": {
          "base_uri": "https://localhost:8080/",
          "height": 34
        }
      },
      "source": [
        "predicted_labels = clf.predict(X_test_tfidf)\n",
        "predicted_scores = clf.decision_function(X_test_tfidf)\n",
        "\n",
        "evaluate(y_test, predicted_labels)"
      ],
      "execution_count": 0,
      "outputs": [
        {
          "output_type": "stream",
          "text": [
            "Accuracy=0.5738137082601055 F1_macro=0.5701508969083231 F1_micro=0.5738137082601055 F1_weighted=0.5730260126227512\n"
          ],
          "name": "stdout"
        }
      ]
    },
    {
      "cell_type": "markdown",
      "metadata": {
        "id": "lraeRHXTrrrv",
        "colab_type": "text"
      },
      "source": [
        "# Recurrent Neural Network"
      ]
    },
    {
      "cell_type": "code",
      "metadata": {
        "id": "k8g3oEHMro7R",
        "colab_type": "code",
        "colab": {}
      },
      "source": [
        "import torch.nn as nn"
      ],
      "execution_count": 0,
      "outputs": []
    },
    {
      "cell_type": "code",
      "metadata": {
        "id": "HQHdeGqkrx9q",
        "colab_type": "code",
        "colab": {}
      },
      "source": [
        "class RNN(nn.Module):\n",
        "  def __init__(self, input_size, hidden_size, output_size):\n",
        "    super(RNN, self).__init__()\n",
        "\n",
        "    self.hidden_size = hidden_size\n",
        "\n",
        "    # input to hidden\n",
        "    self.i2h = nn.Linear(input_size + hidden_size, hidden_size)\n",
        "    # input to output\n",
        "    self.i20 = nn.Linear(input_size + hidden_size, output_size)\n",
        "    self.softmax = nn.LogSoftmax(dim=1)\n",
        "\n",
        "  def forward(self, input, hidden):\n",
        "    combined = torch.cat((input, hidden), 1)\n",
        "    hidden = self.i2h(combined)\n",
        "    output = self.i20(combined)\n",
        "    output = self.softmax(output)\n",
        "    return output, hidden\n",
        "\n",
        "  def initHidden(self):\n",
        "    return torch.zeros(1, self.hidden_size)"
      ],
      "execution_count": 0,
      "outputs": []
    },
    {
      "cell_type": "code",
      "metadata": {
        "id": "pfEQ41NYsUtU",
        "colab_type": "code",
        "colab": {}
      },
      "source": [
        ""
      ],
      "execution_count": 0,
      "outputs": []
    }
  ]
}