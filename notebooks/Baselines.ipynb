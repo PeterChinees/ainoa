{
  "nbformat": 4,
  "nbformat_minor": 0,
  "metadata": {
    "colab": {
      "name": "Baselines.ipynb",
      "provenance": [],
      "collapsed_sections": [],
      "mount_file_id": "1useAkZrNN0IKXWCi3FJ3FIOH23EYBJ70",
      "authorship_tag": "ABX9TyMTA3uXn7g4FDqktf0y1UOD",
      "include_colab_link": true
    },
    "kernelspec": {
      "name": "python3",
      "display_name": "Python 3"
    },
    "accelerator": "GPU"
  },
  "cells": [
    {
      "cell_type": "markdown",
      "metadata": {
        "id": "view-in-github",
        "colab_type": "text"
      },
      "source": [
        "<a href=\"https://colab.research.google.com/github/oaarnikoivu/dissertation/blob/master/Baselines.ipynb\" target=\"_parent\"><img src=\"https://colab.research.google.com/assets/colab-badge.svg\" alt=\"Open In Colab\"/></a>"
      ]
    },
    {
      "cell_type": "markdown",
      "metadata": {
        "id": "gzkPm9jzpA81",
        "colab_type": "text"
      },
      "source": [
        "# Imports"
      ]
    },
    {
      "cell_type": "code",
      "metadata": {
        "id": "9DLmsD0XNNir",
        "colab_type": "code",
        "outputId": "c4b045a1-4429-4fd2-af13-e67c705db0e8",
        "colab": {
          "base_uri": "https://localhost:8080/",
          "height": 51
        }
      },
      "source": [
        "import random, re, string \n",
        "import pandas as pd\n",
        "import numpy as np \n",
        "import gc\n",
        "\n",
        "from pathlib import Path\n",
        "from sklearn.pipeline import Pipeline, make_pipeline\n",
        "from sklearn.multiclass import OneVsRestClassifier\n",
        "from sklearn.naive_bayes import MultinomialNB\n",
        "from sklearn.linear_model import LogisticRegression\n",
        "from sklearn.svm import LinearSVC\n",
        "from sklearn.metrics import f1_score, precision_score, recall_score, jaccard_score\n",
        "from sklearn.feature_extraction.text import CountVectorizer, TfidfTransformer, TfidfVectorizer\n",
        "from sklearn.metrics import multilabel_confusion_matrix, classification_report\n",
        "\n",
        "import nltk\n",
        "\n",
        "nltk.download('stopwords')\n",
        "\n",
        "from nltk.corpus import stopwords\n",
        "from nltk.stem.snowball import SnowballStemmer\n",
        "from nltk.corpus import stopwords\n",
        "from scipy import sparse"
      ],
      "execution_count": 0,
      "outputs": [
        {
          "output_type": "stream",
          "text": [
            "[nltk_data] Downloading package stopwords to /root/nltk_data...\n",
            "[nltk_data]   Package stopwords is already up-to-date!\n"
          ],
          "name": "stdout"
        }
      ]
    },
    {
      "cell_type": "markdown",
      "metadata": {
        "id": "4KF0PF9BPwyB",
        "colab_type": "text"
      },
      "source": [
        "# Load Data"
      ]
    },
    {
      "cell_type": "code",
      "metadata": {
        "id": "uEbaE_aCPpNw",
        "colab_type": "code",
        "colab": {}
      },
      "source": [
        "file_path = '/content/drive/My Drive'\n",
        "\n",
        "DATA_PATH = Path(file_path + '/datasets/SemEval')\n",
        "\n",
        "random.seed(42)\n",
        "\n",
        "train = pd.read_csv(DATA_PATH/'train.csv')\n",
        "val = pd.read_csv(DATA_PATH/'val.csv')\n",
        "test = pd.read_csv(DATA_PATH/'test.csv')"
      ],
      "execution_count": 0,
      "outputs": []
    },
    {
      "cell_type": "code",
      "metadata": {
        "id": "XOaO8381P_dP",
        "colab_type": "code",
        "outputId": "af649b64-e9de-4f78-8dd9-70a072283c1c",
        "colab": {
          "base_uri": "https://localhost:8080/",
          "height": 306
        }
      },
      "source": [
        "train.head()"
      ],
      "execution_count": 0,
      "outputs": [
        {
          "output_type": "execute_result",
          "data": {
            "text/html": [
              "<div>\n",
              "<style scoped>\n",
              "    .dataframe tbody tr th:only-of-type {\n",
              "        vertical-align: middle;\n",
              "    }\n",
              "\n",
              "    .dataframe tbody tr th {\n",
              "        vertical-align: top;\n",
              "    }\n",
              "\n",
              "    .dataframe thead th {\n",
              "        text-align: right;\n",
              "    }\n",
              "</style>\n",
              "<table border=\"1\" class=\"dataframe\">\n",
              "  <thead>\n",
              "    <tr style=\"text-align: right;\">\n",
              "      <th></th>\n",
              "      <th>Unnamed: 0</th>\n",
              "      <th>ID</th>\n",
              "      <th>Tweet</th>\n",
              "      <th>anger</th>\n",
              "      <th>anticipation</th>\n",
              "      <th>disgust</th>\n",
              "      <th>fear</th>\n",
              "      <th>joy</th>\n",
              "      <th>love</th>\n",
              "      <th>optimism</th>\n",
              "      <th>pessimism</th>\n",
              "      <th>sadness</th>\n",
              "      <th>surprise</th>\n",
              "      <th>trust</th>\n",
              "    </tr>\n",
              "  </thead>\n",
              "  <tbody>\n",
              "    <tr>\n",
              "      <th>0</th>\n",
              "      <td>0</td>\n",
              "      <td>2017-En-21441</td>\n",
              "      <td>“Worry is a down payment on a problem you may ...</td>\n",
              "      <td>0</td>\n",
              "      <td>1</td>\n",
              "      <td>0</td>\n",
              "      <td>0</td>\n",
              "      <td>0</td>\n",
              "      <td>0</td>\n",
              "      <td>1</td>\n",
              "      <td>0</td>\n",
              "      <td>0</td>\n",
              "      <td>0</td>\n",
              "      <td>1</td>\n",
              "    </tr>\n",
              "    <tr>\n",
              "      <th>1</th>\n",
              "      <td>1</td>\n",
              "      <td>2017-En-31535</td>\n",
              "      <td>Whatever you decide to do make sure it makes y...</td>\n",
              "      <td>0</td>\n",
              "      <td>0</td>\n",
              "      <td>0</td>\n",
              "      <td>0</td>\n",
              "      <td>1</td>\n",
              "      <td>1</td>\n",
              "      <td>1</td>\n",
              "      <td>0</td>\n",
              "      <td>0</td>\n",
              "      <td>0</td>\n",
              "      <td>0</td>\n",
              "    </tr>\n",
              "    <tr>\n",
              "      <th>2</th>\n",
              "      <td>2</td>\n",
              "      <td>2017-En-21068</td>\n",
              "      <td>@Max_Kellerman  it also helps that the majorit...</td>\n",
              "      <td>1</td>\n",
              "      <td>0</td>\n",
              "      <td>1</td>\n",
              "      <td>0</td>\n",
              "      <td>1</td>\n",
              "      <td>0</td>\n",
              "      <td>1</td>\n",
              "      <td>0</td>\n",
              "      <td>0</td>\n",
              "      <td>0</td>\n",
              "      <td>0</td>\n",
              "    </tr>\n",
              "    <tr>\n",
              "      <th>3</th>\n",
              "      <td>3</td>\n",
              "      <td>2017-En-31436</td>\n",
              "      <td>Accept the challenges so that you can literall...</td>\n",
              "      <td>0</td>\n",
              "      <td>0</td>\n",
              "      <td>0</td>\n",
              "      <td>0</td>\n",
              "      <td>1</td>\n",
              "      <td>0</td>\n",
              "      <td>1</td>\n",
              "      <td>0</td>\n",
              "      <td>0</td>\n",
              "      <td>0</td>\n",
              "      <td>0</td>\n",
              "    </tr>\n",
              "    <tr>\n",
              "      <th>4</th>\n",
              "      <td>4</td>\n",
              "      <td>2017-En-22195</td>\n",
              "      <td>My roommate: it's okay that we can't spell bec...</td>\n",
              "      <td>1</td>\n",
              "      <td>0</td>\n",
              "      <td>1</td>\n",
              "      <td>0</td>\n",
              "      <td>0</td>\n",
              "      <td>0</td>\n",
              "      <td>0</td>\n",
              "      <td>0</td>\n",
              "      <td>0</td>\n",
              "      <td>0</td>\n",
              "      <td>0</td>\n",
              "    </tr>\n",
              "  </tbody>\n",
              "</table>\n",
              "</div>"
            ],
            "text/plain": [
              "   Unnamed: 0             ID  ... surprise  trust\n",
              "0           0  2017-En-21441  ...        0      1\n",
              "1           1  2017-En-31535  ...        0      0\n",
              "2           2  2017-En-21068  ...        0      0\n",
              "3           3  2017-En-31436  ...        0      0\n",
              "4           4  2017-En-22195  ...        0      0\n",
              "\n",
              "[5 rows x 14 columns]"
            ]
          },
          "metadata": {
            "tags": []
          },
          "execution_count": 80
        }
      ]
    },
    {
      "cell_type": "code",
      "metadata": {
        "id": "RS5aMz8oQG1H",
        "colab_type": "code",
        "colab": {}
      },
      "source": [
        "train_text = train['Tweet']\n",
        "val_text = val['Tweet']\n",
        "test_text = test['Tweet']"
      ],
      "execution_count": 0,
      "outputs": []
    },
    {
      "cell_type": "code",
      "metadata": {
        "id": "MYUYPP8wQdm_",
        "colab_type": "code",
        "outputId": "155a6766-c4d3-42e3-8f89-7eaf8cf7ab72",
        "colab": {
          "base_uri": "https://localhost:8080/",
          "height": 119
        }
      },
      "source": [
        "train_text.head()"
      ],
      "execution_count": 0,
      "outputs": [
        {
          "output_type": "execute_result",
          "data": {
            "text/plain": [
              "0    “Worry is a down payment on a problem you may ...\n",
              "1    Whatever you decide to do make sure it makes y...\n",
              "2    @Max_Kellerman  it also helps that the majorit...\n",
              "3    Accept the challenges so that you can literall...\n",
              "4    My roommate: it's okay that we can't spell bec...\n",
              "Name: Tweet, dtype: object"
            ]
          },
          "metadata": {
            "tags": []
          },
          "execution_count": 82
        }
      ]
    },
    {
      "cell_type": "markdown",
      "metadata": {
        "id": "Olk1HhUzRN7-",
        "colab_type": "text"
      },
      "source": [
        "# Tokenize and clean text using Regular Expressions"
      ]
    },
    {
      "cell_type": "code",
      "metadata": {
        "id": "yVozPrbERNUU",
        "colab_type": "code",
        "colab": {}
      },
      "source": [
        "def preprocessor(text):\n",
        "    text = re.sub('<[^>]*>', '', text) # remove all html markup\n",
        "    emoticons = re.findall('(?::|;|=)(?:-)?(?:\\)|\\(|D|P)', text) # findall the emoticons\n",
        "    \n",
        "    # remove the non-word chars '[\\W]+'\n",
        "    # append the emoticons to end \n",
        "    #convert all to lowercase\n",
        "    # remove nose char for consistency\n",
        "    text = (re.sub('[\\W]+', ' ', text.lower()) +\n",
        "            ' '.join(emoticons).replace('-', '')) \n",
        "    return text"
      ],
      "execution_count": 0,
      "outputs": []
    },
    {
      "cell_type": "code",
      "metadata": {
        "id": "-Nl43ye9CKQs",
        "colab_type": "code",
        "outputId": "e644a60c-65c4-44d4-c29e-981f7a8a65fe",
        "colab": {
          "base_uri": "https://localhost:8080/",
          "height": 34
        }
      },
      "source": [
        "preprocessor(\"</a>This :) is :( a test :-)!\")"
      ],
      "execution_count": 0,
      "outputs": [
        {
          "output_type": "execute_result",
          "data": {
            "text/plain": [
              "'this is a test :) :( :)'"
            ]
          },
          "metadata": {
            "tags": []
          },
          "execution_count": 84
        }
      ]
    },
    {
      "cell_type": "code",
      "metadata": {
        "id": "xZZ8zkHpuf6K",
        "colab_type": "code",
        "outputId": "1affc2e3-0b8c-46a5-d0d1-4bd7def9804e",
        "colab": {
          "base_uri": "https://localhost:8080/",
          "height": 717
        }
      },
      "source": [
        "for i in range(200, 220):\n",
        "  print('\\n' + train_text[i])"
      ],
      "execution_count": 0,
      "outputs": [
        {
          "output_type": "stream",
          "text": [
            "\n",
            "We're in contained depression. Only new economic engine is #Sustainability, say Joel @makower + @markmykleby @ #VERGEcon. #NewGrandStrategy\n",
            "\n",
            "Solid starts by #Bozzelli and #BenEvans. Hoping for a good #start !\n",
            "\n",
            "@DepressedStride &gt; huff louder\n",
            "\n",
            "@theclobra lol I thought maybe, couldn't decide if there was levity or not\n",
            "\n",
            "There's a certain hilarity in people angry at protests against the national anthem or the flag when these acts are covered by 1st Amendment.\n",
            "\n",
            "@Cherie_Fitz it's being extremely playful\n",
            "\n",
            "@BarackObama I love Lizzy Warren's latest rage against Wall Street.\n",
            "\n",
            "I don't want the pity of my instructors but I'd like some understanding. I'm truly trying despite ALL circumstances that make me discouraged\n",
            "\n",
            "CommunitySleepCoach: Look at these #narcoleptic #puppies. Make you #smile. If you are human &amp; find yourself in such odd positions, seek #th…\n",
            "\n",
            "*Sigh* #depression #saddness #afterellen #shitsucks\n",
            "\n",
            "@Evan_McMullin He's spent his campaign dividing people up and pitting them against each other. His message is to fear and resent the 'other'\n",
            "\n",
            "@_MariaPetrova should have stopped after 'smiled'. Being rude=not the same as being funny.It was just being mean #bully  #stoppickingonwomen\n",
            "\n",
            "@01Starblazer 9 -9 vs Atlanta this yr, 2 - 11 vs Rockies and DBacks this yr. That's a combined 11 - 20 vs 3 atrocious teams in NL #awful\n",
            "\n",
            "I see I'll be hovering over the block button today with much glee.\n",
            "\n",
            "@LaneWoolery @FFKazman experience all plays a role in that, it's education and preparedness not fear\n",
            "\n",
            "@bt_uk appointment booked between 1-6 today, waited in all day and nobody showed up, also requested a call back and never got one #awful\n",
            "\n",
            "@airvistara as always it was indeed a wonderful experience flying with you guys today #bestinbusiness #delight #happyme\n",
            "\n",
            "Summer officially ends today. #sadness\n",
            "\n",
            "@AaronGoodwin seriously dude buy some bubble tape for your phones. #snap broke another phone\n",
            "\n",
            "Be happy. Be who you want to be. If others don't like it, then let them be. Happiness is a choice. Life isn't about pleasing everybody....\n"
          ],
          "name": "stdout"
        }
      ]
    },
    {
      "cell_type": "markdown",
      "metadata": {
        "id": "NbanL81aCM37",
        "colab_type": "text"
      },
      "source": [
        "## Apply the clean data preprocessor to the text"
      ]
    },
    {
      "cell_type": "code",
      "metadata": {
        "id": "zRPoC7vJCQSB",
        "colab_type": "code",
        "colab": {}
      },
      "source": [
        "train_text = train_text.apply(preprocessor)\n",
        "val_text = val_text.apply(preprocessor)\n",
        "test_text = test_text.apply(preprocessor)"
      ],
      "execution_count": 0,
      "outputs": []
    },
    {
      "cell_type": "code",
      "metadata": {
        "id": "rZwpH9FdDqb4",
        "colab_type": "code",
        "outputId": "6ff7cdd2-9b02-46ab-c47f-a1385b8a172f",
        "colab": {
          "base_uri": "https://localhost:8080/",
          "height": 119
        }
      },
      "source": [
        "train_text.head()"
      ],
      "execution_count": 0,
      "outputs": [
        {
          "output_type": "execute_result",
          "data": {
            "text/plain": [
              "0     worry is a down payment on a problem you may ...\n",
              "1    whatever you decide to do make sure it makes y...\n",
              "2     max_kellerman it also helps that the majority...\n",
              "3    accept the challenges so that you can literall...\n",
              "4    my roommate it s okay that we can t spell beca...\n",
              "Name: Tweet, dtype: object"
            ]
          },
          "metadata": {
            "tags": []
          },
          "execution_count": 295
        }
      ]
    },
    {
      "cell_type": "markdown",
      "metadata": {
        "id": "2bFU7XCrcc9O",
        "colab_type": "text"
      },
      "source": [
        "# TfIdf Vectorization"
      ]
    },
    {
      "cell_type": "code",
      "metadata": {
        "id": "1G0DPTqimiLF",
        "colab_type": "code",
        "outputId": "a1853793-0ce6-4315-db3a-cdd8f1f63b66",
        "colab": {
          "base_uri": "https://localhost:8080/",
          "height": 51
        }
      },
      "source": [
        "vect_word = TfidfVectorizer(max_features=20000, lowercase=True, analyzer='word',\n",
        "                          stop_words='english', ngram_range=(1,4))\n",
        "\n",
        "X_dtm = vect_word.fit_transform(train_text)\n",
        "X_dtm"
      ],
      "execution_count": 0,
      "outputs": [
        {
          "output_type": "execute_result",
          "data": {
            "text/plain": [
              "<6838x20000 sparse matrix of type '<class 'numpy.float64'>'\n",
              "\twith 77449 stored elements in Compressed Sparse Row format>"
            ]
          },
          "metadata": {
            "tags": []
          },
          "execution_count": 296
        }
      ]
    },
    {
      "cell_type": "code",
      "metadata": {
        "id": "VtZjIpyzt3eh",
        "colab_type": "code",
        "outputId": "033bdca1-5061-44a7-9363-1a63c711c1d2",
        "colab": {
          "base_uri": "https://localhost:8080/",
          "height": 51
        }
      },
      "source": [
        "test_X_dtm = vect_word.transform(test_text)\n",
        "test_X_dtm"
      ],
      "execution_count": 0,
      "outputs": [
        {
          "output_type": "execute_result",
          "data": {
            "text/plain": [
              "<3259x20000 sparse matrix of type '<class 'numpy.float64'>'\n",
              "\twith 19341 stored elements in Compressed Sparse Row format>"
            ]
          },
          "metadata": {
            "tags": []
          },
          "execution_count": 297
        }
      ]
    },
    {
      "cell_type": "markdown",
      "metadata": {
        "id": "ztw9c9tFt-SA",
        "colab_type": "text"
      },
      "source": [
        "# SVM Classifier"
      ]
    },
    {
      "cell_type": "code",
      "metadata": {
        "id": "TBiHWhsUt8aj",
        "colab_type": "code",
        "outputId": "7bcc0f69-dae7-4fb2-e2ba-a85e747e75c3",
        "colab": {
          "base_uri": "https://localhost:8080/",
          "height": 578
        }
      },
      "source": [
        "LABEL_COLS = ['anger', 'anticipation', 'disgust', 'fear', 'joy', \n",
        "              'love', 'optimism', 'pessimism', 'sadness', 'surprise', 'trust']\n",
        "\n",
        "classifier = OneVsRestClassifier(LinearSVC())\n",
        "\n",
        "preds_list = []\n",
        "labels_list = []\n",
        "\n",
        "for label in LABEL_COLS:\n",
        "  print('\\n... Processing {}'.format(label))\n",
        "\n",
        "  # train the model using X_dtm & y\n",
        "  y = train[label]\n",
        "  ty = test[label]\n",
        "\n",
        "  labels_list.append(ty)\n",
        "\n",
        "  classifier.fit(X_dtm, y)\n",
        "  y_pred_X = classifier.predict(X_dtm)\n",
        "\n",
        "  # make predictions on test\n",
        "  test_y = classifier.predict(test_X_dtm)\n",
        "  preds_list.append(test_y)\n",
        "\n",
        "  print(f'F1 Score: {f1_score(ty, test_y)}')"
      ],
      "execution_count": 0,
      "outputs": [
        {
          "output_type": "stream",
          "text": [
            "\n",
            "... Processing anger\n",
            "F1 Score: 0.6395348837209301\n",
            "\n",
            "... Processing anticipation\n",
            "F1 Score: 0.14776632302405499\n",
            "\n",
            "... Processing disgust\n",
            "F1 Score: 0.5988593155893537\n",
            "\n",
            "... Processing fear\n",
            "F1 Score: 0.6481257557436518\n",
            "\n",
            "... Processing joy\n",
            "F1 Score: 0.7530910453353317\n",
            "\n",
            "... Processing love\n",
            "F1 Score: 0.48964677222898906\n",
            "\n",
            "... Processing optimism\n",
            "F1 Score: 0.5736359246740704\n",
            "\n",
            "... Processing pessimism\n",
            "F1 Score: 0.22656250000000003\n",
            "\n",
            "... Processing sadness\n",
            "F1 Score: 0.5653710247349824\n",
            "\n",
            "... Processing surprise\n",
            "F1 Score: 0.12000000000000001\n",
            "\n",
            "... Processing trust\n",
            "F1 Score: 0.023809523809523808\n"
          ],
          "name": "stdout"
        }
      ]
    },
    {
      "cell_type": "code",
      "metadata": {
        "id": "D2Dzvu0S77ay",
        "colab_type": "code",
        "outputId": "8d27c873-c46d-41b4-d52a-125fdd97e604",
        "colab": {
          "base_uri": "https://localhost:8080/",
          "height": 136
        }
      },
      "source": [
        "np.vstack(labels_list)"
      ],
      "execution_count": 0,
      "outputs": [
        {
          "output_type": "execute_result",
          "data": {
            "text/plain": [
              "array([[1, 0, 1, ..., 1, 0, 0],\n",
              "       [1, 0, 0, ..., 0, 0, 0],\n",
              "       [0, 1, 1, ..., 1, 0, 0],\n",
              "       ...,\n",
              "       [0, 0, 1, ..., 0, 0, 0],\n",
              "       [0, 0, 0, ..., 0, 0, 0],\n",
              "       [1, 0, 0, ..., 0, 0, 0]])"
            ]
          },
          "metadata": {
            "tags": []
          },
          "execution_count": 299
        }
      ]
    },
    {
      "cell_type": "code",
      "metadata": {
        "id": "m-obkH_B7_Zw",
        "colab_type": "code",
        "outputId": "696ff683-0ab1-4e31-af19-48eb5f3107bf",
        "colab": {
          "base_uri": "https://localhost:8080/",
          "height": 136
        }
      },
      "source": [
        "np.vstack(preds_list)"
      ],
      "execution_count": 0,
      "outputs": [
        {
          "output_type": "execute_result",
          "data": {
            "text/plain": [
              "array([[0, 0, 1, ..., 1, 0, 0],\n",
              "       [0, 0, 0, ..., 0, 0, 0],\n",
              "       [0, 0, 0, ..., 1, 0, 1],\n",
              "       ...,\n",
              "       [0, 0, 0, ..., 0, 0, 1],\n",
              "       [0, 0, 0, ..., 0, 0, 0],\n",
              "       [0, 0, 0, ..., 0, 0, 0]])"
            ]
          },
          "metadata": {
            "tags": []
          },
          "execution_count": 300
        }
      ]
    },
    {
      "cell_type": "code",
      "metadata": {
        "id": "qZgjH7pY23zX",
        "colab_type": "code",
        "outputId": "e5bd6564-6212-4b2a-881c-fcf3204ba902",
        "colab": {
          "base_uri": "https://localhost:8080/",
          "height": 122
        }
      },
      "source": [
        "print(f1_score(labels_list, preds_list, average='micro'))\n",
        "print(f1_score(labels_list, preds_list, average='macro'))\n",
        "print(jaccard_score(labels_list, preds_list, average='samples'))"
      ],
      "execution_count": 0,
      "outputs": [
        {
          "output_type": "stream",
          "text": [
            "0.5764071157771945\n",
            "0.5325910664971726\n",
            "0.30770410904927636\n"
          ],
          "name": "stdout"
        },
        {
          "output_type": "stream",
          "text": [
            "/usr/local/lib/python3.6/dist-packages/sklearn/metrics/_classification.py:1515: UndefinedMetricWarning: F-score is ill-defined and being set to 0.0 in labels with no true nor predicted samples. Use `zero_division` parameter to control this behavior.\n",
            "  average, \"true nor predicted\", 'F-score is', len(true_sum)\n"
          ],
          "name": "stderr"
        }
      ]
    },
    {
      "cell_type": "markdown",
      "metadata": {
        "id": "dHMNmd6gBis8",
        "colab_type": "text"
      },
      "source": [
        "# Logistic Regression Classifier"
      ]
    },
    {
      "cell_type": "code",
      "metadata": {
        "id": "zLqrPpcp27Ix",
        "colab_type": "code",
        "outputId": "e6b2a687-ff45-40b0-d214-0c4b9b1942ce",
        "colab": {
          "base_uri": "https://localhost:8080/",
          "height": 578
        }
      },
      "source": [
        "LABEL_COLS = ['anger', 'anticipation', 'disgust', 'fear', 'joy', \n",
        "              'love', 'optimism', 'pessimism', 'sadness', 'surprise', 'trust']\n",
        "\n",
        "classifier = OneVsRestClassifier(LogisticRegression(solver='sag', n_jobs=1))\n",
        "\n",
        "preds_list = []\n",
        "labels_list = []\n",
        "\n",
        "for label in LABEL_COLS:\n",
        "  print('\\n... Processing {}'.format(label))\n",
        "\n",
        "  # train the model using X_dtm & y\n",
        "  y = train[label]\n",
        "  ty = test[label]\n",
        "\n",
        "  labels_list.append(ty)\n",
        "\n",
        "  classifier.fit(X_dtm, y)\n",
        "  y_pred_X = classifier.predict(X_dtm)\n",
        "\n",
        "  # make predictions on test\n",
        "  test_y = classifier.predict(test_X_dtm)\n",
        "  preds_list.append(test_y)\n",
        "\n",
        "  print(f'F1 Score: {f1_score(ty, test_y)}')"
      ],
      "execution_count": 0,
      "outputs": [
        {
          "output_type": "stream",
          "text": [
            "\n",
            "... Processing anger\n",
            "F1 Score: 0.6\n",
            "\n",
            "... Processing anticipation\n",
            "F1 Score: 0.013921113689095127\n",
            "\n",
            "... Processing disgust\n",
            "F1 Score: 0.5609756097560976\n",
            "\n",
            "... Processing fear\n",
            "F1 Score: 0.4413145539906104\n",
            "\n",
            "... Processing joy\n",
            "F1 Score: 0.695578947368421\n",
            "\n",
            "... Processing love\n",
            "F1 Score: 0.332824427480916\n",
            "\n",
            "... Processing optimism\n",
            "F1 Score: 0.4970828471411902\n",
            "\n",
            "... Processing pessimism\n",
            "F1 Score: 0.021052631578947368\n",
            "\n",
            "... Processing sadness\n",
            "F1 Score: 0.42533229085222835\n",
            "\n",
            "... Processing surprise\n",
            "F1 Score: 0.06818181818181818\n",
            "\n",
            "... Processing trust\n",
            "F1 Score: 0.0\n"
          ],
          "name": "stdout"
        }
      ]
    },
    {
      "cell_type": "code",
      "metadata": {
        "id": "SdWKXBUoBpP1",
        "colab_type": "code",
        "outputId": "1ff022fc-627c-4556-fc2f-eeb179a9482c",
        "colab": {
          "base_uri": "https://localhost:8080/",
          "height": 122
        }
      },
      "source": [
        "print(f1_score(labels_list, preds_list, average='micro'))\n",
        "print(f1_score(labels_list, preds_list, average='macro'))\n",
        "print(jaccard_score(labels_list, preds_list, average='samples'))"
      ],
      "execution_count": 0,
      "outputs": [
        {
          "output_type": "stream",
          "text": [
            "0.4965747409098894\n",
            "0.42153815806776834\n",
            "0.2262010692159819\n"
          ],
          "name": "stdout"
        },
        {
          "output_type": "stream",
          "text": [
            "/usr/local/lib/python3.6/dist-packages/sklearn/metrics/_classification.py:1515: UndefinedMetricWarning: F-score is ill-defined and being set to 0.0 in labels with no true nor predicted samples. Use `zero_division` parameter to control this behavior.\n",
            "  average, \"true nor predicted\", 'F-score is', len(true_sum)\n"
          ],
          "name": "stderr"
        }
      ]
    },
    {
      "cell_type": "code",
      "metadata": {
        "id": "yilVxt46Bp8L",
        "colab_type": "code",
        "colab": {}
      },
      "source": [
        ""
      ],
      "execution_count": 0,
      "outputs": []
    }
  ]
}